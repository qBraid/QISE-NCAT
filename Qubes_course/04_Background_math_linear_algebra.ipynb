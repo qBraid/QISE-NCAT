{
 "cells": [
  {
   "cell_type": "markdown",
   "metadata": {
    "ignoreQbook": true
   },
   "source": [
    "<div style='display:flex;'>\n",
    "    <div style='width:25%;text-align:right;'> <h4 style='color:#9A11DA'>Previous Module:</h4></div>\n",
    "    <div style='width:25%;text-align:left;'> <h4 ><a href='./03_Background_math_complex_numbers.ipynb' style='color:#9A11DA;text-decoration:underline;opacity:0.6;'>3. Background Math: Complex Numbers</a></h4></div>\n",
    "    <div style='width:25%;text-align:right;'> <h4 style='color:#9A11DA'>Next Module:</h4></div>\n",
    "    <div style='width:25%;text-align:left;'> <h4 ><a href='./05_Qubit_and_quantum_gates.ipynb' style='color:#9A11DA;text-decoration:underline;opacity:0.6;'>5. Qubits and Quantum Gates</a></h4></div>\n",
    "</div>\n",
    "<!-- <hr style='border-color:grey;'> -->"
   ]
  },
  {
   "cell_type": "markdown",
   "metadata": {},
   "source": [
    "<h1 style=\"color:#D30982;\">Summary</h1>\n",
    "\n",
    "- Vectors\n",
    "- Operations on vectors (addition, multiplication by a scalar, inner product)"
   ]
  },
  {
   "cell_type": "markdown",
   "metadata": {
    "toc-hr-collapsed": false
   },
   "source": [
    "<h1 style=\"color:#D30982;\">Vectors and Operations on Vectors</h1>\n",
    "\n",
    "The wave function that was briefly introduced at the end of the first module is one way to represent the state of a quantum system. However, as we continue our study of quantum objects, we will find that using the language of *vectors* and *linear transformations* to describe states and their transformations is particularly effective.\n",
    "\n",
    "Looking ahead to the next module, we will learn that the state of a quantum system is given by a vector, and that to calculate the state at a later time, we just need to perform a linear transformation of this vector.\n",
    "\n",
    "We will learn about vectors in this module. So, let's get on with some math!"
   ]
  },
  {
   "cell_type": "markdown",
   "metadata": {},
   "source": [
    "<h2 style=\"color:#D30982;\">Vectors</h2>\n",
    "\n",
    "Traditionally, vectors are introduced as quantities which have both a magnitude and a direction, such as position, force, acceleration, velocity, etc. These concepts are intuitive in the three-dimensional setting. However, many of these concepts are also well-defined in systems with higher dimension. \n",
    "<!-- 016271211775 -->\n",
    "More generally, a vector is just a collection of numbers, which we refer to as *entries*, in a particular structure. To make clear that we are talking about a vector, we will place these numbers in a column enclosed by large brackets. For example:\n",
    "\n",
    "$$\\begin{bmatrix}\n",
    "3\\\\\n",
    "5\n",
    "\\end{bmatrix}, \\quad\n",
    "\\begin{bmatrix}\n",
    "9\\\\\n",
    "1\\\\\n",
    "23\\\\\n",
    "8\n",
    "\\end{bmatrix}, \\quad\n",
    "\\begin{bmatrix}\n",
    "4.2\\\\\n",
    "3.141592...\\\\\n",
    "\\frac{21}{7}\n",
    "\\end{bmatrix}$$\n",
    "\n",
    "are all vectors. The **dimension** of a vector is the number of entries it contains. The three vectors above have dimension 2, 4, and 3, respectively. In quantum mechanics, we will be dealing with vectors of complex numbers, which are no different than the examples above, except that the entries are allowed to be complex numbers:\n",
    "\n",
    "$$\\begin{bmatrix}\n",
    "1+3i\\\\\n",
    "5-2i\n",
    "\\end{bmatrix}$$\n",
    "\n",
    "\n",
    "To use a more general notation, a vector has the following form:\n",
    "\n",
    "$$\\begin{bmatrix}\n",
    "c_1\\\\\n",
    "c_2\\\\\n",
    "\\vdots\\\\\n",
    "c_n\\\\\n",
    "\\end{bmatrix}$$\n",
    "\n",
    "The latter is an *$n$-dimensional* vector.\n",
    "\n",
    "<div class=\"alert alert-block alert-info\">\n",
    "When the entries (the numbers $c_i$) are all real numbers, we refer to the set of all vectors of the form above with the symbol $\\mathbb{R}^n$. When the entries are allowed to be complex, we refer to the set of all such vectors as $\\mathbb{C}^n$. \n",
    "</div>\n"
   ]
  },
  {
   "cell_type": "markdown",
   "metadata": {
    "toc-hr-collapsed": false
   },
   "source": [
    "<h2 style=\"color:#D30982;\">Operations on Vectors</h2>\n"
   ]
  },
  {
   "cell_type": "markdown",
   "metadata": {},
   "source": [
    "<h3 style=\"color:#9A11DA;\">Addition</h3>\n",
    "Vectors can be added together in a straightforward way. For example, if multiple forces of different magnitudes are applied to an object from different angles, you would use vector addition to find the total force acting on the object. When we add two vectors together, the resulting vector is obtained by adding the components independently.\n",
    "\n",
    "An example: $$\\begin{bmatrix}\n",
    "1\\\\\n",
    "2\\\\\n",
    "\\end{bmatrix} + \\begin{bmatrix}\n",
    "0\\\\\n",
    "3\\\\\n",
    "\\end{bmatrix} = \\begin{bmatrix}\n",
    "1\\\\\n",
    "5\\\\\n",
    "\\end{bmatrix}$$\n",
    "\n",
    "If this sounds familiar, it's because this is just like complex numbers! In fact, the Complex Plane representation of a single complex number, for example $3+2i = (3,2)$ behaves like a 2-dimensional vector $\\begin{bmatrix} 3 \\\\2 \\end{bmatrix}$ in many ways!\n",
    "\n",
    "More generally, for $n$-dimensional vectors, we have:\n",
    "\n",
    "$$\\begin{bmatrix}\n",
    "c_1\\\\\n",
    "c_2\\\\\n",
    "\\vdots\\\\\n",
    "c_n\\\\\n",
    "\\end{bmatrix} + \\begin{bmatrix}\n",
    "d_1\\\\\n",
    "d_2\\\\\n",
    "\\vdots\\\\\n",
    "d_n\\\\\n",
    "\\end{bmatrix} = \\begin{bmatrix}\n",
    "c_1 + d_1\\\\\n",
    "c_2 + d_2\\\\\n",
    "\\vdots\\\\\n",
    "c_n + d_n\\\\\n",
    "\\end{bmatrix}$$"
   ]
  },
  {
   "cell_type": "markdown",
   "metadata": {},
   "source": [
    "<h3 style=\"color:#9A11DA;\">Multiplication by a Scalar</h3>\n",
    "\n",
    "We can multiply an $n$-dimensional vector by a real or complex number, the latter being referred to as a *scalar*. Multiplication of a vector by a scalar is performed by separately multiplying each entry of the vector by the scalar. For example, \n",
    "\n",
    "$$ 3 \\cdot \\begin{bmatrix}\n",
    "1\\\\\n",
    "2\\\\\n",
    "\\end{bmatrix} = \\begin{bmatrix}\n",
    "3 \\cdot 1\\\\\n",
    "3 \\cdot 2\\\\\n",
    "\\end{bmatrix} = \\begin{bmatrix}\n",
    "3\\\\\n",
    "6\\\\\n",
    "\\end{bmatrix}$$\n",
    "\n",
    "(If this seems strange at all, recall that multiplication by a number should be equivalent to repeated addition, and use our definition of element-wise addition from before)\n",
    "\n",
    "$$ \\begin{bmatrix}\n",
    "1\\\\\n",
    "2\\\\\n",
    "\\end{bmatrix}+\\begin{bmatrix}\n",
    "1\\\\\n",
    "2\\\\\n",
    "\\end{bmatrix}+\\begin{bmatrix}\n",
    "1\\\\\n",
    "2\\\\\n",
    "\\end{bmatrix}=\\begin{bmatrix}\n",
    "3\\\\\n",
    "6\\\\\n",
    "\\end{bmatrix}$$\n",
    "\n",
    "Of course, multiplication by a number should also be equivalent to *scaling* by that number (hence the name, scalar). We can see this visually:\n",
    "\n",
    "<img src=\"images/mult_vec_scalar.gif\" width=\"450\" style='margin-left:auto;margin-right:auto;'/>\n",
    "\n",
    "More generally, any $n$-dimensional vector multiplied by some scalar $\\lambda$ obeys:\n",
    "$$\\lambda \\cdot \\begin{bmatrix}\n",
    "c_1\\\\\n",
    "c_2\\\\\n",
    "\\vdots\\\\\n",
    "c_n\\\\\n",
    "\\end{bmatrix} = \\begin{bmatrix}\n",
    "\\lambda \\cdot c_1\\\\\n",
    "\\lambda \\cdot c_2\\\\\n",
    "\\vdots\\\\\n",
    "\\lambda \\cdot c_n\\\\\n",
    "\\end{bmatrix}\n",
    "$$\n",
    "\n",
    "<!--  <p><span style=\"color:blue\">[snippet to play with multiplication]</span>.</p>   DONE! -->\n",
    " "
   ]
  },
  {
   "cell_type": "markdown",
   "metadata": {},
   "source": [
    "<font size=3 color=9A11DA>**Exercise.**</font> The following widget shows a two-dimensional vector which can be adjusted to point in any direction. You can also modify the vector by adjusting the scalar in front of it. \n",
    "1. Modify the angle (given in degrees) and the scalar to create the vector $\\big[ \\begin{smallmatrix} 3 \\\\4  \\\\\\end{smallmatrix}\\big]$.\n",
    "2. Can any vector be specified in this way?"
   ]
  },
  {
   "cell_type": "code",
   "execution_count": null,
   "metadata": {},
   "outputs": [],
   "source": [
    "%run python_functions/bokeh-scale_vector.py"
   ]
  },
  {
   "cell_type": "markdown",
   "metadata": {},
   "source": [
    "<h3 style=\"color:#9A11DA;\">Magnitude of Vectors</h3>\n",
    "\n",
    "<img src=\"images/vec_mag.gif\" width=\"450\" style='margin-left:auto;margin-right:auto;' />\n",
    "\n",
    "In 2 or 3 dimensions, you may be used to thinking of the **magnitude** of a vector as its *physical length* when represented in a 2 or 3-dimensional coordinate system. For example, the displacement vector $v = \\begin{bmatrix} x\\\\ y \\end{bmatrix}$, describing a particle's horizontal and vertical position, has a length that can be calculated using the Pythagorean Theorem: $c^2 = x^2 + y^2$.\n",
    "\n",
    "The concept of magnitude, which is also referred to as a **norm**, is very similar for any higher dimensional complex vector - for any complex vector $v = \\begin{bmatrix} v_1\\\\ v_2\\\\ \\vdots\\\\ v_n \\end{bmatrix}$, we define the magnitude $|v|$ in terms of the sum of the squares of the **magnitudes of its entries**:\n",
    "\n",
    "$$|v|^2 = |v_1|^2 + |v_2|^2 + \\ldots + |v_n|^2$$\n",
    "\n",
    "Meaning that \n",
    "\n",
    "$$|v| = \\sqrt{\\sum_{i=1}^n |v_i|^2}$$\n",
    "\n",
    "This is the extension of the Pythagorean Theorem to more than just two dimensions, but remember: if an entry of a vector $v_i$ is complex, we don't just square it in this definition. The square of the magnitude of a complex number is the complex number *times its own complex conjugate*: $|v_i|^2 = v \\cdot\\bar{v}$. "
   ]
  },
  {
   "cell_type": "markdown",
   "metadata": {},
   "source": [
    "<font size=3 color=9A11DA>**Exercise.**</font> We saw in a previous exercise that we can specify a vector by specifying two quantities: 1) its angle $\\theta$ with respect to the $x$-axis and 2) its magnitude. Suppose we fix the latter, and we are interested in the set of all possible vectors of magnitude $|v|=1$. How can we describe this set using a single parameter $\\theta$ for the angle? \n",
    "1. Write a two-dimensional vector $v$, with $|v| =1$, whose entries depend on the angle $\\theta$. (Hint: you will use the fact that $\\cos^2\\theta +\\sin^2\\theta=1$.)\n",
    "2. With this expression, write down the specific vectors corresponding to the following values of $\\theta$:\n",
    "  - $\\theta=0$\n",
    "  - $\\theta=\\tfrac{\\pi}{2}$\n",
    "  - $\\theta=\\tfrac{\\pi}{4}$\n",
    "  - $\\theta=-\\tfrac{\\pi}{4}$.\n",
    "3. Rewrite these vectors as a linear combination of the standard basis vectors, $\\big[ \\begin{smallmatrix} 1 \\\\0  \\\\\\end{smallmatrix}\\big]$ and $\\big[ \\begin{smallmatrix} 0 \\\\1  \\\\\\end{smallmatrix}\\big]$.\n",
    "4. The set we described in part 1 is an infinite set (i.e. it contains infinitely many elements). If we were to plot all of these vectors on the $xy$-plane, what geometric shape would we see?"
   ]
  },
  {
   "cell_type": "markdown",
   "metadata": {},
   "source": [
    "<font size=3 color=9A11DA>**Exercise.**</font> Let's explore what makes a vectors long or short. Suppose we wanted to \"build\" a vector from \"building blocks\": suppose we have ten vectors of magnitude 1, that can be arranged in the direction of either the $x$ or $y$ axis (subject to the constraints that all vectors along one axis must point in the same direction.). You can use the widget below.\n",
    "1. Using *all* \"building blocks\", how can we build the longest possible vector (by adding up the building blocks)?\n",
    "2. Using *all* ten \"building blocks\", how can we build the shortest possible vector ((by adding up the building blocks)?\n",
    "3. How do the answers to questions 1 and 2 change if we allow vectors along the same axis to point in opposite directions?"
   ]
  },
  {
   "cell_type": "code",
   "execution_count": null,
   "metadata": {},
   "outputs": [],
   "source": [
    "%run python_functions/bokeh-build_vector.py"
   ]
  },
  {
   "cell_type": "markdown",
   "metadata": {},
   "source": [
    "<h3 style=\"color:#9A11DA;\">Multiplying Vectors</h3>\n",
    "\n",
    "Now let's talk about *multiplying* vectors. We define the product of two real vectors $v$ and $w$, also called the **inner product** or **dot product**, denoted $v \\cdot w$, as the *sum of the products of the corresponding elements of $v$ and $w$*:\n",
    "\n",
    "$$v \\cdot w := (v_1 \\cdot w_1) + (v_2\\cdot w_2) + \\ldots + (v_n\\cdot w_n) \\,.$$\n",
    "\n",
    "**Note:** The inner product of two vectors is **just a scalar**, just a number. This is different from the addition or subtraction of vectors, which returns another vector."
   ]
  },
  {
   "cell_type": "markdown",
   "metadata": {},
   "source": [
    "<font color='9A11DA' size=4.5>Square of a Vector</font><br> \n",
    "\n",
    "Equipped with multiplication of two vectors, can I square a vector? Well, I can certainly take the inner product between a vector and itself:\n",
    "\n",
    "$$v \\cdot v = (v_1 \\cdot v_1) + \\ldots + (v_n \\cdot v_n) = v_1^2 + v_2^2 + \\ldots + v_n^2$$\n",
    "\n",
    "But wait a moment - this is exactly the same expression as the square of the magnitude of $v$! This is no coincidence; this equality is highly suggestive even in the notation we use:\n",
    "\n",
    "$$v \\cdot v = |v|^2$$\n",
    "\n",
    "So the inner product of a vector with itself, a natural way to \"square\" the vector, is actually equal to the square of the magnitude of the vector.\n",
    "\n",
    "<font size=3 color=9A11DA>**Exercise.**</font> It turns out that the inner product of two real vectors $v, w$ can also be written in terms of only the magnitude of each vector and the angle between them:\n",
    "\n",
    "$$ v^T \\cdot w = |v| |w| \\cos{\\theta},$$\n",
    "\n",
    "Fix the magnitudes $|v|$ and $|w|$ of the two vectors.\n",
    "\n",
    "1. In the case that $w=v$, the angle between them is zero. Show that the equation holds in this case.\n",
    "2. For what value of $\\theta$ is the dot product $v\\cdot w$ maximum?\n",
    "3. For what value of $\\theta$ is the dot product $v\\cdot w$ minimum?\n",
    "4. For what value of $\\theta$ is the dot product $v\\cdot w$ zero?\n",
    "\n",
    "You can use the widget below to help you answer these questions."
   ]
  },
  {
   "cell_type": "code",
   "execution_count": null,
   "metadata": {},
   "outputs": [],
   "source": [
    "%run python_functions/dot_product.py"
   ]
  },
  {
   "cell_type": "markdown",
   "metadata": {},
   "source": [
    "Condition 4 turns out to be very important. If you have solved the exercise correctly, you will have found that two vectors $v$ and $w$ are perpendicular i.e. the angle between $v$ and $w$ is $90$ degrees, if and only if their inner product is zero, namely $v \\cdot w = 0$.  \n",
    "\n",
    "In more than 3 dimensions, the notion of an angle beetween two vectors is not so well defined (geometrically speaking). However, we will generalize the notion of perpendicular-ness, and call it *orthogonality*, as follows:\n",
    "\n",
    ">Two $n$-dimensional vectors $v$ and $w$ are **orthogonal** if and only if their inner product is equal to zero: $v \\cdot w = 0$."
   ]
  },
  {
   "cell_type": "markdown",
   "metadata": {},
   "source": [
    "<font color='9A11DA' size=4.5>Complex Vectors</font><br> \n",
    "\n",
    "When taking inner products of vectors with complex entries, there is a single additional caveat: the entries of the first vector are replaced by their *complex conjugates*:\n",
    "\n",
    "$$v \\cdot w = (\\bar{v_1} \\cdot w_1) + (\\bar{v_2} \\cdot w_2) + \\ldots + (\\bar{v_n} \\cdot w_n) \\,.$$\n",
    "\n",
    "Let's look at a concrete example:\n",
    "\n",
    "$$\\begin{bmatrix} 5-2i\\\\ 3+1i \\end{bmatrix} \\cdot \\begin{bmatrix} 4+3i \\\\ 6-3i \\end{bmatrix} = (5+2i)\\cdot(4+3i) + (3-1i)\\cdot(6-3i)$$ \n",
    "$$ = \\big(20+(15i+8i)+6i^2\\big) + \\big(18+(-9i-6i)+3i^2\\big) = (20 + 23i - 6) + (18 - 15i - 3) = 29 + 8i$$ \n",
    "\n",
    "Just like with real vectors, the inner product of complex vectors returns just a number, but of course this time it can be a complex number.\n",
    "\n",
    "Why do we take the complex conjugate of the entries of the first vector? Let's check out what the square of a complex vector is to get a hint!\n",
    "\n",
    "$$v \\cdot v = (\\bar{v_1} \\cdot v_1) + (\\bar{v_2} \\cdot v_2) + \\ldots + (\\bar{v_n} \\cdot v_n) = |v_1|^2 + |v_2|^2 + \\ldots + |v_n|^2$$\n",
    "\n",
    "So by defining the inner product on complex vectors to conjugate all the elements of the first vector, we guarantee that the inner product of a vector with itself equals its magnitude:\n",
    "\n",
    "$$v \\cdot v = |v|^2 \\,.$$ \n",
    "\n",
    "Just like with real vectors, we say that the two complex vectors $v$ and $w$ are *orthogonal* if $v \\cdot w$."
   ]
  },
  {
   "cell_type": "markdown",
   "metadata": {},
   "source": [
    "<h1 style=\"color:#D30982;\">A Special Set of Vectors: The Standard Basis</h1>\n",
    "\n",
    "As we proceed, it will often be helpful to think of vectors as a combination of a few simpler ones. Take a moment and try to think of what the simplest non-zero vector of 3 entries would look like. If you said any of the following three: $$\\begin{bmatrix} 1\\\\ 0\\\\ 0 \\end{bmatrix},\\,\\, \\begin{bmatrix} 0\\\\ 1\\\\ 0 \\end{bmatrix},\\,\\, \\begin{bmatrix} 0\\\\ 0\\\\ 1 \\end{bmatrix},\\,\\,$$ \n",
    "\n",
    "then quite a lot mathematicians agree with you! By scaling each of these vectors individually and adding them together, you can reproduce any vector of three elements:\n",
    "\n",
    "$$ \\begin{bmatrix}\n",
    "c_1\\\\\n",
    "c_2\\\\\n",
    "c_3\\\\\n",
    "\\end{bmatrix}  = c_1 \\cdot \\begin{bmatrix}\n",
    "1\\\\\n",
    "0\\\\\n",
    "0\\\\\n",
    "\\end{bmatrix} + c_2 \\begin{bmatrix}\n",
    "0\\\\\n",
    "1\\\\\n",
    "0\\\\\n",
    "\\end{bmatrix} +  c_3 \\begin{bmatrix}\n",
    "0\\\\\n",
    "0\\\\\n",
    "1\\\\\n",
    "\\end{bmatrix}$$\n",
    "\n",
    "In technical jargon, the fact that I can write the vector $\\Big[ \\begin{smallmatrix} c_1\\\\ c_2\\\\ c_3 \\end{smallmatrix}\\Big]$ as a sum of scaled versions of these three vectors means that $\\Big[\\begin{smallmatrix} c_1\\\\ c_2\\\\ c_3 \\end{smallmatrix}\\Big]$ is a **linear combination** of these three vectors.\n",
    "A vector is a \"linear combination\" of **any** vectors that can be scaled and then added together to reproduce it. For example, $\\Big[\\begin{smallmatrix} 0\\\\ 1\\\\ 1 \\end{smallmatrix}\\Big]$ is a linear combination of the two vectors $\\Big[\\begin{smallmatrix}0\\\\1\\\\0\\\\\\end{smallmatrix}\\Big]$ and $\\Big[\\begin{smallmatrix}0\\\\0\\\\1\\\\\\end{smallmatrix}\\Big]$; but it is *not* a linear combination of the two vectors $\\Big[\\begin{smallmatrix}1\\\\0\\\\0\\\\\\end{smallmatrix}\\Big]$ and $\\Big[\\begin{smallmatrix}0\\\\0\\\\1\\\\\\end{smallmatrix}\\Big]$, because there is no way to scale and combine these two vectors that will ever lead to a nonzero second element!\n",
    "\n",
    "What makes the set of three vectors at the start special is that, no matter what, there will always be a way to scale and combine them to reproduce any 3-dimensional vector. This is why it is referred to as the **standard basis** for 3-dimensional vectors. In general, the standard basis of the set of $n$-dimensional vectors consists of the $n$ vectors:\n",
    "\n",
    "$$ \\begin{bmatrix}1\\\\0\\\\0\\\\\\vdots\\\\0\\\\\\end{bmatrix},\\,\\,\n",
    "\\begin{bmatrix}0\\\\1\\\\0\\\\\\vdots\\\\0\\\\\\end{bmatrix},\\,\\,\n",
    "\\begin{bmatrix}0\\\\0\\\\1\\\\\\vdots\\\\0\\\\\\end{bmatrix},\\,\\, \\ldots\\,\\, \n",
    "\\begin{bmatrix}0\\\\0\\\\0\\\\\\vdots\\\\1\\\\\\end{bmatrix}$$\n",
    "\n",
    "You can think of the standard basis as a special set of vectors which *defines* a preferred coordinate system. If you think of a vector as a geometrical object, then the standard basis provides the *axes* of the coordinate system, and the coefficients $c_i$'s are the *coordinates* of the vector in this system. \n",
    "\n",
    "However, the standard basis is not the only choice of coordinate system: one could choose a different set of $n$ vectors, and this would change the coordinates which specify the vector.\n",
    "\n",
    "\n",
    "\n",
    "Any set of $n$ vectors, in which no single vector is any linear combination of any of the others, serves as a valid alternative basis for the set of all possible $n$-dimensional vectors (we will not provide a proof of this fact here, but we encourage you to think about this - you will also obtain more intuition about this by playing with the widgets below)."
   ]
  },
  {
   "cell_type": "markdown",
   "metadata": {},
   "source": [
    "<font size=3 color=9A11DA>**Example.**</font> As an example, the standard basis in 2 dimensions is $\\left\\{\\begin{bmatrix}1\\\\0\\\\\\end{bmatrix}, \\begin{bmatrix}0\\\\1\\\\\\end{bmatrix}\\right\\}$. One could choose instead the coordinate system specified by the \"basis vectors\" $\\left\\{\\begin{bmatrix}1\\\\1\\\\\\end{bmatrix}, \\begin{bmatrix}1\\\\-1\\\\\\end{bmatrix}\\right\\}$. Call the latter set $\\mathcal{B}'$.\n",
    "\n",
    "Then, take for instance the vector represented in the standard basis as $\\begin{bmatrix}2\\\\-2\\\\\\end{bmatrix}$. In the new basis $\\mathcal{B}'$, this vector is represented as $\\begin{bmatrix}0\\\\2\\\\\\end{bmatrix}_{\\mathcal{B}'}$. You can check in fact that \n",
    "\n",
    "$$ 0 \\cdot \\begin{bmatrix}\n",
    "1\\\\\n",
    "1\\\\\n",
    "\\end{bmatrix} + 2 \\cdot \\begin{bmatrix}\n",
    "1\\\\\n",
    "-1\\\\\n",
    "\\end{bmatrix} = \\begin{bmatrix}\n",
    "2\\\\\n",
    "-2\\\\\n",
    "\\end{bmatrix}.$$"
   ]
  },
  {
   "cell_type": "markdown",
   "metadata": {},
   "source": [
    "<font size=3 color=9A11DA>**Exercise.**</font> Any vector in two dimensions can be written as linear combination of the standard basis vectors. Using the widget below, scale the basis vectors to construct the vector $\\left[\\begin{smallmatrix}-3\\\\7\\end{smallmatrix}\\right]$ as such a linear combination:\n",
    "\n",
    "$$\\begin{bmatrix}\n",
    "-3\\\\\n",
    "7\\\\\n",
    "\\end{bmatrix} = \\alpha \\begin{bmatrix}\n",
    "1\\\\\n",
    "0\\\\\n",
    "\\end{bmatrix} + \\beta \\begin{bmatrix}\n",
    "0\\\\\n",
    "1\\\\\n",
    "\\end{bmatrix} $$"
   ]
  },
  {
   "cell_type": "code",
   "execution_count": null,
   "metadata": {},
   "outputs": [],
   "source": [
    "%run python_functions/bokeh-vector_basis.py"
   ]
  },
  {
   "cell_type": "markdown",
   "metadata": {},
   "source": [
    "<font size=3 color=9A11DA>**Exercise.**</font> The widget below allows you to specify a basis of your choice:\n",
    "$$\\left\\{\\vec{a}, \\vec{b}\\right\\} = \\left\\{ \\begin{bmatrix}\n",
    "a_x\\\\\n",
    "a_y\\\\\n",
    "\\end{bmatrix} \\,,\\, \\begin{bmatrix}\n",
    "b_x\\\\\n",
    "b_y\\\\\n",
    "\\end{bmatrix} \\right\\} \\,,$$\n",
    "and to subsequently construct vectors as linear combinations of the basis elements, by specifying the coefficients $\\alpha$ and $\\beta$ in the linear combination, i.e. you can construct the vector \n",
    "\n",
    "$$\\vec{v} = \\alpha \\begin{bmatrix}\n",
    "a_x\\\\\n",
    "a_y\\\\\n",
    "\\end{bmatrix} + \\beta \\begin{bmatrix}\n",
    "b_x\\\\\n",
    "b_y\\\\\n",
    "\\end{bmatrix} $$\n",
    "\n",
    "As you play with the widget, you should think about the following:\n",
    "1. Not all choices for the vectors $\\vec{a}$ and $\\vec{b}$ yield a basis. What are the restrictions on $\\vec{a}$ and $\\vec{b}$ such that we can use them to generate any vector $\\vec{v}$?\n",
    "2. Consider the set of all points that can be generated when the coefficient $\\alpha = 0$. What geometric shape does this set describe?"
   ]
  },
  {
   "cell_type": "code",
   "execution_count": null,
   "metadata": {},
   "outputs": [],
   "source": [
    "%run python_functions/bokeh-vector_basis_extended.py"
   ]
  },
  {
   "cell_type": "markdown",
   "metadata": {},
   "source": [
    "<h1 style=\"color:#D30982;\">Vectors in NumPy</h1>\n",
    "\n",
    "Manipulating vectors and matrices is where the `numpy` module truly shines. You can spend some time familiarizing with vectors and their operations by playing with the following code snippets."
   ]
  },
  {
   "cell_type": "markdown",
   "metadata": {},
   "source": [
    "**Row Vector.** A row vector is created using the function `array` in `numpy`. The entries of the vector are separated by a comma and are enclosed in a square bracket. The following line defines a three dimensional vector."
   ]
  },
  {
   "cell_type": "code",
   "execution_count": null,
   "metadata": {},
   "outputs": [],
   "source": [
    "import numpy as np\n",
    "row_vec = np.array([9, 8, 6])\n",
    "print(row_vec)"
   ]
  },
  {
   "cell_type": "markdown",
   "metadata": {},
   "source": [
    "**Column Vector.** To create a column vector, we need to make a 2D `numpy` `array`. To do this we need to create a \"list of lists\". As you saw with the row vector, the list of things corresponded to a row. To create a column, we just need two or more rows. Hence, each element of a column vector is actually a row containing only a single element. By creating a list of single element rows, we create a column vector as follows:"
   ]
  },
  {
   "cell_type": "code",
   "execution_count": null,
   "metadata": {},
   "outputs": [],
   "source": [
    "col_vec = np.array([[1], \n",
    "                  [2], \n",
    "                  [3]])\n",
    "print(col_vec)"
   ]
  },
  {
   "cell_type": "markdown",
   "metadata": {},
   "source": [
    "**Getting Vector Elements.** Once we have defined a vector, it is easy to extract a single element by specifying its index. Indices are ordered in ascending order starting from $0$. Let's get the second element of both `row_vec` and `col_vec`."
   ]
  },
  {
   "cell_type": "code",
   "execution_count": null,
   "metadata": {},
   "outputs": [],
   "source": [
    "print('The second entry of row_vec is', row_vec[1])\n",
    "print('The second entry of col_vec is', col_vec[1])"
   ]
  },
  {
   "cell_type": "markdown",
   "metadata": {},
   "source": [
    "Notice that the second entry of the column vector is not just a number, as was the case in the row vector. Instead it is a list with a single element inside it. To get the actual number, we can do the following:"
   ]
  },
  {
   "cell_type": "code",
   "execution_count": null,
   "metadata": {},
   "outputs": [],
   "source": [
    "print(col_vec[1][0])"
   ]
  },
  {
   "cell_type": "markdown",
   "metadata": {},
   "source": [
    "Here, we have taken the second element of the column vector (corresponding to the second row), and then taken from *that* row the first and only element inside, using the `'0'` index.\n",
    "\n",
    "**Turning Column Vectors to Row Vectors.** To turn a column vector into a row vector, we use the transpose function:"
   ]
  },
  {
   "cell_type": "code",
   "execution_count": null,
   "metadata": {},
   "outputs": [],
   "source": [
    "row_vec_transposed = col_vec.transpose()\n",
    "print('The transposed version of vec_1 is:')\n",
    "print(row_vec_transposed)"
   ]
  },
  {
   "cell_type": "markdown",
   "metadata": {},
   "source": [
    "Notice that the output here is a 2D array, meaning there is a row with three elements, inside a list of columns with only one column in it. To get a typical row vector, we can simply index as follows:"
   ]
  },
  {
   "cell_type": "code",
   "execution_count": null,
   "metadata": {},
   "outputs": [],
   "source": [
    "normal_row_vec=row_vec_transposed[0]\n",
    "print(normal_row_vec)"
   ]
  },
  {
   "cell_type": "markdown",
   "metadata": {},
   "source": [
    "**Adding Vectors.** You can add vectors with +, as long as they're either both row vectors or both column vectors and have the same dimension:"
   ]
  },
  {
   "cell_type": "code",
   "execution_count": null,
   "metadata": {},
   "outputs": [],
   "source": [
    "row_vec_1=np.array([9,8,6])\n",
    "row_vec_2=np.array([1,2,3])\n",
    "print(row_vec_1+row_vec_2)"
   ]
  },
  {
   "cell_type": "markdown",
   "metadata": {},
   "source": [
    "**Multiplication by a Scalar.** We can also multiply a row or column vector by a scalar as follows."
   ]
  },
  {
   "cell_type": "code",
   "execution_count": null,
   "metadata": {},
   "outputs": [],
   "source": [
    "row_vec_scaled=5*row_vec\n",
    "col_vec_scaled=5*col_vec\n",
    "print('Scaled row vector', row_vec_scaled)\n",
    "print('Scaled column vector\\n',col_vec_scaled)"
   ]
  },
  {
   "cell_type": "markdown",
   "metadata": {},
   "source": [
    "**Inner Product.** The inner product, or dot product, uses `np.dot()`. Recall that this is a scalar quantity. Notice that the format of the output is slightly differend depending on whether we use vectors of the same type. Don't be too worried about this, you can simply adjust your output to be in whatever format you need it."
   ]
  },
  {
   "cell_type": "code",
   "execution_count": null,
   "metadata": {},
   "outputs": [],
   "source": [
    "dot_product_row_row=np.dot(row_vec_1, row_vec_2)\n",
    "dot_product_row_col=np.dot(row_vec,col_vec)\n",
    "print('row, row:', dot_product_row_row)\n",
    "print('row, col:', dot_product_row_col)"
   ]
  },
  {
   "cell_type": "markdown",
   "metadata": {},
   "source": [
    "**Magnitude.** The magnitude, or norm of the vector, is a function in the `linalg` sub-package in `numpy`. To access functions in sub-packages in python, we use `package.subpackage.function`. In this case we use `np.linalg.norm()` as follows:"
   ]
  },
  {
   "cell_type": "code",
   "execution_count": null,
   "metadata": {},
   "outputs": [],
   "source": [
    "magnitude=np.linalg.norm(col_vec)\n",
    "print(magnitude)"
   ]
  },
  {
   "cell_type": "markdown",
   "metadata": {},
   "source": [
    "Notice that transforming a vector from a column to a row and vice versa doesn't affect its length:"
   ]
  },
  {
   "cell_type": "code",
   "execution_count": null,
   "metadata": {},
   "outputs": [],
   "source": [
    "magnitude=np.linalg.norm(row_vec)\n",
    "magnitude_transpose=np.linalg.norm(row_vec.transpose())\n",
    "print('Magnitude', magnitude)\n",
    "print('Magnitude of transpose', magnitude_transpose)"
   ]
  },
  {
   "cell_type": "markdown",
   "metadata": {},
   "source": [
    "<h1 style=\"color:#D30982;\">Exercises</h1>"
   ]
  },
  {
   "cell_type": "code",
   "execution_count": null,
   "metadata": {},
   "outputs": [],
   "source": [
    "from qbraid_quiz_widget import MultipleChoiceQuestion\n",
    "MultipleChoiceQuestion('qubes_m4_vector_state')"
   ]
  },
  {
   "cell_type": "code",
   "execution_count": null,
   "metadata": {},
   "outputs": [],
   "source": [
    "from qbraid_quiz_widget import MultipleChoiceQuestion\n",
    "MultipleChoiceQuestion('qubes_m4_vector_addition')"
   ]
  },
  {
   "cell_type": "code",
   "execution_count": null,
   "metadata": {},
   "outputs": [],
   "source": [
    "from qbraid_quiz_widget import MultipleChoiceQuestion\n",
    "MultipleChoiceQuestion('qubes_m4_vector_basis')"
   ]
  },
  {
   "cell_type": "code",
   "execution_count": null,
   "metadata": {},
   "outputs": [],
   "source": [
    "from qbraid_quiz_widget import MultipleChoiceQuestion\n",
    "MultipleChoiceQuestion('qubes_m4_magnitude_vector')"
   ]
  },
  {
   "cell_type": "code",
   "execution_count": null,
   "metadata": {},
   "outputs": [],
   "source": [
    "from qbraid_quiz_widget import MultipleChoiceQuestion\n",
    "MultipleChoiceQuestion('qubes_m4_dot_product')"
   ]
  },
  {
   "cell_type": "markdown",
   "metadata": {},
   "source": [
    "<h2 style=\"color:#9A11DA;\">Free Response</h2>\n",
    "\n",
    "$\\newcommand{\\bm}[2]{\\begin{bmatrix} #1 \\\\ #2 \\end{bmatrix}}$\n",
    " \n",
    "We'll explore some more properties of vectors.\n",
    "$$\\begin{align} a&=\\begin{bmatrix} 1 \\\\ 2 \\\\ 3 \\end{bmatrix} & b&=\\bm{1}{2} \\end{align}$$\n",
    "1. What are the dimensions of a?\n",
    "\n",
    "2. What are the dimensions of b?\n",
    "\n",
    "3. Can you take the dot product of the vectors a and b? If so how? If not why not?\n",
    "\n",
    "4. What is the transpose of vector a?"
   ]
  },
  {
   "cell_type": "markdown",
   "metadata": {},
   "source": [
    "For the next five questions, consider the following vectors:\n",
    "\n",
    "$$\\begin{align} a&=\\bm{2}{-1} & b&=\\bm{-3}{4} & c&=\\bm{9}{-7}\\end{align}$$\n",
    "\n",
    "5. Find the sum of $a + b + c$.\n",
    "\n",
    "6. Calculate the vector $3 a - 2 b$.\n",
    "\n",
    "7. For what coefficients $x$ and $y$ is $c$ a linear combination of $a$ and $b$. (Hint: the problem can be set up as the equation $c=x a + x b$. Start by simplifying the RHS.)\n",
    "\n",
    "8. Which pair of $a$, $b$, and $c$ has the greatest inner product?\n",
    "\n",
    "9. Determine the magnitude of $a$, $b$, and $c$.\n",
    "\n",
    "10. Vectors are powerful tools not only in quantum computing but also in a wide array of fields such as in determining the direction and magnitude of a moving object. Give two examples of where vectors are used in the real world."
   ]
  },
  {
   "cell_type": "markdown",
   "metadata": {},
   "source": [
    "<h2 style=\"color:#9A11DA;\">Challenge Questions</h2> \n",
    "\n",
    "1. Take the inner product of the two vectors a and b.\n",
    "$$\\begin{align} a&=\\begin{bmatrix} 1 \\\\ 0 \\\\ 0\\end{bmatrix} & b&=\\begin{bmatrix} 0 \\\\ 0 \\\\ 1 \\end{bmatrix}\\end{align}$$\n",
    "\n",
    "2. What can you do to make the inner product nonzero?\n",
    "\n",
    "3. Normalize this vector [1,2,3] Hint for a vector $[\\alpha, \\beta, \\delta]$ the normalization is $\\frac{1}{\\sqrt{\\alpha^2+\\beta^2+\\delta^2}}[\\alpha, \\beta, \\delta]$\n",
    "\n",
    "4. Check that your answer is indeed normalized! Show your work.\n",
    "\n",
    "Now, we will combine what we learned in the complex numbers module.\n",
    "5. What is the dot product of the these two complex vectors? a = [2i,1+5i], b = [1+2i,3+5i] Hint: The dot product for complex vectors is: $a * b  = \\sum a^* b$ where $a^*$ denotes the complex conjugate.\n",
    "\n",
    "5. Normalize a = [2i,1+5i].\n",
    "\n",
    "6. Verify that your vector is now normalized!\n",
    "\n",
    "7. Show that these properties are true for vector $v_1 = [1,2,3]$,$v_2 = [4,5,6]$, and constant $A=10$.\n",
    "\n",
    "$$ A(v_1+v_2) = Av_1 + Av_2 $$\n",
    "\n",
    "$$ A v_1 \\cdot v_2 = A(v_1 \\cdot Av_2)$$"
   ]
  },
  {
   "cell_type": "markdown",
   "metadata": {
    "ignoreQbook": true
   },
   "source": [
    "<hr>\n",
    "<div style='display:flex;'>\n",
    "    <div style='width:25%;text-align:right;'> <h4 style='color:#9A11DA'>Previous Module:</h4></div>\n",
    "    <div style='width:25%;text-align:left;'> <h4 ><a href='./03_Background_math_complex_numbers.ipynb' style='color:#9A11DA;text-decoration:underline;opacity:0.6;'>3. Background Math: Complex Numbers</a></h4></div>\n",
    "    <div style='width:25%;text-align:right;'> <h4 style='color:#9A11DA'>Next Module:</h4></div>\n",
    "    <div style='width:25%;text-align:left;'> <h4 ><a href='./05_Qubit_and_quantum_gates.ipynb' style='color:#9A11DA;text-decoration:underline;opacity:0.6;'>5. Qubits and Quantum Gates</a></h4></div>\n",
    "</div>\n",
    "<!-- <hr style='border-color:grey;'> -->"
   ]
  }
 ],
 "metadata": {
  "kernelspec": {
   "display_name": "Python 3 [Default]",
   "language": "python",
   "name": "python3"
  },
  "language_info": {
   "codemirror_mode": {
    "name": "ipython",
    "version": 3
   },
   "file_extension": ".py",
   "mimetype": "text/x-python",
   "name": "python",
   "nbconvert_exporter": "python",
   "pygments_lexer": "ipython3",
   "version": "3.9.10"
  },
  "toc-autonumbering": true,
  "toc-showcode": true,
  "widgets": {
   "application/vnd.jupyter.widget-state+json": {
    "state": {},
    "version_major": 2,
    "version_minor": 0
   }
  }
 },
 "nbformat": 4,
 "nbformat_minor": 4
}
