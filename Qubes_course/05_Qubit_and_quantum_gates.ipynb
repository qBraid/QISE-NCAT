{
 "cells": [
  {
   "cell_type": "markdown",
   "metadata": {
    "ignoreQbook": true
   },
   "source": [
    "<div style='display:flex;'>\n",
    "    <div style='width:25%;text-align:right;'> <h4 style='color:#9A11DA'>Previous Module:</h4></div>\n",
    "    <div style='width:25%;text-align:left;'> <h4 ><a href='./04_Background_math_linear_algebra.ipynb' style='color:#9A11DA;text-decoration:underline;opacity:0.6;'>4. Background Math: Linear Algebra</a></h4></div>\n",
    "    <div style='width:25%;text-align:right;'> <h4 style='color:#9A11DA'>Next Module:</h4></div>\n",
    "    <div style='width:25%;text-align:left;'> <h4 ><a href='./06_Writing_quantum_programs.ipynb' style='color:#9A11DA;text-decoration:underline;opacity:0.6;'>6. Writing Quantum Programs</a></h4></div>\n",
    "</div>\n",
    "<!-- <hr style='border-color:grey;'> -->"
   ]
  },
  {
   "cell_type": "markdown",
   "metadata": {},
   "source": [
    "<h1 style=\"color:#D30982;\">Summary</h1>\n",
    "\n",
    "- Qubits\n",
    "- Single qubit gates\n",
    "- A thought experiment"
   ]
  },
  {
   "cell_type": "markdown",
   "metadata": {
    "toc-hr-collapsed": false
   },
   "source": [
    "<h1 style=\"color:#D30982;\">Qubit</h1>\n",
    "\n",
    "One of the reasons why we covered classical computing in Module 2 was that in order to appreciate quantum computing as a revolutionary paradigm for computation, you first need to be familiar with the basic principles of how classical computers operate.\n",
    "\n",
    "Recall from Module 2 on classical computing that the fundamental unit of information is a *bit*. Executing a computation is nothing other than manipulating the information stored in a string of bits, the *input*, via a sequence of logical gates to produce an *output* bit or an *output* string. Any paradigm for computation must have some basic unit of information and some rules according to which this information can be manipulated. \n",
    "    \n",
    "The equivalent of a bit in quantum computing is called a *qubit*, and the information stored in a qubit is manipulated via *quantum gates*. In this module we will introduce both of these basic elements."
   ]
  },
  {
   "cell_type": "markdown",
   "metadata": {
    "toc-hr-collapsed": true
   },
   "source": [
    "<h2 style=\"color:#9A11DA;\">Single Qubit States</h2>\n",
    "\n",
    "Just like classical bits, quantum bits or qubits can be in one of the two states 0 and 1.\n",
    "\n",
    "What differentiates a qubit from a bit is that a qubit is a *quantum system*, and the state of qubit is a *quantum state*: not only can the state of a qubit be 0 or 1,  <!-- 345241570380 -->but it can be in a *superposition* of the 0 state and the 1 state. The states 0 and 1, in the case of qubits, are represented by:\n",
    "- $\\left|0\\right\\rangle$ (pronounced \"ket 0\") and\n",
    "-  $\\left|1\\right\\rangle$ (\"ket 1\"). <br/>\n",
    "\n",
    "This odd looking notation, $\\left|0\\right\\rangle$ and $\\left|1\\right\\rangle$, is called Dirac notation and is the standard notation to represent quantum states in quantum mechanics.\n",
    "    \n",
    "The most general state of a qubit is represented as:\n",
    "\n",
    "$$\\begin{aligned}\\left| \\psi \\right\\rangle=\\alpha \\left| 0 \\right\\rangle+\\beta \\left| 1 \\right\\rangle \\end{aligned}$$\n",
    "\n",
    "where $\\alpha$ and $\\beta$ are complex numbers. This is a more precise way to describe superposition than \"both 0 and 1 at the same time\", which is often used informally to describe this concept. This state, as a superposition of $\\left|0\\right\\rangle$ and $\\left|1\\right\\rangle$, is the combination of exactly \"$\\alpha$ amount of $\\left|0\\right\\rangle$\" and \"$\\beta$ amount of $\\left|1\\right\\rangle$.\" We will interpret this very soon.\n",
    "\n",
    "<font size=3 color=9A11DA> *The following section will rely heavily on the concept of vectors and their operations, which we covered in Module 4. It might be helpful to keep that subsection open as a reference, if you don't feel too familiar with its content yet!*</font>\n",
    "\n",
    "From above, we learn that the state of a qubit is described by two complex numbers. What is interesting is that you can make a vector out of these two complex numbers. Formally, the state of a qubit $\\left|\\psi \\right \\rangle$ is a 2-dimensional vector with complex entries, and we can represent it as:\n",
    "\n",
    "$$\\left|\\psi\\right\\rangle = \\begin{bmatrix}\n",
    "\\alpha\\\\\n",
    "\\beta\\\\\n",
    "\\end{bmatrix} $$\n",
    "\n",
    "Notice that, in vector notation, \n",
    "- $\\left | 0 \\right> = 1 \\cdot \\left | 0 \\right> + 0 \\cdot \\left | 1 \\right> = \\begin{bmatrix}1\\\\0\\end{bmatrix}$, and\n",
    "- $\\left | 0 \\right> = 0 \\cdot \\left | 0 \\right> + 1 \\cdot \\left | 1 \\right> = \\begin{bmatrix}0\\\\1\\end{bmatrix}$.\n",
    "\n",
    "In other words, the quantum states $\\left | 0 \\right>$ and $\\left | 1 \\right>$ coincide with the unit vectors $\\begin{bmatrix}1\\\\0\\end{bmatrix}$ and $\\begin{bmatrix}0\\\\1\\end{bmatrix}$ respectively, and any quantum state can be written as a *linear combination* of these two.\n",
    " \n",
    "The two complex values, $\\alpha$ and $\\beta$, uniquely define where a particular qubit state sits between $\\left|0\\right\\rangle$ and $\\left|1\\right\\rangle$. The only additional requirement that $\\alpha$ and $\\beta$ must satisfy, in order for them to define a valid qubit state, is the equality $|\\alpha|^2 + |\\beta|^2 = 1$, i.e. the quantum state vector has norm $1$ (we will tell you more about this shortly). We refer to $\\alpha$ and $\\beta$ as *amplitudes*. \n",
    "\n",
    "We will use the \"ket\" notation and the vector notation interchangeably to represent the same objects: states of qubits.\n",
    "\n",
    "A qubit is a $2$-dimensional quantum system, but in general, a quantum system can be $n$-dimensional for any positive integer $n$. However, for the purpose of computational tasks, it is convenient to use qubits as building blocks, just like we use bits for classical computing. It would of course be possible to rewrite classical computing in terms of, say, *ternary* strings (i.e. strings of $0,1,2$'s), as opposed to binary strings, but by convention (and for convenience) classical programs manipulate strings of bits. Likewise, in the case of quantum computing, quantum circuits (which we will discuss in the next module) manipulate sets of qubits.\n",
    "        "
   ]
  },
  {
   "cell_type": "markdown",
   "metadata": {},
   "source": [
    "<font size=3 color=9A11DA>So, what is the connection between qubits and the quantum wave function we saw in Module 1?</font>\n",
    "\n",
    "Just like a qubit state $\\left| \\psi \\right\\rangle=\\alpha \\left| 0 \\right\\rangle+\\beta \\left| 1 \\right\\rangle$ represents a superposition of $ \\left| 0 \\right\\rangle$ and $ \\left| 1 \\right\\rangle$, with amplitude $\\alpha$ on $\\left| 0 \\right\\rangle$ and $\\beta$ on $\\left| 1 \\right\\rangle$, you can think of a wavefunction $\\psi(x)$ as a superposition over all points $x$, where the amplitude at point $x$ is given by $\\psi(x)$. In the examples we saw in Module 1, $x$ was a real number (representing e.g. position) taking a continuous of possible values, whereas in the case of a qubit there are only two options. A qubit is the simplest possible quantum systems, with only two degrees of freedom. For the rest of this course, you can put the wavefunction picture aside, and focus on quantum systems comprising a discrete number of qubits. "
   ]
  },
  {
   "cell_type": "markdown",
   "metadata": {},
   "source": [
    "Now that we understand precisely what a qubit is from a mathematical standpoint, a natural question is:  \n",
    "\n",
    "<font size=3 color=9A11DA>How do we interpret the state $\\left|\\psi \\right\\rangle$ physically?</font>\n",
    "\n",
    "<!-- <center>How do we interpret the state $\\left|\\psi \\right\\rangle$ physically? <center/>  <br/> -->\n",
    "    \n",
    "As we discussed when presenting the double slit experiment in Module 1, the only way that a quantum particle could have produced the interference pattern on the screen is, informally speaking, by passing through both the slits *at the same time*. In a similar way, the state of a qubit can be thought of as being both 0 and 1 at the same time. However, as we saw in the double slit experiment, it is only when we \"observe\" the photon that we force it to tell us whether it passed through the first or the second slit, or at what precise point it hit the wall. So, a more precise way to talk about the state of a qubit is to say that the state is described by the above vector, and the notion of whether it is 0 or 1 does not exist until it is observed. \n",
    "\n",
    "In technical jargon, the process of *observing* a quantum system is referred to as a **measurement**. The concept of a measurement is central to quantum information, and to the way it differs from its classical counterpart. "
   ]
  },
  {
   "cell_type": "markdown",
   "metadata": {
    "toc-hr-collapsed": true
   },
   "source": [
    "<h2 style=\"color:#9A11DA;\">Measurement of Single Qubit States</h2>\n",
    "\n",
    "The process of observing whether the qubit is 0 or 1 is referred to as a *measurement*. When we measure a qubit, we obtain a *measurement outcome* 0 or 1. What happens to the quantum state of the qubit after it has been measured? If the measurement outcome is 0, then the state of the qubit \"collapses\" to $\\left| 0\\right \\rangle$. If the measurement outcome was 1, the state of the qubit collapses to $\\left| 1 \\right \\rangle$."
   ]
  },
  {
   "cell_type": "markdown",
   "metadata": {},
   "source": [
    "<font size=3 color=9A11DA>Why does this collapse occur?</font> <br/> No one really knows; it is one of the postulates of quantum mechanics (which we described in Module 1) that we simply accept. This postulate is known as <font size=3 color=9A11DA>*Born's rule*,</font> and it says something more than just what the post-measurement state will be: it tells us also what the probabilities of seeing outcomes 0 and 1 are.\n",
    "    \n",
    "The rule is that if we measure the state $\\left|\\psi \\right\\rangle = \\alpha \\left| 0 \\right\\rangle+\\beta \\left| 1 \\right\\rangle$ we will see\n",
    "- outcome $|0\\rangle$ with probability $|\\alpha|^2$, and\n",
    "- outcome $|1\\rangle$ with probability $|\\beta|^2$. <br/>\n",
    "(Recall that for a complex number $c$, its magnitude or modulus is denoted by $|c|$). Since the probabilities of all outcomes must add up to $1$, Born's rule implies that $|\\alpha|^2 + |\\beta|^2 = 1$."
   ]
  },
  {
   "cell_type": "markdown",
   "metadata": {},
   "source": [
    "<font size=3 color=9A11DA>**Example.**</font> Consider a qubit in the state\n",
    "$\\left| \\psi \\right\\rangle=\\sqrt{\\frac{2}{3}} \\left| 0 \\right\\rangle+\\frac{1}{\\sqrt{3}} \\left| 1 \\right\\rangle$. Now, suppose we make a measurement and we obtain outcome $\\left| 1 \\right\\rangle$. Immediately after this measurement, suppose we measure the system a second time. What will the result of this second measurement be?\n",
    "- $\\left| 0 \\right\\rangle$ with probability 1\n",
    "- $\\left| 1 \\right\\rangle$ with probability 1\n",
    "- $\\left| 0 \\right\\rangle$ with probability $\\frac{2}{3}$ and $\\left| 1 \\right\\rangle$ with probability $\\frac{1}{3}$\n",
    "- The qubit is no longer a quantum system.\n",
    "\n",
    "**Solution**: When we measure the system and observe the outcome 1, as we mentioned earlier, the system collapses to the state $\\left| 1 \\right\\rangle$. Therefore, any subsequent measurement made on this system will result in the same outcome 1."
   ]
  },
  {
   "cell_type": "markdown",
   "metadata": {},
   "source": [
    "- Suppose $\\alpha = \\sqrt{\\frac23}$, and $\\beta=\\frac{i}{\\sqrt{3}}$. Upon measuring, what is the probability of finding the qubit in state $|1\\rangle$?"
   ]
  },
  {
   "cell_type": "markdown",
   "metadata": {},
   "source": [
    "<font size=3 color=9A11DA>**Exercise.**</font> The code block below simulates a qubit in the state $\\left|\\psi \\right\\rangle = \\frac{1}{\\sqrt{2}} \\left| 0 \\right\\rangle+\\frac{1}{\\sqrt{2}}\\left| 1 \\right\\rangle$ and measures it. For now, don't worry about how the code works (we will discuss this in Module 6). How often do you expect the outcome of the measurement to be $\\left| 0 \\right\\rangle$? What about for the outcome $\\left| 1 \\right\\rangle$? Run the code cell several times to see if your predictions were correct."
   ]
  },
  {
   "cell_type": "code",
   "execution_count": null,
   "metadata": {},
   "outputs": [],
   "source": [
    "from qiskit import QuantumCircuit, Aer, execute\n",
    "#build circuit\n",
    "circ = QuantumCircuit(2,2)\n",
    "circ.h(0)\n",
    "circ.x(1)\n",
    "circ.measure(0,0)\n",
    "circ.measure(1,1)\n",
    "#run simulation\n",
    "backend_sim = Aer.get_backend('qasm_simulator')\n",
    "sim = execute(circ, backend_sim, shots=10000)\n",
    "counts=sim.result().get_counts(circ)\n",
    "print(counts)\n",
    "print('The measured outcome is |{}>.'.format(list(counts.keys())[0]))"
   ]
  },
  {
   "cell_type": "code",
   "execution_count": null,
   "metadata": {},
   "outputs": [],
   "source": [
    "circ.draw(output='mpl')"
   ]
  },
  {
   "cell_type": "markdown",
   "metadata": {},
   "source": [
    "As you can see, measuring a qubit, only gives us a single bit of information. In some sense, a lot of the information previously \"contained\" in the qubit, namely the amplitudes, is lost. It is only when we are able to prepare the same qubit state many times, and measure it over and over that we gather meaningful statistics, which allows us to reconstruct the qubit state more accurately."
   ]
  },
  {
   "cell_type": "markdown",
   "metadata": {
    "toc-hr-collapsed": true
   },
   "source": [
    "<h2 style=\"color:#9A11DA;\">Relative Phase</h2>\n",
    "\n",
    "As you may have noticed, the measurement probabilities of a qubit state depend exclusively on the absolute values of $\\alpha$ and $\\beta$. So for example, the states:\n",
    "- $\\alpha \\left| 0 \\right\\rangle+\\beta \\left| 1 \\right\\rangle$, \n",
    "- $\\alpha \\left| 0 \\right\\rangle - \\beta \\left| 1 \\right\\rangle$,\n",
    "- $\\alpha \\left| 0 \\right\\rangle + i\\beta \\left| 1 \\right\\rangle$ \n",
    "\n",
    "all give rise to the same probabilities of the outcome of measurements on the qubit. As a result, you might wonder, why does it matter that we allow $\\alpha$ and $\\beta$ to be complex numbers, or even negative real numbers: couldn't we just restrict ourselves to *non-negative* real numbers? \n",
    "\n",
    "We will return to this question several times in the next modules: the fact that amplitudes can be negative is truly at the heart of quantum mechanics and quantum computing.\n",
    "\n",
    "For now, let's understand a little more what makes these states different, by discussing the concept of **relative phase**.\n",
    "\n",
    "Consider the quantum states\n",
    "\n",
    "$$\\begin{aligned}\\left| \\psi \\right\\rangle=\\alpha \\left| 0 \\right\\rangle+\\beta \\left| 1 \\right\\rangle \\end{aligned}\\,,$$\n",
    "\n",
    "and \n",
    "\n",
    "$$\\begin{aligned}\\left| \\psi \\right\\rangle=\\alpha \\left| 0 \\right\\rangle+\\gamma \\beta \\left| 1 \\right\\rangle \\end{aligned}\\,,$$\n",
    "\n",
    "where in the latter expression we have multiplied the $\\beta$ amplitude by a number $\\gamma$, where $|\\gamma|=1$. We can confirm that $\\gamma$ has no impact on the measurement outcome probabilities by squaring the coefficient of $\\left|1\\right>$:\n",
    "\n",
    "$$|\\gamma\\beta|^2=|\\gamma|^2|\\beta|^2=|\\beta|^2,$$\n",
    "\n",
    "where we have used the fact that the square modulus of $\\gamma$ is one. We refer to the introduction of $\\gamma$ as the introduction of a *relative phase*, where the term relative refers to the fact that only the amplitude of $\\left| 1 \\right\\rangle$ is multipled $\\gamma$, but not the amplitude of $\\left| 0 \\right\\rangle$.\n",
    "\n",
    "Some possible values of $\\gamma$ include $1$, $-1$, and $i$, but $\\gamma$ has many other possible values. In general, $\\gamma$ takes the form\n",
    "\n",
    "$$\\gamma=a+ib,$$\n",
    "\n",
    "where $a^2+b^2=1$.\n",
    "\n",
    "We can plot all possible values of $\\gamma$ in the complex plane, which results in what is called the *complex unit circle*. Each point on the circle is a valid value of $\\gamma$. In particular, you can convince yourself that each value $\\gamma$ can be written as\n",
    "\n",
    "$$\\gamma =\\cos\\phi+i\\sin\\phi \\,,$$ \n",
    "\n",
    "for some angle $\\phi$, which we refer to as a phase angle, and ranges from zero to $2\\pi$. The phase angle is important to understanding constructive and destructive interference, as we will see in later modules."
   ]
  },
  {
   "cell_type": "markdown",
   "metadata": {},
   "source": [
    "<img src=\"images/complex_unit_circle.png\" width=300 style='margin-left:auto;margin-right:auto;'>"
   ]
  },
  {
   "cell_type": "markdown",
   "metadata": {},
   "source": [
    "<font size=3 color=9A11DA>**Exercise.**</font> What values of $\\phi$ correspond to the following relative phases $\\gamma$:\n",
    "- $-1$\n",
    "- $-i$\n",
    "- $\\frac{1}{\\sqrt{2}}\\left(1+i\\right)$"
   ]
  },
  {
   "cell_type": "markdown",
   "metadata": {},
   "source": [
    "<font size=3 color=9A11DA>**Exercise.**</font> The widget below shows the position on the complex unit circle for any two phase angles $\\phi_1$ and $\\phi_2$. What is important with relative phases is the angle between them. What is the maximum difference between the two phase angles? What is the minimum?"
   ]
  },
  {
   "cell_type": "code",
   "execution_count": null,
   "metadata": {},
   "outputs": [],
   "source": [
    "# %run python_functions/bokeh-complex_unit_circle.py"
   ]
  },
  {
   "cell_type": "markdown",
   "metadata": {},
   "source": [
    "<font size=3 color=9A11DA>**Exercise.**</font> Another interpretation of phase angle is in the addition of periodic wave functions. The widget below shows the interference of two sine functions. The green function is the baseline, which we can say has phase angle $\\phi_1=0$. The yellow function has phase $\\phi_2$ as a variable, manipulated by the slider. The bottom graph shows the sum of the two sine functions. For what value(s) of $\\phi_2$ does maximum constructive interference occur? For what value of $\\phi_2$ does maximum *destructive* interference occur? What is the difference in phase angles in each case?"
   ]
  },
  {
   "cell_type": "code",
   "execution_count": null,
   "metadata": {},
   "outputs": [],
   "source": [
    "%run python_functions/bokeh-interference_phase.py"
   ]
  },
  {
   "cell_type": "markdown",
   "metadata": {},
   "source": [
    "**The Significance of Relative Phase**\n",
    "\n",
    "Think back to the double-slit experiement. We found that quantum particles displayed an interference pattern characteristic of waves. When it comes to superposition, thinking of quantum objects as a superposition of different states can be very useful. Consider the state\n",
    "\n",
    "$$\\left|\\psi\\right>=\\left|0\\right> + \\left|1\\right> -\\left|1\\right>$$\n",
    "\n",
    "You might notice that this equation is unsimplified, and is completely equivalent to the state $\\left|0\\right>$. This is because the states $\\left|1\\right>$ and $-\\left|1\\right>$ destructively interfere! The phase angle for the state $\\left|1\\right>$ is $\\phi=0$, and the phase angle for $-\\left|1\\right>$ is $\\phi=\\pi$. This accounts for the maximum possible phase difference, corresponding to destructive interference.\n",
    "\n",
    "Once again we should ask the question, if the relative phase $\\gamma$ has no impact on the measurement probabilities of a qubit, why should we care about it at all? It turns out that we can do a lot more with quantum states than just measure them. \n",
    "\n",
    "When we measure a quantum system, we are asking it to return to us a classical answer. In some sense, we are forcing it to lose much of the *quantum* information that it was carrying originally in order to interact with us *classically*. However, instead of measuring it and forcing it to collapse, we could avoid looking at the state, and instead transform it according to a sequence of *quantum gates* (these are the quantum analogue of the classical logical gates that you encountered in Module 2, and we will talk about these in a few sections), and then only after applying such a sequence of quantum gates, perform a measurement. The process of applying gates does not cause us to lose information the way measurement does. When we apply quantum gates to states, the relative phase will definitely matter. Starting from $\\alpha \\left| 0 \\right\\rangle+\\beta \\left| 1 \\right\\rangle$, $\\alpha \\left| 0 \\right\\rangle - \\beta \\left| 1 \\right\\rangle$ or $i\\alpha \\left| 0 \\right\\rangle+ \\beta \\left| 1 \\right\\rangle$ and applying a fixed sequence of quantum gates can potentially result in very different outcomes, so that if we eventually measure them *after* applying a sequence of quantum gates, we could get very different outcome distributions for the three cases.\n",
    "\n",
    "Much like in the double slit experiment example from Module 1, observing the particles to see which slit they passed through destroys any quantum effect. But letting them proceed unobserved leads to interference patterns. These interference patterns depend on these amplitudes adding up and cancelling -- this is why even though we can't immediately distinguish between states with different relative phases, these difference can become very important and distinguishable if we let the quantum states evolve first, before measuring them."
   ]
  },
  {
   "cell_type": "markdown",
   "metadata": {},
   "source": [
    "<h2 style=\"color:#9A11DA;\"> Global Phase</h2>\n",
    "\n",
    "Sometimes, we find that a state in superposition has an overall factor in front of it. This factor is called a global phase, and, much like relative phase, it has no impact on distribution of measurement outcomes for that state. To see this, consider the state\n",
    "\n",
    "$$\\left|\\psi\\right> =\\frac{1}{\\sqrt{2}}\\left( \\left| 0 \\right> - \\left| 1 \\right> \\right).$$\n",
    "\n",
    "Measuring this state results in the outcome $\\left| 0 \\right>$ with probability $\\frac{1}{2}$ and $\\left| 1 \\right>$ with probability $\\frac{1}{2}$. Consider now the similar state $-\\left| \\psi \\right>$, which differs from $\\left| \\psi \\right>$ by the *global phase* $-1$:\n",
    "\n",
    "$$-\\left| \\psi \\right> =\\frac{(-1)}{\\sqrt{2}}\\left( \\left| 0 \\right> - \\left| 1 \\right> \\right)\\,.$$\n",
    "\n",
    "Notice first that the modulus of this global phase is $\\left|-1\\right|^2=1$, so the state above is still a valid quantum state, since the squares of the magnitudes of the amplitudes sum to $1$. \n",
    "\n",
    "Additionally, it is easy to see that measuring $-\\left| \\psi \\right>$ results in the same measurement outcome distribution as $\\left| \\psi \\right>$: \n",
    "\n",
    "- $\\left| 0 \\right>$ with probability $\\frac{1}{2}$,\n",
    "- $\\left| 1 \\right>$ with probability $\\frac{1}{2}$. \n",
    "\n",
    "More generally, any global phase $\\phi$ (which satistfies $\\left|\\phi\\right|^2=1$) will have no impact on the distribution of measurement outcomes.\n",
    "\n",
    "However, notice that the *global* phase leaves the *relative* phase unchanged! This is because both amplitudes are multiplied by the same phase (you can think of the phases for each amplitude as being shifted by the same angle).\n",
    "\n",
    "The following is the crucial difference between global phases and relative phases:\n",
    "\n",
    "- Relative phases, as we discussed in the previous section, can be noticed by letting the quantum state first evolve through an appropriate sequence of quantum gates, and only eventually measuring it.\n",
    "- Global phases are truly undetectable! Any quantum gate (i.e linear transformation) applied to two states differing only by a global phase will result in identical measurement outcome distributions.\n",
    "\n",
    "This distinction will become more apparent as we discuss quantum gates in the rest of this module.\n",
    "\n",
    "<font size=3 color=9A11DA>**Exercise.**</font> Give an example of a valid global phase different than $-1$. Apply the global phase to any valid qubit state, and verify that the modified state has the same measurement probabilities as the original state."
   ]
  },
  {
   "cell_type": "markdown",
   "metadata": {
    "toc-hr-collapsed": false
   },
   "source": [
    "<h1 style=\"color:#D30982;\">Single Qubit Quantum Gates</h1>\n",
    "\n",
    "Quantum mechanics postulates that states evolve in one of two ways; the first we have discussed in the previous section, and the second we will talk about in this section.\n",
    "    \n",
    "1. Via a measurement.\n",
    "2. Via a quantum gate (i.e. via a linear transformation -  we will understand what this is shortly).\n",
    "\n",
    "You can think of the first as being a more *abrupt* kind of evolution, where the quantum state is observed to extract classical information and forced to collapse to one of two states. You can think of the second as being a more gentle evolution, which the qubit state undergoes if left to evolve inside a box (for example under the influence of some electric or magnetic field). \n",
    "\n",
    "We have already discussed measurements above. In the next section we will take a look at quantum gates."
   ]
  },
  {
   "cell_type": "markdown",
   "metadata": {
    "toc-hr-collapsed": true
   },
   "source": [
    "<h2 style=\"color:#9A11DA;\">Single Qubit Gates</h2>\n",
    "\n",
    "Recall that in the case of classical computing, a single-bit logic gate was a mapping from a single bit to another single bit. We specify a single-bit gate by specifying what bit $0$ is mapped to, and what bit $1$ is mapped to, for example:\n",
    "\n",
    "$$\\begin{aligned}\n",
    "& 0 \\rightarrow 1 \\\\\n",
    "&1 \\rightarrow 0\n",
    "\\end{aligned}$$\n",
    "\n",
    "You'll recognize the latter as the NOT gate, which simply flips the input bit.\n",
    "\n",
    "Recall, moreover, that when considering single-bit gates, there was essentially only one non-trivial single bit logic gate, namely the NOT gate. Recall that the other three possible trivial single bit logic gates were: \n",
    "\n",
    "- the identity gate,\n",
    "- the gate that always maps to $0$,\n",
    "- and the gate that always maps to $1$.\n",
    "\n",
    "We have just learnt that in quantum computing the analog of a classical bit is a *qubit*, the state of which we can represent as a vector of the form:\n",
    "\n",
    "$$ \\left|\\psi\\right\\rangle = \\begin{bmatrix}\n",
    "\\alpha\\\\\n",
    "\\beta\\\\\n",
    "\\end{bmatrix} = \\alpha \\left| 0\\right\\rangle + \\beta \\left| 1\\right\\rangle \\,,$$\n",
    "\n",
    "where $\\alpha$ and $\\beta$ obey the constraint that $|\\alpha|^2+|\\beta|^2=1$ (i.e. the vector has norm $1$). \n",
    "\n",
    "Naturally, the quantum computing analog of a single-bit logic gate is a *single-qubit gate*. The latter is a mapping from states of a single qubit to states of a single qubit. To specify a single-qubit gate, we must specify what state $\\left| 0\\right\\rangle$ maps to, and what state $\\left| 1\\right\\rangle$ maps to. For example, the quantum analogue of the NOT gate, is known as the quantum NOT gate, or also as the $X$ gate. It acts as follows on the standard basis:\n",
    "\n",
    "$$\\begin{aligned}\n",
    "& \\left| 0\\right\\rangle \\rightarrow \\left| 1\\right\\rangle \\\\\n",
    "& \\left| 1\\right\\rangle \\rightarrow \\left| 0\\right\\rangle \\,.\n",
    "\\end{aligned}$$\n",
    "\n",
    "> You will ask: how does the quantum NOT gate, or $X$ gate, act on a general qubit state $\\left| \\psi \\right\\rangle= \\alpha  \\left| 0\\right\\rangle + \\beta  \\left| 1\\right\\rangle$? \n",
    "\n",
    "It acts by <font size=3 color=9A11DA>linearity</font>. What this means, in words, is that you can think of $X$ as acting separately on each \"branch\" of the superposition - the $\\left| 0\\right\\rangle$ branch and the $\\left| 1\\right\\rangle$ branch - and each branch mantains its amplitude, i.e. $\\alpha$ and $\\beta$ respectively in this case. This is more easily explained by using math rather than words! $X$ acts as follows:\n",
    "\n",
    "$$ X \\left| \\psi \\right\\rangle = X (\\alpha \\left| 0\\right\\rangle + \\beta  \\left| 1\\right\\rangle) = \\alpha X \\left| 0\\right\\rangle + \\beta X \\left| 1\\right\\rangle = \\alpha \\left| 1\\right\\rangle + \\beta \\left| 0\\right\\rangle \\,,$$\n",
    "\n",
    "where the last step uses the fact that, by definition $X \\left| 0\\right\\rangle = \\left| 1\\right\\rangle$ and $ X \\left| 1\\right\\rangle = \\left| 0\\right\\rangle$.\n",
    "\n",
    "In technical jargon, we call $X$ a <font size=3 color=9A11DA>linear transformation</font>. It is a transformation of vectors into other vectors which obeys a certain linear structure.\n",
    "\n",
    "More generally, we specify a single qubit quantum gate by specifying what single qubit states the standard basis elements map to. So, a single qubit quantum gate $U$ is a mapping of the following form:\n",
    "\n",
    "$$\\begin{aligned}\n",
    "& \\left| 0\\right\\rangle \\rightarrow a_0 \\left| 0\\right\\rangle + b_0 \\left| 1\\right\\rangle \\\\\n",
    "& \\left| 1\\right\\rangle \\rightarrow a_1 \\left| 0\\right\\rangle + b_1 \\left| 1\\right\\rangle \\,,\n",
    "\\end{aligned}$$\n",
    "\n",
    "for some complex numbers $a_0,b_0, a_1, b_1$. Are there any constraints on $a_0, b_0, a_1, b_1$? \n",
    "\n",
    "- Well, certainly they should define valid qubit states. Recall that what this means is that each of the two image vectors should have magnitude $1$. Thus, $|a_0|^2 + |b_0|^2 = 1$ and $|a_1|^2 + |b_1|^2 = 1$.\n",
    "- Quantum mechanics also postulates that quantum gates should preserve orthogonality: if two vectors are orthogonal, then their images under a quantum gate are also orthogonal. So, since $\\left| 0\\right\\rangle = \\begin{bmatrix} 1 \\\\ 0 \\end{bmatrix}$ and $\\left| 1\\right\\rangle = \\begin{bmatrix} 0\\\\ 1 \\end{bmatrix}$ are orthogonal, we require that also the respective images $\\begin{bmatrix} a_0\\\\ b_0 \\end{bmatrix}$ and $\\begin{bmatrix} a_1\\\\ b_1 \\end{bmatrix}$ be orthogonal (recall that this means that the inner product $a_0 \\cdot a_1 + b_0 \\cdot b_1 = 0$).\n",
    "\n",
    "These two properties, together define what is known as a <font size=3 color=9A11DA>unitary</font> linear transformation on vectors. The name is not important to remember: what is important to remember is that all quantum gates are linear tranformations satisfy the two properties above. \n",
    "\n",
    "Even with these constraints, there are infinite possibilites for what the state of a qubit could be, and there are infinite possibilities for what the state could be after the application of a gate. Hence, the number of possible single qubit gates is actually infinite! (We will tell you shortly what a single qubit gate is precisely.)\n",
    "\n",
    "So, how does $U$ act on a general state $\\left| \\psi \\right\\rangle = \\alpha \\left| 0\\right\\rangle + \\beta \\left|1 \\right\\rangle$? As we mentioned, it acts by *linearity*:\n",
    "\n",
    "$$U \\left| \\psi \\right\\rangle = U (\\alpha \\left| 0\\right\\rangle + \\beta \\left|1 \\right\\rangle ) = \\alpha U \\left| 0\\right\\rangle + \\beta U \\left| 1\\right\\rangle\\,.$$\n",
    "\n",
    "We can further plug in our expressions for $U \\left| 0\\right\\rangle$ and $U \\left| 1\\right\\rangle$ to get:\n",
    "\n",
    "$$\\begin{aligned}\n",
    "\\alpha U \\left| 0\\right\\rangle + \\beta U \\left| 1\\right\\rangle &=  \\alpha (a_0 \\left| 0\\right\\rangle + b_0 \\left| 1\\right\\rangle) + \\beta (a_1 \\left| 0\\right\\rangle + b_1 \\left| 1\\right\\rangle) \\\\\n",
    "& = \\alpha a_0 \\left| 0\\right\\rangle + \\alpha b_0 \\left| 1\\right\\rangle + \\beta a_1 \\left| 0\\right\\rangle  + \\beta b_1 \\left| 1\\right\\rangle \\\\\n",
    "& = (\\alpha_0 a_0 + \\beta a_1) \\left| 0\\right\\rangle + (\\alpha b_0 + \\beta b_1) \\left| 1\\right\\rangle\n",
    "\\end{aligned}$$\n",
    "\n",
    "In case the last equality is not immediately true to you, think about the vector representation of qubit states where $\\left| 0\\right\\rangle = \\begin{bmatrix} 1\\\\ 0 \\end{bmatrix}$ and $\\left| 1\\right\\rangle = \\begin{bmatrix} 0\\\\ 1 \\end{bmatrix}$. The last step follows the rules of addition and scalar multiplication of vectors.\n",
    "\n",
    "\n",
    "Crucially, notice that by specifying $U \\left| 0\\right\\rangle$ and $U \\left| 1\\right\\rangle$, we are specifying entirely how $U$ acts on *any* qubit state. In other words, a linear transformation of $2$-dimensional vectors is entirely specified by how it acts on the standard basis elements $\\begin{bmatrix} 1\\\\ 0 \\end{bmatrix}$ and $\\begin{bmatrix} 0 \\\\ 1 \\end{bmatrix}$.\n",
    "\n",
    "\n",
    "> All in all, a single-qubit quantum gate is a linear transformation from states of a single qubit (i.e. 2-dimensional complex vectors) to states of a single qubit (i.e. 2-dimensional complex vectors), with the additional constraint that the transformation must be *unitary*. Because the transformation is linear, it is sufficient to specify how the transformation acts on the standard basis vectors $\\left| 0\\right\\rangle$ and $\\left| 1\\right\\rangle$.\n",
    "\n",
    "Let's look at another example.\n",
    "\n",
    "<font size=3 color=9A11DA>**Example.**</font> The Hadamard gate is one of the most famous single qubit quantum gates, and it is has no classical analogue: it is quintessentially *quantum*. It maps $\\left| 0\\right\\rangle$ to an equal superposition of $\\left| 0\\right\\rangle$ and $\\left| 1\\right\\rangle$, and it maps $\\left| 1\\right\\rangle$ also to an equal superposition of $\\left| 0\\right\\rangle$ and $\\left| 1\\right\\rangle$, but with a different relative phase.\n",
    "\n",
    "$$\\begin{aligned}\n",
    "& \\left| 0\\right\\rangle \\rightarrow \\frac{1}{\\sqrt{2}} \\left| 0\\right\\rangle + \\frac{1}{\\sqrt{2}} \\left| 1\\right\\rangle \\\\\n",
    "& \\left| 1\\right\\rangle \\rightarrow \\frac{1}{\\sqrt{2}} \\left| 0\\right\\rangle - \\frac{1}{\\sqrt{2}} \\left| 1\\right\\rangle \\,.\n",
    "\\end{aligned}$$\n",
    "\n",
    "First, notice that \n",
    "- Each of the outputs $H \\left|0 \\right\\rangle = \\frac{1}{\\sqrt{2}} \\left| 0\\right\\rangle + \\frac{1}{\\sqrt{2}} \\left| 1\\right\\rangle = \\begin{bmatrix} \\frac{1}{\\sqrt{2}}\\frac{1}{\\sqrt{2}} \\end{bmatrix}$ and $H \\left| 1 \\right\\rangle = \\frac{1}{\\sqrt{2}} \\left| 0\\right\\rangle - \\frac{1}{\\sqrt{2}} \\left| 1\\right\\rangle = \\begin{bmatrix} \\frac{1}{\\sqrt{2}} -\\frac{1}{\\sqrt{2}} \\end{bmatrix}$ has magnitude $1$.\n",
    "- Moreover, notice that $H \\left| 0\\right\\rangle = \\begin{bmatrix} \\frac{1}{\\sqrt{2}} \\frac{1}{\\sqrt{2}} \\end{bmatrix}$ and $H \\left| 1\\right\\rangle = \\begin{bmatrix} \\frac{1}{\\sqrt{2}} -\\frac{1}{\\sqrt{2}} \\end{bmatrix}$ are orthogonal. \n",
    "\n",
    "So the $H$ gate is a valid unitary transformation on the 2-dimensional space of complex vectors.\n",
    "\n",
    "How does the $H$ gate act on a general qubit state $\\left| \\psi \\right\\rangle= \\alpha  \\left| 0\\right\\rangle + \\beta  \\left| 1\\right\\rangle$? It acts by linearity, so\n",
    "\n",
    "$$\\begin{aligned} \n",
    "H \\left| \\psi \\right\\rangle = H (\\alpha \\left| 0\\right\\rangle + \\beta  \\left| 1\\right\\rangle) &= \\alpha H \\left| 0\\right\\rangle + \\beta H \\left| 1\\right\\rangle \\\\\n",
    "&= \\alpha \\left(\\frac{1}{\\sqrt{2}} \\left| 0\\right\\rangle + \\frac{1}{\\sqrt{2}} \\left| 1\\right\\rangle \\right)  + \\beta \\left(\\frac{1}{\\sqrt{2}} \\left| 0\\right\\rangle - \\frac{1}{\\sqrt{2}} \\left| 1\\right\\rangle \\right) \\\\\n",
    "&= \\left( \\frac{\\alpha}{\\sqrt{2}} + \\frac{\\beta}{\\sqrt{2}} \\right)  \\left| 0\\right\\rangle + \\left( \\frac{\\alpha}{\\sqrt{2}} - \\frac{\\beta}{\\sqrt{2}} \\right)  \\left| 1\\right\\rangle\\,.\n",
    "\\end{aligned}$$\n",
    "\n",
    "If you are not convinced about the last calculation, let's look at it using vector notation:\n",
    "\n",
    "$$ \\alpha H \\left| 0\\right\\rangle + \\beta H \\left| 1\\right\\rangle = \\alpha \\begin{bmatrix}\n",
    "\\frac{1}{\\sqrt{2}}\\\\\n",
    "\\frac{1}{\\sqrt{2}}\\\\\n",
    "\\end{bmatrix} + \\beta \\begin{bmatrix}\n",
    "\\frac{1}{\\sqrt{2}}\\\\\n",
    "-\\frac{1}{\\sqrt{2}}\\\\\n",
    "\\end{bmatrix} =  \\begin{bmatrix}\n",
    "\\frac{\\alpha}{\\sqrt{2}}\\\\\n",
    "\\frac{\\alpha}{\\sqrt{2}}\\\\\n",
    "\\end{bmatrix} + \\begin{bmatrix}\n",
    "\\frac{\\beta}{\\sqrt{2}}\\\\\n",
    "-\\frac{\\beta}{\\sqrt{2}}\\\\\n",
    "\\end{bmatrix} = \\begin{bmatrix}\n",
    "\\frac{\\alpha}{\\sqrt{2}} + \\frac{\\beta}{\\sqrt{2}}\\\\\n",
    "\\frac{\\alpha}{\\sqrt{2}} -  \\frac{\\beta}{\\sqrt{2}}\\\\\n",
    "\\end{bmatrix} \\,,$$\n",
    "\n",
    "where the latter is equivalent to what we obtained earlier.\n",
    "\n",
    "<font size=3 color=9A11DA>**Exercise.**</font> Consider the quantum gate, known as the $Z$ gate, which acts as follows:\n",
    "\n",
    "$$\\begin{aligned}\n",
    "& \\left| 0\\right\\rangle \\rightarrow \\left| 0\\right\\rangle  \\\\\n",
    "& \\left| 1\\right\\rangle \\rightarrow -\\left| 1\\right\\rangle \\,.\n",
    "\\end{aligned}$$\n",
    "\n",
    "In other words, it does nothing to $\\left| 0\\right\\rangle$, and it applies a phase of $-1$ to $\\left| 1\\right\\rangle$. Consider the state $\\left| \\psi \\right\\rangle= \\alpha  \\left| 0\\right\\rangle + \\beta  \\left| 1\\right\\rangle$ for some complex numbers $\\alpha,\\beta$. Compute the state $Z \\left| \\psi \\right\\rangle$.\n",
    "\n",
    "<font size=3 color=9A11DA>**Exercise.**</font> Consider the quantum gate, known as the $Y$ gate, which acts as follows:\n",
    "\n",
    "$$\\begin{aligned}\n",
    "& \\left| 0\\right\\rangle \\rightarrow i \\left| 1\\right\\rangle  \\\\\n",
    "& \\left| 1\\right\\rangle \\rightarrow -i\\left| 0\\right\\rangle \\,.\n",
    "\\end{aligned}$$\n",
    "\n",
    "Compute $Y \\left(\\frac{1}{\\sqrt{3}} \\left| 0\\right\\rangle + \\frac{2}{\\sqrt{3}} \\left| 1\\right\\rangle \\right) \\,.$"
   ]
  },
  {
   "cell_type": "markdown",
   "metadata": {
    "toc-hr-collapsed": true
   },
   "source": [
    "<h1 style=\"color:#D30982;\">Recap of the Most Popular Single Qubit Quantum Gates</h1>\n",
    "\n",
    "The following table contains some common single-qubit gates, and information about how they act on the standard basis states as well as on a general state. Recall that a linear transformation, and hence a quantum gate, is fixed entirely by specifying how it acts on the standard basis.\n",
    "\n",
    "<table style=\"width:100%\">\n",
    "    <colgroup>\n",
    "        <col span=\"1\" style=\"width: 17%; text-align:center;\">\n",
    "        <col span=\"1\" style=\"width: 30%;\">\n",
    "        <col span=\"1\" style=\"width: 53%;\">\n",
    "    </colgroup>\n",
    "    <tbody>\n",
    "        <tr>\n",
    "            <th>Gate</th>\n",
    "            <th>Mapping</th>\n",
    "            <th>Action on a general state</th>\n",
    "        </tr>\n",
    "        <tr>\n",
    "            <td style=\"text-align:center\">$$I$$</td>\n",
    "            <td>$$\\begin{array}{1} I\\left|0\\right\\rangle=\\left|0\\right\\rangle \\\\ I\\left|1\\right\\rangle=\\left|1\\right\\rangle\\end{array}$$</td>\n",
    "            <td> $$I\\big(\\alpha\\left|0\\right\\rangle+\\beta\\left|1\\right\\rangle\\big)=\\alpha\\left|0\\right\\rangle+\\beta\\left|1\\right\\rangle$$</td>\n",
    "        </tr>\n",
    "        <tr>\n",
    "            <td style=\"text-align:center\">$$X$$</td>\n",
    "            <td>$$\\begin{array}{1} X\\left|0\\right\\rangle=\\left|1\\right\\rangle \\\\ X\\left|1\\right\\rangle=\\left|0\\right\\rangle\\end{array}$$</td>\n",
    "            <td> $$X\\big(\\alpha\\left|0\\right\\rangle+\\beta\\left|1\\right\\rangle\\big)=\\alpha\\left|1\\right\\rangle+\\beta\\left|0\\right\\rangle$$</td>\n",
    "        </tr>\n",
    "        <tr>\n",
    "            <td style=\"text-align:center\">$$Z$$</td>\n",
    "            <td>$$\\begin{array}{1} Z\\left|0\\right\\rangle=\\left|0\\right\\rangle \\\\ Z\\left|1\\right\\rangle=-\\left|1\\right\\rangle\\end{array}$$</td>\n",
    "            <td> $$Z\\big(\\alpha\\left|0\\right\\rangle+\\beta\\left|1\\right\\rangle\\big)=\\alpha\\left|0\\right\\rangle-\\beta\\left|1\\right\\rangle$$</td>\n",
    "        </tr>\n",
    "        <tr>\n",
    "            <td style=\"text-align:center\">$$H$$</td>\n",
    "            <td>$$\\begin{array}{1} H\\left|0\\right\\rangle= \\frac{1}{\\sqrt{2}}\\big(\\left|0\\right\\rangle+\\left|1\\right\\rangle\\big)\n",
    "            \\\\ H\\left|1\\right\\rangle=\\frac{1}{\\sqrt{2}}\\big(\\left|0\\right\\rangle-\\left|1\\right\\rangle\\big)\\end{array}$$</td>\n",
    "            <td> $$H\\big(\\alpha\\left|0\\right\\rangle+\\beta\\left|1\\right\\rangle\\big)=\\frac{\\alpha}{\\sqrt{2}}\\big(\\left|0\\right\\rangle+\\left|1\\right\\rangle\\big)+\\frac{\\beta}{\\sqrt{2}}\\big(\\left|0\\right\\rangle-\\left|1\\right\\rangle\\big)$$</td>\n",
    "        </tr>\n",
    "        <tr>\n",
    "            <td style=\"text-align:center\">$$Y$$</td>\n",
    "            <td>$$\\begin{array}{1} Y\\left|0\\right\\rangle=i\\left|1\\right\\rangle \\\\ Y\\left|1\\right\\rangle=-i\\left|0\\right\\rangle\\end{array}$$</td>\n",
    "            <td> $$Y\\big(\\alpha\\left|0\\right\\rangle+\\beta\\left|1\\right\\rangle\\big)=i \\alpha \\left|1\\right\\rangle-i\\beta\\left|0\\right\\rangle$$</td>\n",
    "        </tr>\n",
    "    </tbody>\n",
    "</table>\n",
    "</font>"
   ]
  },
  {
   "cell_type": "markdown",
   "metadata": {},
   "source": [
    "**Identity Gate.** The identity gate maps $\\left|0\\right\\rangle$ to $\\left|0\\right\\rangle$ and $\\left|1\\right\\rangle$ to $\\left|1\\right\\rangle$, and thus leaves any state it acts on unchanged.\n",
    "    \n",
    "**X Gate.** The next simplest single qubit gate is the quantum analog of the NOT gate of classical computing, which acts by flipping the bit. The quantum version of a NOT gate if often referred to as a Pauli $X$ gate. It acts on the standard basis elements $\\left|0\\right\\rangle$ and $\\left|1\\right\\rangle$ as follows:\n",
    "    \n",
    "$$X\\left|0\\right\\rangle=\\left|1\\right\\rangle \\qquad X\\left|1\\right\\rangle=\\left|0\\right\\rangle \\,.$$\n",
    "    \n",
    "**Z Gate.** The Pauli $Z$ gate applies a factor of $-1$ to the coefficient of the standard basis element $\\left|1\\right\\rangle$ (i.e. $\\left|1\\right\\rangle$ maps to $-\\left|1\\right\\rangle$), and leaves the $\\left|0\\right\\rangle$ standard basis element unchanged. \n",
    "\n",
    "**H Gate.** The *Hadamard* gate $H$ maps each of $\\left|0 \\right\\rangle$ and $\\left|1 \\right\\rangle$ to equal superpositions of $\\left|0 \\right\\rangle$ and $\\left|1 \\right\\rangle$, with a different relative phase:\n",
    "\n",
    "$$ H\\left|0\\right\\rangle= \\frac{1}{\\sqrt{2}}\\big(\\left|0\\right\\rangle+\\left|1\\right\\rangle\\big) \\qquad H\\left|1\\right\\rangle= \\frac{1}{\\sqrt{2}}\\big(\\left|0\\right\\rangle -\\left|1\\right\\rangle\\big) \\,.$$\n",
    "\n",
    "Much of the power in quantum computing comes from creating superpositions and using them to our advantage. For this reason, the Hadamard gate will become very important in later sections. \n",
    "\n",
    "**Y Gate.** The Pauli $Y$ gate is similar to the $X$ gate. It flips the qubits $\\left|0 \\right\\rangle$ and $\\left|1 \\right\\rangle$, but also attaches phases of $i$ and $-i$ respectively."
   ]
  },
  {
   "cell_type": "markdown",
   "metadata": {},
   "source": [
    "<font size=3 color=9A11DA>**Exercise.**</font> Apply the Hadamard gate $H$ to the state $\\begin{aligned}\\left| \\psi \\right\\rangle=  \\tfrac{1}{\\sqrt{2}} \\left| 0 \\right\\rangle + \\tfrac{1}{\\sqrt{2}} \\left| 1 \\right\\rangle \\end{aligned}$. What is the resulting state?\n",
    "\n",
    "(i)  $\\,\\,\\,\\,\\,\\left| 0 \\right\\rangle$ <br>\n",
    "(ii) $\\,\\,\\,\\,\\left| 1 \\right\\rangle$ <br>\n",
    "(iii) $\\,\\,\\,\\,\\frac{1}{\\sqrt{2}} \\left| 0 \\right\\rangle + \\frac{1}{\\sqrt{2}} \\left| 1 \\right\\rangle$<br>\n",
    "(iv) $\\,\\,\\,\\,\\frac{1}{\\sqrt{2}} \\left| 0 \\right\\rangle + \\frac{1}{\\sqrt{2}} \\left| 1 \\right\\rangle$  <br>"
   ]
  },
  {
   "cell_type": "markdown",
   "metadata": {},
   "source": [
    "<font size=3 color=9A11DA>**Exercise.**</font> Applying single-qubit gates twice in a row sometimes yields some interesting results. Calculate the 2x2 matrix for the following gates: $H^2$, $X^2$, $Y^2$ and $Z^2$. What do you notice about the result?"
   ]
  },
  {
   "cell_type": "markdown",
   "metadata": {},
   "source": [
    "<h1 style=\"color:#D30982;\">Single Qubit Gates as Matrices (Optional)</h1>\n",
    "\n",
    "It is likely that, if one day you continue studying quantum computing outside of this course, you will come across lectures that describe quantum gates as *matrices*. \n",
    "\n",
    "In the same way that a $2$-dimensional complex vector is a representation of the state of a qubit, a *matrix* can be used to represent a linear transformation from $2$-dimensional complex vectors to $2$-dimensional complex vectors, i.e. a single qubit quantum gate. Following this representation, applying a linear transformation to a vector amounts to performing a multiplication of a matrix and a vector.\n",
    "\n",
    "This section explains this representation (which is however not necessary to understand the rest of this course).\n",
    "\n",
    "So, what is a matrix? \n",
    "\n",
    "A matrix is a collection of numbers arranged in $m$ rows of $n$ entries, or equivalently in $n$ columns of $m$ entries, where $m$ and $n$ are integers, as follows:\n",
    "\n",
    "<img src=\"images/matrix_detail.png\" height=\"450\" width=\"450\" style='margin-left:auto;margin-right:auto;'/>\n",
    "\n",
    "We call this an $m \\times n$ matrix. If the entries $a_{ij}$ are real numbers, then we call this an $m \\times n$ real matrix. If they are allowed to be complex numbers, we call it an $m \\times n$ complex matrix.\n",
    "\n",
    "For the case of single qubit gates, we are only concerned with $2 \\times 2$ matrices, for example:\n",
    "\n",
    "$$ \\begin{bmatrix} 1 & 0\\\\ 0 & 1\\\\ \\end{bmatrix}$$\n",
    "\n",
    "<h3 style=\"color:#9A11DA;\">Multiplying a Matrix and a Vector</h3>\n",
    "\n",
    "Matrices and vectors can be multiplied!\n",
    "\n",
    "Let's start by multiplying a $2 \\times 2$ matrix and a $2$-dimensional vector. Let's take the matrix $M = \\begin{bmatrix} 1 & 2\\\\ 3 & 4\\\\ \\end{bmatrix}$ and the $2$-dimensional vector $v = \\begin{bmatrix} 5 \\\\6 \\end{bmatrix}$.\n",
    "\n",
    "The product between these two, $M\\cdot v$, is a sequence of inner products. Consider each row of the matrix as if it were a \"row\" vector, like this:\n",
    "\n",
    "$$M = \\begin{bmatrix} 1 & 2\\\\ 3 & 4\\\\ \\end{bmatrix} =\n",
    "\\begin{bmatrix}\n",
    "    \\begin{bmatrix} 1 & 2\\\\ \\end{bmatrix} \\\\\n",
    "    \\begin{bmatrix} 3 & 4\\\\ \\end{bmatrix} \\\\\n",
    "\\end{bmatrix}$$\n",
    "\n",
    "The product of $M$ and $v$ is a *vector* whose entries are the inner products of these \"row\" vectors with the column vector $v$:\n",
    "\n",
    "$$M \\cdot v = \n",
    "\\begin{bmatrix}\n",
    "    \\begin{bmatrix} 1 & 2\\\\ \\end{bmatrix} \\\\\n",
    "    \\begin{bmatrix} 3 & 4\\\\ \\end{bmatrix} \\\\\n",
    "\\end{bmatrix} \\cdot \\begin{bmatrix} 5 \\\\ 6 \\\\ \\end{bmatrix} = \n",
    "\\begin{bmatrix}\n",
    "    \\Big( \\begin{bmatrix} 1 & 2\\\\ \\end{bmatrix} \\cdot \\begin{bmatrix} 5 \\\\ 6 \\\\ \\end{bmatrix}\\Big)\\\\\n",
    "    \\Big( \\begin{bmatrix} 3 & 4\\\\ \\end{bmatrix} \\cdot \\begin{bmatrix} 5 \\\\ 6 \\\\ \\end{bmatrix}\\Big) \\\\\n",
    "\\end{bmatrix} = \\begin{bmatrix}\n",
    "1 \\cdot 5 + 2 \\cdot 6 \\\\\n",
    "3 \\cdot 5 + 4 \\cdot 6 \\\\\n",
    "\\end{bmatrix} = \\begin{bmatrix}\n",
    "17 \\\\\n",
    "39 \\\\\n",
    "\\end{bmatrix} \\,.\n",
    "$$\n",
    "\n",
    "<h3 style=\"color:#9A11DA;\">A Quantum Gate as a Multiplication of a Matrix and a Vector</h3>\n",
    "\n",
    "Notice that the result of the multiplication of a $2 \\times 2$ matrix and a $2$-dimensional vector is another $2$-dimensional vector. Thus, a fruiful point of view is to interpret the multiplication of a matrix $M$ and a vector $v$ as a <font size=3 color=9A11DA>transformation</font> of the vector $v$. What is $v$ transformed into? $M \\cdot v$.\n",
    "\n",
    "Here are some examples.\n",
    "\n",
    "<font size=3 color=9A11DA>**Example.**</font> The matrix $I = \\begin{bmatrix}\n",
    "1 & 0\\\\\n",
    "0 & 1\n",
    "\\end{bmatrix}$ is known as the *identity* matrix. This is because it leaves the vector it multiplies unchanged, i.e. $I v = v$ for all possible choices of the vector $v$.\n",
    "\n",
    "<font size=3 color=9A11DA>**Example.**</font> The matrix $T = \\begin{bmatrix}\n",
    "1& 0\\\\\n",
    "0& -1\n",
    "\\end{bmatrix}$ acts so that $T \\cdot v$ is the *reflection* of $v$ across the $x$-axis. You can test this using the code below.\n",
    "\n",
    "**In the next code block, you can choose any x and y values for the starting vector $v$ which you will act on.** Any time you wish to update the starting vector, be sure to run this code block after you edit it!"
   ]
  },
  {
   "cell_type": "code",
   "execution_count": null,
   "metadata": {},
   "outputs": [],
   "source": [
    "import numpy as np\n",
    "import matplotlib.pyplot as plt\n",
    "from numpy import sin, cos #we need sin and cos functions from the numpy library in order to create our rotation matrix\n",
    "\n",
    "# CHOOSE YOUR STARTING VECTOR v by modifying x and y (please choose coordinates between -4 and 4, or otherwise change the axis limits below)\n",
    "x = -3  \n",
    "y = -1\n",
    "\n",
    "starting_vec = [x,y]\n",
    "print('starting vector is ['+str(x)+','+str(y)+']')"
   ]
  },
  {
   "cell_type": "code",
   "execution_count": null,
   "metadata": {},
   "outputs": [],
   "source": [
    "# the reflection matrix\n",
    "reflection_matrix = [[1, 0], [0, -1]]\n",
    "\n",
    "# computing the final vector\n",
    "final_vec = np.dot(reflection_matrix,starting_vec) #np.dot can multiply a matrix and a vector as well as two vectors\n",
    "final_x = final_vec[0]\n",
    "final_y = final_vec[1]\n",
    "print('starting vector (in blue) is ['+str(x)+','+str(y)+']')\n",
    "print('final vector (in orange) is ['+str(round(final_x))+','+str(round(final_y))+']')\n",
    "\n",
    "\n",
    "# PLOT the starting vector (in BLUE) and the final vectors (in ORANGE) on the same graph.\n",
    "fig = plt.figure()                                                           # create figure\n",
    "ax = fig.add_subplot(111, autoscale_on=False, xlim=(-4, 4), ylim=(-4, 4))    # axis limits\n",
    "ax.set_aspect('equal')                                                       # ratio of length of x and y axis.\n",
    "ax.grid()                                                                    # add a grid\n",
    "ax.set_xlabel('x-axis')                                                      # label the axes\n",
    "ax.set_ylabel('y-axis')\n",
    "ax.set_title('Vector reflection about the x-axis')                           # Setting title of figure \n",
    "line1 = ax.plot([0,x], [0,y], '-', lw=3)                                     # add the starting vector.\n",
    "line2 = ax.plot([0,final_x], [0,final_y], '-', lw=3)                         # adding the final vector\n",
    "plt.show()                              "
   ]
  },
  {
   "cell_type": "markdown",
   "metadata": {},
   "source": [
    "The reason why there is a correspondece between linear transformations and matrices is the following: transformations of vectors which can be described via a matrix satisfy the structural properties of <font size=3 color=9A11DA>linearity</font>, namely, for any $m \\times n$ matrix $A$, any $n$-dimensional vectors $v_1$, $v_2$, and any complex number $c$:\n",
    "\n",
    "**1.** $A (c \\cdot v_1) = c \\cdot (A v)$\n",
    "\n",
    "**2.** $A (v_1 + v_2) = Av_1 + A v_2$\n",
    "\n",
    "(Check for yourself that such properties hold!)\n",
    "\n",
    "These are the same properties that define linear transformations! So a matrix defines a linear transformation.\n",
    "\n",
    "Is the converse also true? Can any linear transformation be represented as a multiplication by a matrix? Yes.\n",
    "\n",
    "Consider a general linear transformation, such that:\n",
    "\n",
    "$$\\begin{aligned}\n",
    "&  \\begin{bmatrix} 1 \\\\ 0 \\\\ \\end{bmatrix}  \\rightarrow  \\begin{bmatrix} a_0 \\\\ b_0 \\\\ \\end{bmatrix} \\\\\n",
    "&  \\begin{bmatrix} 0 \\\\ 1\\\\ \\end{bmatrix}  \\rightarrow  \\begin{bmatrix} a_1 \\\\ b_1 \\\\ \\end{bmatrix}  \\,,\n",
    "\\end{aligned}$$\n",
    "\n",
    "Then, we claim that the matrix $ \\begin{bmatrix} a_0 & a_1 \\\\ b_0 & b_1\\\\ \\end{bmatrix}$ implements this transformation, i.e.\n",
    "\n",
    "$$  \\begin{bmatrix} a_0 & a_1 \\\\ b_0 & b_1\\\\ \\end{bmatrix} \\begin{bmatrix} 1 \\\\ 0 \\\\ \\end{bmatrix} = \\begin{bmatrix} a_0 \\\\ b_0 \\\\ \\end{bmatrix} \\text{ and } \\begin{bmatrix} a_0 & a_1 \\\\ b_0 & b_1\\\\ \\end{bmatrix} \\begin{bmatrix} 0 \\\\ 1 \\\\ \\end{bmatrix} = \\begin{bmatrix} a_1 \\\\ b_1 \\\\ \\end{bmatrix} \\,,$$\n",
    "\n",
    "as desired.\n",
    "\n",
    "<font size=3 color=9A11DA>**Exercise.**</font> Verify the last calculation.\n",
    "\n",
    "Here are the matrix representations of the quantum gates we introduced earlier.\n",
    "\n",
    "**Identity Gate.** $ I = \\begin{bmatrix}\n",
    "1 & 0\\\\\n",
    "0 & 1\\\\\n",
    "\\end{bmatrix}$. You can easily verify that $I = \\begin{bmatrix}\n",
    "1 & 0\\\\\n",
    "0 & 1\\\\\n",
    "\\end{bmatrix} \\begin{bmatrix} 1 \\\\ 0 \\\\ \\end{bmatrix} = \\begin{bmatrix} 1 \\\\ 0 \\\\ \\end{bmatrix}$ and that $I = \\begin{bmatrix}\n",
    "1 & 0\\\\\n",
    "0 & 1\\\\\n",
    "\\end{bmatrix} \\begin{bmatrix} 0 \\\\ 1 \\\\ \\end{bmatrix} = \\begin{bmatrix} 0 \\\\ 1 \\\\ \\end{bmatrix}$.\n",
    "\n",
    "**X Gate.** $X = \\begin{bmatrix}\n",
    "0 & 1\\\\\n",
    "1 & 0\\\\\n",
    "\\end{bmatrix}$. You can easily verify that $X = \\begin{bmatrix}\n",
    "0 & 1\\\\\n",
    "1 & 0\\\\\n",
    "\\end{bmatrix} \\begin{bmatrix} 1 \\\\ 0 \\\\ \\end{bmatrix} = \\begin{bmatrix} 0 \\\\ 1 \\\\ \\end{bmatrix}$ and that $X = \\begin{bmatrix}\n",
    "0 & 1\\\\\n",
    "1 & 0\\\\\n",
    "\\end{bmatrix} \\begin{bmatrix} 0 \\\\ 1 \\\\ \\end{bmatrix} = \\begin{bmatrix} 1 \\\\ 0 \\\\ \\end{bmatrix}$.\n",
    "\n",
    "**Z Gate.** $Z = \\begin{bmatrix}\n",
    "1 & 0\\\\\n",
    "0 & -1\\\\\n",
    "\\end{bmatrix}$.\n",
    "\n",
    "**H Gate.** $H = \\frac{1}{\\sqrt{2}} \\begin{bmatrix}\n",
    "1 & 1\\\\\n",
    "1 & -1\\\\\n",
    "\\end{bmatrix}$.\n",
    "\n",
    "**Y Gate.** $Y = \\begin{bmatrix}\n",
    "0 & -i\\\\\n",
    "i & 0\\\\\n",
    "\\end{bmatrix}$."
   ]
  },
  {
   "cell_type": "markdown",
   "metadata": {
    "toc-hr-collapsed": false
   },
   "source": [
    "<h1 style=\"color:#D30982;\">Fireworks, Photons, and an Illuminating Thought Experiment</h1>\n",
    "\n",
    "In this section, we describe an eye-opening thought experiment which will, at the very least, make you better understand what you have learned so far, and, in the best case scenario, will leave you completely awe-struck at quantum mechanics. You might remember this thought experiment from our introductory module, where it was posed as a puzzle with seemingly no solution. At this point, you are finally ready to understand how quantum mechanics provides one! We recall the thought experiment.\n",
    "\n",
    "Imagine a box which could be holding a firework. If the firework is present, it is designed to set off as soon as it is hit by a single photon (a particle of light). What this means is, if you shine a photon through a hole on the box to 'see' if the firework is present, it will set off. The box has two holes on two of the opposite faces, so that you can send in light from one side. If you do so, you will either see the light come out on the opposite side, in which case you conclude that the box is empty, or you will not see light coming out, in which case you conclude that the firework was present to block it. Of course, if this happens, our photon-sensitive firework will be set off.\n",
    "\n",
    "<img src=\"images/firework_in_a_box.png\" height=\"200\" width=\"450\" style='margin-left:auto;margin-right:auto;'/>\n",
    "\n",
    "The question is: is there a way to find out if the firework is present or not, without letting it go off? No tricks, no weighing, touching, or interacting with the box in any way but with light and the two holes. \n",
    "\n",
    "It seems pretty clear that it is impossible to succeed at this task: the only way to know if the firework is present or not is to shine a photon at it, but once you do, it explodes!\n",
    "\n",
    "Well... hold that thought: quantum physics says that there is, in fact, a way to succeed! The solution is given by the following circuit:\n",
    "\n",
    "<img src=\"images/evb_image_2.png\" height=\"350\" width=\"400\" style='margin-left:auto;margin-right:auto;'/>\n",
    "\n",
    "Let's understand the components of this circuit.\n",
    "- There are two mirrors. A mirror simply reflects any photon that hits it. \n",
    "- There are two *beam* splitters*. A *beam splitter* either lets a photon through or reflects it. These two options happen with equal probabilities. \n",
    "- There are two detectors, labelled A and B. These simply record any photon that hits them.\n",
    "- A source (in purple), which emits photons.\n",
    "\n",
    "Finally, we have placed the box (which may or may not contain a firework) on the lower path.\n",
    "\n"
   ]
  },
  {
   "cell_type": "markdown",
   "metadata": {},
   "source": [
    "<h2 style=\"color:#9A11DA;\">Case 1: No Firework in the Box</h2>\n",
    "\n",
    "**What we expect classically.** Before we do anything with a firework, let's first understand how the circuit works on its own. Try to think about what would happen in the following circuit when the source emits a photon. \n",
    "1. The first beam splitter causes half the photons to deflect up, while the others continue straight.</font>\n",
    "2. The second beam splitter has photons incoming from two directions:\n",
    "  - Photons coming from the up-then-right path: half of these (25% of the total number of photons) will deflect up to detector A, and the other half will continue to detector B.\n",
    "  - Photons coming from the right-then-up path: half of these (25% of the total) will deflect right to detector B, and the other half will continue straight to detector A.\n",
    "3. You conclude that 50% of photons will end up at detector A, and 50% at detector B.\n",
    "A schematic of this idea is shown here.\n",
    "\n",
    "<img src=\"images/evb_1.gif\" height=\"350\" width=\"400\" style='margin-left:auto;margin-right:auto;' />\n",
    "\n",
    "Such a circuit doesn't seem to help us in solving the firework puzzle: if we were to place the box on the lower path, one of two things would happen:\n",
    "\n",
    "- Either we detect the photon at A or B (i.e. the box did not explode), in which case there is no way to know for sure whether there was a firework and the photon avoided the box, or if there was no firework at all.\n",
    "- Or the box explodes, in which case we know for sure that there was a firework, but it's too late..\n",
    "\n",
    "However, it turns out that the predictions we just made are false, and do **not** correctly describe what happens when we implement such a circuit!\n",
    "\n",
    "Stunningly, what you actually observe if you carry out the experiment is that the photon hits detector A with 100% probability! "
   ]
  },
  {
   "cell_type": "markdown",
   "metadata": {},
   "source": [
    "**A Quantum perspective**. How could this be? The reason is that the photon is a *quantum* object, and the beam splitter is actually a *quantum* gate. It changes the state of the photon, which is initially, say, $\\left| 0 \\right \\rangle$, into an equal superposition of $\\left| 0 \\right \\rangle$ and $\\left| 1 \\right \\rangle$, i.e. into the state $\\frac{\\left| 0 \\right \\rangle + \\left| 1 \\right \\rangle}{\\sqrt{2}}$. More precisely the beam splitter applies the Hadamard gate $H$, which you have encountered in the examples above, and which acts as follows:\n",
    "\n",
    "$$ \\left| 0 \\right \\rangle \\mapsto \\frac{\\left| 0 \\right \\rangle + \\left| 1 \\right \\rangle}{\\sqrt{2}} \\left|1\\right\\rangle\\rightarrow \\frac{\\left| 0\\right \\rangle - \\left| 1 \\right \\rangle}{\\sqrt{2}}$$\n",
    "\n",
    "i.e. it creates an equal superposition of 0 and 1, with a different relative phase depending on whether the input is 0 or 1. Each path that results from the beam splitter is a different part of the superposition. To distinguish them, we will decide that $\\left| 0 \\right \\rangle$ corresponds to the upper path, and $\\left| 1 \\right \\rangle$ to the lower path (bear with us if you are wondering why this modeling is justified).\n",
    "\n",
    "Now that we have a more precise defintion of how a beam splitter works, let's go through the experiment again:\n",
    "1. The state of the photon starts in the state $\\left|0\\right>$.\n",
    "2. The first beam splitter transforms the state of the photon by applying the Hadamard ($H$) gate, resulting in the state \n",
    "\n",
    "$$ H\\left| 0 \\right \\rangle =  \\frac{\\left| 0 \\right \\rangle + \\left| 1 \\right \\rangle}{\\sqrt{2}}$$\n",
    "\n",
    "3. The second beam splitter applies the $H$ gate again, and the state becomes (using linearity of quantum gates)\n",
    "\n",
    "$$\\begin{aligned}\n",
    "H \\frac{\\left| 0 \\right \\rangle + \\left| 1 \\right \\rangle}{\\sqrt{2}} &= \\frac{1}{\\sqrt{2}} H \\left| 0 \\right \\rangle+  \\frac{1}{\\sqrt{2}} H \\left| 1 \\right \\rangle \\\\\n",
    "&= \\frac{1}{\\sqrt{2}} \\left(\\frac{\\left| 0 \\right \\rangle + \\left| 1 \\right \\rangle}{\\sqrt{2}}\\right) + \\frac{1}{\\sqrt{2}} \\left(\\frac{\\left| 0 \\right \\rangle - \\left| 1 \\right \\rangle}{\\sqrt{2}}\\right) \\\\\n",
    "&= \\frac12 \\left| 0 \\right \\rangle + \\frac12 \\left| 1 \\right \\rangle + \\frac12 \\left| 0 \\right \\rangle - \\frac12 \\left| 1 \\right \\rangle \\\\ \n",
    "&=\\left| 0 \\right \\rangle \\,,\n",
    "\\end{aligned}$$\n",
    "\n",
    "where in the calculation above we used the linearity of quantum gates. What this means is that when the photon hits the second beam splitter it will always be *reflected*, and thus it will hit detector A. As you can see from the last calculation, the amplitudes corresponding to $\\left| 0 \\right \\rangle$ terms have interfered *constructively*, while the amplitudes corresponding to $\\left| 1 \\right \\rangle$ terms have interfered *destructively*. You could interpret this as the photon having \"interfered with itself\" (a similar effect explains the interference patterns that we saw in the double-slit experiment Module 1. Now you have a better understanding of that phenomenon too!). So what is happening to the photon as it goes through the circuit looks something more like this:\n",
    "\n",
    "<img src=\"images/evb_2.gif\" height=\"350\" width=\"400\" style='margin-left:auto;margin-right:auto;'/>\n",
    "\n",
    "Some of you may be wondering: \n",
    "\n",
    "- How do we know that the the beam splitter acts as a Hadamard gate? And what about our choice of associating a certain path with $\\left| 0\\right \\rangle$ and another with $\\left| 1\\right \\rangle$?\n",
    "\n",
    "We don't know a priori that the beam splitter acts as a Hadamard gate. That's why we first started by predicting what we would see based on a classical modelling of the beam splitter (i.e. reflects the photon half of the time, and lets it through half of the time). However, if you are to actually perform this experiment in the lab, you will find that the prediction derived from such a classical modelling do not match the observations! You will find instead, that the photon always lands at detector A. Thus, one needs to come up with an alternative explanation for how the beam splitter acts on the photon. Quantum mechanics happens to provide an explanation and predictions that agree with the observations.\n",
    "\n",
    "- Why did we associate the photon taking one path with $\\left| 0\\right\\rangle$ and another path with $\\left| 1 \\right\\rangle$?\n",
    "\n",
    "First, we want to emphasize that we use a qubit, and the standard basis states $\\left| 0\\right \\rangle$ and $\\left| 1\\right \\rangle$, to model *abstractly* any quantum system with two possible classical states, or \"degrees of freedom\". Such degrees of freedom could correspond for example to \"being reflected\" vs \"passing through\", or, in other contexts, for example to a state of lower energy vs higher energy, or to an electron with spin up vs spin down. The $\\left| 0\\right \\rangle$ and $\\left| 1\\right \\rangle$ standard basis states are in general just placeholders for some physical states of a quantum system.\n",
    "\n",
    "Having understood the above, still, how do we know to associate a specific path, say \"being reflected\", specifically with $\\left| 0\\right \\rangle$, and, say, \"passing through\" specifically with $\\left| 1\\right \\rangle$? The answer to this question is related to the previous answer of why we assumed that the beam splitter acts as a Hadamard gate. Ultimately, this the modeling assumption that implies the correct predictions.\n",
    "\n",
    "Armed with this analysis, we can easily understand what happens if we place an empty box in the lower path of the circuit, as shown in the figure below. Since the empty box lets photons pass through unaffected, this circuit leads to an identical outcome as the circuit above; the photon will hit detector A with probability 1, just as if the box were not there.\n",
    "\n",
    "<img src=\"images/evb_3.gif\" height=\"350\" width=\"400\" style='margin-left:auto;margin-right:auto;'/>"
   ]
  },
  {
   "cell_type": "markdown",
   "metadata": {},
   "source": [
    "<h2 style=\"color:#9A11DA;\">Case 2: Firework is Present in the Box</h2>\n",
    "\n",
    "What about when the box contains the firework? What is the outcome of the above circuit? This is where the magic happens. The firework acts as a measurement device (it will either set off or not depending on whether the photon has taken the lower or upper path). Thus the firework *forces* the photon to decide, i.e. it measures the photon! Formally, recall that after the first beam splitter the state of the photon is \n",
    "\n",
    "$$\\frac{\\left| 0 \\right \\rangle + \\left| 1 \\right \\rangle}{\\sqrt{2}}$$\n",
    "\n",
    "Placing a firework in the box corresponds to making a standard basis *measurement*, i.e. a measurement that asks \"is the state of the photon $\\left| 0 \\right \\rangle$ or $\\left| 1 \\right \\rangle$?\". Let's analyze what happens. By Born's rule, with probability $\\frac12$ the outcome of the measurement will be $1$, i.e. the photon has taken the lower path and the firework sets off. In this case, no photon will be detected at either detector. \n",
    "\n",
    "<img src=\"images/evb_4.gif\" height=\"350\" width=\"400\" style='margin-left:auto;margin-right:auto;'/>\n",
    "\n",
    "With probability $\\frac12$ the outcome will be $0$, i.e. the photon has taken the upper path and the firework does not set off. In this case, the photon, in the state $\\left| 0 \\right \\rangle$ will hit the second beam splitter, after which it will again be in an equal superposition of $\\left| 0 \\right \\rangle$ (reflected by the beam splitter and going towards detector A) and $\\left| 1 \\right \\rangle$ (going through the beam splitter and towards detector B). What this means is that when we finally check whether the photon has hit detector A or B (i.e. we measure!), by Born's rule the photon will hit detector A with probability $\\frac12$ and detector B with probability $\\frac12$!\n",
    "\n",
    "<img src=\"images/evb_5.gif\" height=\"350\" width=\"400\" style='margin-left:auto;margin-right:auto;'/>\n",
    "\n",
    "To recap, in the case that box is empty, the photon always hits detector A (we saw this in case 1). On the other hand, when the box contains the firework:\n",
    "- 50% of the times no photon hits the detectors (i.e the firework has set off)\n",
    "- 25% of the times the photon hits detector A.\n",
    "- 25% of the times the photon hits detector B.\n",
    "\n",
    "The really crucial point is that in case 3, when the photon hits detector B, we are certain that the box contains the firework, but we learned this **without** setting it off! All in all, we have shown you a way to identify if there is a firework in the box without making it set off, which succeeds at least some significant fraction of the time."
   ]
  },
  {
   "cell_type": "code",
   "execution_count": null,
   "metadata": {},
   "outputs": [],
   "source": [
    "# %run python_functions/bokeh-firework.py"
   ]
  },
  {
   "cell_type": "markdown",
   "metadata": {},
   "source": [
    "<h2 style=\"color:#9A11DA;\">Axioms of Quantum Mechanics Revisited</h2>\n",
    "\n",
    "Now that we have discussed qubits, the essential building blocks of quantum computing, let's revisit their properties according to the fundamental axioms of quantum mechanics described in Module 1.\n",
    "\n",
    "1. A quantum state is a vector with complex entries. The quantum state of a qubit is a 2-dimensional vector represented as $\\begin{bmatrix} \\alpha \\\\\\beta \\end{bmatrix},$\n",
    "or equivalently as $\\alpha \\left|0 \\right> + \\beta \\left|1 \\right>$, where $\\left| 0 \\right> = \\begin{bmatrix} 1 \\\\0 \\end{bmatrix}$ and $\\left| 1 \\right> = \\begin{bmatrix} 0 \\\\1 \\end{bmatrix}$.\n",
    "\n",
    "2. A quantum state evolves in one of two ways: via a <b>measurement</b>, in which case the probabilities of the measurement outcomes obey *Born's rule*; via a unitary <b>linear transformation</b> (i.e. multiplication by a unitary matrix). \n",
    "\n",
    "3. Born's rule. When we measure a quantum state $\\alpha \\left|0 \\right> + \\beta \\left|1 \\right>$, we obtain an outcome '0',  upon which the state collapses to $\\left|0 \\right>$, or an outcome '1', upon which the state collapses to $\\left|1 \\right>$. The probabilities of these two outcomes are respectively $|\\alpha|^2$ and $|\\beta|^2$.\n"
   ]
  },
  {
   "cell_type": "markdown",
   "metadata": {},
   "source": [
    "<h1 style=\"color:#D30982;\">Review</h1>\n",
    "\n",
    "- The general state of a qubit is $\\begin{equation}\\left| \\psi \\right\\rangle=\\alpha \\left| 0 \\right\\rangle+\\beta \\left| 1 \\right\\rangle \\end{equation}$, where $\\alpha$ and $\\beta$ are complex numbers satisfying $|\\alpha|^2 + |\\beta|^2 = 1$.\n",
    "- A qubit state evolves either via a measurement or via a quantum gate.\n",
    "- Measurements obey Born's rule (see the paragraph above).\n",
    "- A single-qubit gate is specified by a unitary linear transformation. \n",
    "- One physical example of quantum circuit is given by a photon passing through beam-splitters and hitting a series of detectors. Different paths through the circuit correspond to different branches in superposition. By exploiting interference between different branches, we are able to solve a puzzle posed at the very beginning of the course."
   ]
  },
  {
   "cell_type": "markdown",
   "metadata": {},
   "source": [
    "<h1 style=\"color:#D30982;\">Problems</h1>\n",
    "\n",
    "<font size=3 color=9A11DA>**Problem 1.**</font> Certain light crystals behave in such a way as to \"slow down\" light as it travels through them. The effect of such crystals is to add a phase to the light that passes through. For example, the crystal might act as follows:\n",
    "\n",
    "$$\\begin{aligned}\n",
    "\\left| 0 \\right> &\\rightarrow \\left| 0 \\right> \\\\\n",
    "\\left| 1 \\right> &\\rightarrow \\left(\\cos\\phi+i\\sin\\phi\\right)\\left| 1\\right>\n",
    "\\end{aligned}$$\n",
    "\n",
    "How could we use such a crystal to implement the $Z$ gate on our element above? What phase angle $\\phi$ should the crystal have?"
   ]
  },
  {
   "cell_type": "markdown",
   "metadata": {},
   "source": [
    "<font size=3 color=9A11DA>**Problem 2.**</font> Beam splitters come in many types. In the firework example above, we used 50/50 beam splitters. What happens if we use other beamsplitters, such as 60/40 or 70/30? Consider the following generalization of the Hadamard gate, acting on the standard basis as follows:\n",
    "\n",
    "$$ \\begin{aligned} \\left|0 \\right\\rangle &\\rightarrow \\alpha \\left| 0\\right\\rangle + \\beta \\left| 1\\right\\rangle \\\\ \\left|1 \\right\\rangle &\\rightarrow \\alpha \\left| 0\\right\\rangle - \\beta \\left| 1\\right\\rangle \\end{aligned}$$\n",
    "\n",
    "where $\\alpha$ and $\\beta$ obey the usual normalization rule $|\\alpha|^2+|\\beta|^2=1$ (notice that setting $\\alpha = \\beta = \\frac{1}{\\sqrt{2}}$ gives the regular Hadamard gate). This has the following effect:\n",
    "\n",
    "$$ \\begin{aligned}\\left| 0 \\right \\rangle &\\rightarrow \\alpha \\left| 0 \\right \\rangle + \\beta \\left| 1 \\right \\rangle \\\\ \\left|1\\right\\rangle &\\rightarrow \\beta \\left| 0 \\right \\rangle - \\alpha \\left| 1 \\right \\rangle \\end{aligned}.$$\n",
    "\n",
    "First, consider the case with no firework. Suppose we replaced the first beam-splitter with a 60/40 beamsplitter. This means that 60% of the time the photon will be deflected. \n",
    "1. What is the state of the qubit after the first beamsplitter?\n",
    "2. The second beamsplitter is still a 50/50 beamsplitter. Recalling that this beamsplitter behaves as a Hadamard gate, how does it affect each of these components separately?\n",
    "3. Given your answer to part 2, what is the probability of detecting the photon on detector A and detector B?"
   ]
  },
  {
   "cell_type": "code",
   "execution_count": null,
   "metadata": {},
   "outputs": [],
   "source": [
    "# %run python_functions/bokeh-firework_problem.py"
   ]
  },
  {
   "cell_type": "markdown",
   "metadata": {
    "ignoreQbook": true
   },
   "source": [
    "<hr>\n",
    "<div style='display:flex;'>\n",
    "    <div style='width:25%;text-align:right;'> <h4 style='color:#9A11DA'>Previous Module:</h4></div>\n",
    "    <div style='width:25%;text-align:left;'> <h4 ><a href='./04_Background_math_linear_algebra.ipynb' style='color:#9A11DA;text-decoration:underline;opacity:0.6;'>4. Background Math: Linear Algebra</a></h4></div>\n",
    "    <div style='width:25%;text-align:right;'> <h4 style='color:#9A11DA'>Next Module:</h4></div>\n",
    "    <div style='width:25%;text-align:left;'> <h4 ><a href='./06_Writing_quantum_programs.ipynb' style='color:#9A11DA;text-decoration:underline;opacity:0.6;'>6. Writing Quantum Programs</a></h4></div>\n",
    "</div>\n",
    "<!-- <hr style='border-color:grey;'> -->"
   ]
  }
 ],
 "metadata": {
  "kernelspec": {
   "display_name": "Python 3 [Braket]",
   "language": "python",
   "name": "python3_aws_braket_kwx6dl"
  },
  "language_info": {
   "codemirror_mode": {
    "name": "ipython",
    "version": 3
   },
   "file_extension": ".py",
   "mimetype": "text/x-python",
   "name": "python",
   "nbconvert_exporter": "python",
   "pygments_lexer": "ipython3",
   "version": "3.9.10"
  },
  "toc-autonumbering": true,
  "toc-showcode": false,
  "toc-showmarkdowntxt": false,
  "toc-showtags": true,
  "widgets": {
   "application/vnd.jupyter.widget-state+json": {
    "state": {},
    "version_major": 2,
    "version_minor": 0
   }
  }
 },
 "nbformat": 4,
 "nbformat_minor": 4
}
