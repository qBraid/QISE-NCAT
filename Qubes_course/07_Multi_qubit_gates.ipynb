{
 "cells": [
  {
   "cell_type": "markdown",
   "metadata": {
    "ignoreQbook": true
   },
   "source": [
    "<div style='display:flex;'>\n",
    "    <div style='width:25%;text-align:right;'> <h4 style='color:#9A11DA'>Previous Module:</h4></div>\n",
    "    <div style='width:25%;text-align:left;'> <h4 ><a href='./06_Writing_quantum_programs.ipynb' style='color:#9A11DA;text-decoration:underline;opacity:0.6;'>6. Writing Quantum Programs</a></h4></div>\n",
    "    <div style='width:25%;text-align:right;'> <h4 style='color:#9A11DA'>Next Module:</h4></div>\n",
    "    <div style='width:25%;text-align:left;'> <h4 ><a href='./08_Deutsch_algorithm.ipynb' style='color:#9A11DA;text-decoration:underline;opacity:0.6;'>8. Deutch's Algorithm</a></h4></div>\n",
    "</div>\n",
    "<!-- <hr style='border-color:grey;'> -->"
   ]
  },
  {
   "cell_type": "markdown",
   "metadata": {},
   "source": [
    "<h1 style=\"color:#D30982;\">Summary</h1>\n",
    "\n",
    "- States of multiple qubits\n",
    "- Two qubit gates\n",
    "- Multi-qubit gates"
   ]
  },
  {
   "cell_type": "markdown",
   "metadata": {},
   "source": [
    "<h1 style=\"color:#D30982;\">Multi Qubit States</h1>\n",
    "\n",
    "    \n",
    "Running a sequence of quantum gates on a single qubit, although instructive, does not buy us much in terms of computational power over classical resources. Just like in the classical case, where computations routinely manipulate multiple bits, complex *quantum* computations require multiple qubits. In this section, you will understand how to formalize the quantum state of multiple qubits, and quantum gates acting on more than one qubit at the time. You will also get to run your first quantum circuit involving multiple qubits!<!-- 189828721106 -->"
   ]
  },
  {
   "cell_type": "markdown",
   "metadata": {},
   "source": [
    "<h2 style=\"color:#9A11DA;\">Two Qubit States</h2>\n",
    "\n",
    "    \n",
    "We will start by discussing two qubit states.\n",
    "    \n",
    "\n",
    "In the case of a single qubit, the two standard basis elements were $\\left|0 \\right\\rangle$ and $\\left|1\\right\\rangle$, corresponding respectively to the two possible values of a single bit. In the case of two qubits, we have four standard basis elements $\\left|00\\right\\rangle$, $\\left|01\\right\\rangle$, $\\left|10\\right\\rangle$, $\\left|11\\right\\rangle$: these correspond respectively to the *four* possible values of a string of two bits. Just like in the case of a single qubit, the general state of two qubits is a superposition (i.e. a linear combination) over all possible standard basis elements:\n",
    "    \n",
    "$$ \\left|\\psi\\right\\rangle=a_{00}\\left|00\\right\\rangle+a_{01}\\left|01\\right\\rangle+a_{10}\\left|10\\right\\rangle+a_{11}\\left|11\\right\\rangle \\tag{1}$$\n",
    "    \n",
    "where, $a_{00}$, $a_{01}$, $a_{10}$, $a_{11}$ are complex numbers. In other words, the state of two qubits is a $4$-dimensional vector with complex entries (i.e. $\\mathbb{C}^4$).\n",
    "    \n",
    "Just like in the single qubit case, the only additional requirement is that the vector has norm $1$, i.e. $|a_{00}|^2+|a_{10}|^2+|a_{01}|^2+|a_{11}|^2=1$ (we will see shortly that this requirement comes again from Born's rule). A bit more concretely, we are identifying $\\left|00\\right\\rangle$, $\\left|01\\right\\rangle$, $\\left|10\\right\\rangle$, $\\left|11\\right\\rangle$ with the standard basis elements of $\\mathbb{C}^4$:\n",
    "    \n",
    "$$\\left|00\\right\\rangle =  \\begin{bmatrix}\n",
    "1\\\\\n",
    "0\\\\\n",
    "0\\\\\n",
    "0\\\\\n",
    "\\end{bmatrix}, \\,\\,\\, \\left|01\\right\\rangle =  \\begin{bmatrix}\n",
    "0\\\\\n",
    "1\\\\\n",
    "0\\\\\n",
    "0\\\\\n",
    "\\end{bmatrix}, \\,\\,\\, \\left|10\\right\\rangle =  \\begin{bmatrix}\n",
    "0\\\\\n",
    "0\\\\\n",
    "1\\\\\n",
    "0\\\\\n",
    "\\end{bmatrix}, \\,\\,\\, \\left|11\\right\\rangle =  \\begin{bmatrix}\n",
    "0\\\\\n",
    "0\\\\\n",
    "0\\\\\n",
    "1\\\\\n",
    "\\end{bmatrix}.$$"
   ]
  },
  {
   "cell_type": "markdown",
   "metadata": {},
   "source": [
    "<h3 style=\"color:#9A11DA;\">Combining Two Single Qubit States</h3>\n",
    "\n",
    "Suppose we have two qubits: the first is in the state $$\\tfrac{1}{\\sqrt{2}} \\left|0\\right\\rangle + \\tfrac{1}{\\sqrt{2}} \\left|1\\right\\rangle,$$\n",
    "    \n",
    "while the second is in the state $\\left|0\\right\\rangle$. How do we represent the joint state of the two qubits as a \"two qubit state\"? Intuitively, we would like to write: \n",
    "    \n",
    "$$ \\begin{align}\n",
    "    \\left(\\tfrac{1}{\\sqrt{2}} \\left|0\\right\\rangle + \\tfrac{1}{\\sqrt{2}} \\left|1\\right\\rangle \\right) \\left|0\\right\\rangle \\tag{2} \\end{align}\n",
    "$$\n",
    "\n",
    "However, this is not quite a well defined expression in the sense of (1), or at least not yet. \n",
    "\n",
    "The rule is that we interpret the expression in (2) as representing the state\n",
    "\n",
    "$$\\tag{3}\n",
    "    \\tfrac{1}{\\sqrt{2}} \\left|00\\right\\rangle + \\tfrac{1}{\\sqrt{2}} \\left|10\\right\\rangle \\,.$$\n",
    "    \n",
    "The way to internalize this is that the first qubit is in an equal superposition of $\\left|0\\right\\rangle$ and $\\left|1\\right\\rangle$, while the second qubit is always in the state $\\left|0\\right\\rangle$: thus, the superposition has two \"branches\" (with equal weights), the first in which the two qubits are in the state $\\left|00\\right\\rangle$, and the second in which the two qubits are in the state $\\left|10\\right\\rangle$. In the rest of the course, we will use the notations from (2) and (3) interchangeably.\n",
    "\n",
    "More generally, given a qubit in state $\\alpha_1 \\left|0 \\right\\rangle+ \\beta_1 \\left|1\\right\\rangle$ and a qubit in state $\\alpha_2 \\left|0 \\right\\rangle+ \\beta_2 \\left|1\\right\\rangle$, the two qubit state which results from combining the two qubits is:\n",
    "   \n",
    "$$ \\left( \\alpha_1 \\left|0 \\right\\rangle+ \\beta_1 \\left|1\\right\\rangle \\right) \\left( \\alpha_2 \\left|0 \\right\\rangle+ \\beta_2 \\left|1\\right\\rangle \\right),$$\n",
    "    \n",
    "which we formally interpret as meaning\n",
    "    \n",
    "$$ \\alpha_1 \\cdot \\alpha_2 \\left|00 \\right\\rangle + \\alpha_1 \\cdot \\beta_2 \\left|01 \\right\\rangle + \\beta_1 \\cdot \\alpha_2 \\left|10 \\right\\rangle + \\beta_1 \\cdot \\beta_2 \\left|11 \\right\\rangle \\,$$\n",
    "\n",
    "much like following a distributive property."
   ]
  },
  {
   "cell_type": "markdown",
   "metadata": {},
   "source": [
    "<font size=3 color=9A11DA>**Exercise.**</font> You are given two qubits: the first is in the state $\\frac{1}{\\sqrt{2}}(\\left|0 \\right\\rangle - \\left|1\\right\\rangle)$, and the second is in the state $\\frac{1}{\\sqrt{2}}(\\left|0 \\right\\rangle + \\left|1\\right\\rangle)$. What is the joint state of the two qubits? $\\,\\,\\,\\,\\,\\,\\,\\,\\,$ \n",
    "\n",
    "(i) $\\,\\,\\,\\,\\,\\frac{1}{\\sqrt{2}} \\left|00 \\right\\rangle +  \\frac{1}{\\sqrt{2}} \\left|01 \\right\\rangle + \\frac{1}{\\sqrt{2}} \\left|10 \\right\\rangle -  \\frac{1}{\\sqrt{2}} \\left|11 \\right\\rangle$<br>\n",
    "(ii) $\\,\\,\\,\\,\\,\\frac{1}{2} \\left|00 \\right\\rangle +  \\frac{1}{2} \\left|01 \\right\\rangle - \\frac{1}{2} \\left|10 \\right\\rangle -  \\frac{1}{2} \\left|11 \\right\\rangle$<br>\n",
    "(iii) $\\,\\,\\,\\,\\,\\frac{1}{\\sqrt{2}} \\left|00 \\right\\rangle +  \\frac{1}{\\sqrt{2}} \\left|01 \\right\\rangle - \\frac{1}{\\sqrt{2}} \\left|10 \\right\\rangle +  \\frac{1}{\\sqrt{2}} \\left|11 \\right\\rangle$<br>\n",
    "(iv) $\\,\\,\\,\\,\\,-\\frac{1}{2} \\left|00 \\right\\rangle -  \\frac{1}{2} \\left|01 \\right\\rangle + \\frac{1}{2} \\left|10 \\right\\rangle + \\frac{1}{2} \\left|11 \\right\\rangle $<br>"
   ]
  },
  {
   "cell_type": "markdown",
   "metadata": {},
   "source": [
    "If the previous question was confusing to you, don't worry. We will explicitly talk about modifying two-qubit states later in this module."
   ]
  },
  {
   "cell_type": "markdown",
   "metadata": {},
   "source": [
    "><font size=3 color=9A11DA>Remark</font>: You might wonder whether any state of two qubits can be written in the form $\\left|\\psi_1\\right\\rangle \\left| \\psi_2 \\right\\rangle$ for some single qubit states  $\\left|\\psi_1\\right\\rangle$ and $\\left|\\psi_2\\right\\rangle$. This is a very legitimate question! In fact it turns out that the answer is no, and the consequence of this fact are extremely important for quantum computing. This is the reason why the phenomenon known as 'entanglement' exists! States that can be written in the form $\\left|\\psi_1\\right\\rangle \\left| \\psi_2 \\right\\rangle$ are known as 'product' states, while states that cannot be written in this form are referred to as being 'entangled'. In module 9, you will learn much more about entanglement, via a task known as quantum teleportation."
   ]
  },
  {
   "cell_type": "markdown",
   "metadata": {},
   "source": [
    "<font size=3 color=9A11DA>**Challenge question.**</font> Write down a two qubit state which cannot be written as the product of two single qubit states (and provide a proof of this fact)."
   ]
  },
  {
   "cell_type": "markdown",
   "metadata": {},
   "source": [
    "<h3 style=\"color:#9A11DA;\">Measurement of Two Qubit States</h3>\n",
    " \n",
    "Born's rule, which we discussed for the case of measurements of single qubit states, generalizes naturally to the case of two qubits. A measurement on a state of two qubits corresponds to asking the question:\n",
    "    \n",
    "\"Is the state of the two qubits  00, 01, 10 or 11?\". \n",
    "\n",
    "    \n",
    "Born's rule in the case of two qubit states says that the probability that the answer is '00' is $|a_{00}|^2$, that it is '01' is $|a_{01}|^2$, that it is '10' is $|a_{10}|^2$, and that it is '11' is $|a_{11}|^2$. Since probabilities add up to 1, we have the requirement that the norm of the vector be 1, i.e. $|a_{00}|^2+|a_{10}|^2+|a_{01}|^2+|a_{11}|^2=1$. As you might have guessed, the post-measurement state upon obtaining outcome xy is $\\left|xy \\right\\rangle$.\n",
    "\n",
    "<font size=3 color=9A11DA>**Example.**</font> One of the most famous two qubit states is the *Bell pair*. The Bell pair is the state\n",
    "\n",
    "$$\\begin{align}\n",
    "\\tfrac{1}{\\sqrt{2}} \\left| 00 \\right\\rangle + \\tfrac{1}{\\sqrt{2}} \\left| 11 \\right\\rangle.\n",
    "\\end{align}\n",
    "$$\n",
    "\n",
    "Let's measure it (and by doing so let's construct and run our very first quantum circuit of two qubits!)."
   ]
  },
  {
   "cell_type": "code",
   "execution_count": 2,
   "metadata": {},
   "outputs": [],
   "source": [
    "from qiskit import QuantumCircuit\n",
    "circ = QuantumCircuit(2,2) "
   ]
  },
  {
   "cell_type": "markdown",
   "metadata": {},
   "source": [
    "Notice that above the arguments are '2,2'. This specifies that the circuit will consist of 2 qubits, and that the output will consist of two classical bits. Now, we will prepare a Bell pair starting from two qubits initialized in the state $\\left| 00 \\right\\rangle$."
   ]
  },
  {
   "cell_type": "code",
   "execution_count": null,
   "metadata": {},
   "outputs": [],
   "source": [
    "circ.h(0) #add hadamard gate\n",
    "circ.cx(0,1) #add controlled-not gate\n",
    "\n",
    "circ.draw(output='mpl') #draw circuit"
   ]
  },
  {
   "cell_type": "markdown",
   "metadata": {},
   "source": [
    "The above sequence of gates prepares a Bell pair: don't worry about what the second gate means formally for now; it is a two qubit gate and you will learn about it later in this module.\n",
    "\n",
    "We will now measure the state we prepared. The process of measuring a two qubit state is very similar to the single qubit case. We use the `measure` function. The first argument of the `measure` function specifies the list of qubits we wish to measure (in the case below, the qubits indexed by 0 and 1). The second argument specifies that we store the two bits of outcome respectively in the two classical bits we prepared earlier. The reason why we reverse the order as `[1, 0]` is because by convention qiskit orders the classical bits of output in reverse relative to the qubits. We recommed that you always reverse the order of the list of classical bits."
   ]
  },
  {
   "cell_type": "code",
   "execution_count": null,
   "metadata": {},
   "outputs": [],
   "source": [
    "# Now we measure the state we just prepared.\n",
    "circ.measure([0,1],[1,0])\n",
    "\n",
    "#execute\n",
    "from qiskit import Aer, execute\n",
    "backend_sim = Aer.get_backend('qasm_simulator')\n",
    "sim = execute(circ, backend_sim, shots=1024) \n",
    "# shots=1024 indicates that we run our computation 1024 times.\n",
    "\n",
    "sim_result = sim.result()\n",
    "counts = sim_result.get_counts(circ)\n",
    "print(counts)\n",
    "\n",
    "# And now we plot the outcomes\n",
    "from qiskit.visualization import plot_histogram\n",
    "plot_histogram(counts)"
   ]
  },
  {
   "cell_type": "markdown",
   "metadata": {},
   "source": [
    "As you expected, by using Born's rule to calculate probabilities of outcomes, if we measure the Bell pair \n",
    "\n",
    "$$\\begin{align}\n",
    "\\tfrac{1}{\\sqrt{2}} \\left| 00 \\right\\rangle + \\tfrac{1}{\\sqrt{2}} \\left| 11 \\right\\rangle,\n",
    "\\end{align}\n",
    "$$\n",
    "\n",
    "we obtain outcome '00' with probability $\\frac12$ and '11' with probability $\\frac12$. You will learn in the next module, that this state is quite special."
   ]
  },
  {
   "cell_type": "markdown",
   "metadata": {},
   "source": [
    "<font size=3 color=9A11DA>**Remark.**</font> We emphasize once more that Born's rule is not something that is deduced mathematically. Rather, it is a *postulate* of quantum mechanics. Starting from a set of postulates of quantum mechanics (which include Born's rule, as well as the way we model quantum states as vectors, etc.), we formally derive predictions. We can then test these predictions against experimental observations, and either falsify our postulates or gain confidence that the theory is correct. In the case of quantum mechanics, the theoretical predictions turn out to be strikingly accurate, and this leads us to believe that the postulates are correct."
   ]
  },
  {
   "cell_type": "markdown",
   "metadata": {},
   "source": [
    "<font size=3 color=9A11DA>**Question.**</font> You might be wondering: \"Is it possible to measure just a single qubit out of a two qubit state?\" In other words, is it possible to make the measurement that asks \"is the state of the first qubit 0 or 1?\"?\n",
    "\n",
    "This is a legitimate question, and indeed the answer is very intuitive. Out of the four standard basis elements $\\left|00\\right\\rangle$, $\\left|01\\right\\rangle$, $\\left|10\\right\\rangle$, $\\left|11\\right\\rangle$, two are such that the first qubit takes the value 0, namely $\\left|00\\right\\rangle$, $\\left|01\\right\\rangle$, and two are such that the first qubit takes the value 1, namely $\\left|10\\right\\rangle$, $\\left|11\\right\\rangle$. So, indeed one can make the \"partial\" measurement that asks \"is the state of the first qubit 0 or 1?\". Taking the general state of two qubits to be \n",
    "\n",
    "$$\\begin{align}\n",
    "\\left|\\psi\\right\\rangle=a_{00}\\left|00\\right\\rangle+a_{01}\\left|01\\right\\rangle+a_{10}\\left|10\\right\\rangle+a_{11}\\left|11\\right\\rangle\n",
    "\\end{align}\\label{tq_gen_state}\\tag{1},$$\n",
    "\n",
    "the probability of obtaining measurement outcome 0, i.e. the first qubit is in state 0, is \n",
    "    \n",
    "$$|a_{00}|^2+|a_{01}|^2$$ \n",
    "\n",
    "(this is just the sum of the probabilites corresponding to 00 and 01).\n",
    "    \n",
    "And the probability of obtaining outcome 1, i.e. the first qubit is in state 1, is \n",
    "    \n",
    "$$|a_{10}|^2+|a_{11}|^2$$ \n",
    "\n",
    "(this is just the sum of the probabilites corresponding to 10 and 11).\n",
    "\n",
    "\n",
    "What about the post-measurement state? As you could expect, when the measurement outcome is 0, the state collapses to a superposition of just $\\left|00\\right\\rangle$ and $\\left|01\\right\\rangle$, in particular it collapses to the state\n",
    "    \n",
    "$$\\left|\\psi'\\right\\rangle=\\frac{a_{00}\\left|00\\right\\rangle+a_{01}\\left|01\\right\\rangle}{\\sqrt{|a_{00}|^2+|a_{01}|^2}}  \\,.$$\n",
    "\n",
    "Notice the presence of the denominator. The coefficients could not have been just $a_{00}$ and $a_{01}$, because the moduli squared of the amplitudes $a_{00}$ and $a_{01}$ do not sum to 1. It is necessary to divide by the square root of the sum of squares of the amplitudes. This procedure is called *renormalization*, and it ensures that the squares of the two amplitudes sum to $1$.\n",
    "\n",
    "To recap, upon obtaining outcome 0 (corresponding to the first qubit being in state 0) the original two-qubit state is \"projected\" onto the vectors $\\left|00\\right\\rangle$ and $\\left|01\\right\\rangle$, and then renormalized.\n",
    "    \n",
    "Similarly, when the outcome from measuring the first qubit is 1, the state collapses to\n",
    "    \n",
    "$$\\left|\\psi'\\right\\rangle=\\frac{a_{10}\\left|10\\right\\rangle+a_{11}\\left|11\\right\\rangle}{\\sqrt{|a_{10}|^2+|a_{11}|^2}}\\,.$$"
   ]
  },
  {
   "cell_type": "markdown",
   "metadata": {},
   "source": [
    "<h1 style=\"color:#D30982;\">Multi Qubit Gates</h1>"
   ]
  },
  {
   "cell_type": "markdown",
   "metadata": {},
   "source": [
    "<h2 style=\"color:#9A11DA;\">Two Qubit Gates</h2>\n",
    " \n",
    "Recall from Module 5 that the state of a single qubit evolves by applying a *single qubit* gate. A single qubit gate is specified by a $2 \\times 2$ matrix. Applying a single qubit gate corresponds to multiplying its matrix by the vector representing the state of the qubit. The outcome of the multiplication is a 2-dimensional vector, the new state of the qubit. Recall that this operation can be thought of as a *linear transformation* of the original vector. \n",
    "\n",
    "In this section, we explore two qubit gates. Since the state of two qubits is represented by a $4$-dimensional complex vector\n",
    "\n",
    "$$\\begin{align}\n",
    "\\left|\\psi\\right\\rangle=a_{00}\\left|00\\right\\rangle+a_{01}\\left|01\\right\\rangle+a_{10}\\left|10\\right\\rangle+a_{11}\\left|11\\right\\rangle\n",
    "\\end{align},$$\n",
    "\n",
    "two qubit gates are specified by $4 \\times 4$ matrices. Applying a two qubit gate amounts to multiplying the matrix by the $4$-dimensional vector representing the state. This results in a $4$-dimensional vector, the new state of the two qubits.\n",
    "\n",
    "\n",
    "Just like single qubit gates, two qubit gates should map valid two qubit states to valid two qubit states. In order to do so, they should preserve the norm of the vectors they act on. Recall that this condition is called *unitarity*. Here are some examples of two qubit gates.\n",
    "\n",
    ">Recall: A matrix is completely specified by the way it acts on the standard basis.\n",
    "\n",
    "<font size=3 color=9A11DA>**Example 1.**</font> The identity gate maps each standard basis element to itself, i.e. \n",
    "\n",
    "$$\\left|00\\right\\rangle\\rightarrow\\left|00\\right\\rangle\\left|01\\right\\rangle\\rightarrow\\left|01\\right\\rangle\\left|10\\right\\rangle\\rightarrow\\left|10\\right\\rangle\\left|11\\right\\rangle\\rightarrow\\left|11\\right\\rangle,$$\n",
    "\n",
    "and thus leaves the state of the two qubits unchanged.\n",
    "\n",
    "<font size=3 color=9A11DA>**Example 2.**</font> The Controlled-NOT (or CNOT) gate acts in the following way:\n",
    "\n",
    "$$\\left|00\\right\\rangle\\rightarrow\\left|00\\right\\rangle\\left|01\\right\\rangle\\rightarrow\\left|01\\right\\rangle\\left|10\\right\\rangle\\rightarrow\\left|11\\right\\rangle\\left|11\\right\\rangle\\rightarrow\\left|10\\right\\rangle$$\n",
    "\n",
    "As you can see, the CNOT gate \"does not affect\" the state of the first qubit: the CNOT gate flips the state of the second qubit (i.e. it applies an X gate) if the first qubit is in the state $\\left|1\\right\\rangle$ and nothing happens to the second qubit if the state of the second qubit is $\\left|0\\right\\rangle$. In other words, whether the state of the second qubit is flipped or not is \"controlled\" by the state of the first qubit. We say, more precisely, that the above is a CNOT gate with the first qubit as the *control qubit*. In a quantum circuit, we represent a CNOT gate as follows:"
   ]
  },
  {
   "cell_type": "code",
   "execution_count": null,
   "metadata": {},
   "outputs": [],
   "source": [
    "from qiskit import QuantumCircuit\n",
    "circ = QuantumCircuit(2)\n",
    "\n",
    "circ.cx(0,1) # cnot gate from the first qubit to the second.\n",
    "circ.draw(output='mpl') #draw circuit"
   ]
  },
  {
   "cell_type": "markdown",
   "metadata": {},
   "source": [
    "Notice that the argument is QuantumCircuit is '2'. This specifies that the circuit will consist of 2 qubits. We don't need classical output bits here, since we will only draw the circuit, without running it. Thus, we don't include a second argument."
   ]
  },
  {
   "cell_type": "markdown",
   "metadata": {},
   "source": [
    "<font size=3 color=9A11DA>**Example 3.**</font> Another example of a gate with a similar structure is the Controlled-Z gate, which applies a Pauli $Z$ gate on the second qubit \"controlled\" on the state of the first qubit. It acts as follows:\n",
    "\n",
    "$$\\begin{align}\\left|00\\right\\rangle \\,\\,\\, &\\rightarrow\\,\\,\\,\\,\\,\\left|00\\right\\rangle\\\\ \n",
    "\\left|01\\right\\rangle \\,\\,\\, &\\rightarrow\\,\\,\\,\\,\\,\\left|01\\right\\rangle\\\\\n",
    "\\left|10\\right\\rangle \\,\\,\\, &\\rightarrow\\,\\,\\,\\,\\,\\left|10\\right\\rangle\\\\\n",
    "\\left|11\\right\\rangle  \\,\\,\\, &\\rightarrow -\\left|11\\right\\rangle\\end{align}$$\n",
    "\n",
    "In a quantum circuit, we represent a Controlled-Z gate as follows:"
   ]
  },
  {
   "cell_type": "code",
   "execution_count": null,
   "metadata": {},
   "outputs": [],
   "source": [
    "from qiskit import QuantumCircuit\n",
    "circ = QuantumCircuit(2)\n",
    "\n",
    "# Controlled-Z gate from the first qubit to the second.\n",
    "circ.cz(0,1)\n",
    "\n",
    "circ.draw(output='mpl')"
   ]
  },
  {
   "cell_type": "markdown",
   "metadata": {},
   "source": [
    "Notice that the drawing of this gate is 'symmetric' across the two wires. This is because (you can verify this for yourself) for the Controlled-Z gate it does not matter which of the two qubits is the control and which is the target. Both choices result in the same two qubit gate."
   ]
  },
  {
   "cell_type": "markdown",
   "metadata": {},
   "source": [
    "<h3 style=\"color:#9A11DA;\">Single Qubit Gates as a Special Case of Two Qubit Gates</h3>\n",
    "\n",
    "What if we have a two qubit state, and we want to apply a single qubit gate only on the first qubit? \n",
    "\n",
    "This is certainly possible, and is just a special case of the formalism we described. \n",
    "\n",
    "Let's say you want to apply a Pauli $X$ (or NOT) gate on the first qubit, and do nothing to the second qubit (which effectively means applying the identity). As a two qubit gate, we write this as $XI$ (meaning $X$ on the first qubit, and $I$, for identity, on the second).\n",
    "\n",
    "If we draw this as a circuit, it looks like this:"
   ]
  },
  {
   "cell_type": "code",
   "execution_count": null,
   "metadata": {},
   "outputs": [],
   "source": [
    "from qiskit import QuantumCircuit\n",
    "circ = QuantumCircuit(2)\n",
    "\n",
    "# x gate on the first qubit. The argument '0' corresponds to the first qubit (recall that Python always\n",
    "# starts counting from zero)\n",
    "circ.x(0)\n",
    "\n",
    "circ.draw(output='mpl')"
   ]
  },
  {
   "cell_type": "markdown",
   "metadata": {},
   "source": [
    "As you can predict, the $XI$ gate acts as follows. It flips the state of the first qubit, and leaves the second qubit unaffected:\n",
    "\n",
    "$$\\left|00\\right\\rangle\\rightarrow\\left|10\\right\\rangle,\n",
    "\\left|01\\right\\rangle\\rightarrow\\left|11\\right\\rangle,\n",
    "\\left|10\\right\\rangle\\rightarrow\\left|00\\right\\rangle\\left|11\\right\\rangle\\rightarrow\\left|01\\right\\rangle$$\n",
    "\n",
    "We leave to you as an exercise to compute its matrix representation. As we move forward, it will always be easier to think about quantum gates in terms of how they act on the standard basis, as opposed to their matrix representation, so we will typically not compute using matrices."
   ]
  },
  {
   "cell_type": "markdown",
   "metadata": {},
   "source": [
    "What about applying a Hadamard gate on the first qubit, and doing nothing to the second? We can write this gate as $HI$. We can draw this circuit as follows:"
   ]
  },
  {
   "cell_type": "code",
   "execution_count": null,
   "metadata": {},
   "outputs": [],
   "source": [
    "from qiskit import QuantumCircuit\n",
    "circ = QuantumCircuit(2)\n",
    "\n",
    "# Hadamard gate on the first qubit.\n",
    "circ.h(0)\n",
    "\n",
    "circ.draw(output='mpl')"
   ]
  },
  {
   "cell_type": "markdown",
   "metadata": {},
   "source": [
    "Recall that the single qubit Hadamard gate $H$ acts as follows:\n",
    "\n",
    "$$\\begin{align}\\left|0\\right\\rangle &\\rightarrow \\tfrac{1}{\\sqrt{2}} \\left|0\\right\\rangle + \\tfrac{1}{\\sqrt{2}} \\left|1\\right\\rangle \\\\\n",
    "\\left|1\\right\\rangle &\\rightarrow \\tfrac{1}{\\sqrt{2}} \\left|0\\right\\rangle - \\tfrac{1}{\\sqrt{2}} \\left|1\\right\\rangle \\end{align}$$\n",
    "\n",
    "Let's write down the action of $HI$ on the standard basis elements.\n",
    "\n",
    "$$\\begin{align}\n",
    "\\left|00\\right\\rangle &\\rightarrow \\tfrac{1}{\\sqrt{2}} (\\left|0\\right\\rangle + \\left|1\\right\\rangle)  \\left|0\\right\\rangle  = \\tfrac{1}{\\sqrt{2}} \\left|00\\right\\rangle + \\tfrac{1}{\\sqrt{2}} \\left|10\\right\\rangle \\\\ \n",
    "\\left|01\\right\\rangle &\\rightarrow \\tfrac{1}{\\sqrt{2}} (\\left|0\\right\\rangle + \\left|1\\right\\rangle)  \\left|1\\right\\rangle  = \\tfrac{1}{\\sqrt{2}} \\left|01\\right\\rangle + \\tfrac{1}{\\sqrt{2}} \\left|11\\right\\rangle \\\\\n",
    "\\left|10\\right\\rangle &\\rightarrow \\tfrac{1}{\\sqrt{2}} (\\left|0\\right\\rangle - \\left|1\\right\\rangle)  \\left|0\\right\\rangle  = \\tfrac{1}{\\sqrt{2}} \\left|00\\right\\rangle - \\tfrac{1}{\\sqrt{2}} \\left|10\\right\\rangle \\\\\n",
    "\\left|01\\right\\rangle &\\rightarrow \\tfrac{1}{\\sqrt{2}} (\\left|0\\right\\rangle - \\left|1\\right\\rangle)  \\left|1\\right\\rangle  = \\tfrac{1}{\\sqrt{2}} \\left|01\\right\\rangle - \\tfrac{1}{\\sqrt{2}} \\left|11\\right\\rangle \n",
    "\\end{align}$$\n",
    "\n",
    "\n"
   ]
  },
  {
   "cell_type": "markdown",
   "metadata": {},
   "source": [
    "<h3 style=\"color:#9A11DA;\">Products of Single Qubit Gates</h3>\n",
    "\n",
    "In the previous section, we saw that single qubit gates are special cases of two qubit gates, where one acts with a single qubit gate on one of the two qubits and with the identity on the other. \n",
    "\n",
    "A very natural leap is to replace the identity with another non-trivial single qubit gate. In this way, we obtain a two qubit gate which consists of separately applying a single qubit gate, say $A$, to the first qubit, and a single qubit gate, say $B$, to the second. In keeping with the notation we introduced earlier, we will denote such a two qubit gate as $AB$.\n",
    "\n",
    "For example, take the two qubit gate $XH$, i.e. applying $X$ on the first qubit and $H$ on the second. This is represented in a quantum circuit as follows:"
   ]
  },
  {
   "cell_type": "code",
   "execution_count": null,
   "metadata": {},
   "outputs": [],
   "source": [
    "from qiskit import QuantumCircuit\n",
    "circ = QuantumCircuit(2)\n",
    "\n",
    "# X on the first qubit and Hadamard gate on the the second.\n",
    "circ.x(0)\n",
    "circ.h(1)\n",
    "\n",
    "circ.draw(output='mpl')"
   ]
  },
  {
   "cell_type": "markdown",
   "metadata": {},
   "source": [
    "The two qubit gate $XH$ acts on the standard basis elements as follows:\n",
    "\n",
    "$$\\begin{align}\n",
    "\\left|00\\right\\rangle &\\rightarrow X\\left|0\\right\\rangle H \\left|0\\right\\rangle =  \\left|1\\right\\rangle \\, \\tfrac{1}{\\sqrt{2}} (\\left|0\\right\\rangle + \\left|1\\right\\rangle) \\\\ \n",
    "\\left|01\\right\\rangle &\\rightarrow X\\left|0\\right\\rangle H \\left|1\\right\\rangle = \\left|1\\right\\rangle \\, \\tfrac{1}{\\sqrt{2}} (\\left|0\\right\\rangle - \\left|1\\right\\rangle) \\\\ \n",
    "\\left|10\\right\\rangle &\\rightarrow X\\left|1\\right\\rangle H \\left|0\\right\\rangle = \\left|0\\right\\rangle \\, \\tfrac{1}{\\sqrt{2}} (\\left|0\\right\\rangle + \\left|1\\right\\rangle) \\\\ \n",
    "\\left|11\\right\\rangle &\\rightarrow X\\left|1\\right\\rangle H \\left|1\\right\\rangle = \\left|0\\right\\rangle \\, \\tfrac{1}{\\sqrt{2}} (\\left|0\\right\\rangle - \\left|1\\right\\rangle) \\\\ \n",
    "\\end{align}$$"
   ]
  },
  {
   "cell_type": "code",
   "execution_count": 8,
   "metadata": {},
   "outputs": [
    {
     "data": {
      "application/vnd.jupyter.widget-view+json": {
       "model_id": "f66344cacbef470fa430c80a4450b331",
       "version_major": 2,
       "version_minor": 0
      },
      "text/plain": [
       "MultipleChoiceQuestion(jupyterhub_username='erik.weis@gmail.com', resource_id='product-gates-1')"
      ]
     },
     "metadata": {},
     "output_type": "display_data"
    }
   ],
   "source": [
    "from qbraid_quiz_widget import MultipleChoiceQuestion\n",
    "MultipleChoiceQuestion(\"product-gates-1\")"
   ]
  },
  {
   "cell_type": "code",
   "execution_count": 9,
   "metadata": {},
   "outputs": [
    {
     "data": {
      "application/vnd.jupyter.widget-view+json": {
       "model_id": "249d428c5594494a953715f8a223fa2a",
       "version_major": 2,
       "version_minor": 0
      },
      "text/plain": [
       "MultipleChoiceQuestion(jupyterhub_username='erik.weis@gmail.com', resource_id='product-gates-2')"
      ]
     },
     "metadata": {},
     "output_type": "display_data"
    }
   ],
   "source": [
    "from qbraid_quiz_widget import MultipleChoiceQuestion\n",
    "MultipleChoiceQuestion(\"product-gates-2\")"
   ]
  },
  {
   "cell_type": "markdown",
   "metadata": {},
   "source": [
    ">Remark: Not all two qubit gates can be written as a product of two single qubit gates. An example of a two qubit that cannot be written as a product is the CNOT gate!"
   ]
  },
  {
   "cell_type": "markdown",
   "metadata": {},
   "source": [
    "<h2 style=\"color:#9A11DA;\">Circuit to Create a Bell Pair</h2>"
   ]
  },
  {
   "cell_type": "markdown",
   "metadata": {},
   "source": [
    "We are finally ready to understand the quantum circuit we ran earlier, which created a Bell pair, i.e. the two qubit state\n",
    "\n",
    "$$\\begin{align}\n",
    "\\tfrac{1}{\\sqrt{2}} \\left| 00 \\right\\rangle + \\tfrac{1}{\\sqrt{2}} \\left| 11 \\right\\rangle.\n",
    "\\end{align}\n",
    "$$\n",
    "\n",
    "In the next module, when learning about *quantum teleportation*, you will have a peek at how special this state is. For now, let's create it by writing a quantum circuit. The latter is a quantum circuit on two qubits, which does the following: it first initializes two qubits in the state $\\left| 00 \\right\\rangle$. It then applies a Hadamard gate to the first qubit, and finally it applies a CNOT gate from the first qubit to the second (i.e. flipping the state of the second qubit 'controlled' on the state of the first). The circuit looks like this:"
   ]
  },
  {
   "cell_type": "code",
   "execution_count": 3,
   "metadata": {},
   "outputs": [
    {
     "data": {
      "image/png": "[encoded data removed]",
      "text/plain": [
       "<Figure size 206.852x204.68 with 1 Axes>"
      ]
     },
     "execution_count": 3,
     "metadata": {},
     "output_type": "execute_result"
    }
   ],
   "source": [
    "from qiskit import QuantumCircuit\n",
    "circ = QuantumCircuit(2,2)\n",
    "# Notice that the argument is '2'. This specifies that the circuit will consist of 2 qubits.\n",
    "\n",
    "# Now, we prepare a Bell pair starting from two qubits initialized in the state ket 00.\n",
    "# First a Hadamard gate on the first qubit.\n",
    "circ.h(0)\n",
    "# Then a CNOT from the first to the second (this is why the arguments are 0,1. If we wanted a CNOT\n",
    "# from the second to the first we would have passed arguments 1,0).\n",
    "circ.cx(0,1)\n",
    "\n",
    "circ.draw(output='mpl')"
   ]
  },
  {
   "cell_type": "markdown",
   "metadata": {},
   "source": [
    "Let's analyze what this circuit does. The state of the two qubits starts off as $\\left| 00 \\right\\rangle$. After the application of the Hadamard gate, the state of the two qubits is\n",
    "\n",
    "$$\\tfrac{1}{\\sqrt{2}} (\\left|0\\right\\rangle + \\left|1\\right\\rangle) \\left|0\\right\\rangle = \\tfrac{1}{\\sqrt{2}} \\left|00\\right\\rangle  + \\tfrac{1}{\\sqrt{2}} \\left|10\\right\\rangle$$\n",
    "\n",
    "Applying the CNOT gate (i.e. flip the second qubit if the first is in state '1', and do nothing otherwise) maps this to\n",
    "\n",
    "$$\\tfrac{1}{\\sqrt{2}} \\left|00\\right\\rangle  + \\tfrac{1}{\\sqrt{2}} \\left|11\\right\\rangle,$$\n",
    "\n",
    "which is the desired Bell pair."
   ]
  },
  {
   "cell_type": "code",
   "execution_count": 4,
   "metadata": {},
   "outputs": [
    {
     "name": "stdout",
     "output_type": "stream",
     "text": [
      "{'11': 1036, '00': 1012}\n"
     ]
    },
    {
     "data": {
      "image/png": "[encoded data removed]",
      "text/plain": [
       "<Figure size 504x360 with 1 Axes>"
      ]
     },
     "execution_count": 4,
     "metadata": {},
     "output_type": "execute_result"
    }
   ],
   "source": [
    "# Now we measure the state we just prepared.\n",
    "circ.measure([0,1],[1,0])\n",
    "\n",
    "#execute\n",
    "from qiskit import Aer, execute\n",
    "backend_sim = Aer.get_backend('qasm_simulator')\n",
    "sim = execute(circ, backend_sim, shots=2048) \n",
    "# shots=1024 indicates that we run our computation 1024 times.\n",
    "\n",
    "sim_result = sim.result()\n",
    "counts = sim_result.get_counts(circ)\n",
    "print(counts)\n",
    "\n",
    "# And now we plot the outcomes\n",
    "from qiskit.visualization import plot_histogram\n",
    "plot_histogram(counts)"
   ]
  },
  {
   "cell_type": "markdown",
   "metadata": {},
   "source": [
    "<h1 style=\"color:#D30982;\">Quantum States and Circuits of n Qubits</h1>\n",
    "\n",
    "At this point, you might be wondering: \"If applying a quantum gate to a quantum state amounts simply to multiplying a matrix and a vector, why do we need quantum computers at all? Couldn't we just compute these matrix multiplications using our laptop?\"\n",
    "\n",
    "This is certainly true for small numbers of qubits. However, as the number of qubits grows, things change.\n",
    "\n",
    "Having seen the formalism for states of two qubits you may have some intuition for what might be the general state of $n$-qubits. A single bit has $2^1$ possible values, two bits have $2^2=4$, three bits have $2^3=8$ possible state. Generalizing this, $n$-bits have $2^n$ possible values. So, the state of $n$ qubits can be a superposition of all these $2^n$ values.\n",
    "\n",
    "Just like we specified the state of two qubits using four complex amplitudes, i.e. a state of two qubits is a vector in $4$-dimensional complex space, we specify the state of $n$-qubits using $2^n$ complex amplitudes, i.e. it is a vector in $2^n$-dimensional complex space. \n",
    "\n",
    "(Compare this with a string of $n$ bits, which is specifed using just $n$ bits.)\n",
    "\n",
    "Applying an $n$ qubit gate to an $n$ qubit state amounts to multiplying a $2^n$ by $2^n$ matrix by a $2^n$ dimensional vector.\n",
    "\n",
    "As a fun calculation, if you take 400 qubits (which you can think, roughly speaking, as being 400 particles), then the general state of the 400 qubits requires $2^{400}$ complex amplitudes to be specified fully: $2^{400}$ is more than the number of atoms in the universe!! Thus, calculating the action of a quantum gate on a $400$ qubit state by multiplying matrices and vectors would be thoroughly impossible. So how can a quantum computer do it? The catch is that a quantum computer does not actually *calculate* all of the amplitudes. Rather, it merely *evolves* the quantum state of, say, $400$ particles by inducing some physical transformations on the state (these are described by quantum gates).\n",
    "\n",
    "Certainly, the exponential scaling of the dimension with respect to the number of qubits is one of the features of quantum mechanics that is responsible for quantum advantages in computational tasks. Beware, however, that these complex amplitudes are working *behind the scenes*, and nature does not actually allow us to access all of them. We can only gain information about a state of $n$ qubits (which is specified by $2^n$ amplitudes) by measuring it: even if we measure all of the $n$ qubits, we only obtain $n$ bits of information, not $2^n$! So taking advantage of the $2^n$ amplitudes requires delicately orchestrating the destructive and constructive interferences amongst them."
   ]
  },
  {
   "cell_type": "markdown",
   "metadata": {},
   "source": [
    "<font size=3 color=9A11DA>**Example.**</font> Section 2.1 describes the standard basis elements for a two-qubit system. Using the same procedure as before, write down the standard basis elements for a three-qubit system. What is the corresponding vector for each state?\n",
    "\n",
    "**Solution.** In the standard basis, each qubit can exist in one of two states: $\\left| 0 \\right>$ or $\\left| 1 \\right>$. There are $2^3=8$ possible combinations: $\\left| 000 \\right>$, $\\left| 001 \\right>$, $\\left| 010 \\right>$, $\\left| 011 \\right>$, $\\left| 100 \\right>$, $\\left| 101 \\right>$, $\\left| 110 \\right>$, and $\\left| 111 \\right>$. The corresponding vectors for these states are:\n",
    "\n",
    "$$\\left|000\\right\\rangle =  \\begin{bmatrix}\n",
    "\\color{red}{1}\\\\\n",
    "0\\\\\n",
    "0\\\\\n",
    "0\\\\\n",
    "0\\\\\n",
    "0\\\\\n",
    "0\\\\\n",
    "0\\\\\n",
    "\\end{bmatrix}, \\,\\,\\, \\left|001\\right\\rangle =  \\begin{bmatrix}\n",
    "0\\\\\n",
    "\\color{red}{1}\\\\\n",
    "0\\\\\n",
    "0\\\\\n",
    "0\\\\\n",
    "0\\\\\n",
    "0\\\\\n",
    "0\\\\\n",
    "\\end{bmatrix}, \\,\\,\\, \\left|010\\right\\rangle =  \\begin{bmatrix}\n",
    "0\\\\\n",
    "0\\\\\n",
    "\\color{red}{1}\\\\\n",
    "0\\\\\n",
    "0\\\\\n",
    "0\\\\\n",
    "0\\\\\n",
    "0\\\\\n",
    "\\end{bmatrix}, \\,\\,\\, \\left|011\\right\\rangle =  \\begin{bmatrix}\n",
    "0\\\\\n",
    "0\\\\\n",
    "0\\\\\n",
    "\\color{red}{1}\\\\\n",
    "0\\\\\n",
    "0\\\\\n",
    "0\\\\\n",
    "0\\\\\n",
    "\\end{bmatrix}$$\n",
    "\n",
    "$$\\, \\left|100\\right\\rangle =  \\begin{bmatrix}\n",
    "0\\\\\n",
    "0\\\\\n",
    "0\\\\\n",
    "0\\\\\n",
    "\\color{red}{1}\\\\\n",
    "0\\\\\n",
    "0\\\\\n",
    "0\\\\\n",
    "\\end{bmatrix}, \\,\\,\\, \\left|101\\right\\rangle =  \\begin{bmatrix}\n",
    "0\\\\\n",
    "0\\\\\n",
    "0\\\\\n",
    "0\\\\\n",
    "0\\\\\n",
    "\\color{red}{1}\\\\\n",
    "0\\\\\n",
    "0\\\\\n",
    "\\end{bmatrix}, \\,\\,\\, \\left|110\\right\\rangle =  \\begin{bmatrix}\n",
    "0\\\\\n",
    "0\\\\\n",
    "0\\\\\n",
    "0\\\\\n",
    "0\\\\\n",
    "0\\\\\n",
    "\\color{red}{1}\\\\\n",
    "0\\\\\n",
    "\\end{bmatrix}, \\,\\,\\, \\left|111\\right\\rangle =  \\begin{bmatrix}\n",
    "0\\\\\n",
    "0\\\\\n",
    "0\\\\\n",
    "0\\\\\n",
    "0\\\\\n",
    "0\\\\\n",
    "0\\\\\n",
    "\\color{red}{1}\\\\\n",
    "\\end{bmatrix}.\n",
    "$$"
   ]
  },
  {
   "cell_type": "markdown",
   "metadata": {},
   "source": [
    "<font size=3 color=9A11DA>**Exercise.**</font> The Bell state discussed in section 2.2 is created using a Hadamard ($H$) gate and a CNOT gate. A similar state for a three qubit system is called the GHZ state, which is described as\n",
    "$$\\begin{align}\n",
    "\\left| \\psi_{_{GHZ}}\\right>=\\tfrac{1}{\\sqrt{2}} \\left| 000 \\right\\rangle + \\tfrac{1}{\\sqrt{2}} \\left| 111 \\right\\rangle.\n",
    "\\end{align}\n",
    "$$\n",
    "Using only Hadamard and CNOT gates, construct a circuit that creates this state. Write your code in the cell below, and measure the state to see if the outcomes are as expected."
   ]
  },
  {
   "cell_type": "code",
   "execution_count": null,
   "metadata": {},
   "outputs": [],
   "source": [
    "from qiskit import QuantumCircuit, Aer, execute\n",
    "circ = QuantumCircuit(3,3)\n",
    "\n",
    "#your code here\n",
    "\n",
    "\n",
    "\n",
    "#measure and execute\n",
    "circ.measure([0,1,2],[2,1,0])\n",
    "backend_sim = Aer.get_backend('qasm_simulator')\n",
    "sim = execute(circ, backend_sim, shots=1024)\n",
    "counts = sim.result().get_counts(circ)"
   ]
  },
  {
   "cell_type": "markdown",
   "metadata": {},
   "source": [
    "<h1 style=\"color:#D30982;\">Review</h1>\n",
    "\n",
    "- The state of two or more qubits can be described as a linear combination of the standard basis elements.\n",
    "- There are $2^n$ standard basis elements for $n$ qubits. These elements correspond to the possible values of a classical $n$-bit string.\n",
    "- A two qubit state can be written as product of two single-qubit states, called a *product state*.\n",
    "- Some two-qubit states can not be written as product states, and these are called *entangled states*.\n",
    "- We can measure only one qubit. The resulting state must be renormalized to account for the loss of some elements of the superposition.\n",
    "- Two-qubit gates can be represented by a $4\\times 4$ matrix which acts on a four-dimensional state vector.\n",
    "- Any combination of single qubit gates can be used to create a valid two-qubit gate. For example, applying the $X$ gate to the first qubit and $Z$ gate to the second qubit results in the gate $XZ$.\n",
    "- A bell pair can be created using only a Hadamard gate and a CNOT gate."
   ]
  },
  {
   "cell_type": "markdown",
   "metadata": {},
   "source": [
    "<h1 style=\"color:#D30982;\">Exercises</h1>"
   ]
  },
  {
   "cell_type": "code",
   "execution_count": 1,
   "metadata": {},
   "outputs": [
    {
     "data": {
      "application/vnd.jupyter.widget-view+json": {
       "model_id": "ae635ac99cdf4133bac1fc2a7ef9a861",
       "version_major": 2,
       "version_minor": 0
      },
      "text/plain": [
       "MultipleChoiceQuestion(jupyterhub_username='mannythemann40@gmail.com', resource_id='qubes_m7_two_qubit_state')"
      ]
     },
     "metadata": {},
     "output_type": "display_data"
    }
   ],
   "source": [
    "from qbraid_quiz_widget import MultipleChoiceQuestion\n",
    "MultipleChoiceQuestion('qubes_m7_two_qubit_state')"
   ]
  },
  {
   "cell_type": "code",
   "execution_count": 9,
   "metadata": {},
   "outputs": [
    {
     "data": {
      "application/vnd.jupyter.widget-view+json": {
       "model_id": "94bb6458f38b4f5c8b4360d694e091d6",
       "version_major": 2,
       "version_minor": 0
      },
      "text/plain": [
       "MultipleChoiceQuestion(jupyterhub_username='mannythemann40@gmail.com', resource_id='qubes_m7_coefficient')"
      ]
     },
     "metadata": {},
     "output_type": "display_data"
    }
   ],
   "source": [
    "from qbraid_quiz_widget import MultipleChoiceQuestion\n",
    "MultipleChoiceQuestion('qubes_m7_coefficient')"
   ]
  },
  {
   "cell_type": "code",
   "execution_count": 10,
   "metadata": {},
   "outputs": [
    {
     "data": {
      "application/vnd.jupyter.widget-view+json": {
       "model_id": "fff3aa07caa4403ba0dee97c3411d4a1",
       "version_major": 2,
       "version_minor": 0
      },
      "text/plain": [
       "MultipleChoiceQuestion(jupyterhub_username='mannythemann40@gmail.com', resource_id='qubes_m7_two_qubit_measure…"
      ]
     },
     "metadata": {},
     "output_type": "display_data"
    }
   ],
   "source": [
    "from qbraid_quiz_widget import MultipleChoiceQuestion\n",
    "MultipleChoiceQuestion('qubes_m7_two_qubit_measurement')"
   ]
  },
  {
   "cell_type": "code",
   "execution_count": 8,
   "metadata": {},
   "outputs": [
    {
     "data": {
      "application/vnd.jupyter.widget-view+json": {
       "model_id": "fd70de9e620e4f4aa5ad693b0a480813",
       "version_major": 2,
       "version_minor": 0
      },
      "text/plain": [
       "MultipleChoiceQuestion(jupyterhub_username='mannythemann40@gmail.com', resource_id='qubes_m7_two_qubit_prob')"
      ]
     },
     "metadata": {},
     "output_type": "display_data"
    }
   ],
   "source": [
    "from qbraid_quiz_widget import MultipleChoiceQuestion\n",
    "MultipleChoiceQuestion('qubes_m7_two_qubit_prob')"
   ]
  },
  {
   "cell_type": "code",
   "execution_count": 3,
   "metadata": {},
   "outputs": [
    {
     "data": {
      "application/vnd.jupyter.widget-view+json": {
       "model_id": "87ec0071661e405787eb2fa71955157b",
       "version_major": 2,
       "version_minor": 0
      },
      "text/plain": [
       "MultipleChoiceQuestion(jupyterhub_username='mannythemann40@gmail.com', resource_id='qubes_m7_two_qubit_state_2…"
      ]
     },
     "metadata": {},
     "output_type": "display_data"
    }
   ],
   "source": [
    "from qbraid_quiz_widget import MultipleChoiceQuestion\n",
    "MultipleChoiceQuestion('qubes_m7_two_qubit_state_2')"
   ]
  },
  {
   "cell_type": "code",
   "execution_count": 11,
   "metadata": {},
   "outputs": [
    {
     "data": {
      "application/vnd.jupyter.widget-view+json": {
       "model_id": "d64a3b1f92414d3093880edc3616edd9",
       "version_major": 2,
       "version_minor": 0
      },
      "text/plain": [
       "MultipleChoiceQuestion(jupyterhub_username='mannythemann40@gmail.com', resource_id='qubes_m7_two_single_gate')"
      ]
     },
     "metadata": {},
     "output_type": "display_data"
    }
   ],
   "source": [
    "from qbraid_quiz_widget import MultipleChoiceQuestion\n",
    "MultipleChoiceQuestion('qubes_m7_two_single_gate')"
   ]
  },
  {
   "cell_type": "code",
   "execution_count": 17,
   "metadata": {},
   "outputs": [
    {
     "data": {
      "application/vnd.jupyter.widget-view+json": {
       "model_id": "9da92f06ee924a4a9e6ce848f07b8457",
       "version_major": 2,
       "version_minor": 0
      },
      "text/plain": [
       "MultipleChoiceQuestion(jupyterhub_username='mannythemann40@gmail.com', resource_id='qubes_m7_two_qubit_tense_g…"
      ]
     },
     "metadata": {},
     "output_type": "display_data"
    }
   ],
   "source": [
    "from qbraid_quiz_widget import MultipleChoiceQuestion\n",
    "MultipleChoiceQuestion('qubes_m7_two_qubit_tense_gate')"
   ]
  },
  {
   "cell_type": "code",
   "execution_count": 6,
   "metadata": {},
   "outputs": [
    {
     "data": {
      "application/vnd.jupyter.widget-view+json": {
       "model_id": "ef138bf7aeb2454aabcd9574e98d91ca",
       "version_major": 2,
       "version_minor": 0
      },
      "text/plain": [
       "MultipleChoiceQuestion(jupyterhub_username='mannythemann40@gmail.com', resource_id='qubes_m7_two_qubit_state_3…"
      ]
     },
     "metadata": {},
     "output_type": "display_data"
    }
   ],
   "source": [
    "from qbraid_quiz_widget import MultipleChoiceQuestion\n",
    "MultipleChoiceQuestion('qubes_m7_two_qubit_state_3')"
   ]
  },
  {
   "cell_type": "code",
   "execution_count": 7,
   "metadata": {},
   "outputs": [
    {
     "data": {
      "application/vnd.jupyter.widget-view+json": {
       "model_id": "6795ba46377f4689826be679987ef7bc",
       "version_major": 2,
       "version_minor": 0
      },
      "text/plain": [
       "MultipleChoiceQuestion(jupyterhub_username='mannythemann40@gmail.com', resource_id='qubes_m7_CNOT')"
      ]
     },
     "metadata": {},
     "output_type": "display_data"
    }
   ],
   "source": [
    "from qbraid_quiz_widget import MultipleChoiceQuestion\n",
    "MultipleChoiceQuestion('qubes_m7_CNOT')"
   ]
  },
  {
   "cell_type": "markdown",
   "metadata": {},
   "source": [
    "<h2 style=\"color:#9A11DA;\">Free Response</h2> \n",
    "\n",
    "1. Suppose we have a Bell pair in the state $\\frac{1}{\\sqrt{2}}\\big(|10\\rangle+|01\\rangle\\big)$. We measure the second qubit and obtain the outcome $|1\\rangle$. What is the probability of obtaining $|1\\rangle$ when measuring the second qubit?\n",
    "\n",
    "2. Suppose we have a Bell pair in the state $\\frac{1}{\\sqrt{2}}\\big(|10\\rangle+|01\\rangle\\big)$. What is the probability of measuring the state $|0\\rangle$ on the first qubit?\n",
    "\n",
    "3. Find a two-qubit state such that the CNOT gate does not change the state? How many such states exist? (Note: these states are called eigenvectors.)\n",
    "\n",
    "4. Recall from the [linear algebra module](../04_Background_math_linear_algebra.ipynb) that a linear transformation can be completely specified by its action on the standard basis. Consider the following two-qubit states.\n",
    "\n",
    "$$|\\psi_i\\rangle=|\\psi_1\\rangle|\\psi_2\\rangle=(\\alpha_1|0\\rangle+\\beta_1|1\\rangle)(\\alpha_2|0\\rangle+\\beta_2|1\\rangle)\\\\\n",
    "|\\psi_f\\rangle=|\\psi_2\\rangle|\\psi_1\\rangle=(\\alpha_2|0\\rangle+\\beta_2|1\\rangle)(\\alpha_1|0\\rangle+\\beta_1|1\\rangle)$$\n",
    "\n",
    "- Write each state as a four-dimensional vector, and compare the two.\n",
    "- Use this intutition to design a gate that swaps the states of two qubits. (Hint: Notice that the CNOT gate is made by rearranging the order of the columns of the identity matrix, which make up the standard basis.)"
   ]
  },
  {
   "cell_type": "markdown",
   "metadata": {},
   "source": [
    "<h2 style=\"color:#9A11DA;\">Challenge</h2>"
   ]
  },
  {
   "cell_type": "markdown",
   "metadata": {},
   "source": [
    "1. We saw in the lesson that in order to create the first bell state $\\frac{1}{\\sqrt{2}}(|00\\rangle+|11\\rangle)$, you apply a Hadamard gate to the first qubit, and then apply a CNOT gate with the first qubit as the control and second qubit as the target."
   ]
  },
  {
   "cell_type": "markdown",
   "metadata": {},
   "source": [
    "<img src='images/m7_bell_state_1.png' width=500 style='margin-left:auto;margin-right:auto;'>"
   ]
  },
  {
   "cell_type": "markdown",
   "metadata": {},
   "source": [
    "Try to design a quantum circuit that will implement the other three bell states: $\\frac{1}{\\sqrt{2}}(|00\\rangle-|11\\rangle)$, $\\frac{1}{\\sqrt{2}}(|01\\rangle+|10\\rangle)$, and $\\frac{1}{\\sqrt{2}}(|01\\rangle-|10\\rangle)$"
   ]
  },
  {
   "cell_type": "code",
   "execution_count": 21,
   "metadata": {},
   "outputs": [],
   "source": [
    "from qiskit import QuantumCircuit, assemble, Aer\n",
    "from qiskit.visualization import plot_histogram, plot_bloch_vector\n",
    "from math import sqrt, pi\n",
    "\n",
    "#simulator for checking qubit states later on\n",
    "simulator = Aer.get_backend('statevector_simulator')\n",
    "\n",
    "\n",
    "#circuit for second bell state\n",
    "bell_state_2 = QuantumCircuit(2)\n",
    "\n",
    "#circuit for third bell state\n",
    "bell_state_3 = QuantumCircuit(2)\n",
    "\n",
    "#circuit for fourth bell state\n",
    "bell_state_4 = QuantumCircuit(2)\n",
    "\n",
    "\n",
    "\n",
    "#write your code here for bell_state_2:\n",
    "\n",
    "\n",
    "#write your code ehre for bell_state_3:\n",
    "\n",
    "\n",
    "#write your code here for bell_state_4:"
   ]
  },
  {
   "cell_type": "markdown",
   "metadata": {},
   "source": [
    "Run these next three code cells to run and check your circuit solutions. Remember that the order qubits are listed are from right to left in qiskit (01 looks like 10 in qiskit)."
   ]
  },
  {
   "cell_type": "code",
   "execution_count": 24,
   "metadata": {},
   "outputs": [
    {
     "data": {
      "image/png": "[encoded data removed]",
      "text/plain": [
       "<Figure size 504x360 with 1 Axes>"
      ]
     },
     "execution_count": 24,
     "metadata": {},
     "output_type": "execute_result"
    }
   ],
   "source": [
    "#run check for bell_state_2\n",
    "qobj2 = assemble(bell_state_2)\n",
    "result2 = simulator.run(qobj2).result()\n",
    "counts2 = result2.get_counts()\n",
    "plot_histogram(counts2)"
   ]
  },
  {
   "cell_type": "code",
   "execution_count": 23,
   "metadata": {},
   "outputs": [
    {
     "data": {
      "image/png": "[encoded data removed]",
      "text/plain": [
       "<Figure size 504x360 with 1 Axes>"
      ]
     },
     "execution_count": 23,
     "metadata": {},
     "output_type": "execute_result"
    }
   ],
   "source": [
    "#run check for bell_state_3\n",
    "qobj3 = assemble(bell_state_3)\n",
    "result3 = simulator.run(qobj3).result()\n",
    "counts3 = result3.get_counts()\n",
    "plot_histogram(counts3)"
   ]
  },
  {
   "cell_type": "code",
   "execution_count": 25,
   "metadata": {},
   "outputs": [
    {
     "data": {
      "image/png": "[encoded data removed]",
      "text/plain": [
       "<Figure size 504x360 with 1 Axes>"
      ]
     },
     "execution_count": 25,
     "metadata": {},
     "output_type": "execute_result"
    }
   ],
   "source": [
    "#run check for bell_state_4\n",
    "qobj4 = assemble(bell_state_4)\n",
    "result4 = simulator.run(qobj4).result()\n",
    "counts4 = result4.get_counts()\n",
    "plot_histogram(counts4)"
   ]
  },
  {
   "cell_type": "markdown",
   "metadata": {},
   "source": [
    "2. It is often the case that many algorithms start by initializing the state of certain qubits to a few common states, other than the $\\left|0 \\right\\rangle$ or $\\left|1 \\right\\rangle$ states. For example, two other common states are:\n",
    "\n",
    "$$\\begin{array}{lcl}\\left|+\\right> =\\frac{1}{\\sqrt{2}}\\left( \\left| 0 \\right> + \\left| 1 \\right> \\right)\\left|-\\right> =\\frac{1}{\\sqrt{2}}\\left( \\left| 0 \\right> + \\left| 1 \\right> \\right)\\end{array}$$\n",
    "These states are referred to as Hadamard basis states, because they are created using just one application of a Hadamard gate. Try implementing the following two-qubit states:\n",
    "- 1: $\\left|+\\right>\\left|0\\right>=\\tfrac{1}{\\sqrt{2}} \\left| 00 \\right> + \\tfrac{1}{\\sqrt{2}}\\left| 10 \\right> $\n",
    "- 2: $\\left|0\\right>\\left|-\\right>=\\tfrac{1}{\\sqrt{2}} \\left| 00 \\right> - \\tfrac{1}{\\sqrt{2}}\\left| 01 \\right> $\n",
    "- 3: $\\left|1\\right>\\left|+\\right>=\\tfrac{1}{\\sqrt{2}} \\left| 10 \\right> + \\tfrac{1}{\\sqrt{2}}\\left| 11 \\right>$\n",
    "- 4: $\\left|+\\right>\\left|+\\right>=\\tfrac12 \\left| 00 \\right> + \\tfrac12\\left| 01 \\right> + \\tfrac12 \\left| 10 \\right> + \\tfrac12\\left| 11 \\right>$\n",
    "- 5: $\\left|+\\right>\\left|-\\right>=\\tfrac12 \\left| 00 \\right> - \\tfrac12\\left| 01 \\right> + \\tfrac12 \\left| 10 \\right> - \\tfrac12\\left| 11 \\right>$ <br>\n",
    "\n",
    "To check your answers, verify that the outcomes you obtain when measuring the states you prepared match what you'd expect."
   ]
  },
  {
   "cell_type": "code",
   "execution_count": null,
   "metadata": {},
   "outputs": [],
   "source": [
    "from qiskit import QuantumCircuit, Aer, execute\n",
    "from fractions import Fraction\n",
    "circ=QuantumCircuit(2,2)\n",
    "\n",
    "#prepare the initial state\n",
    "\n",
    "\n",
    "\n",
    "#execute the circuit to get measurement probabilities\n",
    "circ.measure([0,1],[1,0])\n",
    "backend_sim = Aer.get_backend('qasm_simulator')\n",
    "sim = execute(circ, backend_sim, shots=1024)\n",
    "counts = sim.result().get_counts(circ)"
   ]
  },
  {
   "cell_type": "markdown",
   "metadata": {},
   "source": [
    "3. Sometimes, experimental quantum computing architectures are not *universal*. It might be the case that they can only apply CNOT gates in one direction. For example, they can use qubit $0$ as the control and qubit $1$ as the target, but not viceversa. \n",
    "\n",
    "What two qubit gate does the following two-qubit circuit implement? \n",
    "\n",
    "<img src=\"images/reverse_cnot.png\" height=\"350\" style='margin-left:auto;margin-right:auto;'/>\n",
    "\n",
    "Test its action on the standard basis elements: $\\left| 00 \\right\\rangle$, $\\left| 01 \\right\\rangle$, $\\left| 10\\right\\rangle$, and $\\left| 11 \\right\\rangle$."
   ]
  },
  {
   "cell_type": "code",
   "execution_count": null,
   "metadata": {},
   "outputs": [],
   "source": [
    "from qiskit import QuantumCircuit, Aer, execute\n",
    "from fractions import Fraction\n",
    "circ=QuantumCircuit(2,2)\n",
    "\n",
    "#prepare the initial state\n",
    "\n",
    "\n",
    "\n",
    "#implement circuit\n",
    "\n",
    "\n",
    "\n",
    "#execute the circuit\n",
    "circ.measure([0,1],[1,0])\n",
    "backend_sim = Aer.get_backend('qasm_simulator')\n",
    "sim = execute(circ, backend_sim, shots=1024)\n",
    "counts = sim.result().get_counts(circ)\n",
    "for i,j in counts.items():\n",
    "    print(\"|{}>: \".format(i), Fraction(j/1024).limit_denominator(4))"
   ]
  },
  {
   "cell_type": "markdown",
   "metadata": {},
   "source": [
    "4. Swap Gate"
   ]
  },
  {
   "cell_type": "markdown",
   "metadata": {
    "ignoreQbook": true
   },
   "source": [
    "<hr>\n",
    "<div style='display:flex;'>\n",
    "    <div style='width:25%;text-align:right;'> <h4 style='color:#9A11DA'>Previous Module:</h4></div>\n",
    "    <div style='width:25%;text-align:left;'> <h4 ><a href='./06_Writing_quantum_programs.ipynb' style='color:#9A11DA;text-decoration:underline;opacity:0.6;'>6. Writing Quantum Programs</a></h4></div>\n",
    "    <div style='width:25%;text-align:right;'> <h4 style='color:#9A11DA'>Next Module:</h4></div>\n",
    "    <div style='width:25%;text-align:left;'> <h4 ><a href='./08_Deutsch_algorithm.ipynb' style='color:#9A11DA;text-decoration:underline;opacity:0.6;'>8. Deutch's Algorithm</a></h4></div>\n",
    "</div>\n",
    "<!-- <hr style='border-color:grey;'> -->"
   ]
  }
 ],
 "metadata": {
  "celltoolbar": "Slideshow",
  "kernelspec": {
   "display_name": "Python 3 [Default]",
   "language": "python",
   "name": "python3"
  },
  "language_info": {
   "codemirror_mode": {
    "name": "ipython",
    "version": 3
   },
   "file_extension": ".py",
   "mimetype": "text/x-python",
   "name": "python",
   "nbconvert_exporter": "python",
   "pygments_lexer": "ipython3",
   "version": "3.9.10"
  },
  "toc-autonumbering": true,
  "widgets": {
   "application/vnd.jupyter.widget-state+json": {
    "state": {},
    "version_major": 2,
    "version_minor": 0
   }
  }
 },
 "nbformat": 4,
 "nbformat_minor": 4
}
