{
 "cells": [
  {
   "cell_type": "markdown",
   "metadata": {
    "ignoreQbook": true
   },
   "source": [
    "<div style='display:flex;'>\n",
    "    <div style='width:25%;text-align:right;'> <h4 style='color:#9A11DA'>Previous Module:</h4></div>\n",
    "    <div style='width:25%;text-align:left;'> <h4 ><a href='./02_Classical_computing.ipynb' style='color:#9A11DA;text-decoration:underline;opacity:0.6;'>2. Classical Comptuing</a></h4></div>\n",
    "    <div style='width:25%;text-align:right;'> <h4 style='color:#9A11DA'>Next Module:</h4></div>\n",
    "    <div style='width:25%;text-align:left;'> <h4 ><a href='./04_Background_math_linear_algebra.ipynb' style='color:#9A11DA;text-decoration:underline;opacity:0.6;'>4. Background Math: Linear Algebra</a></h4></div>\n",
    "</div>\n",
    "<!-- <hr style='border-color:grey;'> -->"
   ]
  },
  {
   "cell_type": "markdown",
   "metadata": {},
   "source": [
    "<h1 style=\"color:#D30982;\">Summary</h1>\n",
    "\n",
    "- Python packages: Numpy and Matplotlib\n",
    "- Complex numbers\n",
    "- Operations on complex numbers"
   ]
  },
  {
   "cell_type": "markdown",
   "metadata": {},
   "source": [
    "<h1 style=\"color:#D30982;\">Background Math</h1>\n",
    "   \n",
    "> Pure mathematics is, in its way, the poetry of logical ideas. -Albert Einstein\n",
    "\n",
    "Trying to learn quantum mechanics without any knowledge of mathematics is like eating a *sugar-free* and *butter-free* chocolate: it's not actually chocolate, it is just cocoa beans. \n",
    "\n",
    "At qBraid, we are convinced that you will appreciate quantum mechanics (and quantum computing) much more if you understand and master just a few mathematical fundamentals. This module and the next provide just enough mathematical background for you to rigorously understand basic (but really cool!) concepts in quantum computing.\n",
    "\n",
    "It is possible that not everything in this module will be completely new to you. If that is the case, you will have the opportunity to review familiar tools that we will use frequently in later chapters.\n",
    "\n",
    "The module is interspersed with code snippets (written in Python) which will allow you to visualize and play with some of the ideas you encounter. We believe that these will be particularly helpful if you are learning these topics for the first time."
   ]
  },
  {
   "cell_type": "markdown",
   "metadata": {},
   "source": [
    "<h1 style=\"color:#D30982;\">Introduction to NumPy and Matplotlib</h1>\n",
    "\n",
    "We will be using Python as our default programming language throughout the whole course. We recommend that you go through our tutorial on the basics of Python if you are completely new to it (it won't take long to get you up and running). Packages play a crucial role in enhancing the capabilities of Python. Python does not have inherent support for a lot of the math we will be using, but there are some great packages available that provide all of that. Two of these packages are NumPy and Matplotlib.\n",
    "We will briefly introduce these packages here. Our strategy will be to introduce mathematical concepts first and then have you become more familiar with them by playing with code snippets which use these packages.\n",
    "\n",
    "<h2 style=\"color:#9A11DA;\"> NumPy</h2>\n",
    "Numpy is a python package for scientific computing that mainly focuses on linear algebra. As you progress in your scientific endeavors, you will realize that linear algebra is at the heart of most of modern day computing, and is absolutely fundamental to quantum computing.\n",
    "\n",
    "One of the most basic objects in the NumPy package is an *array*. An *array* is simply an ordered list of numbers. Arrays are the Numpy object used to define vectors and matrices, and manipulation of these vectors and matrices is what linear algebra is all about (you will learn about linear algebra later in the next module). Numpy provides various methods to define and manipulate arrays. \n",
    "\n",
    "The following code cells show how to define arrays and retrieve a particular entry in an array."
   ]
  },
  {
   "cell_type": "code",
   "execution_count": 1,
   "metadata": {},
   "outputs": [
    {
     "name": "stdout",
     "output_type": "stream",
     "text": [
      "The numpy array defined above is: [1 2 3 4 5 6 7 8]\n"
     ]
    }
   ],
   "source": [
    "import numpy\n",
    "array_1 = numpy.array([1,2,3,4,5,6,7,8])\n",
    "print('The numpy array defined above is:',array_1)"
   ]
  },
  {
   "cell_type": "code",
   "execution_count": 2,
   "metadata": {},
   "outputs": [
    {
     "name": "stdout",
     "output_type": "stream",
     "text": [
      "2\n"
     ]
    }
   ],
   "source": [
    "# Indices start at 0. To retrieve the second entry in an array we use\n",
    "sec_entry = array_1[1]\n",
    "print(sec_entry)"
   ]
  },
  {
   "cell_type": "code",
   "execution_count": 3,
   "metadata": {},
   "outputs": [
    {
     "name": "stdout",
     "output_type": "stream",
     "text": [
      "the size of the array is: 8\n"
     ]
    }
   ],
   "source": [
    "# We can learn the size of an array using following method:\n",
    "size = numpy.size(array_1)\n",
    "print('the size of the array is:',size)"
   ]
  },
  {
   "cell_type": "code",
   "execution_count": 4,
   "metadata": {},
   "outputs": [
    {
     "name": "stdout",
     "output_type": "stream",
     "text": [
      "The sum of the two arrays is:  [ 2  0  8 12 11  9  1 10]\n"
     ]
    }
   ],
   "source": [
    "# Let's define another array:\n",
    "array_2 = numpy.array([1,-2,5,8,6,3,-6,2])\n",
    "\n",
    "# You can perform addition, subtraction, multiplication, and division on arrays using the same symbols as for numbers\n",
    "# These operations will perform *entry by entry* operation - so the result is the sum/difference/product/ratio of \n",
    "# the corresponding entries of the two arrays.\n",
    "\n",
    "# Let's do addition first.\n",
    "array_3 = array_1+array_2\n",
    "print('The sum of the two arrays is: ', array_3)"
   ]
  },
  {
   "cell_type": "code",
   "execution_count": 5,
   "metadata": {},
   "outputs": [
    {
     "name": "stdout",
     "output_type": "stream",
     "text": [
      "The product of the two arrays is:  [  1  -4  15  32  30  18 -42  16]\n",
      "The division of the two arrays is:  [ 1.         -1.          0.6         0.5         0.83333333  2.\n",
      " -1.16666667  4.        ]\n"
     ]
    }
   ],
   "source": [
    "# Multiplication (entry by entry)\n",
    "array_4 = array_1*array_2\n",
    "print('The product of the two arrays is: ', array_4)\n",
    "\n",
    "# Division (entry by entry)\n",
    "array_5 = array_1 / array_2\n",
    "print('The division of the two arrays is: ', array_5)"
   ]
  },
  {
   "cell_type": "code",
   "execution_count": 6,
   "metadata": {},
   "outputs": [
    {
     "name": "stdout",
     "output_type": "stream",
     "text": [
      "The sin of all the values in array x1 is  [ 0.84147098  0.90929743  0.14112001 -0.7568025  -0.95892427 -0.2794155\n",
      "  0.6569866   0.98935825]\n"
     ]
    }
   ],
   "source": [
    "# You can do even more interesting things like use the array as input for a function like sin/cos. \n",
    "# This line of code returns another array, where each entry is the sine of the corresponding entry in the original array\n",
    "y = numpy.sin(array_1)\n",
    "print('The sin of all the values in array x1 is ',y)"
   ]
  },
  {
   "cell_type": "markdown",
   "metadata": {},
   "source": [
    "<h2 style=\"color:#9A11DA;\"> Matplotlib</h2>\n",
    "Matplotlib is a python package for plotting. It is helpful to represent data using plots, because this often leads to a clearer understanding of the underlying phenomenon that you are studying. Matplotlib provides many ways to visualize data. We will give you a couple of examples now, and then introduce new features of Matplotlib as we use them later on."
   ]
  },
  {
   "cell_type": "code",
   "execution_count": null,
   "metadata": {},
   "outputs": [],
   "source": [
    "# We first import matplotlib. Since it's a long name.. let's \"nickname\" it plt \n",
    "# (you can nickname it however you want though, just by changing the code)\n",
    "import matplotlib.pyplot as plt\n",
    "\n",
    "# Let's create an array with values equally spaced in [0,2pi].\n",
    "x_values = numpy.linspace(0,2*numpy.pi, 50)\n",
    "\n",
    "# Let's plot the sin of the list of values in x_values. We can do this using the function .plot\n",
    "plt.plot(x_values, numpy.sin(x_values))"
   ]
  },
  {
   "cell_type": "code",
   "execution_count": null,
   "metadata": {},
   "outputs": [],
   "source": [
    "# Let's reflect everything about the x-axis\n",
    "plt.plot(x_values,-numpy.sin(x_values))"
   ]
  },
  {
   "cell_type": "markdown",
   "metadata": {},
   "source": [
    "<h1 style=\"color:#D30982;\">Complex Numbers</h1>\n",
    "\n",
    "> Life is complex – it has both real and imaginary parts. – Anonymous\n",
    "\n",
    "Just like life, a complex number has both a <em>real part</em> and an <em>imaginary part</em>. It is likely that throughout all of your math classes, you have learnt many times that the square root of a negative number does not exist. This is true, in the sense that these roots are not *real*. But in the world of complex numbers, negative numbers have square roots as well! As far-fetched as this may seem, it turns out that such a number system finds many applications throughout mathematics. You shouldn't think of complex numbers as an absurd idea just because it does not align with physical intuition. Pure mathematics often studies abstract concepts that do not necessarily have any direct connection with the real world, but nonetheless these concepts are well-defined and interesting in their own right. As it turns out however, complex numbers are not only an abstract mathematical concept, but they have a true connection with the real world: they are at the heart of quantum mechanics!\n",
    "\n",
    "The celebrated *Schrodinger equation*, which governs the evolution of quantum states in time, involves complex numbers. In other words, complex numbers are embedded in a fundamental law of nature! This is why complex numbers appear all throughout quantum mechanics, and are important to understand if one wishes to understand the basics of quantum mechanics and quantum computing.\n",
    "\n",
    "To define complex numbers, we first need to define <em>imaginary<em> numbers. We use the letter $i$ to denote the <em>imaginary unit</em>, which we define to be a number $i$ such that $i^2 = -1$. Informally, you can also think of $i$ as\n",
    "\n",
    "$$i=\\sqrt{-1}\\,.$$\n",
    "\n",
    "The imaginary unit lets us define a new number system by taking multiples of it e.g. $4i$, $\\pi i$, $\\sqrt{2}i$, $yi$ (where $y$ is any real number). We refer to the set of real multiples of $i$ as the <em>imaginary numbers</em>.\n",
    "\n",
    "We define a *complex* number to be the sum of a real number and an imaginary number. A complex number thus takes the form\n",
    "\n",
    "$$c=a+ib$$\n",
    "\n",
    "where $a, b$ are real numbers. $a$ is referred to as the <em>real part</em>, and $b$ as the <em>imaginary part</em> of the complex number $c$."
   ]
  },
  {
   "cell_type": "markdown",
   "metadata": {},
   "source": [
    "<h2 style=\"color:#D30982;\">Operations With Complex Numbers</h2>\n"
   ]
  },
  {
   "cell_type": "markdown",
   "metadata": {},
   "source": [
    "<h3 style=\"color:#9A11DA;\">Addition</h3>\n",
    "\n",
    "*Two complex numbers can be added by taking a sum of their real parts and imaginary parts separately*, so that if $c_1=a_1+ib_1$ and $c_2=a_2+ib_2$, then $c_1+c_2=(a_1+a_2)+i(b_1+b_2)$. To understand this concretely, let's consider an example and introduce the \"Complex Plane,\" sometimes called the \"Argand Plane.\"\n",
    "\n",
    "Let $c_1=6+4i$ and $c_2=2+2i$, then the sum is:\n",
    "\n",
    "$$c_1+c_2=(6+4i) + (2+2i)\\,.$$\n",
    "    \n",
    "One of the most intuitive ways to work with complex numbers is to think of them *graphically*. In this framework, the real unit $1$ and the imaginary unit $i$ are *independent components*; so really, a complex number is some point in the 2D plane, usually defined so that its $x$ component is its real part and its $y$ component is its imaginary part. So, if you wanted to plot the complex number $c_1 = 6+4i$, you would use point $p_1 = (6,4)$. Similarly, the complex number $c_2 = 2+2i$ would be the point $p_2 = (2,2)$. This is particularly useful, because complex numbers add just like points in the plane! As you can see in the gif below, the real components add together, and so do the imaginary components, each separately; if you add six \"$1$\"s and four \"$i$\"s to two \"$1$\"s and two \"$i$\"s, of course you end up with eight \"$1$\"s and six \"$i$\"s:\n",
    "\n",
    "$$(6,4) + (2,2) = (8,6)$$\n",
    "$$(6+4i) + (2+2i) = (8+6i)$$\n",
    "\n",
    "This representation of complex numbers allows us to use our graphical intuition beyond addition, including to understand quantities like the *magnitude* and *phase* of complex numbers (both of which are discussed a bit later in this section!). \n",
    "\n",
    "<img src=\"images/complex_add.gif\" height=\"450\" width=\"450\" style='margin-left:auto;margin-right:auto;'/>"
   ]
  },
  {
   "cell_type": "markdown",
   "metadata": {},
   "source": [
    "<h3 style=\"color:#9A11DA;\">Subtraction</h3>\n",
    "\n",
    "Two complex numbers can be subtracted by taking the difference of the their real parts and imaginary parts separately. Let $c_1=a_1+ib_1$ and $c_2=a_2+ib_2$, then $c_1- c_2=(a_1-a_2)+i(b_1- b_2)$.\n",
    "\n",
    "For example, let $c_1=2+3i$ and $c_2=4+5i$, then \n",
    "\n",
    "$$c_1-c_2=(2-4)+i(5-3)=-2+2i$$\n",
    "\n",
    "Python provides native support for complex numbers. In Python, the imaginary unit is represented by the letter 'j' (yes, odd isn't it.. tell us about it..). You can see in the following code snippet how easy it is to use python for working with complex numbers.\n",
    "\n",
    "<!-- <p><span style=\"color:red\">[I want to VISUALIZE the vectors on the Argand plane!]</span>.</p> -->"
   ]
  },
  {
   "cell_type": "code",
   "execution_count": 2,
   "metadata": {},
   "outputs": [],
   "source": [
    "c1 = 3+2j\n",
    "c2 = 3+4j\n",
    "# get the imaginary part of a complex number\n",
    "# print(c1.imag)"
   ]
  },
  {
   "cell_type": "code",
   "execution_count": 4,
   "metadata": {},
   "outputs": [
    {
     "name": "stdout",
     "output_type": "stream",
     "text": [
      "Adding c1+c2= (6+6j)\n",
      "c1-c2= -2j\n"
     ]
    }
   ],
   "source": [
    "# add complex numbers\n",
    "c3 = c1+c2\n",
    "print('Adding c1+c2=',c3)\n",
    "# substract complex numbers\n",
    "c4 = c1-c2\n",
    "print('c1-c2=',c4)\n",
    "\n"
   ]
  },
  {
   "cell_type": "code",
   "execution_count": 10,
   "metadata": {},
   "outputs": [
    {
     "name": "stdout",
     "output_type": "stream",
     "text": [
      "multiplication of c1 and c2 gets me: (1+18j)\n",
      "dividing c1 by c2 gets me: (0.68-0.24j)\n",
      "3.0\n",
      "2.0\n"
     ]
    }
   ],
   "source": [
    "\n",
    "\n",
    "\n",
    "c5=c1*c2\n",
    "print('multiplication of c1 and c2 gets me:', c5)\n",
    "c6=c1/c2\n",
    "print('dividing c1 by c2 gets me:', c6)\n",
    "\n",
    "print(c1.real)\n",
    "print(c1.imag)"
   ]
  },
  {
   "cell_type": "code",
   "execution_count": 2,
   "metadata": {},
   "outputs": [
    {
     "data": {
      "application/vnd.jupyter.widget-view+json": {
       "model_id": "804a2c434107447694991d2ea58e8fa3",
       "version_major": 2,
       "version_minor": 0
      },
      "text/plain": [
       "MultipleChoiceQuestion(jupyterhub_username='erik.weis@gmail.com', resource_id='Let_a_2__i_and_b__3_-qdsrbmahed…"
      ]
     },
     "metadata": {},
     "output_type": "display_data"
    }
   ],
   "source": [
    "from qbraid_quiz_widget import MultipleChoiceQuestion\n",
    "MultipleChoiceQuestion(\"Let_a_2__i_and_b__3_-qdsrbmahed\")"
   ]
  },
  {
   "cell_type": "markdown",
   "metadata": {},
   "source": [
    "<h3 style=\"color:#9A11DA;\">Multiplication</h3>\n",
    "\n",
    "Just like real numbers, complex numbers can also be multiplied. Multiplication for complex numbers is defined by assuming that they obey the <em>distributive property</em>, which holds for real numbers as well.\n",
    "\n",
    "<div class=\"alert alert-block alert-info\">\n",
    "<b>Recall: the distributive property</b> <br> The distributive property states that for numbers $a, b, c$ and $d$:\n",
    "$$(a+b) \\cdot (c+d) = ac + ad + bc + bd$$\n",
    "</div>\n",
    "\n",
    "Let $c_1=2+4i$ and $c_2= 3+6i$ be two complex numbers, using the distributive property, they multiply as follows:\n",
    "\n",
    "$$\\begin{aligned}\n",
    "c_1 \\cdot c_2 &= (2+3i) \\cdot (4+ 6i) \\\\\n",
    "&=(2\\cdot4) + (2\\cdot 6i) + (3i \\cdot 4) +(3i\\cdot 6i) \\\\\n",
    "&= (2\\cdot4) + (2\\cdot 6i) + (3i\\cdot 4) +(i^2)(3\\cdot 6) \\\\\n",
    "&= (8 - 18) + (24i) = -10 + 24i.\n",
    "\\end{aligned}$$\n",
    "\n",
    "where in the last line we used that, by definition, $i^2 = -1$."
   ]
  },
  {
   "cell_type": "markdown",
   "metadata": {},
   "source": [
    "<font size=3 color=9A11DA>**Exercise.**</font> Evaluate $i^3$, $i^4$, $i^5$, and $i^6$. Do you notice a pattern as the exponent of $i$ increases? The code below takes a complex number $1i=i$, and raises it to the second power. First, confirm that the value of $i^2$ gives the correct result. Then, modify the `exponent` variable of the code to check your answers. We will discuss manipulating complex numbers in python very soon."
   ]
  },
  {
   "cell_type": "code",
   "execution_count": null,
   "metadata": {},
   "outputs": [],
   "source": [
    "c=1j\n",
    "exponent=2\n",
    "print('{}+{}i'.format(int((c**exponent).real),int((c**exponent).imag)))"
   ]
  },
  {
   "cell_type": "markdown",
   "metadata": {},
   "source": [
    "Such a multiplication rule does not seem, at first, to be as easily \"visualized\" as addition and subtraction. In order to obtain a more enlightning visual representation of multiplication we need to modify our point of view. We refer you to the discussion about \"polar form\" in our Quantum Intermediate course if you are interested to learn more."
   ]
  },
  {
   "cell_type": "markdown",
   "metadata": {},
   "source": [
    "<h3 style=\"color:#9A11DA;\">Magnitude of a Complex Number</h3>\n",
    "\n",
    "The *magnitude* of a complex number is the length of its vector representation in the Complex Plane. As you saw above in the gif for complex number addition, the real and imaginary parts of a complex number form the base and perpendicular of a right angled triangle. You can think of the complex number as the hypotenuse of this right angled triangle. So, the magnitude of the complex number can be calculated by Pythagoras' theorem: for a complex number $c = a + ib$, its magnitude is\n",
    "\n",
    "$$ |c| = \\sqrt{a^2 + b^2}.$$\n",
    "\n",
    "<!-- <p><span style=\"color:red\">[snippet plz - i like to visualize pythagoras]</span>.</p> -->\n"
   ]
  },
  {
   "cell_type": "markdown",
   "metadata": {},
   "source": [
    "<h3 style=\"color:#9A11DA;\">Conjugate of a Complex Number</h3>\n",
    "\n",
    "Complex numbers come in pairs. Each complex number has a twin, which we refer to as its <em>complex conjugate</em>, or simply its <em>conjugate</em>. For a complex number $c = a+ib$, its complex conjugate is denoted as $\\bar{c}$, and is defined as: \n",
    "\n",
    "$$\\bar{c} = a-ib.$$\n",
    "\n",
    "In other words, a complex number and its conjugate share the same real part but have opposite imaginary part. What this means is that adding a complex number and its conjugate yields a real number, i.e. $c+\\bar{c} \\in \\mathbb{R}$.\n",
    "\n",
    "But notice also that\n",
    "\n",
    "$$c*\\bar{c} = (a+ib) \\cdot (a-ib) = a^2 -iab + iab - i^2 b^2 = a^2 + b^2 = |c|^2.$$ \n",
    "\n",
    "In other words, multiplying a complex number and its conjugate also yields a real number, and moreover this real number is the square of the magnitude! (Notice that a complex number and its conjugate have the same magnitude.)   \n",
    "\n",
    "\n",
    "<!-- <p><span style=\"color:red\">[where snippet at - i wan visualize plz]</span>.</p> -->\n"
   ]
  },
  {
   "cell_type": "code",
   "execution_count": null,
   "metadata": {},
   "outputs": [],
   "source": [
    "# Multiplying two complex numbers:\n",
    "import numpy as np\n",
    "c1 = 1+2j\n",
    "c2 = 3+4j\n",
    "print('Multiplication of c1 and c2:')\n",
    "print(c1*c2)\n",
    "print('Magnitude of c2:')\n",
    "print(np.abs(c2))\n",
    "print('Conjugate of c2:')\n",
    "print(c2.conjugate())\n",
    "print('Let us multiple c2 with its conjugate. Notice that you will get the square of its magnitude.')\n",
    "print(c2*c2.conjugate())"
   ]
  },
  {
   "cell_type": "code",
   "execution_count": 1,
   "metadata": {},
   "outputs": [
    {
     "data": {
      "application/vnd.jupyter.widget-view+json": {
       "model_id": "1c6d8092156c4b2188425aeee5938a65",
       "version_major": 2,
       "version_minor": 0
      },
      "text/plain": [
       "MultipleChoiceQuestion(jupyterhub_username='mannythemann40@gmail.com', resource_id='qubes_m3_meaning_of_imag')"
      ]
     },
     "metadata": {},
     "output_type": "display_data"
    }
   ],
   "source": [
    "from qbraid_quiz_widget import MultipleChoiceQuestion\n",
    "MultipleChoiceQuestion(\"qubes_m3_meaning_of_imag\")"
   ]
  },
  {
   "cell_type": "code",
   "execution_count": 2,
   "metadata": {},
   "outputs": [
    {
     "data": {
      "application/vnd.jupyter.widget-view+json": {
       "model_id": "026f84eb6ca24ac2969e35c4b8577069",
       "version_major": 2,
       "version_minor": 0
      },
      "text/plain": [
       "MultipleChoiceQuestion(jupyterhub_username='mannythemann40@gmail.com', resource_id='qubes_m3_imag_num_physical…"
      ]
     },
     "metadata": {},
     "output_type": "display_data"
    }
   ],
   "source": [
    "MultipleChoiceQuestion(\"qubes_m3_imag_num_physical_systems\")"
   ]
  },
  {
   "cell_type": "code",
   "execution_count": 5,
   "metadata": {},
   "outputs": [
    {
     "data": {
      "application/vnd.jupyter.widget-view+json": {
       "model_id": "657965595ff84836b949f47dd976ce5a",
       "version_major": 2,
       "version_minor": 0
      },
      "text/plain": [
       "MultipleChoiceQuestion(jupyterhub_username='erik.weis@gmail.com', resource_id='qubes_m3_add_complex')"
      ]
     },
     "metadata": {},
     "output_type": "display_data"
    }
   ],
   "source": [
    "MultipleChoiceQuestion(\"qubes_m3_add_complex\")"
   ]
  },
  {
   "cell_type": "code",
   "execution_count": 6,
   "metadata": {},
   "outputs": [
    {
     "data": {
      "application/vnd.jupyter.widget-view+json": {
       "model_id": "a125e1fd6cf34d25a746d3fce224d819",
       "version_major": 2,
       "version_minor": 0
      },
      "text/plain": [
       "MultipleChoiceQuestion(jupyterhub_username='erik.weis@gmail.com', resource_id='qubes_m3_i_pow_n')"
      ]
     },
     "metadata": {},
     "output_type": "display_data"
    }
   ],
   "source": [
    "MultipleChoiceQuestion(\"qubes_m3_i_pow_n\")"
   ]
  },
  {
   "cell_type": "code",
   "execution_count": 7,
   "metadata": {},
   "outputs": [
    {
     "data": {
      "application/vnd.jupyter.widget-view+json": {
       "model_id": "7f19c0aea48d4d77b272459b32867000",
       "version_major": 2,
       "version_minor": 0
      },
      "text/plain": [
       "MultipleChoiceQuestion(jupyterhub_username='erik.weis@gmail.com', resource_id='qubes_m3_complex_plane')"
      ]
     },
     "metadata": {},
     "output_type": "display_data"
    }
   ],
   "source": [
    "MultipleChoiceQuestion(\"qubes_m3_complex_plane\")"
   ]
  },
  {
   "cell_type": "markdown",
   "metadata": {},
   "source": [
    "<h2 style=\"color:#9A11DA;\">Free Response</h2>\n",
    "\n",
    "1. Suppose we have two complex numbers $c_1 = 5 + 8i$ and $c_2 = 0 - 3i$. Calculate the following:\n",
    "\n",
    "a) $c_1 + c_2$\n",
    "b) $c_1 - c_2$\n",
    "c) $c_2 - c_1$\n",
    "d) $c_1*c_2$\n",
    "\n",
    "2. Using $c_1$ and $c_2$ from the previous problem, find the following:\n",
    "    \n",
    "a) the real part of $\\frac{c_1}{c_2}$\n",
    "b) the imaginary part of $\\frac{c_2}{c_1}$\n",
    "    \n",
    "(Hint: You will need to make the denominator real!)\n",
    "\n",
    "3. If $c_3 = 5 - 8i$, determine whether the product $c_1 \\cdot c_2 \\cdot c_3 $ is real, imaginary, or complex.\n",
    "\n",
    "4. Let $c_1$ and $c_2$ be two complex numbers. Show that the magnitude of $c_1 \\cdot c_2$ equals the product of the magnitudes, i.e. $$ |c_1 \\cdot c_2 | = | c_1| \\cdot | c_2| \\,$$."
   ]
  },
  {
   "cell_type": "markdown",
   "metadata": {},
   "source": [
    "<h2 style=\"color:#9A11DA;\">Challenge Questions </h2>\n",
    "\n",
    "1. A set is a collection is just a collection of mathematical items. For example, $\\{1,2,3,4,5\\}$ is the set of all integers between $1$ and $5$. We can also define sets based on rules, such as the set of all prime numbers, or the set of all real numbers less than $\\pi$. These sets have an infinite number of items, but are nevertheless easy to define. Let $\\mathbb{R}$ represent the set of all real numbers, $\\mathbb{C}$ be the set of all complex numbers, and $\\mathbb{I}$ be the set of all imaginary numbers. \n",
    "\n",
    " - We say that $A$ is a subset of $B$ if all elements of $A$ are also in $B$, written as $A\\subset B$. We can also represent this relationship graphically.\n",
    "\n",
    "<img src='images/subset.png' width=300 style='margin-left:auto;margin-right:auto;'>\n",
    "\n",
    " - We can also describe the intersection of $A \\cap B$, which represents any elements that are common to $A$ and $B$. If two sets have no elements in common, we say that their intersection is the null set. This relationship is written as $A\\cap B = \\varnothing$.\n",
    "\n",
    "Determine the subset relationship between all combinations of $\\mathbb{C}$, $\\mathbb{R}$, and $\\mathbb{I}$. Draw a diagram showing the relationships between these sets."
   ]
  },
  {
   "cell_type": "markdown",
   "metadata": {},
   "source": [
    "2. Consider the complex number $3i$, and the following evaluation:\n",
    "$$\\begin{aligned} 3i \\cdot 3i &= \\sqrt{-9}\\sqrt{-9} \\\\\n",
    "&=\\sqrt{(-9)(-9)} \\\\\n",
    "&=\\sqrt{81} \\\\\n",
    "&=9.\n",
    "\\end{aligned}$$\n",
    "\n",
    "Consider the following alternative evaluation:\n",
    "$$\\begin{aligned} 3i \\cdot 3i &= \\sqrt{-9}\\sqrt{-9} \\\\\n",
    "&=\\sqrt{9}\\sqrt{-1}\\sqrt{9}\\sqrt{-1} \\\\\n",
    "&=\\sqrt{81}(i)(i)\\\\\n",
    "&=9i^2 \\\\\n",
    "&=-9.\n",
    "\\end{aligned}$$\n",
    "\n",
    "Only one of the two evaluations can be correct: which one? What is your reasoning? \n"
   ]
  },
  {
   "cell_type": "markdown",
   "metadata": {
    "ignoreQbook": true
   },
   "source": [
    "<hr>\n",
    "<div style='display:flex;'>\n",
    "    <div style='width:25%;text-align:right;'> <h4 style='color:#9A11DA'>Previous Module:</h4></div>\n",
    "    <div style='width:25%;text-align:left;'> <h4 ><a href='./02_Classical_computing.ipynb' style='color:#9A11DA;text-decoration:underline;opacity:0.6;'>2. Classical Comptuing</a></h4></div>\n",
    "    <div style='width:25%;text-align:right;'> <h4 style='color:#9A11DA'>Next Module:</h4></div>\n",
    "    <div style='width:25%;text-align:left;'> <h4 ><a href='./04_Background_math_linear_algebra.ipynb' style='color:#9A11DA;text-decoration:underline;opacity:0.6;'>4. Background Math: Linear Algebra</a></h4></div>\n",
    "</div>\n",
    "<!-- <hr style='border-color:grey;'> -->"
   ]
  }
 ],
 "metadata": {
  "kernelspec": {
   "display_name": "Python 3 [Default]",
   "language": "python",
   "name": "python3"
  },
  "language_info": {
   "codemirror_mode": {
    "name": "ipython",
    "version": 3
   },
   "file_extension": ".py",
   "mimetype": "text/x-python",
   "name": "python",
   "nbconvert_exporter": "python",
   "pygments_lexer": "ipython3",
   "version": "3.9.10"
  },
  "widgets": {
   "application/vnd.jupyter.widget-state+json": {
    "state": {},
    "version_major": 2,
    "version_minor": 0
   }
  }
 },
 "nbformat": 4,
 "nbformat_minor": 4
}
