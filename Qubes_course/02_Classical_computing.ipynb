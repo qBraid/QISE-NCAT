{
 "cells": [
  {
   "cell_type": "markdown",
   "metadata": {
    "ignoreQbook": true
   },
   "source": [
    "<div style='display:flex;'>\n",
    "    <div style='width:25%;text-align:right;'> <h4 style='color:#9A11DA'>Previous Module:</h4></div>\n",
    "    <div style='width:25%;text-align:left;'> <h4 ><a href='./01_Quantum_Mechanics.ipynb' style='color:#9A11DA;text-decoration:underline;opacity:0.6;'>1. Quantum Mechanics</a></h4></div>\n",
    "    <div style='width:25%;text-align:right;'> <h4 style='color:#9A11DA'>Next Module:</h4></div>\n",
    "    <div style='width:25%;text-align:left;'> <h4 ><a href='./03_Background_math_complex_numbers.ipynb' style='color:#9A11DA;text-decoration:underline;opacity:0.6;'>3. Background Math: Complex Numbers</a></h4></div>\n",
    "</div>\n",
    "<!-- <hr style='border-color:grey;'> -->"
   ]
  },
  {
   "cell_type": "markdown",
   "metadata": {},
   "source": [
    "<h1 style=\"color:#D30982;\">Summary</h1>\n",
    "The goal of this module is to introduce you to:\n",
    "\n",
    "- Basic concepts of classical computation: bits and logic gates."
   ]
  },
  {
   "cell_type": "markdown",
   "metadata": {},
   "source": [
    "<h1 style=\"color:#D30982;\">What is Computation?</h1>\n",
    "\n",
    "\n",
    "<img src=\"images/d_hilbert.jpg\" width=\"200\" style=\"float: right; margin-left: 15px; border-radius: 50%;\" />\n",
    "When we think of computation, we generally associate it with numbers: some long calculation that involves arithmetic operations (addition, subtraction, multiplication). Historically, doing these operations is what motivated people to invent computing devices. However, these primitive motives later inspired and became part of a much richer <em>theory of computation</em>. More generally, a computation is described by what is known as an *algorithm*. An algorithm is like a recipe. It is the description of a sequence of logical rules to be applied to the input to a problem (e.g. two numbers) in order to arrive at a desired result (e.g. the sum of the two numbers).\n",
    "\n",
    "One of the things mathematicians do is prove theorems. Finding/proving new theorems is the process of discovering/inferring new truths from axioms according to a set of rules. One of the most influential mathematicians of all time, David Hilbert (on the right), posed the question: \"Is there a mechanical <em>procedure</em> by which the truth or the falsity of a mathematical conjecture can be decided?\"\n",
    "<img src=\"images/a_turing.jpg\" width=\"200\" style=\"float: left; margin-right: 40px; margin-left: 10px; border-radius: 90%;\" />\n",
    "\n",
    "Alan Turing (on the left), one of the founding figures of computer science, took Hilbert's question quite literally: he came up with a model of a <em>machine</em> to answer this question. Such a machine was inspired by the way mathematicians think when proving theorems: they start from axioms (statements that are taken to be true without proof), and apply logical rules to deduce new conclusions. In practice, a mathematician's mind is keeping track of and continuosly expanding a set of \"known\" conclusions, so that it can build upon what was inferred earlier.\n",
    "\n",
    "Turing abstracted the salient features of this process. He then formalized and elaborated on what may be required if the process were to be automated using <em>machines</em>, and went on to propose a detailed physical model, which is now known as a *Turing Machine*. This is a physical model of a machine which is able to implement any arbitrary *algorithm*. \n",
    "\n",
    "In this module, we won't describe Turing machines. Instead, we will focus on an (essentialy equivalent) model of computation which is closer to what is used in modern day computer architectures, which are based on digital logic circuits. This model is known as the *circuit model* of computation."
   ]
  },
  {
   "cell_type": "markdown",
   "metadata": {},
   "source": [
    "<h1 style=\"color:#D30982;\"> The Circuit Model of Computation</h1>\n",
    " "
   ]
  },
  {
   "cell_type": "markdown",
   "metadata": {
    "toc-hr-collapsed": false
   },
   "source": [
    "  \n",
    "<h2 style=\"color:#9A11DA;\"> Bits</h2>\n",
    "The fundamental unit of information is a *bit*, which has two possible states, 0 and 1. The bit is an abstraction of a tiny electrical component of a digital computer known as a *transistor*. The 'on' and 'off' states of a transistor correspond to 1 and 0, and it is possible for a transistor to switch between the two. You can take some time to realize that the bit is rightfully the fundamental unit of information. If you want to convey something to someone, the minimum amount you can tell them is 'yes' or 'no'. This information does not have to be verbal. For example, presence or absence of an object, the 'on' <!--683600384715  --> or 'off' state of a light bulb, the presence or absence of a sound, all represent one bit of information. We use bits of information in our day-to-day life. For example, seeing all the lights in a house tells you that no-one's home (You answered the question 'is anyone home?' using the one bit information about the lights being turned on or off). \n",
    "<br><br>\n",
    "<img src=\"images/cat_light.gif\" alt=\"Cat\" style='margin-left:auto;margin-right:auto;width:100px;'/>\n",
    "<br>\n",
    "In order to represent more complex information, you can use more bits. For example, with two bits, there are four possible configurations (or states) that the bits could take: 00, 01, 10, and 11. So, let's say you have to convey to a salesperson which color of a phone you want out of the four options available. In this case, since there are four possible options, you would need at least two bits of information to convey your option. The four possible options, say red, pink, grey, and black (or 1,2,3 and 4) can be mapped to configurations of two bits as follows:\n",
    "00 &rarr; red, 01 &rarr; pink, 10 &rarr; grey, 11 &rarr; black.\n",
    "\n",
    "If you had to pick from eight different options, then you would have needed three bits. You can guess the pattern, the number of possible configurations of bits doubles with the addition of each bit.\n",
    "\n",
    "This actually forms the basis of what is known as the *binary number system*. But let's start first from the *decimal number system*, which you are very familar with and use every day. In the decimal number system there are ten numerals: 0, 1, 2, 3, 4, 5, 6, 7, 8, 9. We know, of course, that the numbers do not stop at 9, and we can actually represent as large a number as we wish by just adding more digits. As we hit the number 9, the next number is constructed by adding another digit to the left, and what we obtain is 10. \n",
    "    \n",
    "Before we proceed, take a moment to recall what the decimal notation means. For example,\n",
    "    \n",
    "$$23 = 2 \\cdot 10 + 3\\cdot 1 = 2 \\cdot 10^1 + 3 \\cdot 10^0.$$ And \n",
    "$$619 = 6 \\cdot 10^2 + 1 \\cdot 10^1 + 9 \\cdot 10^0.$$\n",
    "    \n",
    "Do you remember the pattern now?\n",
    "    \n"
   ]
  },
  {
   "cell_type": "markdown",
   "metadata": {},
   "source": [
    "<h2 style=\"color:#9A11DA;\"> The Binary Number System</h2>\n",
    "In the binary number system there are only two numerals, 0 and 1, and just like in the decimal number system you can represent as large a number as you wish by adding more digits. For example, the first few numbers written in the binary number system are: 0, 1, 10, 11, 100, 101, 110, 111, 1000... The rule to convert a number written in binary to its decimal form follows a logic analogous to that of the examples given above. For instance:\n",
    "    \n",
    "$$1101 = 1 \\cdot 2^3 + 1 \\cdot 2^2 + 0 \\cdot 2^1 + 1 \\cdot 2^0  $$  \n",
    "$$10110 = 1\\cdot 2^4 + 0\\cdot 2^3 + 1 \\cdot 2^2 + 1 \\cdot 2^1 + 0 \\cdot 2^0.$$\n",
    "\n",
    "and so on. \n",
    "\n",
    "Every operation that you have learned for the decimal number system, like addition, subtraction, multiplication, division, etc. is valid for the binary number system as well. The decimal and binary number systems are just two different ways to represent the integers. It just takes some time to get used to the binary number system. For example, when you are adding two numerals in the decimal system, whenever the sum is greater than 9, you carry over a 1 to the next digit. Similarly, in the binary number system, whenever the sum is greater than 1, you carry over a 1. The rules, then become: <br />\n",
    "<center>0+0=0<br /> 0+1=1 <br /> 1+0=1 <br /> 1+1=10</center>\n",
    "\n",
    "You would rarely have to do the mapping from binary to decimal number system, or carry out arithmetic operations in the binary number system, yourself. However, it is interesting to know that this is how a digital computer (like your laptop) operates. Even when you are trying to add 16+12, behind the scenes, it is first converting the numbers to their binary representation, adding them, and then only converting the result back to the decimal system.\n",
    "\n",
    "If you ever want to do this conversion and need the binary representation of a number, you can do it by hand, or you can conveniently use Python. \n",
    "<!-- <p><span style=\"color:red\">[The code below needs to be commented much more! Explain what is going on with c.]</span>.</p> -->\n",
    "\n",
    "\n"
   ]
  },
  {
   "cell_type": "markdown",
   "metadata": {},
   "source": [
    "In the following code cell, we show you how to get the binary representation of an integer. Further, we show yo that you can add two integers in their binary representation, and then convert the outcome back to integers. "
   ]
  },
  {
   "cell_type": "code",
   "execution_count": null,
   "metadata": {},
   "outputs": [],
   "source": [
    "# To get the binary representation of a number we use the method 'bin()'\n",
    "a = bin(2200)\n",
    "b = bin(13)\n",
    "print('The binary representation of number 10 is:',a)\n",
    "print('The binary representation of number 12 is:',b)\n",
    "print('\\n You can check that if you add binary representation of a and b, you get')\n",
    "c = bin(int(a[2:],2)+int(b[2:],2))\n",
    "print(c)\n",
    "print('The binary representation of c corresponds to:')\n",
    "print(int(c[2:],2))\n",
    "\n",
    "       # 1100100"
   ]
  },
  {
   "cell_type": "markdown",
   "metadata": {},
   "source": [
    "<h2 style=\"color:#9A11DA;\"> Representing Different Types of Information Using Bits</h2>\n",
    "\n",
    "To briefly remind you, the reason why computers operate using the binary number system is that it makes things easier at a physical level, since the microchips of computers consist of an enormous number of tiny transistors, which just have two states, 0 and 1. \n",
    "\n",
    "Ok, but what about representing words, images, sound? All of those can also represented using sequences of 0s and 1s. \n",
    "\n",
    "For instance, the letters that you are reading on the screen right now are, behind the scenes, nothing other than sequences of 0's and 1's (such sequences are often called 'strings'). Each letter of the alphabet is mapped to a unique sequence of 0's and 1's. "
   ]
  },
  {
   "cell_type": "markdown",
   "metadata": {},
   "source": [
    "<h3 style=\"color:#D30982;\"> Representing Strings</h3>\n",
    "\n",
    "A possible mapping of letters to binary strings would be:\n",
    "\n",
    "<center>00001 &rarr; A, 00010 &rarr; B, 00011 &rarr; C, 00110 &rarr; D, 00111 &rarr; E ..</center>\n",
    "\n",
    "Of course, in scenarios like the internet, where we are constantly interacting with content created by people we have never met, the mapping of letters to binary strings should be consistent, i.e. we should all agree on a mapping. Otherwise you would not be able to make sense of the sequence of binary strings which encodes, say, a blog post from your favorite blogger. To this end, there are organizations which standardize the binary representation of alphabets. The following code shows how to print the binary representation of letters in the alphabet:"
   ]
  },
  {
   "cell_type": "code",
   "execution_count": null,
   "metadata": {},
   "outputs": [],
   "source": [
    "# The ord() method in python returns the integer representing the alphabet. This integer can be converted to binary code using bin() function.\n",
    "print('The binary representation of A is given by:')\n",
    "print(bin(ord('A')))"
   ]
  },
  {
   "cell_type": "markdown",
   "metadata": {},
   "source": [
    "<h3 style=\"color:#D30982;\"> Representing Images</h3>\n",
    "\n",
    "For images, we go through a similar procedure of deciding how to encode information about an image into strings of 0s and 1's. At a granular level, each image is divided into a rectangular grid and each tiny square has a color (the finer the grid, the higher is the definition of the image). It is a fact that each color can be produced by combining just three colors: red, blue and green. Thus, for each tiny square in the grid, the information about its color is stored in three integers representing the intensities of the colors red, blue, and green (in turn these three integers can be stored in binary). So, when you take a picture with a 12 megapixel camera, you are actually storing values of red, blue and green for each of the 12 million pixels. In essence, you are storing $36 \\times 10^6$ numbers for each picture. The following code cell shows how to get these numbers behind the scenes (find out what image the matrix of integers you see corresponds too!) "
   ]
  },
  {
   "cell_type": "code",
   "execution_count": null,
   "metadata": {},
   "outputs": [],
   "source": [
    "# The package scipy contains sample pictures in the misc folder that can be imported.\n",
    "from scipy import misc\n",
    "# we import matplotlib which helps in showing the pictures. The \"as plt\" part means that we will call it plt when we invoke it later.\n",
    "import matplotlib.pyplot as plt\n",
    "# we import numpy to manipulate matrices\n",
    "import numpy as np\n",
    "# import the module copy to copy variables.\n",
    "import copy\n",
    "# assign the matrix of numbers that represent the image to a variable. \n",
    "f = misc.face()\n",
    "# The following line shows the image in the notebook.\n",
    "plt.imshow(f)\n",
    "f_shape = np.shape(f)\n",
    "#The following line shows the matrix of numbers that represents the picture.\n",
    "#Note the numbers are between 0 and 255. These represent different colors\n",
    "print(f)"
   ]
  },
  {
   "cell_type": "markdown",
   "metadata": {},
   "source": [
    "From all of these examples, you should be able to convince yourself that it is indeed possible to represent all of the digital information that we routinely encounter on our phones, on the internet etc. using just bits (sufficiently many of them). However, you may still wonder: doesn't all of this require a huge number of bits? And how many transistors can we store on a microchip anyway?\n",
    "\n",
    "<div class=\"alert alert-block alert-info\">\n",
    "It is indeed remarkable that the jungle of information that surrounds us is nothing but 0s and 1s. The reason that this is possible in practice is that we can fit more than a billion tiny transistors on a single computer chip, and do more than a billion operations in a single second on 64 transistors. <br /> Stretch out your hand and look at any of your nails. Its area is comparable to the area of the A13 bionic chips (these are used on an iPhone 11 pro), which houses 8.5 billion transistors. You can try to imagine building and arranging these tiny transistors on such a small area and having precise control over all of them. If this was new information for you, we hope you have gained a deeper appreciation for the digital world around you. Just the simple act of taking a photo on your phone requires a marvelous synchronous dance of billions of these transistors, billions of times. If you are using an iPhone, then the dance was synchronized by software engineers at Apple. The code they write is used by billions of people around the globe. We hope that the this course will inspire you to, one day, develop amazing products that will benefit other people.\n",
    "</div>\n",
    "    \n",
    "If you now suddenly think that digital computation is cool, wait for quantum! Before that, let's wrap up our discussion about digital computation.\n",
    "\n",
    "So far we have talked about storing information in bits, but we also need to process them. This information processing could range from the simple task of adding two numbers, to something more complex, such as applying an Instagram filter to a picture. At this point you should be able to guess that applying a filter to a picture amounts to nothing more than altering the values of the colors of each pixel according to some rule. We demonstrate this to you in the code snippet that follows."
   ]
  },
  {
   "cell_type": "code",
   "execution_count": null,
   "metadata": {},
   "outputs": [],
   "source": [
    "# creating a copy of the variable, so we can play with it\n",
    "f1 = copy.deepcopy(f)\n",
    "# make a bunch of entries in the matrix zero.\n",
    "f1[:,1:300,:]=np.zeros([f_shape[0],299,f_shape[2]])\n",
    "plt.imshow(f1)\n"
   ]
  },
  {
   "cell_type": "code",
   "execution_count": null,
   "metadata": {},
   "outputs": [],
   "source": [
    "# As we discussed above, the numbers represent the colors of pixels. So, let's just play\n",
    "# with these numbers and add 50 to each number in the matrix\n",
    "x_filter = 50*np.ones(np.shape(f),dtype='uint8')\n",
    "# type(x_filter)\n",
    "f1 = f+x_filter\n",
    "#plt.show()\n",
    "plt.imshow(f1)"
   ]
  },
  {
   "cell_type": "code",
   "execution_count": null,
   "metadata": {},
   "outputs": [],
   "source": [
    "# Now we subtract 50 from each number in the matrix and see what happens.\n",
    "f2 = f-x_filter\n",
    "plt.show()\n",
    "plt.imshow(f2)"
   ]
  },
  {
   "cell_type": "code",
   "execution_count": null,
   "metadata": {},
   "outputs": [],
   "source": [
    "import math"
   ]
  },
  {
   "cell_type": "code",
   "execution_count": null,
   "metadata": {},
   "outputs": [],
   "source": [
    "alpha=abs(-1j/math.sqrt(2))\n",
    "print(alpha)"
   ]
  },
  {
   "cell_type": "code",
   "execution_count": null,
   "metadata": {},
   "outputs": [],
   "source": [
    "p_alpha = alpha**2"
   ]
  },
  {
   "cell_type": "code",
   "execution_count": null,
   "metadata": {},
   "outputs": [],
   "source": [
    "print(p_alpha)"
   ]
  },
  {
   "cell_type": "code",
   "execution_count": null,
   "metadata": {},
   "outputs": [],
   "source": []
  },
  {
   "cell_type": "markdown",
   "metadata": {},
   "source": [
    "<h1 style=\"color:#D30982;\"> Logic Gates</h1>\n",
    "\n",
    "A computation is nothing other than the manipulation of a starting string of bits (the input to the computation) into a final string of bits (the output). In the <em>circuit model</em> of computation, such manipulations are realized via <em>logic gates</em>. A logic gate takes as input multiple bits (or equivalently a string of bits), and ouputs a single bit. The output of a logic gate is a fixed function of the input.\n",
    "\n",
    "You can think of logic gates as the building blocks of any digital computation: one can then create large *digital circuits* that implement complex algorithms by combining logic gates together, feeding the output of one gate as input to another gate. \n",
    "\n",
    "The reason why we refer to these abstract arrangements of logic gates as *circuits* is that the way they are realized physically on a chip is via *electrical circuits*, where the presence or absence of current in a wire represents a bit in the state 0 or 1 respectively. The analogy extends to the way we visualize digital circuits. \n",
    "\n",
    "We think of the computation as running from left to right. Each logic gate has a number of *input* wires (entering from the left), one for each bit of the input, and a single output wire (exiting from the right). The output wire of a logic gate can coincide with one of the input wires of a subsequent logic gate (meaning that the output of the first logic gate is provided as input to the second)."
   ]
  },
  {
   "cell_type": "markdown",
   "metadata": {},
   "source": [
    "<h3 style=\"color:#D30982;\"> Single Bit Logic Gates</h3>\n",
    "\n",
    "A single bit logic gate is one that takes as input a single bit (and outputs a single bit).\n",
    "\n",
    "An example of a single bit logic gate is the NOT-gate, which flips the value of the input bit. In the animation below, X corresponds to the input and Z to the output. \n",
    "\n",
    "<img src=\"images/not_gate.gif\" height=\"250\" width=\"400\" style='margin-left:auto;margin-right:auto;'/>\n",
    "     \n",
    "Are there other single bit logic gates other than the NOT gate? Not many. There are four distinct possible ways to map the set $\\{0,1\\}$ to $\\{0,1\\}$. Other than the mapping $0 \\rightarrow 1$, $1 \\rightarrow 0$, which corresponds to the NOT gate, there are three others, but they are all \"trivial\", in some sense:\n",
    "\n",
    "1. The mapping $0 \\rightarrow 0$, $1 \\rightarrow 1$ corresponds to the identity gate (i.e. the gate that outputs the input without changes).\n",
    "2. And the mappings $0 \\rightarrow 0$, $1 \\rightarrow 0$, and $0 \\rightarrow 1$, $1 \\rightarrow 1$. Both of these mappings are trivial in the sense that the output of the logic gate is constant, i.e. it doesn't depend on the input."
   ]
  },
  {
   "cell_type": "markdown",
   "metadata": {},
   "source": [
    "<h3 style=\"color:#D30982;\">  Two Bit Logic Gates</h3>\n",
    "\n",
    "Two bit logic gates are much more interesting then single bit logic gates, and they allow us to create much more expressive circuits. As an example, we start with the AND gate which outputs 1 only when both of the inputs are 1. In the animation below, X and Y are the inputs, and the Z is the output.\n",
    "\n",
    "<img src=\"images/ANDgate.gif\" height=\"250\" width=\"400\" class='center' style='margin-left:auto;margin-right:auto;'>\n",
    "\n",
    "\n",
    "Another example is the OR-gate, which outputs 1 as long as at least one out of the two input bits is 1:\n",
    "\n",
    "<img src=\"images/ORgate.gif\" height=\"250\" width=\"400\" style='margin-left:auto;margin-right:auto;' />\n",
    "\n",
    "As we mentioned earlier, logic gates can be combined together to form larger circuits: the output of a logic gate can be provided as input to multiple other logic gates. We represent this by feeding the output wire of a logic gate to other logic gates. Here is an example of what a digital circuit might look like:\n",
    "\n",
    "<img src=\"images/full_adder.png\" height=\"250\" width=\"400\" style='margin-left:auto;margin-right:auto;'/>\n",
    "where, A, B, and $C_{in}$ are input bits, and S and $C_{out}$ are output bits. The circuit shown is for summing three binary numbers, and is called a full adder. This circuit could also be used as a subcircuit for creating much bigger circuits. "
   ]
  },
  {
   "cell_type": "markdown",
   "metadata": {},
   "source": [
    "<h3 style=\"color:#D30982;\"> A Universal Set of Gates</h3>\n",
    "\n",
    "Remarkably, it turns out that one needs to use only a very small set of logic gates as building blocks to implement *any* function from any number of input bits to $1$ output bit (such functions are called Boolean functions).\n",
    "\n",
    "In fact, the gates AND and NOT are already sufficient to implement any Boolean function. What this means is that, for any integer $n$, and any function $f$ from $n$ input bits to $1$ output bit, one can write down a digital circuit which uses exclusively the gates AND and NOT, and such a circuit has the property that on input the $n$-bit string $x$, it outputs $f(x)$.\n",
    "\n",
    "The set of logic gates $\\{\\text{AND}, \\text{NOT}\\}$ is referred to as a *universal set of gates*. This is not the only example of a universal set of gates. For example the set $\\{\\text{OR}, \\text{NOT}\\}$ is also universal. \n",
    "\n",
    "The fact that such small universal sets of gates exist greatly simplifies the process of developing circuits, as it is sufficient for a manufacturer to focus on implementing just a few logic gates.\n",
    "\n",
    "<!-- All these low level operations are abstracted by assembly language. Assembly language is a low-level programming language in which the programmers themselves convert the problem they want to solve in terms of some elementary instructions of assembly language which then converts these instructions to the digital circuits. As you can imagine, this is cumbersome.\n",
    "So, on top of we have another layer known as operating system. In operating system you can have different apps installed or even high level programming languages like python. You the user send the commands for things you want to do in very simple language and the commands go through multiple levels of abstraction and finally gets converted into digital circuits which are then executed using bits and logic gates.\n",
    "\n",
    "We will be making use of python abundantely in these tutorials. It is an easy language as it is very close to the natural language. It may be interesting to note that even most of quantum computers are also programmed using python. \n",
    "\n",
    "High level languages like python are where you can write code for a given algorithm to accomplish certain task. Even though, we have so much computational resources available, but they are no match for some of the algorithms. As we will learn later, there are some problems in quantum mechanics which you can not solve, no matter how much computational resources you have. -->"
   ]
  },
  {
   "cell_type": "code",
   "execution_count": null,
   "metadata": {},
   "outputs": [],
   "source": [
    "from qbraid_quiz_widget import MultipleChoiceQuestion\n",
    "MultipleChoiceQuestion('qubes_m2_bits')"
   ]
  },
  {
   "cell_type": "code",
   "execution_count": null,
   "metadata": {},
   "outputs": [],
   "source": [
    "from qbraid_quiz_widget import MultipleChoiceQuestion\n",
    "MultipleChoiceQuestion('qubes_m2_bit_states')"
   ]
  },
  {
   "cell_type": "code",
   "execution_count": null,
   "metadata": {},
   "outputs": [],
   "source": [
    "from qbraid_quiz_widget import MultipleChoiceQuestion\n",
    "MultipleChoiceQuestion('qubes_m2_binary')"
   ]
  },
  {
   "cell_type": "code",
   "execution_count": null,
   "metadata": {},
   "outputs": [],
   "source": [
    "from qbraid_quiz_widget import MultipleChoiceQuestion\n",
    "MultipleChoiceQuestion('qubes_m2_binary_sum')"
   ]
  },
  {
   "cell_type": "code",
   "execution_count": null,
   "metadata": {},
   "outputs": [],
   "source": [
    "from qbraid_quiz_widget import MultipleChoiceQuestion\n",
    "MultipleChoiceQuestion('qubes_m2_binary_sum_2')"
   ]
  },
  {
   "cell_type": "code",
   "execution_count": null,
   "metadata": {},
   "outputs": [],
   "source": [
    "from qbraid_quiz_widget import MultipleChoiceQuestion\n",
    "MultipleChoiceQuestion('qubes_m2_bits_2')"
   ]
  },
  {
   "cell_type": "code",
   "execution_count": null,
   "metadata": {},
   "outputs": [],
   "source": [
    "from qbraid_quiz_widget import MultipleChoiceQuestion\n",
    "MultipleChoiceQuestion('qubes_m2_bits_3')"
   ]
  },
  {
   "cell_type": "markdown",
   "metadata": {},
   "source": [
    "<h2 style=\"color:#9A11DA;\">Free Response</h2>\n",
    "\n",
    "1. What is a logic gate? \n",
    "\n",
    "2. What is the shape of an AND gate? What is the shape of an OR gate?\n",
    "\n",
    "3. Using a combination of AND and NOT gates, implement the OR gate? Recall that the OR gate should output $1$ if either of outputs are $1$.\n",
    "\n",
    "4. How many inputs does a AND gate have? NOT gate? OR gate?\n",
    "\n",
    "5. What is a universal set of gates?\n",
    "\n",
    "6. What are balanced and constant logic gates?"
   ]
  },
  {
   "cell_type": "markdown",
   "metadata": {},
   "source": [
    "<h2 style=\"color:#9A11DA;\">Challenge Questions</h2>\n",
    "\n",
    "**A Circuit for bitwise addition.** \n",
    "1. The circuit shown below is called a half adder. The effect of the circuit is to add the values of bit values $a$ and $b$. The $c_{out}$ is called the carry bit. For each of the following inputs, calculate the ouput the following circuit? When is the carry bit $1$?\n",
    "\n",
    "- $a=0$, $b=0$\n",
    "- $a=0$, $b=1$\n",
    "- $a=1$, $b=0$\n",
    "- $a=1$, $b=1$\n",
    "\n",
    "<img src='images/half_adder.png' width=200 style='margin-left:auto;margin-right:auto;'>\n",
    "\n",
    "2. The circuit shown below is called a full adder. It can be used in conjunction with a half adder and with more full adders to add two bit values together. For each of the following inputs, calculate the ouput the following circuit? Under what conditions is the output carry bit $1$?\n",
    "    \n",
    "- $a=0$, $b=0$, $c_{in}=0$\n",
    "- $a=0$, $b=1$, $c_{in}=0$ \n",
    "- $a=1$, $b=0$, $c_{in}=0$\n",
    "- $a=1$, $b=1$, $c_{in}=0$\n",
    "- $a=0$, $b=0$, $c_{in}=1$\n",
    "- $a=0$, $b=1$, $c_{in}=1$ \n",
    "- $a=1$, $b=0$, $c_{in}=1$\n",
    "- $a=1$, $b=1$, $c_{in}=1$\n",
    "\n",
    "3. Now imagine we have two bit strings, $a=010$ and $b=011$. We can add these together using a half adder, followed by a full adder. \n",
    "\n",
    "- Use the half adder to add the least significant digit of $a$ to the least significant digit of $b$. \n",
    "- Next, use the full adder (with the value carry value from the previous circuit) to add the second-least significant digit of $a$ to the second-least significant digit of $a$ and $b$. \n",
    "- Finally, use the carry output with another full adder to add the most-significant digit of $a$ with the most-significant digit of $b$.\n",
    "\n",
    "<img src='images/full_adder.png' width=350 style='margin-left:auto;margin-right:auto;'>\n",
    "\n",
    "4. The gate NAND is a combination of two gates: AND and NOT. It applies a NOT to the output of the AND gate. The AND gate outputs $1$ only if both its inputs are $1$ and zero otherwise. The NAND gate outputs $0$ only if both inputs are $1$ and $1$ otherwise. Go to [nandgame.com](http://www.nandgame.com) and play a few levels. The goal of the game is to build circuits using just NAND gates. Once you have built a circuit using just NAND gates, you can use those circuits in further levels, knowing you have already constructed them from NAND gates alone!"
   ]
  },
  {
   "cell_type": "markdown",
   "metadata": {
    "ignoreQbook": true
   },
   "source": [
    "<hr>\n",
    "<div style='display:flex;'>\n",
    "    <div style='width:25%;text-align:right;'> <h4 style='color:#9A11DA'>Previous Module:</h4></div>\n",
    "    <div style='width:25%;text-align:left;'> <h4 ><a href='./01_Quantum_Mechanics.ipynb' style='color:#9A11DA;text-decoration:underline;opacity:0.6;'>1. Quantum Mechanics</a></h4></div>\n",
    "    <div style='width:25%;text-align:right;'> <h4 style='color:#9A11DA'>Next Module:</h4></div>\n",
    "    <div style='width:25%;text-align:left;'> <h4 ><a href='./03_Background_math_complex_numbers.ipynb' style='color:#9A11DA;text-decoration:underline;opacity:0.6;'>3. Background Math: Complex Numbers</a></h4></div>\n",
    "</div>\n",
    "<!-- <hr style='border-color:grey;'> -->"
   ]
  }
 ],
 "metadata": {
  "kernelspec": {
   "display_name": "Python 3 [Default]",
   "language": "python",
   "name": "python3"
  },
  "language_info": {
   "codemirror_mode": {
    "name": "ipython",
    "version": 3
   },
   "file_extension": ".py",
   "mimetype": "text/x-python",
   "name": "python",
   "nbconvert_exporter": "python",
   "pygments_lexer": "ipython3",
   "version": "3.9.10"
  },
  "toc-autonumbering": true,
  "widgets": {
   "application/vnd.jupyter.widget-state+json": {
    "state": {},
    "version_major": 2,
    "version_minor": 0
   }
  }
 },
 "nbformat": 4,
 "nbformat_minor": 4
}
