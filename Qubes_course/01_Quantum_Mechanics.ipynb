{
 "cells": [
  {
   "cell_type": "markdown",
   "metadata": {
    "ignoreQbook": true
   },
   "source": [
    "<div style='display:flex;'>\n",
    "    <div style='width:25%;text-align:right;'> <h4 style='color:#9A11DA'>Previous Module:</h4></div>\n",
    "    <div style='width:25%;text-align:left;'> <h4 ><a href='./0_Introduction.ipynb' style='color:#9A11DA;text-decoration:underline;opacity:0.6;'>0. Introduction</a></h4></div>\n",
    "    <div style='width:25%;text-align:right;'> <h4 style='color:#9A11DA'>Next Module:</h4></div>\n",
    "    <div style='width:25%;text-align:left;'> <h4 ><a href='./02_Classical_computing.ipynb' style='color:#9A11DA;text-decoration:underline;opacity:0.6;'>2. Classical Computing</a></h4></div>\n",
    "</div>\n",
    "<!-- <hr style='border-color:grey;'> -->"
   ]
  },
  {
   "cell_type": "markdown",
   "metadata": {},
   "source": [
    "<h1 style=\"color:#D30982;\">Summary</h1>\n",
    "\n",
    "- What is a particle?\n",
    "- What is a wave?\n",
    "- The double-slit experiment.\n",
    "- Discussion about whether quantum 'objects' are waves or particle.\n",
    "- Axioms of quantum mechanics."
   ]
  },
  {
   "cell_type": "markdown",
   "metadata": {
    "toc-hr-collapsed": false
   },
   "source": [
    "<h2 style=\"color:#9A11DA;\">This Module</h2>\n",
    "\n",
    "The goal of this module is to give you a first historical (somewhat informal) introduction to the theory of *quantum mechanics*. We will discuss some of the most counterintuitive aspects of quantum mechanics without appealing to any mathematics. In the modules to come, we will review the basic mathematical tools to build the basics of the theory of quantum mechanics and quantum computing from the ground up. "
   ]
  },
  {
   "cell_type": "markdown",
   "metadata": {
    "toc-hr-collapsed": false
   },
   "source": [
    "<h1 style=\"color:#D30982;\">Classical Physics</h1>\n",
    "\n",
    "Physics aims to understand how nature works. All of the successful physical theories that have been developed before the 1920s are now grouped under an umbrella called \"classical physics\". Classical physics has two main components: classical (Newtonian) mechanics and electromagnetism. \n",
    "\n",
    "At the heart of classical mechanics is the concept of a *particle*, which has some properties, e.g. it has a mass, it obeys Newton's laws, etc. On the other hand, at the heart of electromagnetism is the concept of a *wave*, which possesses certain properties like an amplitude and a frequency. Together, classical mechanics and electromagnetism explain most of the phenomena that we regularly observe. For example, the movements and collisions of billiard balls are well explained by classical mechanics; heat and temperature can be explained in terms of the motion of atoms: the faster atoms move, the higher their temperature. On the other hand, *light*, which allows us to see and without which there would be no life on earth, is nothing but an electromagnetic wave.\n",
    "\n",
    "So, what led to the development of quantum mechanics? Towards the end of the nineteenth century, some physical experiments produced observations which *could not* be explained by classical physics! In particular, these experiements investigated matter at increasingly microscopic scales. Through much of the 19th century, physicists had reasonably assumed that the rules governing matter at large scales were equally valid for microscopic systems. But at the dawn of the twentieth century, the number of experiments not matching classical predictions kept increasing. It became clear that the behavior of very small systems (on the order of $10^{-10}$ meters) could not be explained using classical physics, and that a new theory was needed to make sense of these experiments.\n",
    "\n",
    "We will not describe all of these experiments, but just one of them, which captures some of the main novel features of the quantum world. The experiment is commonly known as the \"double-slit experiment\"."
   ]
  },
  {
   "cell_type": "markdown",
   "metadata": {
    "toc-hr-collapsed": false
   },
   "source": [
    "<hr style ='opacity:0;'>\n",
    "<h1 style=\"color:#D30982;\">Quantum Mechanics: Double-Slit Experiment</h1>\n",
    "\n",
    "Science is inherently an iterative process, where we observe, reason, and experiment numerous times in order to make sense of the rules of nature. If we have access to only limited observations, it's understandably very hard to get all of the details right. As we gather more and more data, we get better and better estimates of these rules. This has certainly been the case with quantum mechanics: during the nineteenth century we did not have at our disposal many scientific instruments which allowed us to probe nature at the microscopic level. Our best guess was that things behaved in exactly the same way as they did at the macroscopic level. We figured that Newtonian mechanics, which explains nature so well at the macroscopic level, would still be valid at the microscopic level - how wrong we were!\n",
    "\n",
    "Towards the end of the nineteenth century, experimental results began to emerge that could not be explained by classical physics. The most common opinion at the time was that we were missing something small, and that we could just modify classical physics in a way that would explain the observations.\n",
    "\n",
    "During the first two decades of the twentieth century, many more physicists were performing experiments at the microscopic level, producing more and more observations that still could not be explained by classical physics. By the end of the 1920s, it was clear that we needed a new theory to explain all of these observations, and this new theory was *quantum mechanics*.\n",
    "\n",
    "<h4 style = \"color:#9A11DA;font-size:18px;\"><b>A Tip for Understanding Quantum Mechanics<b/></h4>\n",
    "\n",
    "As you hear about quantum mechanics for the first time, it will probably sound very unnatural to you. You might be left wondering 'how could nature possibly be this way?' This reaction is completely justified, because your perception of nature is rooted in the macroscopic world, which appears to follow the rules of classical physics.\n",
    "    \n",
    "What we suggest that you do is to put yourself in the shoes of a physicist and say, \"Okay, I have a set of observations from these experiments, and I need to come up with a theory to explain them.\" Once you adopt this approach, you will probably become more comfortable with quantum mechanics. You should realize that the experiments involved here are about particles *one million times smaller* than the *width of your hair*, and when you think about it, there's absolutely no reason why you should have an intuitive understanding of the world at that scale. In fact, these experiments are the natural starting point to build that intuition.\n",
    "\n",
    "Now, as promised, let's look at one such experiment: the double-slit experiment."
   ]
  },
  {
   "cell_type": "markdown",
   "metadata": {
    "toc-hr-collapsed": true
   },
   "source": [
    "<h2 style=\"color:#9A11DA;\">The Double-Slit Experiment</h2>\n",
    "\n",
    "The double-slit experiment is a landmark experiment in physics. It was first performed by Young in 1801, using light. In 1927, Davisson and Germer performed the same experiment using electrons, observing the same qualitative behaviour. \n",
    "\n",
    "To understand the behaviour of quantum objects, it is often helpful to contrast this to the behavior of particles and macroscopic waves. We will show you the double-slit experiment three times: first with *particles*, then with *macroscopic waves* (for example water waves) and finally with *quantum objects* (like a photon or an electron).\n",
    "\n",
    "Before we dive into it, let's summarize two important concepts from classical physics:\n",
    "<div style = \"color:#9A11DA;font-size:18px;font-weight:normal;\"> 1. Particle</div>\n",
    "<ul>\n",
    "    <li> A particle is a localized object which has a definite mass. Other properties include volume, density, etc. </li>\n",
    "    <li>The state of a particle is described by its position and momentum. Given position and momentum, Newton's laws describe the motion of the particle.</li>\n",
    "</ul>\n",
    "<div style = \"color:#9A11DA;font-size:18px;font-weight:normal;\">2.  Wave</div>\n",
    "<ul><li>A wave is a phenomenon that is spread out (in space, usually). Often arises from a 'disturbance' in some medium. </li>\n",
    "    <li>A wave is characterized by its amplitude, frequency, wavelength.</li>\n",
    "    <li>A wave can be physically caused by the motion of particles, but it is the *collective* motion of all the particles that gives rise to a wave, not the individual motion of a single particle. See for example the following picture. </li>\n",
    "</ul>\n",
    "    \n",
    "<img src=\"images/animation.gif\" height=\"350\" width=\"400\" style='margin-left:auto;margin-right:auto;' />\n",
    "\n",
    "Try focusing your eyes on a single particle (it might help to choose a particle that is close a vertical line). Can you see that the particle is just moving up and down vertically, but is *not* moving *at all* horizontally? \n",
    "\n",
    "<h3 style=\"color:#D30982;\">Setup</h3>\n",
    "\n",
    "The double-slit experiment involves:\n",
    "- a source (which emits particles)\n",
    "- a screen with two holes, and\n",
    "- a detector screen. \n",
    "\n",
    "For the three iterations of the experiment, the source will generate three different types of objects, respectively particles, waves and quantum objects, which then pass through the screen and hit the detector.\n",
    "\n",
    "Let's start by looking at how particles behave:"
   ]
  },
  {
   "cell_type": "markdown",
   "metadata": {},
   "source": [
    "<div style=\"color:#D30982;font-size:18px;\">Case 1: Particle</div>\n",
    "\n",
    "For intuition, think of particles simply as \"tennis balls\". This is how physicists thought all particles should behave before the double-slit experiment became popular."
   ]
  },
  {
   "cell_type": "code",
   "execution_count": null,
   "metadata": {},
   "outputs": [],
   "source": [
    "from IPython.display import YouTubeVideo\n",
    "vid = YouTubeVideo(\"Xmq_FJd1oUQ\",width=700, height=400, start=0, end=21, mute=1)\n",
    "display(vid)"
   ]
  },
  {
   "cell_type": "markdown",
   "metadata": {},
   "source": [
    "In the above experiment, we observed that when the source emits particles:\n",
    "- Each particle passes through one of the slits and lands at a *singular* and very *well-defined* point on the detector screen.\n",
    "- Most particles hit the detector more or less in front of the slit that they pass through. Some of the particles hit the edges of the slit and get deflected, which is why a few particles land far away from this point.\n",
    "\n",
    "Now, let's proceed to the second experiment:"
   ]
  },
  {
   "cell_type": "markdown",
   "metadata": {},
   "source": [
    "<div style=\"color:#D30982;font-size:18px;\">Case 2: Waves</div>\n",
    "\n",
    "For intuition, think of macrospic waves as \"water waves\" (e.g. the kind of waves that you would see if you threw a stone in a pond)."
   ]
  },
  {
   "cell_type": "code",
   "execution_count": null,
   "metadata": {},
   "outputs": [],
   "source": [
    "from IPython.display import YouTubeVideo\n",
    "vid = YouTubeVideo(\"Xmq_FJd1oUQ\",width=700, height=400, start=22, end=39, mute=1)\n",
    "display(vid)"
   ]
  },
  {
   "cell_type": "markdown",
   "metadata": {},
   "source": [
    "The observations that we make in the case of waves are:\n",
    "- The wave does not have a definite position associated with it. Rather, it is spread out in space, and \"passes through\" both slits at the same time.\n",
    "- It creates an interference pattern on the detector screen. You can imagine these waves being created in water. As you know from your own experience, water waves have high points (crests) and low points (troughs). You can also observe that when the wave passes through the two slits, each slit acts as a new source. When two crests or two troughs meet at a point on the screen, they *interfere constructively* and the screen shows a high intensity band. On the other hand, when a crests and a trough meet at a point on the screen, they *interfere destructively* and cancel each other out, resulting in a dark band. These alternating bands on the screen are referred to as an *interference pattern*.\n",
    "- Notice that the interference pattern is distinctly a phenomen that is caused by waves, and is not observed in the case of particles.\n",
    "<br />\n",
    "\n",
    " \n",
    "So far, so good! The observations from the two experiments above were nothing new to physicists in the 1920s and are completely understood using classical physics. What follows is much more intruiguing. Let's proceed to the case of a source emitting quantum objects, like photons or electrons."
   ]
  },
  {
   "cell_type": "markdown",
   "metadata": {},
   "source": [
    "<div style=\"color:#D30982;font-size:18px;\">Case 3: Quantum Object</div>"
   ]
  },
  {
   "cell_type": "code",
   "execution_count": null,
   "metadata": {},
   "outputs": [],
   "source": [
    "from IPython.display import YouTubeVideo\n",
    "vid = YouTubeVideo(\"Xmq_FJd1oUQ\",width=700, height=400, start=39, end=115, mute=1)\n",
    "display(vid)"
   ]
  },
  {
   "cell_type": "markdown",
   "metadata": {},
   "source": [
    "The case of a quantum object, say a photon, is certainly the most interesting! First, recognize that the animation you watched is just a depiction. The visualization of the quantum object before it hit the detector screen was just meant to provide an intuition.\n",
    "\n",
    "We will build a model for the quantum world based on what we see on the detector screen, and the multiple experiments we can do by playing with the experimental setup. Here are some crucial observations:\n",
    "- When a photon lands on the detector screen it hits it at a singular point, i.e. its position is well defined. Based on this, we can convince ourselves that it is behaving like a particle.\n",
    "- The second observation is where things get very interesting, if not outright weird. As you saw in the animation, if we keep going and we let the source emit a large number of photons, then what we observe on the detector screen is the same interference pattern which we saw in the case of a wave. <br />\n",
    "It is as if the photons were particles which decided to actively avoid certain regions, and chose specific others to land on in order to generate the interference pattern. That certainly isn't how particles behave (as we saw from the first experiment).\n",
    "- Finally, in the last part of the above video, when we add an observer to find out which slit the quantum object goes through, then the interference pattern disappears and the quantum object behaves like a particle again, hitting the screen at a point approximately in front of it.\n",
    "\n",
    "How could this be happening? The photon seems to be behaving like a particle, in the sense that we can pinpoint precisely where it landed on the screen, but at the same time, observing where a large number of photons landed on the screen reveals an interference pattern, typical of a wave! Furthermore, could the photons be changing their behaviour so drastically just because they are observed? Can we come up with a consistent description that would explain what we are seeing?\n",
    "These are the same questions that physicists struggled with when they were in the process of developing quantum mechanics.\n",
    "\n",
    "Now that your world has been shaken by the double-slit experiment, and that you have accepted that this is just how things behave in nature, we can begin to talk about coming up with a theory that explains this. In the next section, we will flesh out the theory of quantum mechanics by comparing it to the theory of classical mechanics.\n",
    "\n",
    "Coming up with a theory means laying out some axioms, and mathematically deriving predictions from these axioms. We stress that the process of deriving predictions is completely rigorous. The only question is: do these predictions match the observations? If so, this is evidence that the theory (specified by its axioms) was correct. As we mentioned earlier, the double-slit experiment is only one of many experiments which have eluded an explanation from classical physics. Hence, any theory that a physicist comes up with would have to be consistent with the observations from all of these experiments. "
   ]
  },
  {
   "cell_type": "markdown",
   "metadata": {
    "toc-hr-collapsed": false
   },
   "source": [
    "<h1 style=\"color:#D30982;\">Comparing Classical and Quantum Mechanics</h1>\n",
    "\n",
    "In this section, we will discuss the basic principles of classical mechanics, and we will compare them to those of quantum mechanics. In doing so,  we will informally introduce some axioms and some key concepts (like interference and measurement) that will be useful in later modules when we talk about quantum computing."
   ]
  },
  {
   "cell_type": "markdown",
   "metadata": {},
   "source": [
    "<h2 style=\"color:#9A11DA;\">Some Common Terminology</h2>\n",
    "\n",
    "Before discussing the fundamental principles of classical mechanics, we will define at a high level some terms that are used in all theories of motion:\n",
    "- <div style = 'color:#9A11DA;display:inline;'>System.</div> Informally, a system refers to the collection of objects that we wish to study. If we wish to the study the motion of planets, our system is the solar system, which includes the sun, all eight or nine planets (depending on whether you want to include Pluto), the asteroids, debris, gas clouds, and any other matter within what we are interested in studying. Often, we study very simple systems, comprising a single object. <!-- 335795814786 -->\n",
    "- <div style = 'color:#9A11DA;display:inline;'>State.</div> The state of a system says something about properties of the system, for example the way the elements of the system are configured. As another example, a coin resting on a table has two possible states: heads and tails. The state of a system can include any number of variables we want to model and observe.\n",
    "- <div style = 'color:#9A11DA;display:inline;'>Position.</div> Position refers to the location in space of an object in our system, usually specified via a coordinate system.\n",
    "- <div style = 'color:#9A11DA;display:inline;'>Velocity.</div> This refers to speed and direction of motion."
   ]
  },
  {
   "cell_type": "markdown",
   "metadata": {
    "toc-hr-collapsed": false
   },
   "source": [
    "<h2 style=\"color:#9A11DA;\">Axioms of Classical Mechanics</h2>\n",
    "\n",
    "Axioms of physical theories are the most general and informative statements that the theory assumes to be true. A good theory will have very few axioms that you can use to learn and (rigorously) predict many things about a system of interest; e.g. Newton's Laws of Motion. From just three statements, you can predict the motion of any particle subject to any set of forces. Discovering that an axiom is incorrect means that the theory itself is incorrect.\n",
    "\n",
    "<div style=\"color:#D30982;\"><b> Axiom 1: </b></div>\n",
    "\n",
    "- **The state of an object at a moment in time is described by certain relevant physical properties (e.g. position, velocity), which have well-defined values.**\n",
    "- As time goes on, position and velocity of the object evolve according to Newton's laws of motion. Knowing the entire state of the system at one point in time, it is possible to calculate the state of the system at any point in the future.\n",
    "\n",
    "<div style=\"color:#D30982;\"><b> Axiom 2: </b></div>\n",
    "\n",
    "- **Measuring the state of the classical object tells you about some property of the system (for example position or velocity), with precision only limited by quality of the measuring tools.**\n",
    "\n",
    "<div style=\"color:#D30982;\"><b> Axiom 3: </b></div>\n",
    "\n",
    "- **It is possible to perform a measurement on a system without impacting its evolution.**\n"
   ]
  },
  {
   "cell_type": "markdown",
   "metadata": {},
   "source": [
    "<h3 style=\"color:#9A11DA;\">Example: A Tennis Ball</h3> \n",
    "\n",
    "The *state* of our system at any moment in time is specified by two quantities associated with the tennis ball:\n",
    "- position ($x$),\n",
    "- velocity ($v$),\n",
    "as well as any additional forces acting on the tennis ball. Let's assume that no additional force is acting on the tennis ball.\n",
    "\n",
    "We can choose to quantify position and momentum any way we like, but let's assume for simplicity that the tennis ball moves in a straight line, and let's use a one-dimensional number line as our coordinate system. We can say that the ball's position is initially $x=0$. We can also specify the ball's initial velocity, say two units of $x$ in the positive direction for every second. \n",
    "\n",
    "To understand how the system evolves in time, we can apply Newton's laws to the system. Since no additional force is acting on the tennis ball, Newton's second law $F=ma$ implies that acceleration $a$ is zero, thus velocity is constant. From this we can derive the equation for the $x$ coordinate of the tennis ball after time $t$. What we get is a simple expression, $$x(t)=2t.$$ \n",
    "\n",
    "After one second, the ball is located at $x=2$. After ten seconds, the ball is located at $x=20$, etc. Crucially, Newton's laws can predict, with complete accuracy, where the tennis ball will be at any time in the future based on the initial state of the system: the position $x=0$, the velocity $v=2$, and the mass $m=1$ of the ball.\n",
    "\n",
    "In the next section, we will begin to explore the head-scratching world of quantum mechanics, where our everyday intutition about the way the world behaves is often very misleading. It can be helpful, from time to time, to go back to thinking about the way classical systems behave, and compare them to the way quantum systems behave."
   ]
  },
  {
   "cell_type": "markdown",
   "metadata": {
    "toc-hr-collapsed": false
   },
   "source": [
    "<h2 style=\"color:#9A11DA;\">Properties of Quantum Systems</h2>\n",
    "\n",
    "In our discussion of the double-slit experiment, we saw that quantum objects behave a lot like classical waves in that they exhibit interference patterns when hitting the detector. However, each quantum object, unlike a classical wave, always hits the detector at a well-defined point. We also saw that when we observe which slit the quantum object passes through, the quantum object turns to behaving entirely like a classical particle, with no interference pattern emerging at all. If we want to describe quantum objects mathematically, we need a theory that is consistent with all of these behaviours.\n",
    "\n",
    "Recall that it was only when firing many particles at the detector that an interference pattern emerged. However, one of the craziest things to digest about the double-slit experiment is that this interference pattern is not merely due to us firing a multitude of particles. In particle it is not due to a particle *interacting* with other particles that are fired before and after it. Why? Because even when we fire one particle at the time, detect where it lands, and only afterwards fire the next particle, the interference pattern still emerges!\n",
    "\n",
    "So, in other words, the interference pattern is rather due to a particle interfering with itself!\n",
    "\n",
    "If you spend some time pondering about this, you will realize that a wave-like object/property of some sort must be inherent to each individual quantum particle. \n",
    "\n",
    "The theory of quantum mechanics, developed in the 1920s, postulates that the *state* of a quantum object is described by a mathematical object called a *wave function*. The latter, unlike a classical wave, is not something that we are able to \"see\": rather when we decide to \"observe\" where the particle has landed using a detector, the wave function specifies the probability of finding a particle at each location on the detector.\n",
    "\n",
    "><b>Axiom 1</b>. The state of a quantum system is specified by a *wave*, usually denoted by $\\psi$. This evolves according to a wave equation.\n",
    "\n",
    "Ultimately, any physical theory is allowed to make axioms, postulates. From these, one rigorously derives predictions about how systems behave. If the predictions match what we observe in experiments, then this gives us confidence that the axioms are indeed true. The existence of an underlying wave function specifying the state of quantum object is one of the fundamental axioms of quantum mechanics. So far, the predictions that scientists have made by using quantum mechanics have been strikingly accurate, in any experiment we have carried out.\n",
    "\n",
    "In the next paragraphs, we will obtain a better, still informal, understanding of how wave functions work, through the concepts of *interference* and *measurements*. "
   ]
  },
  {
   "cell_type": "markdown",
   "metadata": {},
   "source": [
    "<h3 style=\"color:#9A11DA;\">Interference</h3>\n",
    "\n",
    "Interference is not a quantum phenomenon. Rather, all classical waves (water waves, sound waves, etc) experience interference. So, let's review what interference means classically.\n",
    "\n",
    "**Classical Waves.** A classical wave has a few important properties:\n",
    "\n",
    "- wavelength ($\\lambda$)- the distance between the peaks of a wave\n",
    "- amplitude ($A$)- how tall the peaks are\n",
    "- phase shift ($\\phi$)- by how is the wave \"translated\" in space (with respect to the zero of the coordinate system)\n",
    "\n",
    "A wave can be described by a function, for example:\n",
    "$$f(x)=A\\cos\\left(\\frac{2\\pi}{\\lambda}x-\\phi\\right),$$\n",
    "where $f(x)$ represents the height of the wave at the point $x$ in space.\n",
    "\n",
    "In the following widget (which you can run by typing `Shift` + `Enter`) you can see a plot of this wave. Try adjusting the various parameters to understand how each of them affects the wave."
   ]
  },
  {
   "cell_type": "code",
   "execution_count": null,
   "metadata": {},
   "outputs": [],
   "source": [
    "%run python_functions/bokeh-wave.py"
   ]
  },
  {
   "cell_type": "markdown",
   "metadata": {},
   "source": [
    "We should note that when we typically discuss waves, we consider them to be moving in time. Our equation above makes no mention of time. However, you will notice that this wave repeats itself (it is periodic), meaning that at any point in time, it will look the same, up to a translation. For simplicity, we have chosen to look at a wave at a particular moment in time. Thus the graph you see above is a \"snapshot\" of a wave at a particular point in time.\n",
    "\n",
    "**Interference of Two Waves.** Now that we have discussed the basics of a wave, let's consider what happens when we combine two waves together. The principle of *interference* works as follows: when two waves given by $f_1(x)$ and $f_2(x)$ combine, the resulting wave is given by\n",
    "\n",
    "$$f(x)=f_1(x)+f_2(x).$$\n",
    "\n",
    "The height of the resulting wave at a particular point in space, say $x=1$, is just the sum of the heights of the individual waves at that point. \n",
    "- If both individual waves have positive (or negative) heights at $x=1$, we say the waves interfere *constructively* at that point. \n",
    "- If one of the heights is positive and the other is negative, we say the waves interfere *destructively* at that point."
   ]
  },
  {
   "cell_type": "markdown",
   "metadata": {},
   "source": [
    "**Exercise.** Consider two waves with phases $\\phi_1$ and $\\phi_2$. If $\\phi_1=0$, how many values of $\\phi_2$ exist such that the interference of the two waves is constructive at every point $x$? You can use the widget below to help you answer. The graph at the top plots the two waves, while the graph at the bottom plots the wave resulting from the superposition of the two original waves. \n",
    "\n",
    "a) 0 <br>\n",
    "b) 1 <br>\n",
    "c) 2<br>\n",
    "d) Infinitely many <br>"
   ]
  },
  {
   "cell_type": "code",
   "execution_count": null,
   "metadata": {},
   "outputs": [],
   "source": [
    "%run python_functions/bokeh-interference.py"
   ]
  },
  {
   "cell_type": "markdown",
   "metadata": {},
   "source": [
    "**A Closer Look at the Double-Slit Experiment.** Consider a classical wave, like a water wave. Once the water hits the two slits, we observe that two separate water waves originate from the two slits, which act like sources. By the time the wave from the first slit has reached a point $w$ on the screen, it has travelled a distance, say $d_1$, from its source, and by the time the wave from the second slit has reached the same point $w$, it has travelled a distance, say $d_2$ from its source. As a result, the waves originating from the two sources could be \"out of phase\" because they have travelled different distances ($d_1$ and $d_2$) to get to point $x$.\n",
    "\n",
    "How much are they out of phase by? Well that depends on the difference between $d_1$ and $d_2$, and the original wave length of the two waves. Assuming that the waves generated by the two slits are identical (i.e. their height is described by the same wave function $f$), then fixing a certain moment in time $t$, the height of the wave from slit one, at the point where it hits $w$ is $f(d_1)$, and the height of the wave from slit two is $f(d_2)$, where $f(x)$ is the height of the wave at distance $x$ from the source. Therefore, the height of the resulting combination of the two waves at point $x$ is $f(d_1)+f(d_2)$. Depending on the particular values of $d_1$ and $d_2$, this value could be positive, negative, or zero, and the two waves could be interfering constructively or destructively. \n",
    "\n",
    "You'll explore these ideas more concretely in the next problem.\n",
    "\n",
    "<font style=\"color:#9A11DA;\">**Problem.**</font> The widget below shows the interference pattern on the screen for a double-slit experiment, where the wavelength of the two waves originating at the two slits is $\\lambda$, and the separation between the two slits is $a$. \n",
    "1. How does changing the wavelength $\\lambda$ affect the interference pattern?\n",
    "2. How does changing the slit seperation distance $a$ impact the interference pattern?\n",
    "3. The value $y$ represents the position of a point on the detection screen, with $y=0$ being exactly at the center of the screen (i.e. the midpoint between the two slits). Consider the points at the center of the light bands? The difference in path distance can be written as $\\Delta d=|d_1-d_2|$. Calculate $\\Delta d/\\lambda$ from this quantity. What can you infer from these results?"
   ]
  },
  {
   "cell_type": "code",
   "execution_count": null,
   "metadata": {},
   "outputs": [],
   "source": [
    "%run python_functions/bokeh-double_slit.py"
   ]
  },
  {
   "cell_type": "code",
   "execution_count": null,
   "metadata": {},
   "outputs": [],
   "source": [
    "from IPython.display import YouTubeVideo\n",
    "vid = YouTubeVideo(\"Iuv6hY6zsd0\",width=700, height=400, start=270, end=339, )\n",
    "display(vid)"
   ]
  },
  {
   "cell_type": "markdown",
   "metadata": {},
   "source": [
    "**Interference of quantum wave functions.** The concept of interference of quantum wave functions is a little harder to imagine than it is classically. The reason is that a quantum wave function is not something that you can \"see\". You should think of it as something that describes the state of the system, and that, as classical beings, we only have access to in very specific ways.\n",
    "\n",
    "However, even though the wave function is \"invisible\", it behaves similarly to a classical wave. When hitting the two slits, the wave function results in two \"invisible\" waves originating from each of the two slits. These quantum wave functions superpose, and interfere constructively and destructively to give rise to the same interference pattern we saw for classical waves. \n",
    "\n",
    "The effects of the underlying wave function, i.e. the interference patterns, only become visible once we \"observe\" where the particle has landed on the detector screen.\n",
    "\n",
    "\n",
    "\n",
    "In the next section, we will discuss in more detail the process of observing a particle, which in technical jargon is referred to as a *measurement*, and the relationship between the wave function and the probability distribution over points at which a particle could land on the detector.\n",
    "\n",
    "The concept of a *measurement* is crucial to quantum mechanics."
   ]
  },
  {
   "cell_type": "markdown",
   "metadata": {},
   "source": [
    "<h3 style=\"color:#9A11DA;\">Measurement</h3>\n",
    "\n",
    "At the beginning of section 5, we asked the question: how can we describe quantum systems mathematically to include the incompatible properties of both classical waves (interference) and classical particles (hitting the detector at a well-defined location)? A resolution to this dilemma comes from the concept of a *measurement*, the process by which we observe quantum objects and extract classical information (for example, where a particle has landed on the screen, or which of the two slits the particle has passed through). \n",
    "\n",
    "In a nutshell: quantum objects behave like waves, and are described by a wave function, until you measure them, at which point they act like particles.\n",
    "\n",
    "Crucially, a measurement does not allow us to peer into the soul of the quantum object to \"see\" or \"read\" what the wave function is. Rather, it only gives a little bit of classical information (e.g. where the particle has landed). It is only after repeating the same experiment over and over, and making many measurements, that we can start to piece together what was happening \"under the hood\".\n",
    "\n",
    ">**Axiom 2.** \"Observing\" or \"measuring\" a quantum object yields a probabilistic outcome. The probability distribution of this outcome is related to the wave function.\n",
    "\n",
    "Crucially, the measurement of a quantum object yields a probabilistic answer. Intuitively, <font style=\"color:#9A11DA;\">the larger the magnitude</font> of the wave at a certain point, <font style=\"color:#9A11DA;\">the greater the probability</font> of finding the object at that point upon measuring.\n",
    "\n",
    "So, before we discuss measurements further, let's make a brief excursion to discuss probability distributions, as we will use these concepts often in the rest of the course."
   ]
  },
  {
   "cell_type": "markdown",
   "metadata": {},
   "source": [
    "**Probability Distributions.**\n",
    "Consider a die with six sides, corresponding to the numbers one through six. There is a good chance that you have rolled a die at some point in your life to decide something, such as who goes first in a board game. When this happened, you likely faced no opposition from your opponents, as all of you know that a die is equally likely to land on each of its faces, giving no player an unfair advantage. Mathematically, such a description of the likelihood of an event is called a probability distribution. In the case of the die, the probability of landing on the face with number $4$ can be written as $p(4)=1/6$. And more generally,\n",
    "    $$p(x)=\\frac{1}{6},\\,x\\in\\{1,2,3,4,5,6\\}.$$\n",
    "    \n",
    "This function $p$ is called a probability distribution. A probability distribution takes values in the range $[0,1]$, and you can think of $p(x)$ as the *fraction* of times event you'd expect $x$ to happen if you ran many trials. In the case of a die, for each number $x$, we expect about $\\frac16$ of the throws to yield $x$. Another way to look at it, is: subdivide the space of all possible *outcomes* into a number of equally likely outcomes (for the case of a die you can think of six equally likely outcomes - the die landing on a particular number is one outcome). The probability of a particular event, e.g. getting number $x$, is then defined to be the following fraction:\n",
    "\n",
    "$$ \\frac{ \\text{number of outcomes corresponding to event \"x\"} }{\\text{total number of outcomes}} \\,.$$  \n",
    "\n",
    "Here is another example. What is the probability of obtaining an odd outcome, i.e. $1,3$ or $5$, when rolling a die? The probability of this event is given by:\n",
    "\n",
    "$$ \\frac{ \\text{number of outcomes corresponding to event \"odd\"} }{\\text{total number of outcomes}} = \\frac36 = \\frac12 \\,.$$ \n",
    "\n",
    "The latter is because there are 3 outcomes out of 6 (namely rolling a $1$, $3$ or $5$) which correspond to the event of rolling an odd number."
   ]
  },
  {
   "cell_type": "markdown",
   "metadata": {},
   "source": [
    "Notice that there is nothing inherently quantum about the idea of a probability distribution. We can define a probability distribution to describe any system about which we have limited information. The more we know, the more concentrated our probability distribution will be.\n",
    "\n",
    "A final remark about probabilities is that we have only so far considered examples of *discrete* outcome sets (for a dice there are only $6$ possible outcomes), as opposed to a *continuous* spectrum of outcomes. Probabilities are meaninfgful in the latter setting too, and one can talk about the \"probability that a ball lands in a certain region\", for example. In the case of a wave function describing the \"position\" of a quantum particle, the possible outcomes are not *discrete*, rather there is a continuous spectrum of outcomes (e.g. all possible points in 2-dimensional space, or all possible points on a line). \n",
    "\n",
    "We will not cover continuous probability distributions formally in this course, as this is not necessary to understand the basics of quantum computing.\n",
    "\n",
    "Now, let's go back to discussing measurements of quantum objects."
   ]
  },
  {
   "cell_type": "markdown",
   "metadata": {},
   "source": [
    "<font size=3 style=\"color:#9A11DA;\">What counts as an observation or a measurement?</font> An observation or a measurement is any process of interaction with the system which \"extracts\" some classical information. \n",
    "\n",
    "We will use the terms *observation* and *measurement* interchangeably."
   ]
  },
  {
   "cell_type": "markdown",
   "metadata": {
    "toc-hr-collapsed": true
   },
   "source": [
    "<h3 style=\"color:#9A11DA;\">Collapse of the Wave Function</h3>\n",
    "\n",
    "What happens to the state of a quantum object after we have measured it? In other words, what happens to its wave function? To answer this question, let's return to our tennis ball example.\n",
    "\n",
    "**Tennis Ball.** Let us now return to the example of our tennis ball rolling on the floor. Suppose we want to measure the system after two seconds to monitor its location. According to the laws of classical mechanics, this measurement will have no impact on the state of the sytem. Recall that our equation of motion for the classical tennis ball is $x(t)=2t$. So that at $t=2$, we expect our ball to be located at $x=4$. We can *measure* the location of the ball at $t=2$ with some kind of camera rigged to a timer, which snaps a photograph at the exact right moment, and we can verify the location of the ball. Now, the after the measurement, the ball will continue rolling along as if nothing had happend. That the ball doesn't respond to you taking a picture of it should not be a surprise. But hold on, the quantum case is very different.\n",
    "\n",
    "**Quantum Tennis Ball.** Now lets consider a similar experiment with a hypothetical *quantum* tennis ball, whose position is described by a wave function. "
   ]
  },
  {
   "cell_type": "markdown",
   "metadata": {},
   "source": [
    "Now suppose we *measure* the position of the ball and obtain the value $x=-0.5$. What happens to the state of the system? \n",
    "\n",
    "The third axiom of quantum mechanics says that measuring the position of the ball fundamentally changes the *state* of the system. What happens? Well the wave function \"collapses\" to the value $x = 0.5$. "
   ]
  },
  {
   "cell_type": "markdown",
   "metadata": {},
   "source": [
    ">**Axiom 3.** Upon measuring, the wave function \"collapses\" to the particular observed outcome."
   ]
  },
  {
   "cell_type": "markdown",
   "metadata": {},
   "source": [
    "If you are still skeptical about all this wave function business at this point, you might be asking yourself: how do we even know that there was a wave function to begin with? After all, we observed the ball and now it has the exact location $x=-0.5$. This doesn't seem much different than would could happen with a classical tennis ball. \n",
    "\n",
    "The answer is: if we were instead firing the tennis ball at two slits, without observing it in the middle, and measuring where it lands on a detector screen, the probability distribution of the landing positions would exhibit a wave-like interference pattern! We of course would not observe such a pattern in the probability distribution with a classical tennis ball. \n",
    "\n",
    "So, to conclude this section, we will leave you with a question. Are you now able to explain why, in the double-slit experiment, observing which of the two slits the particle goes through, gets rid of any interference pattern and renders the subsequent behaviour classical?"
   ]
  },
  {
   "cell_type": "markdown",
   "metadata": {
    "toc-hr-collapsed": true
   },
   "source": [
    "<h1 style=\"color:#D30982;\"> Recap: Axioms of Quantum Mechanics</h1>\n",
    "\n",
    "To explain the double-slit experiment, physicists in the early 20th century described quantum objects to be different from particles, as made necessary by the apparent wave-like pattern on the detector screen, and different from waves, as made necessary by the fact that each photon hits the detector screen at a singular location. Eventually, physicists landed on the following axioms:"
   ]
  },
  {
   "cell_type": "markdown",
   "metadata": {},
   "source": [
    "<div style=\"color:#D30982;display:inline;\"><b> Axiom 1: </b></div> <b>The quantum state of an object is described by a 'wave function', which behaves according to Schr&ouml;dinger's equation.</b>\n",
    "\n",
    "  - As time goes on, a function associated with the object will 'move' like a wave through space.\n",
    "  \n",
    "<div style=\"color:#D30982;display:inline;\"><b> Axiom 2: </b></div> <b>\"Observing\" or \"measuring\" a quantum object yields a probabilistic outcome. The probability distribution of this outcome is related to the wave function.</b>\n",
    "\n",
    "  - When the quantum object interacts with a larger system which \"measures\" it, the result will be an outcome, according to the probability dictated by the wave function.\n",
    "  \n",
    "<div style=\"color:#D30982;display:inline;\"><b> Axiom 3: </b></div> <b>At the time of a measurement, the wave function \"collapses\" to the particular observed outcome.</b>\n",
    "\n",
    "  - When it is measured, the quantum object *really is* in the state that it is measured to be. The wave function is no longer spread out across many possible outcomes, instead it is collapsed to be totally concentrated at one single outcome. After the measurement, the collapsed wave function will continue evolving following Schrodinger's equation."
   ]
  },
  {
   "cell_type": "markdown",
   "metadata": {},
   "source": [
    "<h1 style=\"color:#D30982;\">Review</h1>\n",
    "\n",
    "- Classical mechanics was the theory which best described the behavior of physical systems up until the turn of the 20th century.\n",
    "- Quantum mechanics was developed to explain the outcomes of some experiments that were inconsistent with the predictions made by classical mechanics.\n",
    "- The state of a system is defined by the values of a set of parameters we want to consider. This could mean position and velocity for a classical system, a wavefunction for a quantum system, or simply heads or tails for simple two-state system.\n",
    "- The double-slit experiment shows that quantum objects obey the interference principle of classical waves as they display an interference pattern on the detector screen. On the other hand, they behave as classical particles in that they land at a particular location on the detector screen. Moreover, if we decide to observe closely which of the two slits they pass through, they behave entirely like classical partcles from that point on.\n",
    "- Physicists introduced the concept of a wave function, underlying the outcomes we observe on the detector screen, in order to explain the results of the double-slit experiment.\n",
    "- The squared amplitude of the wave function at a certain point gives the probability of observing that point as an outcome upon measuring.\n",
    "- Measurement is a crucial concept in quantum mechanics. Importantly, measuring a property of a quantum system collapses the wave function.\n",
    "\n",
    "Congratulations on completing the first module of the QuBes course! We hope that you are excited and ready to learn how we can put these fascinating properties of quantum objects to use!"
   ]
  },
  {
   "cell_type": "code",
   "execution_count": null,
   "metadata": {},
   "outputs": [],
   "source": [
    "from qbraid_quiz_widget import MultipleChoiceQuestion\n",
    "MultipleChoiceQuestion('qubes_m1_quantum_history')"
   ]
  },
  {
   "cell_type": "code",
   "execution_count": null,
   "metadata": {},
   "outputs": [],
   "source": [
    "from qbraid_quiz_widget import MultipleChoiceQuestion\n",
    "MultipleChoiceQuestion('qubes_m1_quantum_newton')"
   ]
  },
  {
   "cell_type": "code",
   "execution_count": null,
   "metadata": {},
   "outputs": [],
   "source": [
    "from qbraid_quiz_widget import MultipleChoiceQuestion\n",
    "MultipleChoiceQuestion('qubes_m1_classical_physicist')"
   ]
  },
  {
   "cell_type": "code",
   "execution_count": null,
   "metadata": {},
   "outputs": [],
   "source": [
    "from qbraid_quiz_widget import MultipleChoiceQuestion\n",
    "MultipleChoiceQuestion('qubes_m1_classical_physicist_2')"
   ]
  },
  {
   "cell_type": "code",
   "execution_count": null,
   "metadata": {},
   "outputs": [],
   "source": [
    "from qbraid_quiz_widget import MultipleChoiceQuestion\n",
    "MultipleChoiceQuestion('qubes_m1_system_state')"
   ]
  },
  {
   "cell_type": "code",
   "execution_count": null,
   "metadata": {},
   "outputs": [],
   "source": [
    "from qbraid_quiz_widget import MultipleChoiceQuestion\n",
    "MultipleChoiceQuestion('qubes_m1_system_state_2')"
   ]
  },
  {
   "cell_type": "code",
   "execution_count": null,
   "metadata": {},
   "outputs": [],
   "source": [
    "from qbraid_quiz_widget import MultipleChoiceQuestion\n",
    "MultipleChoiceQuestion('qubes_m1_wavefunction')"
   ]
  },
  {
   "cell_type": "code",
   "execution_count": null,
   "metadata": {},
   "outputs": [],
   "source": [
    "from qbraid_quiz_widget import MultipleChoiceQuestion\n",
    "MultipleChoiceQuestion('qubes_m1_double_slit')"
   ]
  },
  {
   "cell_type": "code",
   "execution_count": null,
   "metadata": {},
   "outputs": [],
   "source": [
    "from qbraid_quiz_widget import MultipleChoiceQuestion\n",
    "MultipleChoiceQuestion('qqubes_m1_double_slit_2')"
   ]
  },
  {
   "cell_type": "code",
   "execution_count": null,
   "metadata": {},
   "outputs": [],
   "source": [
    "from qbraid_quiz_widget import MultipleChoiceQuestion\n",
    "MultipleChoiceQuestion('qubes_m1_double_slit_5')"
   ]
  },
  {
   "cell_type": "code",
   "execution_count": null,
   "metadata": {},
   "outputs": [],
   "source": [
    "from qbraid_quiz_widget import MultipleChoiceQuestion\n",
    "MultipleChoiceQuestion('qubes_m1_wave_particle')"
   ]
  },
  {
   "cell_type": "code",
   "execution_count": null,
   "metadata": {},
   "outputs": [],
   "source": [
    "from qbraid_quiz_widget import MultipleChoiceQuestion\n",
    "MultipleChoiceQuestion('qubes_m1_destructive_constructive')"
   ]
  },
  {
   "cell_type": "code",
   "execution_count": null,
   "metadata": {},
   "outputs": [],
   "source": [
    "from qbraid_quiz_widget import MultipleChoiceQuestion\n",
    "MultipleChoiceQuestion('qubes_m1_interference_calculation')"
   ]
  },
  {
   "cell_type": "markdown",
   "metadata": {},
   "source": [
    "<h2 style=\"color:#9A11DA;\">Free Response</h2> \n",
    "\n",
    "1. For what kind of system do the laws of classical mechanics break down? In other words, for what kinds of systems do we need quantum mechanics to describe their behavior?\n",
    "\n",
    "2. List some properties of particles and waves. In what way are quantum objects like particles? In what way are quantum objects like waves?\n",
    "\n",
    "3. How is the state of a classical system specified? How is the state of a quantum system specified? Feel free to come up with your own examples.\n",
    "\n",
    "4. In your own words, what was so surprising about the findings of the double-slit experiement?\n",
    "\n",
    "5. Measurement of quantum systems has an element of randomness. Suppose we know how to prepare a quantum system in a particular state. How can we determine experimentally that the probabilites of obtaining outcome $x$ has probability $p(x)$? Is this the same as complete randomness?\n",
    "\n",
    "6. What happens to the wavefunction when we make a measurement?\n",
    "\n",
    "7. What causes the interference patterns in the double slit experiment?\n",
    "\n",
    "8. In quantum mechanics, once you have measured a particular state of a system, is it possible to recover information about other possible states prior to the measurement? Why?\n",
    "\n",
    "9. In a wavefunction, what is the relationship between the the amplitude of a state and the probability of measuring that state?\n",
    "\n",
    "10. The following code snippet calls a function that rolls a die and returns the value of its outcome. By rolling the die a large number of times, we can determine (or estimate) the probability distribution generated by the die. In this case, the die is not a fair die, meaning not all outcomes are equally likely! The graph on the left shows the number of times each die has been rolled? The right graph shows the distribution of outcomes.\n",
    "\n",
    "- How does the distribution of outcomes change as you gather more data? Start by gathering data slowly, one roll a time.\n",
    "- What is the relationship between the distribution of outcomes on the right and the data on the left?\n",
    "- What do you think is the most probable outcome(s) of rolling this die? \n",
    "- Estimate the probability distribution of this die."
   ]
  },
  {
   "cell_type": "code",
   "execution_count": null,
   "metadata": {},
   "outputs": [],
   "source": [
    "%run python_functions/bokeh-loaded_die.py"
   ]
  },
  {
   "cell_type": "markdown",
   "metadata": {},
   "source": [
    "11. Consider the two classical waves below. Both waves oscillate with the same frequency, however, one of the waves contains a phase shift $\\phi$. You can adjust $\\phi$ with the slider. For each value of $\\phi = 0.5, 1, 1.5, 2$, what is the resulting value of the superposition, $A$, of the two waves at $x = 0$?"
   ]
  },
  {
   "cell_type": "code",
   "execution_count": null,
   "metadata": {},
   "outputs": [],
   "source": [
    "%run \"python_functions/bokeh-m1_interference_singleplot_slider.py\""
   ]
  },
  {
   "cell_type": "markdown",
   "metadata": {
    "ignoreQbook": true
   },
   "source": [
    "<hr>\n",
    "<div style='display:flex;'>\n",
    "    <div style='width:25%;text-align:right;'> <h4 style='color:#9A11DA'>Previous Module:</h4></div>\n",
    "    <div style='width:25%;text-align:left;'> <h4 ><a href='./0_Introduction.ipynb' style='color:#9A11DA;text-decoration:underline;opacity:0.6;'>0. Introduction</a></h4></div>\n",
    "    <div style='width:25%;text-align:right;'> <h4 style='color:#9A11DA'>Next Module:</h4></div>\n",
    "    <div style='width:25%;text-align:left;'> <h4 ><a href='./02_Classical_computing.ipynb' style='color:#9A11DA;text-decoration:underline;opacity:0.6;'>2. Classical Computing</a></h4></div>\n",
    "</div>\n",
    "<!-- <hr style='border-color:grey;'> -->"
   ]
  }
 ],
 "metadata": {
  "kernelspec": {
   "display_name": "Python 3 [Default]",
   "language": "python",
   "name": "python3"
  },
  "language_info": {
   "codemirror_mode": {
    "name": "ipython",
    "version": 3
   },
   "file_extension": ".py",
   "mimetype": "text/x-python",
   "name": "python",
   "nbconvert_exporter": "python",
   "pygments_lexer": "ipython3",
   "version": "3.9.10"
  },
  "toc": {
   "base_numbering": 1,
   "nav_menu": {},
   "number_sections": true,
   "sideBar": true,
   "skip_h1_title": false,
   "title_cell": "Table of Contents",
   "title_sidebar": "Contents",
   "toc_cell": false,
   "toc_position": {},
   "toc_section_display": true,
   "toc_window_display": true
  },
  "toc-autonumbering": true,
  "toc-showcode": false,
  "widgets": {
   "application/vnd.jupyter.widget-state+json": {
    "state": {},
    "version_major": 2,
    "version_minor": 0
   }
  }
 },
 "nbformat": 4,
 "nbformat_minor": 4
}
