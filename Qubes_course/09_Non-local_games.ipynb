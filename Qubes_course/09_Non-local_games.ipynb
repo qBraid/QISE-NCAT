{
 "cells": [
  {
   "cell_type": "markdown",
   "metadata": {
    "ignoreQbook": true
   },
   "source": [
    "<div style='display:flex;'>\n",
    "    <div style='width:25%;text-align:right;'> <h4 style='color:#9A11DA'>Previous Module:</h4></div>\n",
    "    <div style='width:25%;text-align:left;'> <h4 ><a href='./08_Deutsch_algorithm.ipynb' style='color:#9A11DA;text-decoration:underline;opacity:0.6;'>8. Deutsch's Algorithm</a></h4></div>\n",
    "    <div style='width:25%;text-align:right;'> <h4 style='color:#9A11DA'>Next Module:</h4></div>\n",
    "    <div style='width:25%;text-align:left;'> <h4 ><a href='./10_Quantum_Algorithms_discussion.ipynb' style='color:#9A11DA;text-decoration:underline;opacity:0.6;'>10. Quantum Algorithms Discussion</a></h4></div>\n",
    "</div>\n",
    "</div>\n",
    "<!-- <hr style='border-color:grey;'> -->"
   ]
  },
  {
   "cell_type": "markdown",
   "metadata": {},
   "source": [
    "<h1 style=\"color:#D30982;\">Non-local Games</h1>"
   ]
  },
  {
   "cell_type": "markdown",
   "metadata": {},
   "source": [
    "In this notebook, we will explore some of the most exciting consequences of entanglement, through the study of what are known as *non-local games*.\n",
    "\n",
    "Non-local games are well-studied in Quantum Information, as they have wide applications throughout quantum computing and quantum cryptography.\n",
    "    \n",
    "A non-local game involves a referee and two *non-communicating* parties, Alice and Bob, who are *cooperatively* trying to win the game. The game consists of one round of interaction between the referee and Alice and Bob, which proceeds as follows:\n",
    "\n",
    "- The referee sends a (classical) question $x$ to Alice and a (classical) question $y$ to Bob (where the questions are sampled from some known probability distribution).\n",
    "- Alice and Bob respectively respond with a (classical) answer."
   ]
  },
  {
   "cell_type": "markdown",
   "metadata": {},
   "source": [
    "The referee determines based on the questions and answers whether Alice and Bob won the game.\n",
    "\n",
    "<table><tr>\n",
    "<td> <img src='./images/non-local-game-setup.png' alt=\"Drawing\" width=600px>\n",
    "</tr></table>"
   ]
  },
  {
   "cell_type": "markdown",
   "metadata": {},
   "source": [
    "In this notebook, we will explore two simple and famous non-local games: the Clauser-Horne-Shimony-Holt (*CHSH*) game and the *Magic Square* game."
   ]
  },
  {
   "cell_type": "markdown",
   "metadata": {},
   "source": [
    "<h1 style=\"color:#D30982;\">The CHSH Game</h1>\n",
    "\n",
    "The simplest, and most well-studied, non-local game is the CHSH game, where the acronym stands for Clauser, Horne, Shimony and Holt, the researchers who discovered it in 1969."
   ]
  },
  {
   "cell_type": "markdown",
   "metadata": {},
   "source": [
    "The CHSH game proceeds as follows:\n",
    "\n",
    "- The referee samples uniformly at random a pair of bits $x$ and $y$. Sends $x$ to Alice and $y$ to Bob.\n",
    "- Alice and Bob return to the referee bits $a$ and $b$ respectively. \n",
    "- Alice and Bob win if <font size=3 color=9A11DA>$a \\oplus b = x \\cdot y$</font>."
   ]
  },
  {
   "cell_type": "markdown",
   "metadata": {},
   "source": [
    "Recall that the notation $a \\oplus b$ represents the parity of $a + b$ (i.e. $0$ if it's even, and $1$ if it's odd). In particular, notice that $a \\oplus b = 0$ when $a = b$, and $a \\oplus b = 1$ when $a \\neq b.$\n",
    "\n",
    "Let's take a moment to parse the winning condition. \n",
    "\n",
    "Out of the four possible pairs of bits $(x,y)$, the expression $x\\cdot y$ is always equal to zero except when $x = y = 1$. Thus, the winning condition requires that the answers $a$ and $b$ returned by Alice and Bob should always be equal, except when $x = y = 1$, in which case $a$ and $b$ should be different. "
   ]
  },
  {
   "cell_type": "markdown",
   "metadata": {},
   "source": [
    "<h2 style=\"color:#9A11DA;\">Classical Strategies for the CHSH Game</h2>\n",
    "The simplest strategy that Alice and Bob can employ is to <font size=3 color=9A11DA>always answer $0$</font>, regardless of what question they receive. \n",
    "\n",
    "What is the winning probability for this strategy?"
   ]
  },
  {
   "cell_type": "markdown",
   "metadata": {},
   "source": [
    "Well, it is <font size=3 color=9A11DA>$3/4$</font>. This is because, Alice and Bob will win on all question pairs $(x,y)$, except for $x = y = 1$."
   ]
  },
  {
   "cell_type": "markdown",
   "metadata": {},
   "source": [
    "It turns out that $3/4$ is also the optimal winning probability for any classical strategy. \n",
    "\n",
    "What do we mean by a *classical strategy*? In a classical world, Alice and Bob can certainly answer deterministically to any question they receive. This is called a *deterministic strategy*. Formally, a *deterministic* strategy we mean that the strategy is specified by some functions $f_A$ and $f_B$ such that:\n",
    "\n",
    "- Upon receiving question $x$, Alice responds with answer $a = f_A(x)$.\n",
    "- Upon receiving question $y$, Bob responds with answer $b = f_B(y)$.\n",
    "\n",
    "Notice, that Alice's answer only depends on the question she receives, and does not depend on Bob's question, since Alice and Bob are not allowed to communicate.\n",
    "\n",
    "<font size=3 color=9A11DA>**Exercise.**</font> Show that any deterministic strategy achieves at most a winning probability of $3/4$.\n",
    "\n",
    "The term *classical strategy* refers to something a bit broader than just deterministic strategies, and, at a high level, the term is meant to capture *any* strategy that Alice and Bob are able to execute as classical parties. \n",
    "\n",
    "In a classical world, Alice and Bob can certainly answer deterministically to any question they receive, as above. However, they could, for example, elect to use some <font size=3 color=9A11DA>randomness</font> in their responses. Notice, however, that any randomness that they each generate after receiving their respective questions (i.e. flipping some coins), could just as well be generated before the game started, without affecting the winning probability. Hence, without loss of generality, Alice and Bob can meet before the game begins, flip a number of coins and record the shared randomness that they generated. Alice and Bob's answers can then be thought of as a deterministic function of the questions they are asked, as well as of the shared randomness. \n",
    "\n",
    "The latter is the most general strategy that classical parties can implement, and we refer to a strategy of this form as a *classical strategy*.\n",
    "\n",
    "<font size=3 color=9A11DA>**Exercise (more challenging)**</font> Show that any *classical* strategy achieves at most a winning probability of $3/4$.\n",
    "\n",
    "The intuiition for this is: what are Alice and Bob gaining by randomizing their strategy? They are better off by just playing the *best* deterministic strategy out of the ones that they are randomizing over.\n",
    "\n",
    "We will see, crucially, that quantum resources allow Alice and Bob to implement strategies that go beyond what can be realized with classical strategies."
   ]
  },
  {
   "cell_type": "markdown",
   "metadata": {},
   "source": [
    "<h2 style=\"color:#9A11DA;\">Quantum Strategies for the CHSH Game</h2>"
   ]
  },
  {
   "cell_type": "markdown",
   "metadata": {},
   "source": [
    "Remarkably, when Alice and Bob share entanglement, they can go beyond $3/4$. \n",
    "\n",
    "By sharing a single EPR pair, i.e. the maximally entangled state\n",
    "\n",
    "$$ \\frac{1}{\\sqrt{2}} \\left|00 \\right\\rangle + \\frac{1}{\\sqrt{2}}\\left|11 \\right\\rangle \\,,$$\n",
    "\n",
    "Alice and Bob can win the CHSH game with probability $\\cos^2{\\frac{\\pi}{8}}$, which is approximately <font size=3 color=9A11DA>$0.85$</font>! \n",
    "\n",
    "This is also the best winning probability that quantum players can achieve in this game (although the proof of this is beyond the scope of this module). In this section, we limit ourselves to describing explicitly a strategy that achieves the optimal winning probability $\\cos^2{\\frac{\\pi}{8}} \\approx 0.85$. The strategy is the following.\n",
    "\n",
    "- Alice and Bob share one EPR pair (each of them has one of the two qubits). \n",
    "- Alice and Bob each choose a quantum circuit (followed by a measurement) to perform on their qubit based on the questions $x$ and $y$ that they respectively receive, and they answer by returning the outcome of their measurements.        \n",
    "- If $x = 0$, Alice applies the identity gate on her qubit followed by a measurement. If $x = 1$, she applies the Hadamard gate $H$ instead, followed by a measurement. Let $a$ be the outcome of her measurement. Alice returns $a$ to the referee.\n",
    "- Let $\\theta_0 = \\frac{\\pi}{8}$ and $\\theta_1 = -\\frac{\\pi}{8}$. Bob applies the gate \n",
    "$$\\begin{align}\n",
    "&\\left| 0 \\right\\rangle \\mapsto  \\cos(\\theta_y) \\left| 0 \\right\\rangle + \\sin(\\theta_y)\\left| 1 \\right\\rangle \\\\\n",
    "&\\left| 1 \\right\\rangle \\mapsto  \\sin(\\theta_y) \\left| 0 \\right\\rangle - \\cos(\\theta_y)\\left| 1 \\right\\rangle \n",
    "\\end{align}$$\n",
    "where $\\{y | y \\in 0, 1\\}$ followed by a measurement. Let $b$ denote the outcome of this measurement. Bob returns $b$ to the referee.\n"
   ]
  },
  {
   "cell_type": "markdown",
   "metadata": {},
   "source": [
    "We won't compute the success probability of this strategy by hand here as it will be a long calculation (but you are encouraged to do so if you are curious!). Instead we will estimate the success probability of this strategy by running a quantum program!"
   ]
  },
  {
   "cell_type": "code",
   "execution_count": 2,
   "metadata": {},
   "outputs": [
    {
     "name": "stdout",
     "output_type": "stream",
     "text": [
      "0.861\n"
     ]
    }
   ],
   "source": [
    "from qiskit import QuantumCircuit\n",
    "import random\n",
    "import numpy as np\n",
    "import math\n",
    "from qiskit.extensions import *\n",
    "from qiskit import Aer, execute\n",
    "\n",
    "theta_0 = math.pi/8\n",
    "theta_1 = -math.pi/8\n",
    "B_0 = np.array([[np.cos(theta_0), np.sin(theta_0)], [np.sin(theta_0), -np.cos(theta_0)]])  #Bob's unitary gate B_0\n",
    "B_1 = np.array([[np.cos(theta_1), np.sin(theta_1)], [np.sin(theta_1), -np.cos(theta_1)]])  #Bob's unitary gate B_1\n",
    "\n",
    "N = 1000 #number of games played\n",
    "N_win = 0 #initialize number of games won to zero\n",
    "\n",
    "for i in range(N):              #We will run this experiment many times to estimate the probability of Alice and Bob winning.\n",
    "    \n",
    "    circ = QuantumCircuit(2,2)   #initializing the circuit to create an EPR pair\n",
    "    circ.h(0)                    \n",
    "    circ.cx(0,1)                 #creating an EPR pair.\n",
    "    \n",
    "    x = random.randint(0,1)      #sampling a question for Alice\n",
    "    y = random.randint(0,1)      #sampling a question for Bob\n",
    "    \n",
    "    if x == 0:                    #if x=0, Alice's circuit is the identity followed by a measurement\n",
    "        pass                \n",
    "    else:                        #if x=1, Alice applies a H gate first before measuring.\n",
    "        circ.h(0)                \n",
    "        \n",
    "    if y == 0:                    #if y=0, Bob applies the unitary gate B_0\n",
    "        circ.unitary(B_0, range(1), label = 'B_0')\n",
    "    else:                        #if y=1, Bob applies the unitary gate B_1\n",
    "        circ.unitary(B_1, range(1), label = 'B_1')\n",
    "    \n",
    "    circ.measure([0,1], [1,0])\n",
    "    \n",
    "    #execute and obtain Alice's and Bob's answers a and b\n",
    "    backend_sim = Aer.get_backend('qasm_simulator')\n",
    "    sim = execute(circ, backend_sim, shots=1) \n",
    "    sim_result = sim.result()\n",
    "    counts = sim_result.get_counts(circ)\n",
    "    a = int(list(dict.keys(counts))[0][0])      # Alice's answer\n",
    "    b = int(list(dict.keys(counts))[0][1])      # Bob's answer\n",
    "\n",
    "    if (a + b) %2 == x*y:                  # check if a+b = xy, if so add a win to the count of won games N_win.\n",
    "        N_win += 1\n",
    "    \n",
    "print(N_win/N)  #print the ratio of games that were won N_win to total games played N"
   ]
  },
  {
   "cell_type": "markdown",
   "metadata": {},
   "source": [
    "As you can see, Alice and Bob win roughly $85$% of the games!\n",
    "\n",
    "In order to encourage you to play with the above code snippet, here is an exercise.\n",
    "\n",
    "<font size=3 color=9A11DA>**Exercise.**</font> You have just seen that quantum information helps Alice and Bob outperform their classical counterparts at the CHSH game. Still, one must use quantum information in a clever way in order to take advantage of it! By using the above code snippet, estimate angles $\\theta_0$ and $\\theta_1$ for which Alice and Bob's winning probability is the lowest."
   ]
  },
  {
   "cell_type": "markdown",
   "metadata": {},
   "source": [
    "<h1 style=\"color:#D30982;\">Implications of Non-local Games</h1>"
   ]
  },
  {
   "cell_type": "markdown",
   "metadata": {},
   "source": [
    "<h2 style=\"color:#9A11DA;\">Non-local Games as Tests for Quantumness</h2>"
   ]
  },
  {
   "cell_type": "markdown",
   "metadata": {},
   "source": [
    "Non-local games are not just a remarkable peculiarity of quantum information.\n",
    "\n",
    "The most immediate practical consequence of a non-local game with a classical-quantum separation is the existence of a <font size=3 color=9A11DA>test for *quantumness*</font>. \n",
    "\n",
    "Consider a completely classical user Charlie, who has purchased an alleged <font size=3 color=9A11DA>quantum device</font>. Charlie, being classical, interacts with the alleged quantum device by pressing buttons on a screen, and reading out the classical outcome. How can Charlie be convinced that genuine quantum operations are being carried out inside the device? Unfortunately, Charlie cannot peak into the inner workings of the device, as opening up the device breaks the warranty.. Moreover, Charlie is not an experimental physicist, so even if he could look inside, he wouldn't really know what to look for. \n",
    "\n",
    "<table><tr>\n",
    "<td> <img src='images/quantum-device.png' alt=\"Drawing\" width=600px>\n",
    "</tr></table>\n",
    "\n",
    ">How can Charlie <font size=3 color=9A11DA>test</font> that his device is performing genuine quantum operations?\n"
   ]
  },
  {
   "cell_type": "markdown",
   "metadata": {},
   "source": [
    "A solution to this conondrum exists, as long as we assume that the alleged quantum device consists of <font size=3 color=9A11DA> two non-communicating components. </font> \n",
    "\n",
    "<table><tr>\n",
    "<td> <img src='images/quantum-device-non-communicating.png' alt=\"Drawing\" width=600px>\n",
    "</tr></table>\n"
   ]
  },
  {
   "cell_type": "markdown",
   "metadata": {},
   "source": [
    "At a high level, the test for quantumness is the following:\n",
    "- Charlie probes the two components with questions from a non-local game, like the CHSH game or the Magic Square game. \n",
    "- Gets answers in return from each component.\n",
    "- Repeats this process many times and estimates the winning probability of the two components in the non-local game. If Charlie observes that the fraction of games that have been won is significantly higher than the optimal classical winning probability in the game, then Charlie can be (statistically) confident that genuine quantumness was present within the two components of the alleged quantum device."
   ]
  },
  {
   "cell_type": "markdown",
   "metadata": {},
   "source": [
    "In practice, Charlie could enforce the non-communication condition between the two components, for example, by making sure that the time that elpases between the questions being asked and the answers being received is shorter than the time it takes for light to travel from one component to the other. "
   ]
  },
  {
   "cell_type": "markdown",
   "metadata": {},
   "source": [
    "<h2 style=\"color:#9A11DA;\">Non-local Games as a \"Proof\" of Non-determinism</h2>"
   ]
  },
  {
   "cell_type": "markdown",
   "metadata": {},
   "source": [
    "><font size=3 color=9A11DA>Is nature *deterministic*?</font>"
   ]
  },
  {
   "cell_type": "markdown",
   "metadata": {},
   "source": [
    "In other words, if we <font size=3 color=9A11DA>fixed all of the initial conditions of a system</font> (or of the universe), would <font size=3 color=9A11DA>everything that happens afterwards also be deterministically fixed</font>? \n",
    "\n",
    "This is a very natural question, which deeply challenges the notion of free will, and one that you might have already wondered about yourself at some point. The reasoning behind this question is simple: if physical systems evolve according to the laws of physics (which we assume to be fixed), and if we fix the state of every particle in a system at time $t_0$, couldn't everything that happens afterwards, be derived by solving some equations? Even if these equations are too complicated to solve manually or on a supercomputer, a solution still exists, and this solution fixes the state of the system at any time $t>t_0$.\n",
    "\n",
    "Here is an example. Imagine yourself shuffling a deck of cards, and revealing the top card. What is the probability that the top card is an ace of spades? You would typically regard this process as a probabilistic process whose outcome is a uniformly random card out of the $52$ possible cards (as long as you shuffled well enough), and you would typically answer that the probability of seeing an ace of spades is $1/52$. However, I argue that this randomness is <font size=3 color=9A11DA>not \"true randomness\"</font>: if you knew exactly the position of each card in the deck after shuffling, then you would now for sure if an ace of spades is at the top or not. The probabilistic nature of this process is thus merely an artifact of a <font size=3 color=9A11DA>lack of knowledge</font> about the system under study: you don't know the exact position of each card because they are all face down.\n",
    "\n",
    "You might think that this is a very simple example, and that this reasoning does not apply to more complex probabilistic processes. Imagine, for example, rolling a $6$-sided dice. What is the probability rolling the number $4$? We would typically say that the probability of obtaining number $4$ is $1/6$. For all practical purposes this is an excellent model, however I would argue that if you knew the exact state of every particle in your hand, in the dice, in the air etc, then it would be possible, in principle, to know for sure what the outcome of the roll will be, and thus if will be a $4$ or not.\n",
    "\n",
    "Then, by extending this logic further, you might naturally ask: is any event in the universe \"truly random\"? Or is it the case, instead, as these examples seem to suggest, that every process can be predicted exactly if one were able to look closely enough at the system under study?\n",
    "\n",
    "Some of you might be thinking: well, by the uncertainty principle we know that in quantum mechanics it is not in general possible to determine exactly both the position and the momentum of a particle. Or put in simpler quantum information terms, it is not in general possible to know exactly both the outcome of measuring a qubit in the standard basis *and* in the Hadamard basis. While this is true, however, my question to you is: how do you know that this uncertainty is a <font size=3 color=9A11DA>\"true uncertainty\"</font>, and not just an artifact of our lack of knowledge about the quantum mechanical system under study. For example, how can you be sure that there does not exist an underlying variable $\\lambda$, such that knowing $\\lambda$ fixes deterministically the answers to both a standard basis measurement and a Hadamard basis measurement of the qubit, regardless of which of these measurements is eventually executed. The answer is that by considering just a single qubit, it is not possible to exclude that there exists an underlying variable $\\lambda$ which deterministically fixes the answers to any possible future measurement of the qubit.\n",
    "\n",
    "Nonetheless, surprisingly, quantum mechanics does indeed provide a wonderful and simple answer to what might seem an impenetrable question (and this answer does not involve the uncertainty principle). To get this answer, all that we need to do is put together what have learnt from this module!"
   ]
  },
  {
   "cell_type": "markdown",
   "metadata": {},
   "source": [
    "Consider, as we did in the previous section, two non-communicating devices (call them Alice and Bob) playing the CHSH game. What does a \"strategy\" for the two devices look like in a \"deterministic\" world? \n",
    "\n",
    "<table><tr>\n",
    "<td> <img src='images/quantum-device-non-communicating.png' alt=\"Drawing\" width=600px>\n",
    "</tr></table>\n",
    "\n",
    "Well, in a deterministic world, we can look close enough at the state of the whole system (both devices combined). Denote this state by a variable $\\lambda$. Then, the answer of the first device is some fixed function $f_A$ of the question received and $\\lambda$. Likewise, the answer of the second device is a fixed function $f_B$ of the question received and $\\lambda$. We can also account possibly for some uncertainty in the value of $\\lambda$, perhaps $\\lambda$ is taken from some probability distribution. \n",
    "\n",
    "In any case, such a strategy looks an awful lot like the kind of strategy we introduced at the start of this module, which we referred to as a *classical* strategy! In fact, you can think of $\\lambda$ as the shared randomness between the two non-communicating devices, who are now playing the role of Alice and Bob!"
   ]
  },
  {
   "cell_type": "markdown",
   "metadata": {},
   "source": [
    "Formally, a *classical* strategy is also referred to as a <font size=3 color=9A11DA>*local hidden-variable strategy*</font>, where $\\lambda$ can be thought of as the underlying *hidden variable* of the system, which fixes everything else. As we have learnt earlier in this module, any strategy of this form achieves a winning probability in the CHSH game <font size=3 color=9A11DA>of at most $3/4$</font>. Thus, $3/4$ is the best winning probability that non-communicating devices can achieve in a deterministic world.\n",
    "\n",
    "Crucially, we have also learnt in this module, that there exist <font size=3 color=9A11DA>*quantum*</font> strategies which allow the devices to win with probability $\\approx 0.85$! We thus deduce that these strategies **cannot** be explained by a local hidden-variable, aka deterministic, model. \n",
    "\n",
    "This is not just a theoretical result! Indeed, the experiment of having two devices play the CHSH game has been carried out in the real world, and researchers have observed that quantum devices allow a winning probability that exceeds $0.75$. In practice, such experiments are extremely challenging to realize, particularly if one wants to ensure that the two devices do not communicate throughout the game (by leveraging the principle that light cannot travel faster than the speed of light, as we discussed earlier in this module). Nonetheless, quantum technologies are remarkably at a stage where such experiments have been carried out successfully by multiple research groups. This provides a very convincing \"proof\" that nature is not deterministic.\n",
    "\n",
    "Let that sink in..\n",
    "\n",
    "The only implicit assumptions that one makes in such experiments (which is a pretty reasonable one) is that the questions $x,y$ for the two devices in the CHSH game, are sampled uniformly at random, and, in particular, they are sampled independently of the system of the two quantum devices.\n",
    "\n",
    "Note that one does not need to *assume* that quantum mechanics is true in order to get to the conclusion that nature is not deterministic. It is sufficient to carry out the experiment above, and observe a winning probability that exceeds $3/4$. This is enough to guarantee that whatever system produced such a winning probability cannot be explained by a deterministic model. Quantum mechanics only provides a way to *realize* such an experiment.\n",
    "\n",
    "In this module, we have hopefully convinced you that quantum information not only has the potential for game-changing practical applications in computing, but it also has deep \"philosophical\" implications. "
   ]
  },
  {
   "cell_type": "code",
   "execution_count": null,
   "metadata": {},
   "outputs": [],
   "source": []
  },
  {
   "cell_type": "code",
   "execution_count": 1,
   "metadata": {},
   "outputs": [],
   "source": [
    "from qiskit import QuantumCircuit\n",
    "import random\n",
    "import numpy as np\n",
    "import math\n",
    "from qiskit.extensions import *\n",
    "from qiskit import Aer, execute\n",
    "\n",
    "circ = QuantumCircuit(2,2)   #initializing the circuit to create an EPR pair\n",
    "circ.h(0)                    \n",
    "circ.cx(0,1)                 #creating an EPR pair.\n",
    "\n",
    "x = random.randint(1,3)      #sampling a column for Alice\n",
    "y = random.randint(1,3)      #sampling a row for Bob\n",
    "\n",
    "\n"
   ]
  },
  {
   "cell_type": "code",
   "execution_count": null,
   "metadata": {},
   "outputs": [],
   "source": [
    "from qiskit import QuantumCircuit\n",
    "import random\n",
    "import numpy as np\n",
    "import math\n",
    "from qiskit.extensions import *\n",
    "from qiskit import Aer, execute\n",
    "\n",
    "theta_0 = math.pi/8\n",
    "theta_1 = -math.pi/8\n",
    "B_0 = np.array([[np.cos(theta_0), np.sin(theta_0)], [np.sin(theta_0), -np.cos(theta_0)]])  #Bob's unitary gate B_0\n",
    "B_1 = np.array([[np.cos(theta_1), np.sin(theta_1)], [np.sin(theta_1), -np.cos(theta_1)]])  #Bob's unitary gate B_1\n",
    "\n",
    "N = 1000 #number of games played\n",
    "N_win = 0 #initialize number of games won to zero\n",
    "\n",
    "for i in range(N):              #We will run this experiment many times to estimate the probability of Alice and Bob winning.\n",
    "    \n",
    "    circ = QuantumCircuit(2,2)   #initializing the circuit to create an EPR pair\n",
    "    circ.h(0)                    \n",
    "    circ.cx(0,1)                 #creating an EPR pair.\n",
    "    \n",
    "    x = random.randint(0,1)      #sampling a question for Alice\n",
    "    y = random.randint(0,1)      #sampling a question for Bob\n",
    "    \n",
    "    if x == 0:                    #if x=0, Alice's circuit is the identity followed by a measurement\n",
    "        pass                \n",
    "    else:                        #if x=1, Alice applies a H gate first before measuring.\n",
    "        circ.h(0)                \n",
    "        \n",
    "    if y == 0:                    #if y=0, Bob applies the unitary gate B_0\n",
    "        circ.unitary(B_0, range(1), label = 'B_0')\n",
    "    else:                        #if y=1, Bob applies the unitary gate B_1\n",
    "        circ.unitary(B_1, range(1), label = 'B_1')\n",
    "    \n",
    "    circ.measure([0,1], [1,0])\n",
    "    \n",
    "    #execute and obtain Alice's and Bob's answers a and b\n",
    "    backend_sim = Aer.get_backend('qasm_simulator')\n",
    "    sim = execute(circ, backend_sim, shots=1) \n",
    "    sim_result = sim.result()\n",
    "    counts = sim_result.get_counts(circ)\n",
    "    a = int(list(dict.keys(counts))[0][0])      # Alice's answer\n",
    "    b = int(list(dict.keys(counts))[0][1])      # Bob's answer\n",
    "\n",
    "    if (a + b) %2 == x*y:                  # check if a+b = xy, if so add a win to the count of won games N_win.\n",
    "        N_win += 1\n",
    "    \n",
    "print(N_win/N)  #print the ratio of games that were won N_win to total games played N"
   ]
  },
  {
   "cell_type": "markdown",
   "metadata": {},
   "source": [
    "<h1 style=\"color:#D30982;\">Review</h1>\n",
    "\n",
    "- \n"
   ]
  },
  {
   "cell_type": "code",
   "execution_count": null,
   "metadata": {},
   "outputs": [],
   "source": [
    "<h1 style=\"color:#D30982;\">Exercises</h1>"
   ]
  },
  {
   "cell_type": "code",
   "execution_count": null,
   "metadata": {},
   "outputs": [],
   "source": [
    "<h2 style=\"color:#9A11DA;\">Multiple Choice</h2> "
   ]
  },
  {
   "cell_type": "markdown",
   "metadata": {},
   "source": [
    "2. What is the maximum $\\oplus$?\n",
    "    - AND\n",
    "    - NAND\n",
    "    - OR\n",
    "    - XOR"
   ]
  },
  {
   "cell_type": "code",
   "execution_count": null,
   "metadata": {},
   "outputs": [],
   "source": [
    "<h2 style=\"color:#9A11DA;\">Free Response</h2> "
   ]
  },
  {
   "cell_type": "markdown",
   "metadata": {
    "ignoreQbook": true
   },
   "source": [
    "<hr>\n",
    "<div style='display:flex;'>\n",
    "    <div style='width:25%;text-align:right;'> <h4 style='color:#9A11DA'>Previous Module:</h4></div>\n",
    "    <div style='width:25%;text-align:left;'> <h4 ><a href='./08_Deutsch_algorithm.ipynb' style='color:#9A11DA;text-decoration:underline;opacity:0.6;'>8. Deutsch's Algorithm</a></h4></div>\n",
    "    <div style='width:25%;text-align:right;'> <h4 style='color:#9A11DA'>Next Module:</h4></div>\n",
    "    <div style='width:25%;text-align:left;'> <h4 ><a href='./10_Quantum_Algorithms_discussion.ipynb' style='color:#9A11DA;text-decoration:underline;opacity:0.6;'>10. Quantum Algorithms Discussion</a></h4></div>\n",
    "</div>\n",
    "</div>\n",
    "<!-- <hr style='border-color:grey;'> -->"
   ]
  }
 ],
 "metadata": {
  "kernelspec": {
   "display_name": "Python 3 [Default]",
   "language": "python",
   "name": "python3"
  },
  "language_info": {
   "codemirror_mode": {
    "name": "ipython",
    "version": 3
   },
   "file_extension": ".py",
   "mimetype": "text/x-python",
   "name": "python",
   "nbconvert_exporter": "python",
   "pygments_lexer": "ipython3",
   "version": "3.9.10"
  }
 },
 "nbformat": 4,
 "nbformat_minor": 4
}
