{
 "cells": [
  {
   "cell_type": "markdown",
   "metadata": {
    "ignoreQbook": true
   },
   "source": [
    "<div style='display:flex;'>\n",
    "    <div style='width:25%;text-align:right;'> <h4 style='color:#9A11DA'>Previous Module:</h4></div>\n",
    "    <div style='width:25%;text-align:left;'> <h4 ><a href='./09_Non-local_games.ipynb' style='color:#9A11DA;text-decoration:underline;opacity:0.6;'>9. Non-Local Games</a></h4></div>\n",
    "    <div style='width:25%;text-align:right;'> <h4 style='color:#9A11DA'>Next Module:</h4></div>\n",
    "    <div style='width:25%;text-align:left;'> </div>\n",
    "</div>\n",
    "<!-- <hr style='border-color:grey;'> -->"
   ]
  },
  {
   "cell_type": "markdown",
   "metadata": {},
   "source": [
    "<h1 style=\"color:#D30982;\">Recap</h1>\n",
    "\n",
    "Welcome to the final module! First, let's talk about what we've learned so far in this QuBes course. After that, we will describe to you, at a more general level, a few more famous quantum algorithms. These are the kinds of quantum applications that have the potential to fundamentally change what kind of problems we can solve. If you're interested in learning about them in more detail, and putting them to use yourself, please follow up with the QuInts course!\n",
    "\n",
    "The goal of this course was to give you a hands-on introduction to quantum computing. Let's go through a recap of the first seven modules:\n",
    "- In Module 1, we examined the double slit experiment, with the goal of giving you a quantum shock! We wanted to start by presenting to you some of the quirks of quantum mechanics, so that you would have an easier time digesting the axioms of quantum mechanics when presented more formally.\n",
    "- In Module 2, we discussed classical computing. You might have been familiar with some of the concepts presented in this module, but it was important to talk about these so that you could appreciate the difference between classical and quantum computing. \n",
    "- In Module 3 and 4, we reviewed the mathematical background and language used to describe quantum mechanics and quantum computing.\n",
    "- In Module 5, we introduced the fundamental unit of a quantum computer: a qubit. We discussed the concept of a measurement, as well as the basic operations one can apply to a qubit: single qubit quantum gates.\n",
    "- In Module 6, we learned how to construct and execute quantum circuits, and how to read out the results. We constructed many single qubit quantum circuits, and familiarized ourselves with the playground.\n",
    "- In Module 7, we generalized the previous notions to study multi-qubit states and multi-qubit quantum gates. \n",
    "- In Module 8, we discovered Deutsch's algorithm, as one of the first quantum algorithms to demonstrate the superiority of quantum algorithms over classical algorithms.\n",
    "- In Module 9, we shed some light on the popular concept of quantum teleportation."
   ]
  },
  {
   "cell_type": "markdown",
   "metadata": {},
   "source": [
    "<h1 style=\"color:#D30982;\">Quantum Algorithms</h1>\n",
    "\n",
    "The key insight that you hopefully took away from modules 8 and 9 is that quantum computers show promise for solving some computational tasks faster or more efficiently than classical computers. Within the scope of this course, we were not able to cover more quantum algorithms in depth, but we would like to give you at least high level description of some very promising quantum algorithms. You can learn about these more in detail in the Quints course.\n",
    "\n",
    "For each of the algorithms we desctibe, we will tell you about: \n",
    "- What problem do these algorithms solve? \n",
    "- How much speedup do they achieve compared to known classical algorithms?\n",
    "- What are the areas of application for these algorithms?"
   ]
  },
  {
   "cell_type": "markdown",
   "metadata": {},
   "source": [
    "<h2 style=\"color:#9A11DA;\">Shor's Factoring Algorithm</h2>\n",
    "\n",
    "Let's quiz ourselves for a moment. What are the factors of 6? Easy, right? 2 and 3. How about the factors of 187? Okay, this is more difficult, but after spending some time on it, you could reasonably figure out the factors to be 11 and 17. <br></br>\n",
    "Now, if we want to figure out factors of 23891247 for example, then we definitely need a computer, right? We just can't sit down and figure them out in any reasonable amount of time - we can't *efficiently* get the factors of big numbers by hand, right? Now, it is true that we can write a program to get these factors, but what happens when that number gets bigger and bigger? As it turns out, not only is it not known how to factor large numbers efficiently by hand, it's actually not known how to this efficiently on a computer! <br></br>\n",
    "As the number to be factored gets bigger, it obviously becomes increasingly difficult to factor it. In fact, the number of operations required scales *exponentially* in the number of digits of the number. The following code block is a naive way to figure out the factors; you can get and plot the 'scaling' of the algorithm to get a sense of this exponential scaling. Even though there are slightly better algorithms than the one presented below, there is no known algorithm which takes a number of operations which does not scale exponentially!"
   ]
  },
  {
   "cell_type": "code",
   "execution_count": null,
   "metadata": {},
   "outputs": [],
   "source": [
    "from random import *\n",
    "# print(randrange(10, 100))\n",
    "import timeit\n",
    "def primes(n):\n",
    "    primfac = []\n",
    "    d = 2\n",
    "    while d*d <= n:\n",
    "        while (n % d) == 0:\n",
    "            primfac.append(d)  # supposing you want multiple factors repeated\n",
    "            n //= d\n",
    "        d += 1\n",
    "    if n > 1:\n",
    "       primfac.append(n)\n",
    "    return primfac\n",
    "time = []\n",
    "print(primes(187))\n",
    "exit()\n",
    "for i in range(10):\n",
    "    rand_number = randrange(10**i,10**(i+1))\n",
    "    print('the number is',rand_number)\n",
    "    t = timeit.timeit(\"primes(\"+str(rand_number)+\")\", setup=\"from __main__ import primes\")\n",
    "    time.append(t)\n",
    "    print(t)"
   ]
  },
  {
   "cell_type": "code",
   "execution_count": null,
   "metadata": {},
   "outputs": [],
   "source": [
    "import matplotlib.pyplot as plt\n",
    "print(time)\n",
    "plt.plot(time)"
   ]
  },
  {
   "cell_type": "markdown",
   "metadata": {},
   "source": [
    "Interestingly, about 90% of the cryptographic systems employed today (used for encrypting communication, making credit card transactions, etc..) rely on the *hardness* of factoring large numbers: in other words, these systems are secure as long as there does not exist an efficient algorithm for factoring large numbers. This sounds like a reasonable assumption, given the discussion we've just had and the example code you have seen, right?\n",
    "\n",
    "\n",
    "Well.. not quite. \n",
    "\n",
    "In 1994 Peter Shor, now a mathematician at MIT, developed a *quantum* algorithm for factoring numbers efficiently.\n",
    "\n",
    "Tne scaling of the time required by Shor's algorithm in terms of the size of the number to be factored is no longer *exponential*, but rather polynomial. \n",
    "\n",
    "To be more concrete, the time required to factor an $n$-digit number using the best classical algorithm is $2^n$. Shor's algorithm takes time only $n^2$. To get a sense of how these two quantities compare, you can plot the two scalings using the code above.\n",
    "\n",
    "If you wish to learn more about Shor's algorithm, we encourage you to check out the QuInt's course!"
   ]
  },
  {
   "cell_type": "markdown",
   "metadata": {},
   "source": [
    "<h2 style=\"color:#9A11DA;\">Quantum Search Algorithm</h2>\n",
    "\n",
    "Imagine maintaining a directory of phone numbers. Everytime you meet someone, you write their name and phone number on a new page in the directory. Now, say that one of your colleagues was to look up the phone number of a person named 'John' and you let them borrow the directory in a rush, without telling them when you met John or what page his number may be on. Since they don't know what page to go to, they will have to go through each page one by one in the directory. Similarly, whenever any data is stored in some unstructured databases, you may have to check each possible entry of data to find the item that you're looking for. For a list of $5$ elements, you won't be completely sure that you will have found the correct element any sooner than checking $5$ entries. For a list of $10$ elements, you won't be sure until checking $10$. In technical jargon, this means that the search algorithm *scales linearly*, so we say the algorithm is $O(N)$ (read as 'order $N$'); this means if there are $N$ entries i.e. size of the database is $N$, then the number of steps to perform search algorithm scale proportional to $N$.\n",
    "\n",
    "In 1996, Lov Grover presented a quantum search algorithm which scales as $O(\\sqrt{N})$. To understand what this means, imagine trying to find a single needle in a list with 99 pieces of hay. We simply don't know any better classical way to do this than checking each item of the list, one by one, to see if it's the needle or another piece of hay, so you'd better settle in to check 100 of them before you can say with absolute certainty you'll have found it. Yet, somehow, a quantum computer *guarantees* that you only need to perform 10 single operations, and you will know exactly where the needle is, every single time! This is an incredible result - and to put things in perspective, this is actually significantly less of an improvement than what we described for factoring algorithms! However, the search algorithm has much broader applicability than the factoring algorithm: many, many problems could actually be morphed into a search problem. For example, the famous Travelling Salesman Problem, which concerns finding the most shortest possible path through various cities, can be posed as a kind of a search problem. \n"
   ]
  },
  {
   "cell_type": "markdown",
   "metadata": {},
   "source": [
    "<h2 style=\"color:#9A11DA;\">Quantum Simulation</h2>\n",
    "\n",
    "From Module 6, we learned that state of a $n$-qubits is described by a vector of size $2^n$ and the quantum gates on $n$-qubits are unitary matrices of size $2^n\\times 2^n$. Here, $n$ is in the exponent of the size of the problem, so hopefully it's not too hard to see that as $n$ increases, performing these operations $n$-qubit system on a classical computer could get out hand pretty fast. This is what we meant when we talked about the exponential scaling of the factoring algorithm. Now, we may not need to simulate $n$-qubits, but we may need to simulate an $n$-electron system such as atoms and molecules, in order to understand the structure and properties. That understanding can help us make better sense of their properties, and in some cases provides us insights into how we can tweak them to our advantage, such as designing materials for solar cells, developing effective drugs, and building efficient electronics. \n",
    "\n",
    "As you can probably guess, the equations governing the behavior of the atoms and molecules do not scale well. In fact, they have similar scaling to qubits, which is why it is *prohibitively difficult* (simply not realistically possible) to simulate complex molecules. With quantum computers, the atoms and molecules could be simulated in polynomial time: an exponential improvement! But, as a caveat, even though the simulation of atoms and molecules scale polynomially, it is still not very clear if it can be used to get the properties that are of interest to us. Right now is an exciting time to play with this technology, and ask ourselves, \"What can we do with this?\"\n"
   ]
  },
  {
   "cell_type": "markdown",
   "metadata": {},
   "source": [
    "<h1 style=\"color:#D30982;\">Thank you!</h1>\n",
    "\n",
    "We would like to give you a big thank you from the bottom of our hearts for making it this far :)\n",
    "\n",
    "Quantum computing (and quantum mechanics more generally) can be counterintuitive and a bit difficult to understand, but our hope is that we managed to convey to you that this fascinating subject is definitely worth the effort. \n",
    "\n",
    "If you are still curious, and you wish to learn more about quantum computing (in which case we have succeeded!), we encourage you to move on to the QuInts course!   "
   ]
  },
  {
   "cell_type": "markdown",
   "metadata": {
    "ignoreQbook": true
   },
   "source": [
    "<hr>\n",
    "<div style='display:flex;'>\n",
    "    <div style='width:25%;text-align:right;'> <h4 style='color:#9A11DA'>Previous Module:</h4></div>\n",
    "    <div style='width:25%;text-align:left;'> <h4 ><a href='./09_Non-local_games.ipynb' style='color:#9A11DA;text-decoration:underline;opacity:0.6;'>9. Non-Local Games</a></h4></div>\n",
    "    <div style='width:25%;text-align:right;'> <h4 style='color:#9A11DA'>Next Module:</h4></div>\n",
    "    <div style='width:25%;text-align:left;'> </div>\n",
    "</div>\n",
    "<!-- <hr style='border-color:grey;'> -->"
   ]
  }
 ],
 "metadata": {
  "kernelspec": {
   "display_name": "Python 3 [Default]",
   "language": "python",
   "name": "python3"
  },
  "language_info": {
   "codemirror_mode": {
    "name": "ipython",
    "version": 3
   },
   "file_extension": ".py",
   "mimetype": "text/x-python",
   "name": "python",
   "nbconvert_exporter": "python",
   "pygments_lexer": "ipython3",
   "version": "3.9.10"
  },
  "widgets": {
   "application/vnd.jupyter.widget-state+json": {
    "state": {},
    "version_major": 2,
    "version_minor": 0
   }
  }
 },
 "nbformat": 4,
 "nbformat_minor": 4
}
