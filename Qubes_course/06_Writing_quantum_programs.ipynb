{
 "cells": [
  {
   "cell_type": "markdown",
   "metadata": {
    "ignoreQbook": true
   },
   "source": [
    "<div style='display:flex;'>\n",
    "    <div style='width:25%;text-align:right;'> <h4 style='color:#9A11DA'>Previous Module:</h4></div>\n",
    "    <div style='width:25%;text-align:left;'> <h4 ><a href='./05_Qubit_and_quantum_gates.ipynb' style='color:#9A11DA;text-decoration:underline;opacity:0.6;'>5. Qubits and Quantum Gates</a></h4></div>\n",
    "    <div style='width:25%;text-align:right;'> <h4 style='color:#9A11DA'>Next Module:</h4></div>\n",
    "    <div style='width:25%;text-align:left;'> <h4 ><a href='./07_Multi_qubit_gates.ipynb' style='color:#9A11DA;text-decoration:underline;opacity:0.6;'>7. Multi-Qubit Gates</a></h4></div>\n",
    "</div>\n",
    "<!-- <hr style='border-color:grey;'> -->"
   ]
  },
  {
   "cell_type": "markdown",
   "metadata": {},
   "source": [
    "<h1 style=\"color:#D30982;\">Summary</h1>\n",
    "\n",
    "- Representing a quantum circuit\n",
    "- Coding your first quantum circuit\n",
    "- Making sense of the output/result of a quantum circuit\n",
    "- Coding single qubit gates and circuits."
   ]
  },
  {
   "cell_type": "markdown",
   "metadata": {},
   "source": [
    "<h1 style=\"color:#D30982;\">Representing Quantum Circuits</h1>\n",
    "\n",
    "Just like classical circuits, *quantum* circuits are read from left to right. Analogously to a bit in a classical circuit, a *qubit* in a *quantum* circuit is represented by a wire. \n",
    "\n",
    "Intuitively, in the case of a classical circuit the wire could be thought of as carrying current. No current flowing through the wire represented the state 0, while current flowing through it represented the state 1. In a quantum circuit, one can intuitively think of the wire as carrying a photon. The convention in quantum computing is that the qubits are always initialized in the state $\\left| 0 \\right \\rangle$.\n",
    "\n",
    "The quantum information carried by a wire is manipulated by quantum gates, which were introduced in the previous module, and of which you have seen several examples. A single qubit gate is represented by a square inside which we write the name of the quantum gate being applied. e.g the single qubit gates that you learned about in the last module are represented as:\n",
    "\n",
    "<img src=\"images/single-qubit-gates.png\" width=\"700\" style='margin-left:auto;margin-right:auto;' />\n",
    "     \n",
    "We represent a measurement as follows: \n",
    "\n",
    "<img src=\"images/measure.png\" width=50 style='margin-left:auto;margin-right:auto;'/>"
   ]
  },
  {
   "cell_type": "markdown",
   "metadata": {},
   "source": [
    "<h1 style=\"color:#D30982;\">Your First Quantum Program</h1>\n",
    "\n",
    "In order to write and run quantum programs, we make use of the Python package *qiskit*: this is developed by IBM and lets us build and run quantum circuits on IBM's very own quantum computer.\n",
    "\n",
    "A very important thing to note is that you can also *simulate* quantum circuits of small enough size on classical computers (recall that performing quantum gates is nothing other than multiplying matrices by and vectors). Such calculations can certainly be performed by a classical computer! The catch is that they very quickly become intractable as the size of the quantum circuits being simulated grows. qiskit also provides a functionality for simulating quantum circuits. For learning purposes, and since we will be dealing mostly with very small quantum circuits, we will be performing a classical simulation of the quantum circuits we build. Running these programs on an actual quantum computer will be as simple as changing one argument in our code. \n",
    "\n",
    "Without further ado, let's build our first quantum circuit which does the following: starting from a qubit in the state $\\left| 0 \\right \\rangle$, it creates an equal superposition of $\\left| 0 \\right \\rangle$ and $\\left| 1 \\right \\rangle$, and then measures the qubit. From the content of the last module, you should be able to guess that we can easily achieve this by initializing a qubit in the state $\\left| 0 \\right \\rangle$, and applying a Hadamard gate to it."
   ]
  },
  {
   "cell_type": "markdown",
   "metadata": {},
   "source": [
    "Our first step is to import the Python class QuantumCircuit, from the qiskit package. We use this class to describe the quantum circuits we wish to execute, and to execute it."
   ]
  },
  {
   "cell_type": "code",
   "execution_count": 1,
   "metadata": {},
   "outputs": [],
   "source": [
    "from qiskit import QuantumCircuit"
   ]
  },
  {
   "cell_type": "markdown",
   "metadata": {},
   "source": [
    "An object in the `QuantumCircuit` is initialized by specifying a number of qubits for the quantum circuit, and a number of classical bits which will be used to store the outcome of later measurements. In the example below, the first argument '1' to `QuantumCircuit` specifies that we will be using just 1 qubit. The second argument '1' specifies that we will be storing a single classical bit of output from our future measurement."
   ]
  },
  {
   "cell_type": "code",
   "execution_count": 2,
   "metadata": {},
   "outputs": [
    {
     "data": {
      "text/plain": [
       "<qiskit.circuit.instructionset.InstructionSet at 0x7f40c0f79430>"
      ]
     },
     "execution_count": 2,
     "metadata": {},
     "output_type": "execute_result"
    }
   ],
   "source": [
    "circ = QuantumCircuit(1,1)  #create QuantumCircuit object\n",
    "circ.h(0)  #add Hadamard gate to circuit"
   ]
  },
  {
   "cell_type": "markdown",
   "metadata": {},
   "source": [
    "In the above line, circ is the circuit we just created, and we are inserting the Hadamard gate using `.h(0)`. The '0' in the argument specifies that we want the gate to be applied on the zeroth qubit (recall that numbering in Python starts at 0). At this point, our quantum circuit is ready. We can \"draw\" it by using the function 'draw'."
   ]
  },
  {
   "cell_type": "code",
   "execution_count": 3,
   "metadata": {},
   "outputs": [
    {
     "data": {
      "image/png": "[encoded data removed]",
      "text/plain": [
       "<Figure size 133.526x144.48 with 1 Axes>"
      ]
     },
     "execution_count": 3,
     "metadata": {},
     "output_type": "execute_result"
    }
   ],
   "source": [
    "circ.draw(output='mpl') #draw circuit"
   ]
  },
  {
   "cell_type": "markdown",
   "metadata": {},
   "source": [
    "We encourage you to play with the arguments of the above code snippets! For example, try creating and drawing a circuit with multiple qubits.\n",
    "\n",
    "So far we have only drawn the quantum circuit. To actually run the circuit and measure requires additional code.  But before we run the circuit, we need to add a measurement command to the circuit. This is done using the function `measure`. The first argument specifies that we are measuring the zeroth qubit, and the second argument specifies that we are storing the output of this measurement in the zeroth output bit."
   ]
  },
  {
   "cell_type": "code",
   "execution_count": 4,
   "metadata": {},
   "outputs": [
    {
     "data": {
      "text/plain": [
       "<qiskit.circuit.instructionset.InstructionSet at 0x7f4108466250>"
      ]
     },
     "execution_count": 4,
     "metadata": {},
     "output_type": "execute_result"
    }
   ],
   "source": [
    "circ.measure(0,0) #add a measurement to the circuit"
   ]
  },
  {
   "cell_type": "markdown",
   "metadata": {},
   "source": [
    "To actually run the circuit and determine its output, we will make use of two additional modules in qiskit: `Aer` and `execute`. The Aer module contains many simulators. We will be using one called `'qasm_simulator'`. By convention, we refer to the simulator (or the actual quantum computer) as a backend. If you wanted to run your quantum circuit on an actual quantum computer, you would just need to replace `'qasm_simulator'` with the name of the quantum computer."
   ]
  },
  {
   "cell_type": "code",
   "execution_count": 5,
   "metadata": {},
   "outputs": [],
   "source": [
    "from qiskit import Aer, execute # Import Aer and execute\n",
    "backend_sim = Aer.get_backend('qasm_simulator') #create backend object"
   ]
  },
  {
   "cell_type": "markdown",
   "metadata": {},
   "source": [
    "Once you specify the backend, you can just go ahead and execute the circuit with the function `execute`. The argument `shots` specifies how many times the quantum circuit is run (we'll explain this in more detail soon)."
   ]
  },
  {
   "cell_type": "code",
   "execution_count": 6,
   "metadata": {},
   "outputs": [],
   "source": [
    "sim = execute(circ, backend_sim, shots=1024) #run the simulation"
   ]
  },
  {
   "cell_type": "markdown",
   "metadata": {},
   "source": [
    "The results from the execution are stored in 'sim' and can be obtained using the `result` function. From the result object we can get the count of the 0 and 1 outcomes in the 1024 runs we executed."
   ]
  },
  {
   "cell_type": "code",
   "execution_count": 7,
   "metadata": {},
   "outputs": [
    {
     "name": "stdout",
     "output_type": "stream",
     "text": [
      "{'1': 517, '0': 507}\n"
     ]
    }
   ],
   "source": [
    "sim_result = sim.result() #get result object\n",
    "counts = sim_result.get_counts(circ) #obtain the counts from the result object\n",
    "print(counts)"
   ]
  },
  {
   "cell_type": "markdown",
   "metadata": {},
   "source": [
    "<h2 style=\"color:#9A11DA;\"> Analyzing Your First Quantum Program</h2>\n",
    "\n",
    "Looking at the above code, you might be a bit confused by the variables `'shots'` and `'counts'`. We will explain these in a bit more detail.\n",
    "\n",
    "After applying a sequence of quantum gates to the state $\\left| 0 \\right\\rangle$ (which is the default initial state), the state of the qubit is, in general,\n",
    "\n",
    "$$\\left| \\psi \\right\\rangle=\\alpha \\left| 0 \\right\\rangle+ \\beta  \\left| 1 \\right\\rangle$$\n",
    "\n",
    "for some amplitudes $\\alpha$ and $\\beta$. Recall that the two amplitudes cannot be 'observed' directly. As a classical being, if you want to learn something about what these amplitudes are, you must eventually measure the state. If you do so right away, you will get outcomes $0$ and $1$ with probabilities $|\\alpha|^2$ and $|\\beta|^2$ respectively.\n",
    "\n",
    "So, you may ask, how do we ever figure out those $|\\alpha|^2$'s and $|\\beta|^2$'s? The answer is: by repeating the experiment many times. The 1024 `'shots'` in the program above are instructing the quantum computer (or in this case the simulator) to run the experiment 1024 times. And as you can see, since the state after applying a Hadamard gate is $\\begin{align}\\left| \\psi \\right\\rangle= \\tfrac{1}{\\sqrt{2}} \\left| 0 \\right\\rangle+\\tfrac{1}{\\sqrt{2}} \\left| 1 \\right\\rangle \\end{align}$, then the outcome of the circuit is 0 approximately 50% of the time and 1 approximately 50% of the time. The `'counts'` variable keeps track of all of these outcomes, and allows you to estimate $|\\alpha|^2$ and $|\\beta|^2$. The higher the number of `'shots'`, the better the estimate! \n",
    "\n",
    "We can plot the outcomes stored in the variable 'counts' using the following code:"
   ]
  },
  {
   "cell_type": "code",
   "execution_count": 8,
   "metadata": {},
   "outputs": [
    {
     "data": {
      "image/png": "[encoded data removed]",
      "text/plain": [
       "<Figure size 504x360 with 1 Axes>"
      ]
     },
     "execution_count": 8,
     "metadata": {},
     "output_type": "execute_result"
    }
   ],
   "source": [
    "from qiskit.visualization import plot_histogram\n",
    "plot_histogram(counts)"
   ]
  },
  {
   "cell_type": "markdown",
   "metadata": {},
   "source": [
    "<h1 style=\"color:#D30982;\"> Another Quantum Program</h1>\n",
    "Let's apply an $X$ gate instead of a $H$ gate. So, we start with the $\\left| 0 \\right\\rangle$ state as before, but now we apply $X$ followed by a measurement. Before you run this circuit. Try to predict the resulting 'counts' you would see."
   ]
  },
  {
   "cell_type": "code",
   "execution_count": 9,
   "metadata": {},
   "outputs": [
    {
     "data": {
      "image/png": "[encoded data removed]",
      "text/plain": [
       "<Figure size 133.526x144.48 with 1 Axes>"
      ]
     },
     "execution_count": 9,
     "metadata": {},
     "output_type": "execute_result"
    }
   ],
   "source": [
    "from qiskit import QuantumCircuit\n",
    "circ = QuantumCircuit(1,1)\n",
    "circ.x(0)\n",
    "circ.draw(output='mpl')"
   ]
  },
  {
   "cell_type": "code",
   "execution_count": 10,
   "metadata": {},
   "outputs": [
    {
     "name": "stdout",
     "output_type": "stream",
     "text": [
      "{'1': 1024}\n"
     ]
    },
    {
     "data": {
      "image/png": "[encoded data removed]",
      "text/plain": [
       "<Figure size 504x360 with 1 Axes>"
      ]
     },
     "execution_count": 10,
     "metadata": {},
     "output_type": "execute_result"
    }
   ],
   "source": [
    "circ.measure([0],[0])\n",
    "from qiskit import Aer, execute\n",
    "backend_sim = Aer.get_backend('qasm_simulator')\n",
    "sim = execute(circ, backend_sim, shots=1024)\n",
    "sim_result = sim.result()\n",
    "counts = sim_result.get_counts(circ)\n",
    "print(counts)\n",
    "\n",
    "plot_histogram(counts)"
   ]
  },
  {
   "cell_type": "markdown",
   "metadata": {},
   "source": [
    "<font size=3 color=9A11DA>**Exercise.**</font> Write and run a program that starts with the state $\\left| 0 \\right\\rangle$, applies the following sequence of gates $X$, $H$, $X$, $H$, and then measures. Estimate the probability of obtaining outcome '0'."
   ]
  },
  {
   "cell_type": "code",
   "execution_count": 18,
   "metadata": {},
   "outputs": [
    {
     "ename": "QiskitError",
     "evalue": "'No counts for experiment \"<qiskit.circuit.quantumcircuit.QuantumCircuit object at 0x7f40a36cd0a0>\"'",
     "output_type": "error",
     "traceback": [
      "\u001b[0;31m---------------------------------------------------------------------------\u001b[0m",
      "\u001b[0;31mQiskitError\u001b[0m                               Traceback (most recent call last)",
      "Cell \u001b[0;32mIn [18], line 12\u001b[0m\n\u001b[1;32m     10\u001b[0m sim \u001b[38;5;241m=\u001b[39m execute(circ, backend_sim, shots\u001b[38;5;241m=\u001b[39m\u001b[38;5;241m1024\u001b[39m)\n\u001b[1;32m     11\u001b[0m sim_result \u001b[38;5;241m=\u001b[39m sim\u001b[38;5;241m.\u001b[39mresult()\n\u001b[0;32m---> 12\u001b[0m counts \u001b[38;5;241m=\u001b[39m \u001b[43msim_result\u001b[49m\u001b[38;5;241;43m.\u001b[39;49m\u001b[43mget_counts\u001b[49m\u001b[43m(\u001b[49m\u001b[43mcirc\u001b[49m\u001b[43m)\u001b[49m\n\u001b[1;32m     13\u001b[0m \u001b[38;5;28mprint\u001b[39m(counts)\n",
      "File \u001b[0;32m/opt/.qbraid/environments/qbraid_000000/pyenv/lib/python3.9/site-packages/qiskit/result/result.py:289\u001b[0m, in \u001b[0;36mResult.get_counts\u001b[0;34m(self, experiment)\u001b[0m\n\u001b[1;32m    287\u001b[0m         dict_list\u001b[38;5;241m.\u001b[39mappend(statevector\u001b[38;5;241m.\u001b[39mStatevector(vec)\u001b[38;5;241m.\u001b[39mprobabilities_dict(decimals\u001b[38;5;241m=\u001b[39m\u001b[38;5;241m15\u001b[39m))\n\u001b[1;32m    288\u001b[0m     \u001b[38;5;28;01melse\u001b[39;00m:\n\u001b[0;32m--> 289\u001b[0m         \u001b[38;5;28;01mraise\u001b[39;00m QiskitError(\u001b[38;5;124mf\u001b[39m\u001b[38;5;124m'\u001b[39m\u001b[38;5;124mNo counts for experiment \u001b[39m\u001b[38;5;124m\"\u001b[39m\u001b[38;5;132;01m{\u001b[39;00m\u001b[38;5;28mrepr\u001b[39m(key)\u001b[38;5;132;01m}\u001b[39;00m\u001b[38;5;124m\"\u001b[39m\u001b[38;5;124m'\u001b[39m)\n\u001b[1;32m    291\u001b[0m \u001b[38;5;66;03m# Return first item of dict_list if size is 1\u001b[39;00m\n\u001b[1;32m    292\u001b[0m \u001b[38;5;28;01mif\u001b[39;00m \u001b[38;5;28mlen\u001b[39m(dict_list) \u001b[38;5;241m==\u001b[39m \u001b[38;5;241m1\u001b[39m:\n",
      "\u001b[0;31mQiskitError\u001b[0m: 'No counts for experiment \"<qiskit.circuit.quantumcircuit.QuantumCircuit object at 0x7f40a36cd0a0>\"'"
     ]
    }
   ],
   "source": [
    "from qiskit import QuantumCircuit, Aer, execute\n",
    "circ=QuantumCircuit(1,1)\n",
    "\n",
    "#your code here\n",
    "\n",
    "\n",
    "\n",
    "#execute the circuit\n",
    "backend_sim = Aer.get_backend('qasm_simulator')\n",
    "sim = execute(circ, backend_sim, shots=1024)\n",
    "sim_result = sim.result()\n",
    "counts = sim_result.get_counts(circ)\n",
    "print(counts)"
   ]
  },
  {
   "cell_type": "markdown",
   "metadata": {},
   "source": [
    "<font size=3 color=9A11DA>**Exercise.**</font> Write and run the program that starts with the state $\\left| 0 \\right\\rangle$, applies the following sequence of gates $H$, $Z$, $H$, $Z$, $H$, and then measures. Estimate the probability of obtaining outcome '0'."
   ]
  },
  {
   "cell_type": "code",
   "execution_count": null,
   "metadata": {},
   "outputs": [],
   "source": [
    "from qiskit import QuantumCircuit, Aer, execute\n",
    "\n",
    "#your code here\n",
    "\n",
    "\n"
   ]
  },
  {
   "cell_type": "markdown",
   "metadata": {},
   "source": [
    "<h2 style=\"color:#9A11DA;\"> Playing With More Circuits</h2>\n",
    "\n",
    "Single qubit circuits are a nice playground for you to learn and build some intuition for quantum computing. If you play around with these code snippets you might have a few 'Oh wait, I really thought I understood this' moments. We promise you that if each time you have such a moment you spend time straightening out your doubts, you will develop a much more solid understanding of quantum computing. You will also be more prepared to understand even more interesting stuff in the modules to come."
   ]
  },
  {
   "cell_type": "markdown",
   "metadata": {},
   "source": [
    "<h1 style=\"color:#D30982;\"> Making Sense of Phases</h1>\n",
    "\n",
    "If you start with the $\\left| 0 \\right\\rangle$ state and apply an $H$ gate, then the state you get is \n",
    "\n",
    "$$\\begin{align}\\left| \\psi \\right\\rangle= \\tfrac{1}{\\sqrt{2}} \\left| 0 \\right\\rangle+\\tfrac{1}{\\sqrt{2}} \\left| 1 \\right\\rangle \\end{align}.$$ \n",
    "\n",
    "If you start with $\\left| 1 \\right\\rangle$ and apply an $H$ gate then you get: \n",
    "\n",
    "$$\\begin{align}\\left| \\psi \\right\\rangle= \\tfrac{1}{\\sqrt{2}} \\left| 0 \\right\\rangle-\\tfrac{1}{\\sqrt{2}} \\left| 1 \\right\\rangle \\end{align}.$$ \n",
    "\n",
    "What is interesting is that, in both cases, if you measure the qubit after applying the $H$ gate, you obtain very similar results. We have run the first circuit earlier. Let's run the second one. "
   ]
  },
  {
   "cell_type": "code",
   "execution_count": 19,
   "metadata": {},
   "outputs": [
    {
     "data": {
      "image/png": "[encoded data removed]",
      "text/plain": [
       "<Figure size 193.726x144.48 with 1 Axes>"
      ]
     },
     "execution_count": 19,
     "metadata": {},
     "output_type": "execute_result"
    }
   ],
   "source": [
    "from qiskit import QuantumCircuit\n",
    "circ = QuantumCircuit(1,1)\n",
    "# Flip the initial 0 state to a 1 by applying an X gate\n",
    "circ.x(0)\n",
    "# Apply the Hadamard gate.\n",
    "circ.h(0)\n",
    "circ.draw(output='mpl')"
   ]
  },
  {
   "cell_type": "code",
   "execution_count": 20,
   "metadata": {},
   "outputs": [
    {
     "name": "stdout",
     "output_type": "stream",
     "text": [
      "{'1': 492, '0': 532}\n"
     ]
    },
    {
     "data": {
      "image/png": "[encoded data removed]",
      "text/plain": [
       "<Figure size 504x360 with 1 Axes>"
      ]
     },
     "execution_count": 20,
     "metadata": {},
     "output_type": "execute_result"
    }
   ],
   "source": [
    "circ.measure([0],[0])\n",
    "from qiskit import Aer, execute\n",
    "backend_sim = Aer.get_backend('qasm_simulator')\n",
    "sim = execute(circ, backend_sim, shots=1024)\n",
    "sim_result = sim.result()\n",
    "counts = sim_result.get_counts(circ)\n",
    "print(counts)\n",
    "\n",
    "plot_histogram(counts)"
   ]
  },
  {
   "cell_type": "markdown",
   "metadata": {},
   "source": [
    "As you can see, we get the same distribution of results as from our very first quantum circuit. This should be no surprise, since Born's rule states that the probabilities of obtaining outcomes 0 and 1 are given by squaring the moduli of the amplitudes. In both the cases of\n",
    "\n",
    "$$\\begin{align}\\left| \\psi \\right\\rangle= \\tfrac{1}{\\sqrt{2}} \\left| 0 \\right\\rangle+\\tfrac{1}{\\sqrt{2}} \\left| 1 \\right\\rangle \\end{align}$$ \n",
    "\n",
    "and\n",
    "\n",
    "$$\\begin{align}\\left| \\psi \\right\\rangle= \\tfrac{1}{\\sqrt{2}} \\left| 0 \\right\\rangle-\\tfrac{1}{\\sqrt{2}} \\left| 1 \\right\\rangle \\end{align},$$ \n",
    "\n",
    "one clearly obtains probabilites $\\frac12$ and $\\frac12$ for outcomes 0 and 1, respectively. You might wonder if there is a way we can distinguish the two states. \n",
    "\n",
    "We encourage you to think about this question, and to come up with a circuit that distinguishes these two states (before looking below for the answer!)"
   ]
  },
  {
   "cell_type": "markdown",
   "metadata": {},
   "source": [
    "The answer is that the two states can be distinguished if one first performs additional quantum gates before measuring. The simplest such example is almost trivial: once the two states have been created, one can apply an additional Hadamard gate. So the two circuits are the following:"
   ]
  },
  {
   "cell_type": "code",
   "execution_count": 21,
   "metadata": {},
   "outputs": [
    {
     "data": {
      "image/png": "[encoded data removed]",
      "text/plain": [
       "<Figure size 193.726x144.48 with 1 Axes>"
      ]
     },
     "execution_count": 21,
     "metadata": {},
     "output_type": "execute_result"
    }
   ],
   "source": [
    "from qiskit import QuantumCircuit\n",
    "circ = QuantumCircuit(1,1)\n",
    "circ.h(0)\n",
    "\n",
    "#Apply an additional Hadamard gate\n",
    "circ.h(0)\n",
    "\n",
    "circ.draw(output='mpl')"
   ]
  },
  {
   "cell_type": "code",
   "execution_count": 22,
   "metadata": {},
   "outputs": [
    {
     "name": "stdout",
     "output_type": "stream",
     "text": [
      "{'0': 1024}\n"
     ]
    },
    {
     "data": {
      "image/png": "[encoded data removed]",
      "text/plain": [
       "<Figure size 504x360 with 1 Axes>"
      ]
     },
     "execution_count": 22,
     "metadata": {},
     "output_type": "execute_result"
    }
   ],
   "source": [
    "circ.measure([0],[0])\n",
    "from qiskit import Aer, execute\n",
    "backend_sim = Aer.get_backend('qasm_simulator')\n",
    "sim = execute(circ, backend_sim, shots=1024)\n",
    "sim_result = sim.result()\n",
    "counts = sim_result.get_counts(circ)\n",
    "print(counts)\n",
    "\n",
    "plot_histogram(counts)"
   ]
  },
  {
   "cell_type": "markdown",
   "metadata": {},
   "source": [
    "Now, we run the same circuit but starting from a qubit in the state $\\left| 1\\right\\rangle$."
   ]
  },
  {
   "cell_type": "code",
   "execution_count": null,
   "metadata": {},
   "outputs": [],
   "source": [
    "from qiskit import QuantumCircuit\n",
    "circ = QuantumCircuit(1,1)\n",
    "circ.x(0) # prepare a qubit in the state |1>\n",
    "circ.h(0)\n",
    "\n",
    "#Apply an additional Hadamard gate\n",
    "circ.h(0)\n",
    "\n",
    "circ.draw(output='mpl')"
   ]
  },
  {
   "cell_type": "code",
   "execution_count": null,
   "metadata": {},
   "outputs": [],
   "source": [
    "circ.measure([0],[0])\n",
    "from qiskit import Aer, execute\n",
    "backend_sim = Aer.get_backend('qasm_simulator')\n",
    "sim = execute(circ, backend_sim, shots=1024)\n",
    "sim_result = sim.result()\n",
    "counts = sim_result.get_counts(circ)\n",
    "print(counts)\n",
    "\n",
    "plot_histogram(counts)"
   ]
  },
  {
   "cell_type": "markdown",
   "metadata": {},
   "source": [
    "As you can see, the first circuit returns outcome 0 with certainty, while the second circuit returns outcome 1 with certainty. In other words, the two states above can be distinguished by applying a Hadamard gate, and then measuring. If you think a bit more about what is going on here, you will realize that the reason behind this is pretty clear. By applying a second Hadamard gate in the two circuits above, we are 'cancelling' the first Hadamard gate (because $H \\cdot H$ equals the identity gate). Hence the first circuit is equivalent to an identity gate starting from $\\left| 0\\right\\rangle$ (followed by a measurement), while the second is equivalent to an identity gate applied to $\\left|1\\right\\rangle$, followed by a measurement. The first circuit obviously returns outcome 0 with certainty. The second circuit, returns outcome 1 with certainty.\n",
    "\n",
    "If you are interested in a less 'trivial' example to distinguish the two states above, we encourage you to play with the gates that you have encountered in the previous module. \n",
    "\n",
    "Spoiler alert: it turns out that *most* gates will succeed at distinguishing the two states with significant statistical confidence!"
   ]
  },
  {
   "cell_type": "markdown",
   "metadata": {},
   "source": [
    "<font size=3 color=9A11DA>**Exercise.**</font> So far, we have dealt with quantum circuits that only contain one qubit. Just to get our feet wet, let's look at a circuit with two qubits. Suppose we initialize two qubits, both in the state $\\left|0\\right>$, apply a Hadamard ($H$) gate to both qubits, and then measure both qubits. An example of this circuit is shown below. What are the possible outcomes of measuring both qubits? How likely are each of these outcomes? Run the code snippet below, which simulates this circuit below and observe the results. Did the answer match your predictions? (Hint: consider the measurement outcomes of each qubit individually first, and then consider the joint system. For two independent events with respective probabilities $p_1$ and $p_2$, the probability of both events occuring is $p_1 p_2$.)\n",
    "\n",
    "<img src=\"images/module_6_quantum_circuit.png\" height=\"150\" width=\"200\" align=\"center\"/>"
   ]
  },
  {
   "cell_type": "code",
   "execution_count": null,
   "metadata": {},
   "outputs": [],
   "source": [
    "from qiskit import QuantumCircuit, Aer, execute\n",
    "\n",
    "#create circuit and add gates\n",
    "circ=QuantumCircuit(2,2)\n",
    "circ.h(0)\n",
    "circ.h(1)\n",
    "\n",
    "#measure\n",
    "circ.measure([0,1],[1,0])\n",
    "\n",
    "backend_sim = Aer.get_backend('qasm_simulator')\n",
    "sim = execute(circ, backend_sim, shots=1024)\n",
    "sim_result = sim.result()\n",
    "counts = sim_result.get_counts(circ)\n",
    "print(counts)\n",
    "\n",
    "plot_histogram(counts)"
   ]
  },
  {
   "cell_type": "markdown",
   "metadata": {},
   "source": [
    "As you can see, starting with two qubits and acting on them independently yields independent statistics, as you might have expected. In the next module, we will explore circuits of multiple qubits in much more detail. As you will see, the complexity and beauty of quantum computing emerges when we act on multiple qubits in such a way as to *entangle* or *correlate* them."
   ]
  },
  {
   "cell_type": "markdown",
   "metadata": {},
   "source": [
    "<h1 style=\"color:#D30982;\">Schrodinger's Cat</h1>\n",
    "\n",
    "As you build more intuition, we would like you to sometimes pause and reflect deeply about the understanding you are developing. For example, there is a good chance that you have heard of *Schrodinger's cat*, a famous thought experiment proposed by Erwin Schrodinger during the early development <!-- 192694292013 -->of quantum theory. At this time, scientists were just beginning to discover the strange and counterintuitive concepts behind the quantum world. They often used thought experiments to investigate and explain these surprising ideas. In this thought experiment, a cat is put in a box, and there is a mechanism to kill it (why would someone do that? It baffles us too!). That mechanism is triggered by the decay of a radioactive atom. Now, the state of a radioactive atom is in superposition of having decayed and not decayed. This is just like the state of the qubit, where 0 could represent 'not decay' and 1 could represent 'decay'. Does this mean that the cat is in a superposition of being 'dead' and 'alive'?\n",
    "\n",
    "You see, even with single qubits, you can think of some 'interesting' experiments, if you just figure out a way to couple the output from a qubit's measurement to some macroscopic event.\n",
    "\n",
    "<img src=\"images/schrodinger_cat.png\" height=\"200\" width=\"450\" style='margin-left:auto;margin-right:auto;'/>"
   ]
  },
  {
   "cell_type": "markdown",
   "metadata": {},
   "source": [
    "<h1 style=\"color:#D30982;\">Review</h1>\n",
    "\n",
    "The python package `qiskit` allows us to simulate quantum computers in python. Running a (simulation of) a quantum circuit requires the following steps:\n",
    "- Import the necessary objects, including `QuantumCircuit`, `Aer`, and `execute`\n",
    "- Create a `QuantumCircuit` object, specifying a number of qubits and a number of classical bits (to store future measurement outcomes)\n",
    "- Add gates to the circuit\n",
    "- Add a measurement\n",
    "- Create a backend object that will execute the simulation\n",
    "- Execute the circuit using the backend object\n",
    "- Manipulate the outcome of the simulation to present it as desired (for example using histogram plots)."
   ]
  },
  {
   "cell_type": "markdown",
   "metadata": {},
   "source": [
    "<h1 style=\"color:#D30982;\">Exercises</h1>"
   ]
  },
  {
   "cell_type": "code",
   "execution_count": 1,
   "metadata": {},
   "outputs": [
    {
     "data": {
      "application/vnd.jupyter.widget-view+json": {
       "model_id": "5cb3c118c36f4fd49e25f44f2fed6aa5",
       "version_major": 2,
       "version_minor": 0
      },
      "text/plain": [
       "MultipleChoiceQuestion(jupyterhub_username='mannythemann40@gmail.com', resource_id='qubes_m6_writing_quantum_p…"
      ]
     },
     "metadata": {},
     "output_type": "display_data"
    }
   ],
   "source": [
    "from qbraid_quiz_widget import MultipleChoiceQuestion\n",
    "MultipleChoiceQuestion('qubes_m6_writing_quantum_program_1')"
   ]
  },
  {
   "cell_type": "code",
   "execution_count": 3,
   "metadata": {},
   "outputs": [
    {
     "data": {
      "application/vnd.jupyter.widget-view+json": {
       "model_id": "13312541db20408e978031ed5add3b6e",
       "version_major": 2,
       "version_minor": 0
      },
      "text/plain": [
       "MultipleChoiceQuestion(jupyterhub_username='mannythemann40@gmail.com', resource_id='qubes_m6_writing_quantum_p…"
      ]
     },
     "metadata": {},
     "output_type": "display_data"
    }
   ],
   "source": [
    "from qbraid_quiz_widget import MultipleChoiceQuestion\n",
    "MultipleChoiceQuestion('qubes_m6_writing_quantum_program_2')"
   ]
  },
  {
   "cell_type": "code",
   "execution_count": 2,
   "metadata": {},
   "outputs": [
    {
     "data": {
      "application/vnd.jupyter.widget-view+json": {
       "model_id": "9c7fe66ffcc04e4fa296811b63faccfc",
       "version_major": 2,
       "version_minor": 0
      },
      "text/plain": [
       "MultipleChoiceQuestion(jupyterhub_username='mannythemann40@gmail.com', resource_id='qubes_m6_writing_quantum_p…"
      ]
     },
     "metadata": {},
     "output_type": "display_data"
    }
   ],
   "source": [
    "from qbraid_quiz_widget import MultipleChoiceQuestion\n",
    "MultipleChoiceQuestion('qubes_m6_writing_quantum_program_3')"
   ]
  },
  {
   "cell_type": "code",
   "execution_count": 4,
   "metadata": {},
   "outputs": [
    {
     "data": {
      "application/vnd.jupyter.widget-view+json": {
       "model_id": "a1f5b25593584bc090ad7f1afcf4674f",
       "version_major": 2,
       "version_minor": 0
      },
      "text/plain": [
       "MultipleChoiceQuestion(jupyterhub_username='mannythemann40@gmail.com', resource_id='qubes_m6_writing_quantum_p…"
      ]
     },
     "metadata": {},
     "output_type": "display_data"
    }
   ],
   "source": [
    "from qbraid_quiz_widget import MultipleChoiceQuestion\n",
    "MultipleChoiceQuestion('qubes_m6_writing_quantum_program_4')"
   ]
  },
  {
   "cell_type": "markdown",
   "metadata": {},
   "source": [
    "<h2 style=\"color:#9A11DA;\">Free Response</h2> "
   ]
  },
  {
   "cell_type": "markdown",
   "metadata": {},
   "source": [
    "1. What's wrong with this code?"
   ]
  },
  {
   "cell_type": "code",
   "execution_count": null,
   "metadata": {},
   "outputs": [],
   "source": [
    "circ = QuantumCircuit(0) "
   ]
  },
  {
   "cell_type": "markdown",
   "metadata": {},
   "source": [
    "2. To write quantum programs, we made use of the `QuantumCircuit` class from the module `qiskit`. To use this code, we imported it as `from qiskit import QuantumCircuit`. Suppose isntead that we used the statement `import qiskit`, exactly the way we said `import numpy`. How, then could we create an instance of the `QuantumCircuit` class? Write a simple `QuantumCircuit` using this method, and draw it to verify your code works. (Hint: You can look back at how we used `numpy` for guidance?)"
   ]
  },
  {
   "cell_type": "code",
   "execution_count": null,
   "metadata": {},
   "outputs": [],
   "source": [
    "from qiskit import QuantumCircuit\n",
    "\n",
    "circ = QuantumCircuit(1,1)"
   ]
  },
  {
   "cell_type": "markdown",
   "metadata": {},
   "source": [
    "3. Create a `QuantumCircuit` with three qubits. Use a `for` loop to add a Hadamard to each gate. Draw the circuit to demonstrate that your code has worked correctly."
   ]
  },
  {
   "cell_type": "markdown",
   "metadata": {},
   "source": [
    "4. Initialize a `QuantumCircuit` and apply an X and Y gate on the first qubit. Now draw the circuit to verify your code works as expected."
   ]
  },
  {
   "cell_type": "code",
   "execution_count": null,
   "metadata": {},
   "outputs": [],
   "source": []
  },
  {
   "cell_type": "markdown",
   "metadata": {},
   "source": [
    "5. One important skill in using external packages is reading coding documentation. This is all the information about how to use various pieces of code for a module. Go to [https://qiskit.org/documentation/](https://qiskit.org/documentation/) and click on \"Circuits\" and then \"Summary of Quantum Operations\". This shows all the different possible gates that can be used and how they work mathematically. Scroll down until you find the $T$ gate. How is this gate called using `qiskit`? (Note: Scrolling through documentation can be an extremely confusing process, especially for large modules. Remember that this process is like looking something up in the dictionary: you will come across many words you don't know until you find the one you are looking for!)"
   ]
  },
  {
   "cell_type": "markdown",
   "metadata": {},
   "source": [
    "<h1 style=\"color:#D30982;\">Challenge Problems</h1> "
   ]
  },
  {
   "cell_type": "markdown",
   "metadata": {},
   "source": [
    "1. Consider the firework thought experiment described in the last section of Module 5. Recall that there were three cases:\n",
    "\n",
    "- 1: The box is empty.\n",
    "- 2: The firework explodes upon being hit by the photon.\n",
    "- 3: The firework \"chooses\" the the upper path, leaving the firework unexploded.\n",
    "\n",
    "<img src=\"images/evb_image_2.png\" height=\"350\" width=\"400\" style='margin-left:auto;margin-right:auto;'/>\n",
    "\n",
    "Using Python, create a circuit that simulates each of these scenarios. Do the measurement counts correspond with the physical outcomes described in Module 5?\n",
    "\n",
    "You may assume the following:\n",
    "- The photon is a single qubit.\n",
    "- The beam splitter acts as a Hadamard ($H$) gate.\n",
    "- The \"up-then-right\" path may be considered the $\\left| 0 \\right>$ state, and the \"right-then-up\" path may be considered the $\\left| 1 \\right>$ path.\n",
    "- The mirrors simply reflect the photons, and have no effect on the state of the qubit.\n",
    "- The photon hitting detector A corresponds to measuring and obtaining outcome $\\left| 0 \\right>$, and the photon hitting detector B corresponts to outcome $\\left| 1 \\right>$.\n",
    "\n",
    "Recall that when the firework is placed in the lower path, it forces a measurement, causing the photon to collapse to either  $\\left| 0 \\right>$ or  $\\left| 1 \\right>$ before it reaches the second beam-splitter. When you simulate scenarios 2 and 3, you should break the simulation into two parts:\n",
    "- First perform the measurement to determine whether the photon took the higher or lower path.\n",
    "- Then, manually initialize the post-measurement state based on the outcome of the previous measurement (since qiskit does not keep track of post-measurement states)."
   ]
  },
  {
   "cell_type": "code",
   "execution_count": null,
   "metadata": {},
   "outputs": [],
   "source": [
    "from qiskit import QuantumCircuit, Aer, execute\n",
    "\n",
    "#create QuantumCircuit\n",
    "circ=QuantumCircuit(1,1)\n",
    "\n",
    "#Code for CASE 1\n",
    "\n",
    "\n",
    "\n",
    "#measure\n",
    "circ.measure([0],[0])\n",
    "backend_sim = Aer.get_backend('qasm_simulator')\n",
    "sim = execute(circ, backend_sim, shots=1024)\n",
    "sim_result = sim.result()\n",
    "counts = sim_result.get_counts(circ)\n",
    "print(counts)"
   ]
  },
  {
   "cell_type": "code",
   "execution_count": null,
   "metadata": {},
   "outputs": [],
   "source": [
    "from qiskit import QuantumCircuit, Aer, execute\n",
    "\n",
    "#create QuantumCircuit\n",
    "circ=QuantumCircuit(1,1)\n",
    "\n",
    "#Code for CASE 2\n",
    "\n",
    "\n",
    "\n",
    "#measure\n",
    "circ.measure([0],[0])\n",
    "backend_sim = Aer.get_backend('qasm_simulator')\n",
    "sim = execute(circ, backend_sim, shots=1024)\n",
    "sim_result = sim.result()\n",
    "counts = sim_result.get_counts(circ)\n",
    "print(counts)"
   ]
  },
  {
   "cell_type": "code",
   "execution_count": null,
   "metadata": {},
   "outputs": [],
   "source": [
    "from qiskit import QuantumCircuit, Aer, execute\n",
    "\n",
    "#create QuantumCircuit\n",
    "circ=QuantumCircuit(1,1)\n",
    "\n",
    "#Code for CASE 3\n",
    "\n",
    "\n",
    "\n",
    "#measure\n",
    "circ.measure([0],[0])\n",
    "backend_sim = Aer.get_backend('qasm_simulator')\n",
    "sim = execute(circ, backend_sim, shots=1024)\n",
    "sim_result = sim.result()\n",
    "counts = sim_result.get_counts(circ)\n",
    "print(counts)"
   ]
  },
  {
   "cell_type": "markdown",
   "metadata": {},
   "source": [
    "2. Let's look at the code below and understand what it is showing us!"
   ]
  },
  {
   "cell_type": "code",
   "execution_count": 41,
   "metadata": {},
   "outputs": [
    {
     "name": "stdout",
     "output_type": "stream",
     "text": [
      "{'1': 500, '0': 524}\n",
      "     ┌─────────┐┌───┐┌─┐\n",
      "q_0: ┤ RY(π/2) ├┤ Z ├┤M├\n",
      "     └─────────┘└───┘└╥┘\n",
      "c: 1/═════════════════╩═\n",
      "                      0 \n"
     ]
    },
    {
     "data": {
      "image/png": "[encoded data removed]",
      "text/plain": [
       "<Figure size 504x360 with 1 Axes>"
      ]
     },
     "execution_count": 41,
     "metadata": {},
     "output_type": "execute_result"
    }
   ],
   "source": [
    "from qiskit import QuantumCircuit\n",
    "from qiskit import Aer, execute\n",
    "from qiskit.visualization import plot_histogram\n",
    "import numpy as np\n",
    "circ = QuantumCircuit(1,1)  #create QuantumCircuit object\n",
    "### START CODE HERE ### (approx. 2 lines)\n",
    "circ.ry(np.pi/2,0)\n",
    "circ.z(0)\n",
    "### END CODE HERE ###\n",
    "circ.measure(0,0) #add a measurement to the circuit\n",
    "\n",
    "\n",
    "backend_sim = Aer.get_backend('qasm_simulator')\n",
    "sim = execute(circ, backend_sim, shots=1024)\n",
    "sim_result = sim.result()\n",
    "counts = sim_result.get_counts(circ)\n",
    "print(counts)\n",
    "print(circ.draw())\n",
    "plot_histogram(counts)"
   ]
  },
  {
   "cell_type": "markdown",
   "metadata": {},
   "source": [
    "2. Ignoring the small variance in the results. What are the probabilities for $\\ket{0}$ and $\\ket{1}$\n",
    "Answer: 50% for both"
   ]
  },
  {
   "cell_type": "markdown",
   "metadata": {},
   "source": [
    "3. Write a qubit state which when measured would result in the above probabilites.\n",
    "Answer: $\\tfrac{1}{\\sqrt{2}}\\ket{0}+\\tfrac{1}{\\sqrt{2}}\\ket{1}$"
   ]
  },
  {
   "cell_type": "markdown",
   "metadata": {},
   "source": [
    "4. In the below code block, write a single qubit which would produce the same result!"
   ]
  },
  {
   "cell_type": "code",
   "execution_count": 42,
   "metadata": {},
   "outputs": [
    {
     "name": "stdout",
     "output_type": "stream",
     "text": [
      "{'0': 1024}\n",
      "     ┌─┐\n",
      "q_0: ┤M├\n",
      "     └╥┘\n",
      "c: 1/═╩═\n",
      "      0 \n"
     ]
    },
    {
     "data": {
      "image/png": "[encoded data removed]",
      "text/plain": [
       "<Figure size 504x360 with 1 Axes>"
      ]
     },
     "execution_count": 42,
     "metadata": {},
     "output_type": "execute_result"
    }
   ],
   "source": [
    "from qiskit import QuantumCircuit\n",
    "\n",
    "circ = QuantumCircuit(1,1)  #create QuantumCircuit object\n",
    "### START CODE HERE ### (approx. 1 lines)\n",
    "\n",
    "### END CODE HERE ###\n",
    "circ.measure(0,0) #add a measurement to the circuit\n",
    "\n",
    "\n",
    "backend_sim = Aer.get_backend('qasm_simulator')\n",
    "sim = execute(circ, backend_sim, shots=1024)\n",
    "sim_result = sim.result()\n",
    "counts = sim_result.get_counts(circ)\n",
    "print(counts)\n",
    "print(circ.draw())\n",
    "plot_histogram(counts)"
   ]
  },
  {
   "cell_type": "markdown",
   "metadata": {},
   "source": [
    "Optional: Discuss your results"
   ]
  },
  {
   "cell_type": "markdown",
   "metadata": {
    "ignoreQbook": true
   },
   "source": [
    "<hr>\n",
    "<div style='display:flex;'>\n",
    "    <div style='width:25%;text-align:right;'> <h4 style='color:#9A11DA'>Previous Module:</h4></div>\n",
    "    <div style='width:25%;text-align:left;'> <h4 ><a href='./05_Qubit_and_quantum_gates.ipynb' style='color:#9A11DA;text-decoration:underline;opacity:0.6;'>5. Qubits and Quantum Gates</a></h4></div>\n",
    "    <div style='width:25%;text-align:right;'> <h4 style='color:#9A11DA'>Next Module:</h4></div>\n",
    "    <div style='width:25%;text-align:left;'> <h4 ><a href='./07_Multi_qubit_gates.ipynb' style='color:#9A11DA;text-decoration:underline;opacity:0.6;'>7. Multi-Qubit Gates</a></h4></div>\n",
    "</div>\n",
    "<!-- <hr style='border-color:grey;'> -->"
   ]
  }
 ],
 "metadata": {
  "kernelspec": {
   "display_name": "Python 3 [Default]",
   "language": "python",
   "name": "python3"
  },
  "language_info": {
   "codemirror_mode": {
    "name": "ipython",
    "version": 3
   },
   "file_extension": ".py",
   "mimetype": "text/x-python",
   "name": "python",
   "nbconvert_exporter": "python",
   "pygments_lexer": "ipython3",
   "version": "3.9.10"
  },
  "widgets": {
   "application/vnd.jupyter.widget-state+json": {
    "state": {},
    "version_major": 2,
    "version_minor": 0
   }
  }
 },
 "nbformat": 4,
 "nbformat_minor": 4
}
