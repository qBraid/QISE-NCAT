{
 "cells": [
  {
   "cell_type": "markdown",
   "metadata": {},
   "source": [
    "# Lists and using them in loops:"
   ]
  },
  {
   "cell_type": "code",
   "execution_count": null,
   "metadata": {},
   "outputs": [],
   "source": [
    "# following are lists:\n",
    "x=[1,2,3,4,5] #list of numbers\n",
    "y=['a','hello','b','my']\n",
    "z=[12,3,4,5,6]\n",
    "\n",
    "# accessing individual elements of a list\n",
    "print('The first item of list y is:  ',y[0])\n",
    "print('The first item of list x is:  ',x[0])\n",
    "\n",
    "# the characters of next line are\n",
    "print('\\n\\n')\n",
    "\n",
    "# to print the length of a list use the len() funtion\n",
    "print('y has length:',len(y))\n",
    "\n",
    "# to add an element to a list use the .append method:\n",
    "x.append(2002)\n",
    "\n",
    "print('print x after append', x)\n",
    "\n",
    "\n",
    "# Looping over elements of a list:\n",
    "for element in y:\n",
    "    print(element)\n",
    "    \n",
    "for i in x:\n",
    "    print(i)\n",
    "    \n",
    "# another way to print the elements of a list:\n",
    "for i in range(len(z)):\n",
    "    print(z[i])\n",
    "\n",
    "\n",
    "# we can add elements of x to elements of y:\n",
    "\n",
    "for i in range(len(x)):\n",
    "    y.append(x[i])\n",
    "    \n",
    "    \n",
    "print('New y is:',y)"
   ]
  },
  {
   "cell_type": "markdown",
   "metadata": {},
   "source": [
    "# Python dictionaries"
   ]
  },
  {
   "cell_type": "code",
   "execution_count": null,
   "metadata": {},
   "outputs": [],
   "source": [
    "# Dictionaries are another data structure that store data as key value pairs:\n",
    "# Dictionaries are declared as:\n",
    "\n",
    "my_dict = {\"name\": 'Mickey Mouse', 'age': 'immortal', \"occupation\":'disney star'}\n",
    "\n",
    "# Once the dictionary, values for particular keys could be accessed as:\n",
    "\n",
    "print('The value of name key is: ',my_dict['name'])\n",
    "\n",
    "# you can also iterate through a dictionary:\n",
    "\n",
    "for key in my_dict:\n",
    "    print('key:', key, ' value: ', my_dict[key])\n",
    "    \n",
    "# print the length of a dictionary using the len function\n",
    "\n",
    "print('the length of the dictionay is:',len(my_dict))"
   ]
  },
  {
   "cell_type": "markdown",
   "metadata": {},
   "source": [
    "# Matplotlib"
   ]
  },
  {
   "cell_type": "code",
   "execution_count": null,
   "metadata": {},
   "outputs": [],
   "source": [
    "import matplotlib.pyplot as plt\n",
    "plt.plot([1, 2, 3, 4])\n",
    "plt.ylabel('some numbers')\n",
    "plt.show()\n"
   ]
  },
  {
   "cell_type": "code",
   "execution_count": null,
   "metadata": {},
   "outputs": [],
   "source": [
    "plt.plot([1, 2, 3, 4], [1, 4, 9, 16])"
   ]
  },
  {
   "cell_type": "code",
   "execution_count": null,
   "metadata": {},
   "outputs": [],
   "source": [
    "import time\n",
    "from IPython.display import clear_output\n",
    "print(\"Plot\")\n",
    "plt.plot([1, 2, 3, 4], [1, 4, 9, 16])\n",
    "plt.show()\n",
    "time.sleep(2.4)\n",
    "clear_output(wait=True)\n",
    "plt.plot([1, 2, 3, 4], [3, 15, 9, 6])\n",
    "\n",
    "print(\"Printed after 2.4 seconds.\")\n"
   ]
  },
  {
   "cell_type": "markdown",
   "metadata": {},
   "source": [
    "# Numpy"
   ]
  },
  {
   "cell_type": "code",
   "execution_count": null,
   "metadata": {},
   "outputs": [],
   "source": [
    "# numpy is a great library for anything related to linear algebra\n",
    "# you create a vector in numpy using the array method in numpy\n",
    "import numpy as np\n",
    "a = np.array([1, 2, 3, 4, 5, 6])\n",
    "# numpy has many math functions that accept array/vector inputs:\n",
    "b = np.sin(a)\n",
    "print(b)\n",
    "\n"
   ]
  },
  {
   "cell_type": "markdown",
   "metadata": {},
   "source": [
    "# Plotting complex numbers"
   ]
  },
  {
   "cell_type": "code",
   "execution_count": null,
   "metadata": {},
   "outputs": [],
   "source": [
    "# This part is your homework!\n",
    "\n",
    "# Problem: Make a function that takes input a list of complex numbers and plots them.\n",
    "\n",
    "def plot_complex_numbers(c_list):\n",
    "    # Your code goes here\n",
    "    \n",
    "\n",
    "    \n",
    "# Hint: you will make two lists from the list of complex numbers that you can use to plot with matplotlib.\n",
    "# You will iterate over the complex numbers list and make two lists out of them."
   ]
  }
 ],
 "metadata": {
  "kernelspec": {
   "display_name": "Python 3 [Default]",
   "language": "python",
   "name": "python3"
  },
  "language_info": {
   "codemirror_mode": {
    "name": "ipython",
    "version": 3
   },
   "file_extension": ".py",
   "mimetype": "text/x-python",
   "name": "python",
   "nbconvert_exporter": "python",
   "pygments_lexer": "ipython3",
   "version": "3.9.10"
  }
 },
 "nbformat": 4,
 "nbformat_minor": 4
}
