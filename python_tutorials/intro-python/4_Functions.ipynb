{
 "cells": [
  {
   "cell_type": "markdown",
   "metadata": {},
   "source": [
    "<h1 style=\"color:#D30982;\">Functions</h1>\n",
    "\n",
    "Imagine a scenario in which five friends run a small business. Suppose the yearly revenue is $x$, while the total costs for the year are $\\frac{x}{2}$. The yearly profit of the company is then $x-\\frac{x}{2}$. The profit of each person is $\\frac{1}{5}(x-\\frac{x}{2})$. Suppose that for the current year $x=100$, then in order to calculate the yearly profit per person you would compute $\\frac{1}{5}(100-\\frac{100}{2})$. For this small case, it may not be too much work, but for much bigger applications, it is always easier to code up a 'function/method' and then just call it when required. These 'functions/methods' are similar to functions you're familiar with in mathematics, where they take some input and they return some output. The syntax for a function/method is the following:"
   ]
  },
  {
   "cell_type": "code",
   "execution_count": null,
   "metadata": {},
   "outputs": [],
   "source": [
    "def name_of_function(argument):\n",
    "    # Body of the function, e.g square the argument\n",
    "    y = argument**2\n",
    "    # The value of y can be returned to the caller function using return statement\n",
    "    return y"
   ]
  },
  {
   "cell_type": "markdown",
   "metadata": {},
   "source": [
    "Let's see the profit example in action:"
   ]
  },
  {
   "cell_type": "code",
   "execution_count": null,
   "metadata": {},
   "outputs": [],
   "source": [
    "def profit_per_person(x):\n",
    "    p = (x-x/2)/5\n",
    "    return p\n",
    "\n",
    "x = 3456\n",
    "myprofit = profit_per_person(x)\n",
    "print('myprofit for this year is:', myprofit)"
   ]
  },
  {
   "cell_type": "markdown",
   "metadata": {},
   "source": [
    "Now, let's take a look at functions with multiple arguments, which is a veyr straightforward extension."
   ]
  },
  {
   "cell_type": "code",
   "execution_count": null,
   "metadata": {},
   "outputs": [],
   "source": [
    "def name_of_function(argument1, argument2):\n",
    "    \n",
    "    #do something with the arguments\n",
    "    output = argument1 + argument2\n",
    "    \n",
    "    return output"
   ]
  },
  {
   "cell_type": "markdown",
   "metadata": {},
   "source": [
    "<h2 style=\"color:#9A11DA;\">  Optional Arguments </h2>\n",
    "\n",
    "Sometimes, we want to pass arguments to a function only in special (perhaps rare) cases. For this, it makes sense to use an optional argument.\n",
    "\n",
    "For example, suppose we want to add two decimal numbers, but occasionally want our function to be able to round the function as well. We will use a built in function in python called round, which rounds the number to the nearest integer. We can write the following:"
   ]
  },
  {
   "cell_type": "code",
   "execution_count": 14,
   "metadata": {},
   "outputs": [],
   "source": [
    "def add_numbers(x, y, round_answer=False):\n",
    "    \n",
    "    answer = x + y\n",
    "    \n",
    "    if round_answer:\n",
    "        answer = round(answer)\n",
    "        \n",
    "    return answer"
   ]
  },
  {
   "cell_type": "markdown",
   "metadata": {},
   "source": [
    "We can use this function with or without the optional argument."
   ]
  },
  {
   "cell_type": "code",
   "execution_count": 15,
   "metadata": {},
   "outputs": [
    {
     "name": "stdout",
     "output_type": "stream",
     "text": [
      "8.84 9 9\n"
     ]
    }
   ],
   "source": [
    "my_answer_1 = add_numbers(3.21, 5.63)\n",
    "my_answer_2 = add_numbers(3.21, 5.63, True)\n",
    "my_answer_3 = add_numbers(3.21, 5.63, round_answer=True)\n",
    "print(my_answer_1, my_answer_2, my_answer_3)"
   ]
  },
  {
   "cell_type": "markdown",
   "metadata": {},
   "source": [
    "The second and third uses are equivalent. However, if you have multiple optional arguments, it's best to specify the specific optional argument you're referring two, as we have in the third way. We'll talk about this more in the next section.\n",
    "\n",
    "We could also explore many different variations of this idea. For one thing, the default value of an optional argument need not be a boolean value. It can be anything. For example:"
   ]
  },
  {
   "cell_type": "code",
   "execution_count": 16,
   "metadata": {},
   "outputs": [],
   "source": [
    "def add_numbers_extra(x, y, decimal_places=None):\n",
    "    \n",
    "    answer = x + y\n",
    "    \n",
    "    if decimal_places != None:\n",
    "        answer = round(answer, decimal_places)\n",
    "        \n",
    "    return answer"
   ]
  },
  {
   "cell_type": "markdown",
   "metadata": {},
   "source": [
    "`None` is a common way to specify a python variable with no information and is commonly used as a default for optional arguments. Note that the `round()` function itself has an optional argument that we have used here. Above, we used the round function with it's default value, to round a number to the ones place. Specifying an integer $n$ will round the number to $n$ decimal places! It even works for negative numbers."
   ]
  },
  {
   "cell_type": "markdown",
   "metadata": {},
   "source": [
    "**Exerise.** Write a function with an optional argument. Then, call the function with and without the optional argument."
   ]
  },
  {
   "cell_type": "code",
   "execution_count": null,
   "metadata": {},
   "outputs": [],
   "source": []
  },
  {
   "cell_type": "markdown",
   "metadata": {},
   "source": [
    "<h2 style=\"color:#9A11DA;\">  Keyword Arguments </h2>\n",
    "\n",
    "Sometimes functions will have many many optional arguments. Especially if you are using a function someone else has written, you might not want to override the default value of all of them. In this case, you need to specficy which argument you are trying to override. These optional arguments are more frequently referred to as keyword arguments, because you provide the keyword associated with that arguments.\n",
    "\n",
    "Let's look at an example. Let's suppose you want to order a pizza. We can consider a whole range of custom options associated with this operation. Suppose we want to allow the user to specify a list of toppings. We might also allow them to choose whether the pizza should come presliced, whether the payment method is card or cash, and whether the order is for pickup or delivery. "
   ]
  },
  {
   "cell_type": "code",
   "execution_count": 24,
   "metadata": {},
   "outputs": [],
   "source": [
    "def order_pizza(toppings,\n",
    "               presliced = True,\n",
    "               payment_method = 'cash',\n",
    "               transfer_method = 'pickup'):\n",
    "\n",
    "    #topping string\n",
    "    topping_string = \"\"\n",
    "    if len(toppings)>2:\n",
    "        for index in range(len(toppings)):\n",
    "            topping_string += toppings[index]\n",
    "            if index == len(toppings)-1:\n",
    "                continue\n",
    "            elif index == len(toppings)-2:\n",
    "                topping_string += ', and '\n",
    "            else:\n",
    "                topping_string += ', '\n",
    "    elif len(toppings)==2:\n",
    "        topping_string = toppings[0] + ' and ' + toppings[1]\n",
    "    elif len(toppings)==1:\n",
    "        topping_string = toppings[0]\n",
    "    elif len(toppings)==0:\n",
    "        topping_string = 'nothing'\n",
    "        print(\"Must have toppings on a pizza!\")\n",
    "            \n",
    "    #presliced string\n",
    "    if presliced:\n",
    "        presliced_string = ''\n",
    "    else: presliced_string = 'not '\n",
    "        \n",
    "    output_string = \"\"\"\n",
    "    You've ordered a pizza with {}.\n",
    "    The pizza will {}come presliced. \n",
    "    Payment method is {} and order is for {}.\"\"\".format(topping_string, presliced_string, payment_method, transfer_method)\n",
    "        \n",
    "    return output_string"
   ]
  },
  {
   "cell_type": "markdown",
   "metadata": {},
   "source": [
    "This function will return a string that we can print. This function does a couple things. The only part that might be hard to follow is the creation of a `topping_string`, which is simply there to list the toppings as `'<topping a>, <topping b>, <topping c>, and <topping d>'`.\n",
    "\n",
    "Let's try the absolute default case. The only required argument is toppings, which we will assume for now is just cheese."
   ]
  },
  {
   "cell_type": "code",
   "execution_count": 22,
   "metadata": {},
   "outputs": [
    {
     "name": "stdout",
     "output_type": "stream",
     "text": [
      "\n",
      "    You've ordered a pizza with cheese.\n",
      "    The pizza will come presliced. \n",
      "    Payment method is cash and order is for pickup.\n"
     ]
    }
   ],
   "source": [
    "toppings = ['cheese']\n",
    "order = order_pizza(toppings)\n",
    "print(order)"
   ]
  },
  {
   "cell_type": "markdown",
   "metadata": {},
   "source": [
    "Now, suppose we didn't want the pizza presliced and wanted the pizza delivered. We'll also specify a longer list of toppings. What if we just supplied `False` and `'delivery'` as optional arguments?"
   ]
  },
  {
   "cell_type": "code",
   "execution_count": 25,
   "metadata": {},
   "outputs": [
    {
     "name": "stdout",
     "output_type": "stream",
     "text": [
      "\n",
      "    You've ordered a pizza with blue cheese, apple, arugula, and honey.\n",
      "    The pizza will not come presliced. \n",
      "    Payment method is delivery and order is for pickup.\n"
     ]
    }
   ],
   "source": [
    "toppings = ['blue cheese', 'apple', 'arugula', 'honey']\n",
    "order = order_pizza(toppings,False,'delivery')\n",
    "print(order)"
   ]
  },
  {
   "cell_type": "markdown",
   "metadata": {},
   "source": [
    "You can see that python has assumed your arguments apply to the first two keyword arguments and has completely misinterpretted your input. Especially if you're using a function that is not yours, you might not even remember which keyword argument goes in which order. So for multiple arguments, it's always best to do the following:"
   ]
  },
  {
   "cell_type": "code",
   "execution_count": 11,
   "metadata": {},
   "outputs": [
    {
     "name": "stdout",
     "output_type": "stream",
     "text": [
      "\n",
      "    You've ordered a pizza with cheese.\n",
      "    The pizza will not come presliced. \n",
      "    Payment method is cash and order is for delivery.\n"
     ]
    }
   ],
   "source": [
    "order = order_pizza(toppings, presliced = False, transfer_method = 'delivery')\n",
    "print(order)"
   ]
  },
  {
   "cell_type": "markdown",
   "metadata": {},
   "source": [
    "<h1 style=\"color:#D30982;\">Exercises </h1>"
   ]
  },
  {
   "cell_type": "markdown",
   "metadata": {},
   "source": [
    "1. Write a function that takes as inputs two variables: `a` and `b`. The function should return the value $(a+b)(a-b)$."
   ]
  },
  {
   "cell_type": "code",
   "execution_count": null,
   "metadata": {},
   "outputs": [],
   "source": []
  },
  {
   "cell_type": "markdown",
   "metadata": {},
   "source": [
    " - Now call the function in the code cell below. Print the ouput of the function."
   ]
  },
  {
   "cell_type": "code",
   "execution_count": null,
   "metadata": {},
   "outputs": [],
   "source": []
  },
  {
   "cell_type": "markdown",
   "metadata": {},
   "source": [
    "2. Write a function `is_even()` that takes an integer as an argument and returns `True` if the integer is even and `False` if the integer is not. You will use the modulo function, which in python is defined using the `%` symbol. For example, `5%3` returns $2$."
   ]
  },
  {
   "cell_type": "code",
   "execution_count": null,
   "metadata": {},
   "outputs": [],
   "source": []
  },
  {
   "cell_type": "markdown",
   "metadata": {},
   "source": [
    "- Now call the function in the code cell below. Print the ouput of the function."
   ]
  },
  {
   "cell_type": "code",
   "execution_count": null,
   "metadata": {},
   "outputs": [],
   "source": []
  },
  {
   "cell_type": "markdown",
   "metadata": {},
   "source": [
    "3. Write a function `divisible_by()` that reads an integer and returns `\"divisible by two\"` if a function is divisible by two, i.e. `n%2=0`, returns `\"divisible by three\"` if the integer is divisible by three, and returns `\"divisible by two and three\"` if the integer is divisible by both two and three. The optimal solution involves two `if` statements."
   ]
  },
  {
   "cell_type": "code",
   "execution_count": null,
   "metadata": {},
   "outputs": [],
   "source": []
  },
  {
   "cell_type": "markdown",
   "metadata": {},
   "source": [
    "4. Write a function `sum_integers_1_to_n()` that returns the sum of all integers from 1 to $n$, where $n$ is any positive integer."
   ]
  },
  {
   "cell_type": "code",
   "execution_count": null,
   "metadata": {},
   "outputs": [],
   "source": []
  },
  {
   "cell_type": "markdown",
   "metadata": {},
   "source": [
    "- Now call the function in the code cell below. Print the ouput of the function."
   ]
  },
  {
   "cell_type": "code",
   "execution_count": null,
   "metadata": {},
   "outputs": [],
   "source": []
  },
  {
   "cell_type": "markdown",
   "metadata": {},
   "source": [
    "5. Write a function `get_to_27()` that generates a random number in the range $[0,100)$ until the generate number is equal to 27. The function should return the number of tries the function took"
   ]
  },
  {
   "cell_type": "code",
   "execution_count": null,
   "metadata": {},
   "outputs": [],
   "source": []
  },
  {
   "cell_type": "markdown",
   "metadata": {},
   "source": [
    "- Write a for loop that calls the function `get_to_27()`. The loop should run twenty times and calculate the average number of tries it takes the computer to find 27. (Hint: calculate the sum of all the tries, and divide by twenty at the end.)"
   ]
  },
  {
   "cell_type": "markdown",
   "metadata": {},
   "source": [
    "6. Copy your code for the function `get_to_27()`. Now modify it with a keyword argument called `max_tries`, which should stop trying to find 27 after a certain number of attempts and return `'max tries exceeded'` and otherwise work as before. It should also have another keyword argument called `search_interval`, allowing the user to specify the upper and lower bounds of the search. The interval $[0,100)$ should be the default."
   ]
  },
  {
   "cell_type": "code",
   "execution_count": null,
   "metadata": {},
   "outputs": [],
   "source": []
  }
 ],
 "metadata": {
  "kernelspec": {
   "display_name": "Python 3 [Default]",
   "language": "python",
   "name": "python3"
  },
  "language_info": {
   "codemirror_mode": {
    "name": "ipython",
    "version": 3
   },
   "file_extension": ".py",
   "mimetype": "text/x-python",
   "name": "python",
   "nbconvert_exporter": "python",
   "pygments_lexer": "ipython3",
   "version": "3.9.10"
  }
 },
 "nbformat": 4,
 "nbformat_minor": 4
}
