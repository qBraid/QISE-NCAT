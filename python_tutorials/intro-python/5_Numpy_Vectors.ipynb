{
 "cells": [
  {
   "cell_type": "markdown",
   "metadata": {},
   "source": [
    "<h1 style=\"color:#D30982;\">Vectors as Numpy Arrays</h1>\n",
    "\n",
    "Python's list data type is useful for many things. We can use lists to store collections of information, get elements, etc. Vectors are also a collection of numbers stored in a particular order. But **many of the functions we want to perform on vectors (i.e. the dot product, vector addition, vector multiplication, etc.) are not available natively through python lists.** However, we can use a python package that is ubiquitously used by python users: `numpy`. With `numpy`, we can do all sorts of vector calculates (and much more besides). We will only introduce you to a small fraction of the functionality provided by `numpy`, much of which requires mathematical understanding beyond the scope of this course.\n",
    "\n",
    "<h2 style=\"color:#9A11DA;\">Importing Numpy</h2>\n",
    "\n",
    "To start, we need to `import numpy`, a statement which tells python to load all the functionality we might want to use from this package. We'll learn more about using external packages in a separate module, but for now, you can use the following import statement."
   ]
  },
  {
   "cell_type": "code",
   "execution_count": 2,
   "metadata": {},
   "outputs": [],
   "source": [
    "import numpy as np"
   ]
  },
  {
   "cell_type": "markdown",
   "metadata": {},
   "source": [
    "We've now imported numpy and we can use the functions it provides. The second part of the statement (`as np`) provides a nickname to `numpy`. Because `numpy` is used so frequently, `np` has become the standard way to shorten the code used to refer to its functionality. We'll use that standard in all our code. Whenever you see a statement saying `\"name 'np' is not defined\"`, this means you have not run `import numpy as np` yet, and you should do so before trying that piece of code again."
   ]
  },
  {
   "cell_type": "markdown",
   "metadata": {},
   "source": [
    "<h2 style=\"color:#9A11DA;\">Creating Numpy Arrays</h2>\n",
    "\n",
    "To initialize a numpy array, we'll call the following statement:"
   ]
  },
  {
   "cell_type": "code",
   "execution_count": 4,
   "metadata": {},
   "outputs": [
    {
     "name": "stdout",
     "output_type": "stream",
     "text": [
      "[ 4  3 -2]\n"
     ]
    }
   ],
   "source": [
    "my_numpy_array = np.array([4,3,-2])\n",
    "print(my_numpy_array)"
   ]
  },
  {
   "cell_type": "markdown",
   "metadata": {},
   "source": [
    "You can see that this array looks very similar to a list when printed, but actually, has a whole bunch of functionality that is different from lists. To see how let's make a pair of lists (and their corresponding numppy arrays."
   ]
  },
  {
   "cell_type": "code",
   "execution_count": 5,
   "metadata": {},
   "outputs": [],
   "source": [
    "list_1 = [1,3,-2]\n",
    "list_2 = [5,1,4]\n",
    "np_array_1 = np.array(list_1)\n",
    "np_array_2 = np.array(list_2)"
   ]
  },
  {
   "cell_type": "markdown",
   "metadata": {},
   "source": [
    "Now let's try a simple opteration: addition."
   ]
  },
  {
   "cell_type": "code",
   "execution_count": 6,
   "metadata": {},
   "outputs": [
    {
     "name": "stdout",
     "output_type": "stream",
     "text": [
      "[1, 3, -2, 5, 1, 4]\n",
      "[6 4 2]\n"
     ]
    }
   ],
   "source": [
    "print(list_1 + list_2)\n",
    "print(np_array_1 + np_array_2)"
   ]
  },
  {
   "cell_type": "markdown",
   "metadata": {},
   "source": [
    "You'll notice that python interprets addition of lists as *concatenating* them together, creating. a longer list. Numpy arrays work differently. Numpy adds each element of the corresponding arrays together, just like we would vectors!"
   ]
  },
  {
   "cell_type": "code",
   "execution_count": null,
   "metadata": {},
   "outputs": [],
   "source": []
  },
  {
   "cell_type": "markdown",
   "metadata": {},
   "source": [
    "<h2 style=\"color:#9A11DA;\">Vector Operations with Numpy</h2>"
   ]
  },
  {
   "cell_type": "markdown",
   "metadata": {},
   "source": [
    "Manipulating vectors and matrices is where the `numpy` module truly shines. You can spend some time familiarizing with vectors and their operations by playing with the following code snippets."
   ]
  },
  {
   "cell_type": "markdown",
   "metadata": {},
   "source": [
    "**Row Vector.** A row vector is created using the function `array` in `numpy`. The entries of the vector are separated by a comma and are enclosed in a square bracket. The following line defines a three dimensional vector."
   ]
  },
  {
   "cell_type": "code",
   "execution_count": 7,
   "metadata": {},
   "outputs": [
    {
     "name": "stdout",
     "output_type": "stream",
     "text": [
      "[9 8 6]\n"
     ]
    }
   ],
   "source": [
    "import numpy as np\n",
    "vector = np.array([9, 8, 6])\n",
    "print(vector)"
   ]
  },
  {
   "cell_type": "markdown",
   "metadata": {},
   "source": [
    "**Getting Vector Elements.** Once we have defined a vector, it is easy to extract a single element by specifying its index. Indices are ordered in ascending order starting from $0$. Let's get the second element of both `row_vec` and `col_vec`."
   ]
  },
  {
   "cell_type": "code",
   "execution_count": 11,
   "metadata": {},
   "outputs": [
    {
     "name": "stdout",
     "output_type": "stream",
     "text": [
      "The second entry of 'vector' is' 8\n"
     ]
    }
   ],
   "source": [
    "print(\"The second entry of 'vector' is'\", vector[1])"
   ]
  },
  {
   "cell_type": "markdown",
   "metadata": {},
   "source": [
    "**Adding Vectors.** You can add vectors with +, as long as they're either both row vectors or both column vectors and have the same dimension:"
   ]
  },
  {
   "cell_type": "code",
   "execution_count": 12,
   "metadata": {},
   "outputs": [
    {
     "name": "stdout",
     "output_type": "stream",
     "text": [
      "[10 10  9]\n"
     ]
    }
   ],
   "source": [
    "vector_1=np.array([9,8,6])\n",
    "vector_2=np.array([1,2,3])\n",
    "print(vector_1+vector_2)"
   ]
  },
  {
   "cell_type": "markdown",
   "metadata": {},
   "source": [
    "**Multiplication by a Scalar.** We can also multiply a row or column vector by a scalar as follows."
   ]
  },
  {
   "cell_type": "code",
   "execution_count": 13,
   "metadata": {},
   "outputs": [
    {
     "name": "stdout",
     "output_type": "stream",
     "text": [
      "Scaled row vector [45 40 30]\n"
     ]
    }
   ],
   "source": [
    "vector_scaled=5*vector\n",
    "print('Scaled row vector', vector_scaled)"
   ]
  },
  {
   "cell_type": "markdown",
   "metadata": {},
   "source": [
    "**Inner Product.** The inner product, or dot product, uses `np.dot()`. Recall that this is a scalar quantity. Notice that the format of the output is slightly differend depending on whether we use vectors of the same type. Don't be too worried about this, you can simply adjust your output to be in whatever format you need it."
   ]
  },
  {
   "cell_type": "code",
   "execution_count": 15,
   "metadata": {},
   "outputs": [
    {
     "name": "stdout",
     "output_type": "stream",
     "text": [
      "43\n"
     ]
    }
   ],
   "source": [
    "dot_product = np.dot(vector_1, vector_2)\n",
    "print(dot_product)"
   ]
  },
  {
   "cell_type": "markdown",
   "metadata": {},
   "source": [
    "We can also use the following syntax:"
   ]
  },
  {
   "cell_type": "code",
   "execution_count": 14,
   "metadata": {},
   "outputs": [
    {
     "name": "stdout",
     "output_type": "stream",
     "text": [
      "43\n"
     ]
    }
   ],
   "source": [
    "dot_product2 = vector_1.dot(vector_2)\n",
    "print(dot_product2)"
   ]
  },
  {
   "cell_type": "markdown",
   "metadata": {},
   "source": [
    "**Magnitude.** The magnitude, or norm of the vector, is a function in the `linalg` sub-package in `numpy`. To access functions in sub-packages in python, we use `package.subpackage.function`. In this case we use `np.linalg.norm()` as follows:"
   ]
  },
  {
   "cell_type": "code",
   "execution_count": null,
   "metadata": {},
   "outputs": [],
   "source": [
    "magnitude=np.linalg.norm(col_vec)\n",
    "print(magnitude)"
   ]
  },
  {
   "cell_type": "markdown",
   "metadata": {},
   "source": [
    "Notice that transforming a vector from a column to a row and vice versa doesn't affect its length:"
   ]
  },
  {
   "cell_type": "code",
   "execution_count": null,
   "metadata": {},
   "outputs": [],
   "source": [
    "magnitude=np.linalg.norm(vector)\n",
    "print(magnitude)"
   ]
  },
  {
   "cell_type": "markdown",
   "metadata": {},
   "source": [
    "<h1 style=\"color:#D30982;\">Exercises</h1>"
   ]
  },
  {
   "cell_type": "markdown",
   "metadata": {},
   "source": [
    "1. First, import `numpy`. Then create the following variables:\n",
    "    - a variable `a_4` that stores a four-dimensional numpy row vector with real entries of your choice\n",
    "    - a variable `b_4` that stores a four-dimensional numpy row vector with real entries of your choice\n",
    "    - a variable  `a_2` that stores a two-dimensional numpy row vector with real entries of your choice\n",
    "    - a variable `b_2` that stores a two-dimensional numpy row vector with real entries of your choice"
   ]
  },
  {
   "cell_type": "code",
   "execution_count": null,
   "metadata": {},
   "outputs": [],
   "source": []
  },
  {
   "cell_type": "markdown",
   "metadata": {},
   "source": [
    "2. Use the `norm` function to determine the magnitude of the vector `a_4 + b_4`."
   ]
  },
  {
   "cell_type": "code",
   "execution_count": null,
   "metadata": {},
   "outputs": [],
   "source": []
  },
  {
   "cell_type": "markdown",
   "metadata": {},
   "source": [
    "3. Calculate the inner product of:\n",
    "    - `a_4` and `b_4`\n",
    "    - `a_2` and `b_2`"
   ]
  },
  {
   "cell_type": "code",
   "execution_count": null,
   "metadata": {},
   "outputs": [],
   "source": []
  },
  {
   "cell_type": "markdown",
   "metadata": {},
   "source": [
    "4. Create two complex row vectors in python, of the same dimension. \n",
    "    - calculate the inner product of these two vectors and assign its value to an output variable `v`\n",
    "    - calculate the real part of the first element of `v`"
   ]
  },
  {
   "cell_type": "code",
   "execution_count": null,
   "metadata": {},
   "outputs": [],
   "source": []
  },
  {
   "cell_type": "markdown",
   "metadata": {},
   "source": [
    "5. Create two real vectors of the same dimension. Create a new vector that is a linear combination of the first two."
   ]
  },
  {
   "cell_type": "code",
   "execution_count": null,
   "metadata": {},
   "outputs": [],
   "source": []
  }
 ],
 "metadata": {
  "kernelspec": {
   "display_name": "Python 3 [Default]",
   "language": "python",
   "name": "python3"
  },
  "language_info": {
   "codemirror_mode": {
    "name": "ipython",
    "version": 3
   },
   "file_extension": ".py",
   "mimetype": "text/x-python",
   "name": "python",
   "nbconvert_exporter": "python",
   "pygments_lexer": "ipython3",
   "version": "3.9.10"
  }
 },
 "nbformat": 4,
 "nbformat_minor": 4
}
