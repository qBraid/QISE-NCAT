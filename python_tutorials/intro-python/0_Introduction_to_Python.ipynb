{
 "cells": [
  {
   "cell_type": "markdown",
   "metadata": {},
   "source": [
    "<h1 style=\"color:#D30982;\">Intro to Python</h1>\n",
    "\n",
    "Python is a high-level, general-purpose programming language. By general-purpose, we mean that it is designed for a wide variety of applications. By high-level, we mean that you do not need to know the internal workings of computers to use it. All the complicated details of computers are abstracted out, and the programming language is relatively easy to understand. Python is in fact one of the most intuitive programming languages, and often feels similar to a natural language.\n",
    "\n",
    "Just like in the real world, most complex tasks can be broken down into various smaller sub-tasks. Therefore, there are a small number of functions/operations in python that let you build very complex applications. Let's focus in on the following operations: \n",
    "\n",
    "1. Calculating math expressions\n",
    "2. Repetition and Conditional tools: For, if, while\n",
    "3. Custom functions and Methods"
   ]
  },
  {
   "cell_type": "markdown",
   "metadata": {},
   "source": [
    "<h1 style=\"color:#D30982;\">Hello World!</h1>\n",
    "The 'Hello World' program is the simplest program that is used to introduce a programming language to new learners. In Python, this is the very simple one line program shown in the following cell. You can run it by selecting the cell and clicking on the play button in the 'Main Area toolbar', or by simply selecting the cell and pressing 'Shift+Enter'. "
   ]
  },
  {
   "cell_type": "code",
   "execution_count": null,
   "metadata": {},
   "outputs": [],
   "source": [
    "print('Hello World!')"
   ]
  },
  {
   "cell_type": "markdown",
   "metadata": {},
   "source": [
    "You may wonder, what is the use of this very simple program? \n",
    "This is a stepping stone towards what is coming. This demonstrates to you how to print a statement to the screen. \n",
    "\n",
    "Consider the task of making coffee. If someone didn't know how to make coffee, you would break down the task of making coffee into many smaller steps. You would use these smaller steps and build a procedure/algorithm that someone else can easily follow. This would go something like:\n",
    "\n",
    "- Turn on the coffee machine,\n",
    "- Add water to the water reservoir/tank in the coffee machine,\n",
    "- Open the top lid, add the coffee filter, and then add coffee,\n",
    "- Press the start switch to start brewing.\n",
    "\n",
    "*Writing a computer program*, or *programming*, is similar. It means writing down a set of instructions for a computer to accomplish a desired task. Behind any of the apps that you have ever used, there is a set of instructions (that a programmer has specified) for what the computer/phone should in response to you pressing any button or making any action in the app.\n",
    "\n",
    "As you proceed, you will realize that as the task at hand becomes more complex, it will be helpful to print partial results on the screen to make sure that the task is being executed as expected."
   ]
  },
  {
   "cell_type": "markdown",
   "metadata": {},
   "source": [
    "<h1 style=\"color:#D30982;\">Python as a calculator</h1>\n",
    "Python offers the basic functionality of a calculator. The following code cell shows how you can use the calculator functionality in Python to add, subtract, multiply and divide numbers."
   ]
  },
  {
   "cell_type": "code",
   "execution_count": null,
   "metadata": {},
   "outputs": [],
   "source": [
    "print(3+(4/2)-4+2*8)\n",
    "print(2+2)"
   ]
  },
  {
   "cell_type": "markdown",
   "metadata": {},
   "source": [
    "<font size=3 color=9A11DA>**Comments in Python:**</font>\n",
    "When coding in any language, it is always helpful to insert explanatory comments in the code, so that other people can understand your code, or so that you can look back at your code months after you have written it, and still make sense of it. In Python, anything that that follows `#` on a given line is a comment."
   ]
  },
  {
   "cell_type": "code",
   "execution_count": null,
   "metadata": {},
   "outputs": [],
   "source": [
    "print(\"hello\")\n",
    "# this is an inline comment, python skips over it\n",
    "print(\"goobye\")"
   ]
  }
 ],
 "metadata": {
  "kernelspec": {
   "display_name": "Python 3",
   "language": "python",
   "name": "python3"
  },
  "language_info": {
   "codemirror_mode": {
    "name": "ipython",
    "version": 3
   },
   "file_extension": ".py",
   "mimetype": "text/x-python",
   "name": "python",
   "nbconvert_exporter": "python",
   "pygments_lexer": "ipython3",
   "version": "3.7.6"
  }
 },
 "nbformat": 4,
 "nbformat_minor": 4
}
