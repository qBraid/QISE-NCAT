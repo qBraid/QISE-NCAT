{
 "cells": [
  {
   "cell_type": "markdown",
   "metadata": {
    "cell_index": 0
   },
   "source": [
    "<h1 style=\"color:#D30982;\"> Variables, Data Types, and Operators </h1>\n",
    "\n",
    "In this module, we'll discuss a foundational concept to any programming language: how to store information in *variables*. In doing so, we'll also discuss the various **data types** in python and what kinds of information each can store. Finally, we'll discuss **operators**, which provide ways to interact with variables, update them, and extract useful information from them."
   ]
  },
  {
   "cell_type": "markdown",
   "metadata": {
    "cell_index": 1
   },
   "source": [
    "<h1 style=\"color:#D30982;\">Variables</h1>\n",
    "\n",
    "Just like in mathematics, the use of variables is crucial in order to write statements that hold generally, as opposed to statements about specific numbers. The assignment operator in python is '='. When you write `a=2` in python, python stores in memory a variable `a` whose value is 2. Another valid operation in python is `a=a+1`. This could be confusing some times to the new learners but it is not too difficult to understand. `a=2` tells python to allocate memory for the variable `a` whose value is 2. When you write `a=a+1`, python looks if there is a variable called `a` present in the memory, if there is, it fetches it, adds 1 to it and stores the result as the value of `a` in the memory. Let's see this in action:"
   ]
  },
  {
   "cell_type": "code",
   "execution_count": null,
   "metadata": {},
   "outputs": [],
   "source": [
    "# Following code defines some variables\n",
    "a = 2\n",
    "b = 3\n",
    "c = a+b\n",
    "print('The value of c is', c)\n",
    "c = c*3\n",
    "print('The value of c is updated to', c)\n",
    "c = c**2\n",
    "print('** power operator. We raise c to the power of 2.\\nThe new value of c is', c)"
   ]
  },
  {
   "cell_type": "markdown",
   "metadata": {
    "cell_index": 3
   },
   "source": [
    "<h1 style=\"color:#D30982;\">Data types</h1>\n",
    "\n",
    "As is explained in the Qubes Module on [classical computing](../../qubes-course/Qubes_course/02_Classical_computing.ipynb), all the information that is stored in computer memory is in the form of 0s and 1s. Of course, it is crucial for efficiency that there be a way to catalogue and make sense of all this information. This is why we have *data types* in python. Integers, which you have seen earlier, are one example of a data type. The various data types in python are the following:\n",
    "\n",
    "**<span style='color:#9A11DA;'>Floats:</span>** are used to represent decimal numbers like 1.0, 1.1, 3.45, etc. The syntax for defining a float is follows:"
   ]
  },
  {
   "cell_type": "code",
   "execution_count": null,
   "metadata": {},
   "outputs": [],
   "source": [
    "floatingpoint1 = float(2.3)"
   ]
  },
  {
   "cell_type": "markdown",
   "metadata": {},
   "source": [
    "In python, the default data-type for numbers is float. What this means is that even if you just write `a=2`, then python will read this as `a=float(2)`.\n",
    "\n",
    "**<span style='color:#9A11DA;'>Integers:</span>** are used to represent whole numbers, like 1,2,3, etc. The syntax for defining variables which are integers is the following: "
   ]
  },
  {
   "cell_type": "code",
   "execution_count": null,
   "metadata": {},
   "outputs": [],
   "source": [
    "integer1 = int(2)"
   ]
  },
  {
   "cell_type": "markdown",
   "metadata": {},
   "source": [
    "**<span style='color:#9A11DA;'>Complex numbers:</span>** In python, the letter used for the imaginary unit is j. There are two ways for defining complex numbers."
   ]
  },
  {
   "cell_type": "code",
   "execution_count": null,
   "metadata": {},
   "outputs": [],
   "source": [
    "complex1 = complex(2+3j)\n",
    "complex2 = 4+4j"
   ]
  },
  {
   "cell_type": "markdown",
   "metadata": {},
   "source": [
    "In the second line, Python automatically infers that the data type is a complex number, because of the appearance of the imaginary unit j.\n",
    "\n",
    "**<span style='color:#9A11DA;'>Boolean (True or False):</span>** A variable can also be assigned to represent a condition being true or false. This is equivalent to a bit: the variable can be one of two possible states. In fact, you can cast the values we associate with bits, 0 and 1, to the boolean values False and True respectively."
   ]
  },
  {
   "cell_type": "code",
   "execution_count": null,
   "metadata": {},
   "outputs": [],
   "source": [
    "condition1 = True     # which is equivalent to bool(1)\n",
    "condition2 = bool(0)  # which is equivalent to False"
   ]
  },
  {
   "cell_type": "markdown",
   "metadata": {},
   "source": [
    "**<span style='color:#9A11DA;'>Strings:</span>** are used to represent words or sentences. You can use apostrophe marks or quotation marks to define a string. The various ways of defining strings are the following:"
   ]
  },
  {
   "cell_type": "code",
   "execution_count": null,
   "metadata": {},
   "outputs": [],
   "source": [
    "string1 = str('This is a string')\n",
    "string2 = str('This is also a string')\n",
    "string3 = 'again, a string'\n",
    "string4 = \"another one\""
   ]
  },
  {
   "cell_type": "markdown",
   "metadata": {},
   "source": [
    "<a name=\"lists\"></a>\n",
    "\n",
    "\n",
    "**<span style='color:#9A11DA;'>Lists:</span>** One of the best parts of python is how close it is to natural language. The data type List is exactly what it sounds like, a list of variables/data objects. As you spend more time programming in python, you will develop an intuition for when lists are useful. List are defined by putting the 'items' of the list inside square brackets, separated by commas. You are allowed to define a list of integers, floats or strings. The syntax for lists is the following:"
   ]
  },
  {
   "cell_type": "code",
   "execution_count": null,
   "metadata": {},
   "outputs": [],
   "source": [
    "list1 = [13,22,3,6,7]\n",
    "list2 = ['this', 'that', 'etc']\n",
    "list3 = [1, 'two', 3.0]"
   ]
  },
  {
   "cell_type": "markdown",
   "metadata": {},
   "source": [
    "To access a particular element you refer to the list variable followed by the square brackets containing the index of the element. The indices start at 0. e.g. to access the first and third element of the list, l1, we would use the following code."
   ]
  },
  {
   "cell_type": "code",
   "execution_count": null,
   "metadata": {},
   "outputs": [],
   "source": [
    "print(list1[0])\n",
    "print(list1[3])"
   ]
  },
  {
   "cell_type": "markdown",
   "metadata": {},
   "source": [
    "Note that elements of lists do not necessarily have to be of the same type."
   ]
  },
  {
   "cell_type": "markdown",
   "metadata": {},
   "source": [
    "<h2 style=\"color:#9A11DA;\"> Some Useful In-Built Python Methods</h2>\n",
    "\n",
    "Python offers a bunch of inbuilt methods that can be used to find various properties of different data types.\n",
    "\n",
    "<span style='color:#9A11DA;'>**len()**</span> This method is particularly useful for lists, where `len()` returns the number of elements in a list."
   ]
  },
  {
   "cell_type": "code",
   "execution_count": null,
   "metadata": {},
   "outputs": [],
   "source": [
    "list4 = [1,2,7,5]\n",
    "length = len(list4)\n",
    "print(length)"
   ]
  },
  {
   "cell_type": "markdown",
   "metadata": {},
   "source": [
    "We can also use it for strings, where it returns the number of characters in a string."
   ]
  },
  {
   "cell_type": "code",
   "execution_count": null,
   "metadata": {},
   "outputs": [],
   "source": [
    "string_length = len('my string')\n",
    "print(string_length)"
   ]
  },
  {
   "cell_type": "markdown",
   "metadata": {},
   "source": [
    "<span style='color:#9A11DA;'>**type()**</span> is a function that takes an input of an object of any data-type, and tells you *which data-type* it is. For example, let's say you used `a=2` to create and assign a value to the variable $a$. Now, if you are not sure what data-type is variable $a$, you can use the function \"type()\" to find out."
   ]
  },
  {
   "cell_type": "code",
   "execution_count": null,
   "metadata": {},
   "outputs": [],
   "source": [
    "a=2\n",
    "print(type(a))"
   ]
  },
  {
   "cell_type": "code",
   "execution_count": null,
   "metadata": {},
   "outputs": [],
   "source": [
    "# Create a varible a\n",
    "a = 1.2\n",
    "\n",
    "# check data-type of a\n",
    "print(type(a))\n",
    "\n",
    "# create a float variable\n",
    "b = float(2.1)\n",
    "\n",
    "# convert the float to an int\n",
    "c = int(b)\n",
    "print('The variables b and c are:',b, c)\n",
    "\n",
    "# print data type of each variable\n",
    "print(type(b), type(c))\n",
    "\n",
    "###\n",
    "\n",
    "# Create a list of bunch of alphabets:\n",
    "li = ['a', 'b', 'c', 'd', 'e', 'f']\n",
    "\n",
    "# print the list\n",
    "print(li)\n",
    "\n",
    "# print the type of the list\n",
    "print(type(li))\n",
    "\n",
    "# change the first element\n",
    "li[0] = 'z'\n",
    "print(li)"
   ]
  },
  {
   "cell_type": "markdown",
   "metadata": {},
   "source": [
    "<font size=4, color='#9A11DA'>**int()**, **float()**, **str()**</font> These methods are all about converting one data type for another. For example, suppose I have the string `'144'`, and I want to add five to it. Doing the following will not work:"
   ]
  },
  {
   "cell_type": "code",
   "execution_count": null,
   "metadata": {},
   "outputs": [],
   "source": [
    "a = '144'\n",
    "a = a + 5 #this does not work"
   ]
  },
  {
   "cell_type": "markdown",
   "metadata": {},
   "source": [
    "Instead, we should do the following:"
   ]
  },
  {
   "cell_type": "code",
   "execution_count": null,
   "metadata": {},
   "outputs": [],
   "source": [
    "a = '144'\n",
    "a = int(a) + 5\n",
    "print(a)"
   ]
  },
  {
   "cell_type": "markdown",
   "metadata": {},
   "source": [
    "We can also use `int()` to round a float."
   ]
  },
  {
   "cell_type": "code",
   "execution_count": 1,
   "metadata": {},
   "outputs": [
    {
     "name": "stdout",
     "output_type": "stream",
     "text": [
      "3\n"
     ]
    }
   ],
   "source": [
    "x = 22/7\n",
    "print(int(x))"
   ]
  },
  {
   "cell_type": "markdown",
   "metadata": {},
   "source": [
    "Suppose we want to add a number to the end of a string. Standard addition won't work between strings and integers, as we've already seen. Instead we can do the following:"
   ]
  },
  {
   "cell_type": "code",
   "execution_count": 2,
   "metadata": {},
   "outputs": [
    {
     "name": "stdout",
     "output_type": "stream",
     "text": [
      "ready player 1\n"
     ]
    }
   ],
   "source": [
    "a = 'ready player '\n",
    "b = 1\n",
    "print(a+str(b))"
   ]
  },
  {
   "cell_type": "markdown",
   "metadata": {},
   "source": [
    "<font size=4, color='#9A11DA'>**bool()**</font> This method reduces a data type to one of two possibilities: `True` or `False`. As we'll see in the next section, this method can be particularly useful. For example, we want to think about a bit value, where we'll consider 1 to be true, and 0 to be false."
   ]
  },
  {
   "cell_type": "code",
   "execution_count": 4,
   "metadata": {},
   "outputs": [
    {
     "name": "stdout",
     "output_type": "stream",
     "text": [
      "False True\n"
     ]
    }
   ],
   "source": [
    "a = 0\n",
    "b = 1\n",
    "print(bool(a), bool(b))"
   ]
  },
  {
   "cell_type": "markdown",
   "metadata": {},
   "source": [
    "Technically speaking, all data types have a boolean value, but they're not always so useful."
   ]
  },
  {
   "cell_type": "code",
   "execution_count": 5,
   "metadata": {},
   "outputs": [
    {
     "name": "stdout",
     "output_type": "stream",
     "text": [
      "True True True\n"
     ]
    }
   ],
   "source": [
    "myfloat = 3.14\n",
    "mystring = 'hello world'\n",
    "mylist = [1,2,3,4]\n",
    "print(bool(myfloat), bool(mystring), bool(mylist))"
   ]
  },
  {
   "cell_type": "markdown",
   "metadata": {},
   "source": [
    "**Exercise:** Initialize a variable `x` such that `type(x)` is a list and `bool(x)` is false."
   ]
  },
  {
   "cell_type": "code",
   "execution_count": null,
   "metadata": {},
   "outputs": [],
   "source": []
  },
  {
   "cell_type": "markdown",
   "metadata": {},
   "source": [
    "**Exercise:** Initialize a variable `y` such that `type(y)` is a list and `bool(y)` is false."
   ]
  },
  {
   "cell_type": "code",
   "execution_count": null,
   "metadata": {},
   "outputs": [],
   "source": []
  },
  {
   "cell_type": "markdown",
   "metadata": {},
   "source": [
    "<font size=4 color=9A11DA>**Exercise:**</font> Create two integers, $a$ and $b$. Check their data-types to make sure you created integers. Now consider the ratio of $a$ and $b$ - you can create another variable, $c$, which is equal to $a$ divided by $b$. Now check the type of $c$. Did you find something interesting?"
   ]
  },
  {
   "cell_type": "code",
   "execution_count": null,
   "metadata": {},
   "outputs": [],
   "source": [
    "# Create ints a and b\n",
    "a = \n",
    "b = \n",
    "# Check their data-types\n",
    "\n",
    "# Divide a by b\n",
    "c = a/b\n",
    "\n",
    "# Check the data-type of c\n",
    "\n"
   ]
  },
  {
   "cell_type": "markdown",
   "metadata": {},
   "source": [
    "<font size=4 color=9A11DA>**Exercise:**</font> Create a list of five numbers. Now, we want to change the value of the third value by subtracting 5 from it. While we're doing this, we're going to use variable assignment to store it back in the list at the third place. Try to fill out this task!"
   ]
  },
  {
   "cell_type": "code",
   "execution_count": null,
   "metadata": {},
   "outputs": [],
   "source": [
    "# create a list\n",
    "a = \n",
    "\n",
    "# replace the third entry with the third entry-5\n",
    "a[] = a[]-5\n",
    "\n",
    "# print the list\n"
   ]
  },
  {
   "cell_type": "markdown",
   "metadata": {
    "cell_index": 44
   },
   "source": [
    "<h1 style=\"color:#D30982;\">Operators </h1>\n",
    "\n",
    "<h2 style=\"color:#9A11DA;\">Arithmetic Operators</h2>\n",
    "\n",
    "As we learned above, python can be used a calculator. For using python as a calculator, we make use of operators which are similar to the ones in math, e.g. `+`, `-`, `*`, and `/` refer to addition, subtraction, multiplication and division, respectively. But there are also a few more.\n",
    "\n",
    "- `+` If we are working with integers or floats, the `+` operator just adds the numbers. But, `+` could also be used to add strings. By adding strings we mean that you just concatenate the two words. e.g. if you have two strings `quantum` and `computing`:"
   ]
  },
  {
   "cell_type": "code",
   "execution_count": null,
   "metadata": {},
   "outputs": [],
   "source": [
    "a= 'Quantum'\n",
    "b= 'Computing'\n",
    "# The following statement should print Quantum Computing\n",
    "print(a+b)"
   ]
  },
  {
   "cell_type": "markdown",
   "metadata": {},
   "source": [
    "- `**` This operator is used for exponentiation. This is different from mathematics, where `^` is used."
   ]
  },
  {
   "cell_type": "code",
   "execution_count": null,
   "metadata": {},
   "outputs": [],
   "source": [
    "# To get 2^5, in python we use\n",
    "print(2**5)"
   ]
  },
  {
   "cell_type": "markdown",
   "metadata": {},
   "source": [
    "- `%` This operator is the modulo division operator. Essentially, `a%b` is the remainder of the calculation `a / b`. This operator is especially useful for determining whether a number is odd or even. For example `5%3` is 1, but `6%3` is 0."
   ]
  },
  {
   "cell_type": "code",
   "execution_count": null,
   "metadata": {},
   "outputs": [],
   "source": [
    "print(5%3)\n",
    "print(6%3)"
   ]
  },
  {
   "cell_type": "markdown",
   "metadata": {},
   "source": [
    "**Exercise.** How is the addition (`+`) operator defined for lists? Create two lists and add them together to test it out."
   ]
  },
  {
   "cell_type": "code",
   "execution_count": 4,
   "metadata": {},
   "outputs": [
    {
     "name": "stdout",
     "output_type": "stream",
     "text": [
      "3\n"
     ]
    }
   ],
   "source": []
  },
  {
   "cell_type": "markdown",
   "metadata": {},
   "source": [
    "**Exercise.** Create three boolean variables all initilized to `True`. Add them together? How do you think python handles addition for booleans?"
   ]
  },
  {
   "cell_type": "code",
   "execution_count": null,
   "metadata": {},
   "outputs": [],
   "source": []
  },
  {
   "cell_type": "markdown",
   "metadata": {},
   "source": [
    "**Exercise:** Write code for getting five of the following powers of two: $2^1$, $2^2$, $2^3$, $2^4$, $2^5$.\n",
    "\n"
   ]
  },
  {
   "cell_type": "markdown",
   "metadata": {},
   "source": []
  },
  {
   "cell_type": "markdown",
   "metadata": {},
   "source": [
    "**Assignment Operators.**\n",
    "\n",
    "We've already discussed how to assign a value to a variable using the `=` operator. However, there are a few more operators that might be useful at times.\n",
    "\n",
    "- `=` This is to assign a value to something. If we want to assign the first element of a list 'a' to the value 3, we can say `a[0] = 3`\n",
    "- `+=` The \"plus equals\" operator is shorthand for adding to the current value. Suppose we want to add 5 to a variable `x`. We can say `x = x + 5`, where we add five to the current value of `x`, and reassign the value of `x` to that new value. However, a simpler way is to use the plus equals operator, `x += 5`.\n",
    "- `-=` The \"minus equals\" operator works in the same way as plus equals. Instead of `y = y -2`, we can say `y -= 2`.\n",
    "- `*=` The \"times equals\" operator. Instead of writing `z = z*2`, we can use `z *= 2`."
   ]
  },
  {
   "cell_type": "markdown",
   "metadata": {},
   "source": [
    "<h1 style=\"color:#D30982;\">Exercises</h1> \n",
    "\n",
    "These exercises are meant to introduce new coders to the concept of variables, data types, and lists in python. (If using these tutorials in conjunction with qBraid's QuBes course, this should be used done in conjunction with Module 1.)"
   ]
  },
  {
   "cell_type": "markdown",
   "metadata": {},
   "source": [
    "1. In the code cell bellow, print the message \"I've just completed the first code problem.\""
   ]
  },
  {
   "cell_type": "code",
   "execution_count": null,
   "metadata": {},
   "outputs": [],
   "source": []
  },
  {
   "cell_type": "markdown",
   "metadata": {},
   "source": [
    "2. In the code cell below, calculate the product of $538$ and $335,265,109$."
   ]
  },
  {
   "cell_type": "code",
   "execution_count": null,
   "metadata": {},
   "outputs": [],
   "source": []
  },
  {
   "cell_type": "markdown",
   "metadata": {},
   "source": [
    "3. In the code cell below, create a variable which stores the following:\n",
    " - a variable named `string1` that stores any string you like\n",
    " - a variable named `integer1` that stores any integer\n",
    " - a variable named `float1` that stores any decimal number you prefer\n",
    " - a variable named `cn1` that stores any complex number\n",
    " - a variable called `boolean1` that is `True` if today is a Wednesday, and `False` otherwise\n",
    " - a variable called `list1` that stores a list with five elements, some of which are strings and some of which are floats\n",
    " - a variable called `string2` that stores an integer"
   ]
  },
  {
   "cell_type": "code",
   "execution_count": null,
   "metadata": {},
   "outputs": [],
   "source": []
  },
  {
   "cell_type": "markdown",
   "metadata": {},
   "source": [
    "4. In general, you should use variable names that accurately describe what the variable represents. For example, a variable that stores the number of days in February may be called `num_days_february`. Using sensible variable names, create a variable that stores the following information:\n",
    "- the number of days in a year\n",
    "- the color of car #1\n",
    "- the number of miles on car #1\n",
    "- the color of car #2\n",
    "- the number of previous owners of car #2"
   ]
  },
  {
   "cell_type": "code",
   "execution_count": null,
   "metadata": {},
   "outputs": [],
   "source": []
  },
  {
   "cell_type": "markdown",
   "metadata": {},
   "source": [
    "5. Try adding the variables `string11` and `integer1` together in the following code cell. What happens? Next, try adding `integer1` and `float1` together. What happens if you try to add two strings together? How about a list and an integer? Explore the various combinations of data types that can be added together. Which ones does python allow, and which ones throw errors?"
   ]
  },
  {
   "cell_type": "code",
   "execution_count": null,
   "metadata": {},
   "outputs": [],
   "source": []
  },
  {
   "cell_type": "markdown",
   "metadata": {},
   "source": [
    "6. Create a variable `a` that stores a random integer. Use python's build in `type()` function to test the type of `a`. Reassign the value of `a` to something of different data type. Now, apply the `type()` function again and note the difference."
   ]
  },
  {
   "cell_type": "code",
   "execution_count": null,
   "metadata": {},
   "outputs": [],
   "source": []
  },
  {
   "cell_type": "markdown",
   "metadata": {},
   "source": [
    "7. Print out `list1`. Then change the value of the fourth item in the list above to `'Larry'`. No print `list1` again to verify your change worked as intended."
   ]
  },
  {
   "cell_type": "code",
   "execution_count": null,
   "metadata": {},
   "outputs": [],
   "source": []
  },
  {
   "cell_type": "markdown",
   "metadata": {},
   "source": [
    "8. The built-in function `str()` ccan be used to convert a float or integer to a string. Print out the type of `float1`. Then, create a new variable `float_to_string` whose value is `str( float1 )`. Print out the type of `float_to_string` to verify the function worked as intended."
   ]
  },
  {
   "cell_type": "code",
   "execution_count": null,
   "metadata": {},
   "outputs": [],
   "source": []
  },
  {
   "cell_type": "markdown",
   "metadata": {},
   "source": [
    "9. The function `round()` can be used to round long decimals. Create a variable `pi` that stores the decimal value $22/7$. Print `pi`. Then print `round(pi)`. Is the output an integer or float? Next try, `round(pi , 2)`, where 2 is the number of decimal places. What is the output?"
   ]
  },
  {
   "cell_type": "code",
   "execution_count": null,
   "metadata": {},
   "outputs": [],
   "source": []
  },
  {
   "cell_type": "markdown",
   "metadata": {},
   "source": [
    "10. Create a list called `people` with the names of five people you know."
   ]
  },
  {
   "cell_type": "code",
   "execution_count": null,
   "metadata": {},
   "outputs": [],
   "source": []
  },
  {
   "cell_type": "markdown",
   "metadata": {},
   "source": [
    "11. Add another name to the list using the `people.append( <new name> )`."
   ]
  },
  {
   "cell_type": "code",
   "execution_count": null,
   "metadata": {},
   "outputs": [],
   "source": []
  },
  {
   "cell_type": "markdown",
   "metadata": {},
   "source": [
    "12. Remove the name from the list using the `people.remove( <name> )` function."
   ]
  },
  {
   "cell_type": "code",
   "execution_count": null,
   "metadata": {},
   "outputs": [],
   "source": []
  },
  {
   "cell_type": "markdown",
   "metadata": {},
   "source": [
    "13. Remove the second element from the list using the `people.pop( <index> )` function. (Remember that the list indexing starts from 0)."
   ]
  },
  {
   "cell_type": "code",
   "execution_count": null,
   "metadata": {},
   "outputs": [],
   "source": []
  },
  {
   "cell_type": "markdown",
   "metadata": {},
   "source": [
    "14. Use `len(people)` function to determine the length of the list."
   ]
  },
  {
   "cell_type": "code",
   "execution_count": null,
   "metadata": {},
   "outputs": [],
   "source": []
  }
 ],
 "metadata": {
  "kernelspec": {
   "display_name": "Python 3 [Default]",
   "language": "python",
   "name": "python3"
  },
  "language_info": {
   "codemirror_mode": {
    "name": "ipython",
    "version": 3
   },
   "file_extension": ".py",
   "mimetype": "text/x-python",
   "name": "python",
   "nbconvert_exporter": "python",
   "pygments_lexer": "ipython3",
   "version": "3.9.10"
  }
 },
 "nbformat": 4,
 "nbformat_minor": 4
}
