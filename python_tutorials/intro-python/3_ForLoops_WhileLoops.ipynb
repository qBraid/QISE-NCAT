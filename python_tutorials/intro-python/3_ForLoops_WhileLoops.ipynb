{
 "cells": [
  {
   "cell_type": "markdown",
   "metadata": {},
   "source": [
    "<h1 style=\"color:#D30982;\"> Loop Statements </h1>\n",
    "\n",
    "There may be instances where you need to run a certain piece of code over and over again for a given number of times: this is possible using `for` loops. Or you may want to run a piece until a certain condition is true: this is achieved using a `while` loop.\n",
    "\n",
    "Control and loop statements are crucial in any programming language. As you become more familiar with Python, you will appreciate their importance. Let's start with the 'if' statement."
   ]
  },
  {
   "cell_type": "markdown",
   "metadata": {},
   "source": [
    "<h1 style=\"color:#D30982;\">'for' loops</h1>\n",
    "In python, `for` loops are very helpful when a task needs to be performed a fixed number of times. For example, if you need to add up the squares of first 10 numbers, then a `for` loop is the way to go. The syntax for using a `for` loop is:"
   ]
  },
  {
   "cell_type": "code",
   "execution_count": null,
   "metadata": {},
   "outputs": [],
   "source": [
    "for i in range(10):\n",
    "    #Code to be executed, e.g. the following line\n",
    "    print(i)"
   ]
  },
  {
   "cell_type": "markdown",
   "metadata": {},
   "source": [
    "In the above, `range(10)` returns an array with entries from 0 to 9. Hence, you can interpret the above for loop as 'For i ranging from 0 to 9, execute the following code (which can depend on i)'. Here is an examples of a `for` loop:"
   ]
  },
  {
   "cell_type": "code",
   "execution_count": 1,
   "metadata": {},
   "outputs": [],
   "source": [
    "# As a user you get to pick the password, this is something that will be checked against the actual password.\n",
    "password = 'I have no idea what it should be'\n",
    "\n",
    "# implement code using 'if' statemnet to check it agains the actual password\n",
    "if ():\n",
    "    print('you are a genius')\n"
   ]
  },
  {
   "cell_type": "code",
   "execution_count": null,
   "metadata": {},
   "outputs": [],
   "source": [
    "# Code for getting the sum of squares of first 10 numbers\n",
    "sum = 0 # Initialize the variable sum to 0.\n",
    "for i in range(11):\n",
    "    sum = sum + i**2 # we update the variable sum by adding the square of the current value of i. \n",
    "    # note that we have range(11) because this goes from 0 to 10 (yes, python might seem odd..)\n",
    "\n",
    "print(sum)"
   ]
  },
  {
   "cell_type": "markdown",
   "metadata": {},
   "source": [
    "`for` loops can also be used to iterate through elements of any list, not just the `range()` array."
   ]
  },
  {
   "cell_type": "code",
   "execution_count": null,
   "metadata": {},
   "outputs": [],
   "source": [
    "# lets create two lists to see what different things we can do with them.\n",
    "l1 = [1,2,21,34,2]\n",
    "l2 = ['my','name','is','dog','cat','because','whynot?']\n",
    "# Following is the syntax for iterating through lists:\n",
    "# Method1\n",
    "for i in l1:\n",
    "    print(i)\n",
    "# method 2\n",
    "for j in range(len(l2)):\n",
    "    print(l2[j])"
   ]
  },
  {
   "cell_type": "markdown",
   "metadata": {},
   "source": [
    "Things to note about the above syntax for lists and for loop. \n",
    "\n",
    "In case of lists the variable, i, that iterates through the list, takes the value of the element of the list and is not an integer, as was the case in `for i in range(4):`\n"
   ]
  },
  {
   "cell_type": "markdown",
   "metadata": {},
   "source": [
    "<font size=3 color=9A11DA>**Exercise:**</font> Let's say you are given two lists of integers, and you know that the size of the lists are the same. Try to iterate through both the lists together, and raise whichever larger number to the power of smaller number."
   ]
  },
  {
   "cell_type": "code",
   "execution_count": null,
   "metadata": {},
   "outputs": [],
   "source": [
    "# Following are the two lists:\n",
    "l1 = [1,2,6,7,3]\n",
    "l2 = [4,5,2,3,3]\n",
    "\n",
    "# In order to iterate through the lists, use method 2 given above\n",
    "for ......:\n",
    "    # To determine which list element should be the base or exponent, you'll have to compare which one is bigger!\n",
    "    # Do this within if, elif, and else statements.\n",
    "    # Hint: Do not forget the case where the elements are equal!\n",
    "    if ...:\n",
    "        \n"
   ]
  },
  {
   "cell_type": "markdown",
   "metadata": {},
   "source": [
    "<h1 style=\"color:#D30982;\">'while' loops</h1>\n",
    "You will use `while` loops when you need to repeat a task until a given condition becomes `True`. Say, for example, that you want to keep adding squares of numbers (1+4+9+..) until the sum exceeds 200. Let's see how to do this using a `while` loop. The `syntax` for a 'while' loop is the following:"
   ]
  },
  {
   "cell_type": "code",
   "execution_count": null,
   "metadata": {},
   "outputs": [],
   "source": [
    "while (condition is True):\n",
    "    # keep Doing the task, e.g. print the following statement.\n",
    "    print('this will keep printing till the condition is true')"
   ]
  },
  {
   "cell_type": "code",
   "execution_count": null,
   "metadata": {},
   "outputs": [],
   "source": [
    "i = 1 # initialize a variable i to 0. This will be updated throughout the loop\n",
    "sum = 0 # initialize a variable sum which keeps track of the squares that have been added so far.\n",
    "while (sum < 200):\n",
    "    sum = sum + i**2 # update sum by adding the square of the current value of i.\n",
    "    i = i+1 # increase i by 1.\n",
    "\n",
    "print('The program ran until i =', i)\n",
    "print('The sum is', sum)\n"
   ]
  },
  {
   "cell_type": "markdown",
   "metadata": {},
   "source": [
    "<h1 style=\"color:#D30982;\">Exercises</h1>\n",
    "\n",
    "1. Using a `for` loop, write a snippet of code that prints all integers in the range $[1,100)$. Note that the upper side of the interval is closed."
   ]
  },
  {
   "cell_type": "code",
   "execution_count": null,
   "metadata": {},
   "outputs": [],
   "source": []
  },
  {
   "cell_type": "markdown",
   "metadata": {},
   "source": [
    "2. The module function is the remainder of division. For example, $5 \\bmod 2 = 1$, because the remainder of $5/2$ is $1$. In python, the module function is written using the `%` symbol. Calculate $27 \\bmod 5$."
   ]
  },
  {
   "cell_type": "code",
   "execution_count": null,
   "metadata": {},
   "outputs": [],
   "source": []
  },
  {
   "cell_type": "markdown",
   "metadata": {},
   "source": [
    "3. Modify your `for` loop to only print even integers. You will need to add an `if` statement inside the `for` loop."
   ]
  },
  {
   "cell_type": "code",
   "execution_count": null,
   "metadata": {},
   "outputs": [],
   "source": []
  },
  {
   "cell_type": "markdown",
   "metadata": {},
   "source": [
    "4. Create a list of five words. Using a `for` loop, print each word in the list. Do this two different ways. (Hint: one of the ways should use the `range` and `len` built-in functions.)"
   ]
  },
  {
   "cell_type": "code",
   "execution_count": null,
   "metadata": {},
   "outputs": [],
   "source": []
  },
  {
   "cell_type": "markdown",
   "metadata": {},
   "source": [
    "5. We can generate a random number using the `randint` function from numpy as follows:"
   ]
  },
  {
   "cell_type": "code",
   "execution_count": 5,
   "metadata": {},
   "outputs": [
    {
     "name": "stdout",
     "output_type": "stream",
     "text": [
      "34\n"
     ]
    }
   ],
   "source": [
    "import numpy as np\n",
    "r = np.random.randint(0,100)"
   ]
  },
  {
   "cell_type": "markdown",
   "metadata": {},
   "source": [
    "- Write a snippet of code that generates two random numbers on the interval $[-100,101]$ and adds them together. Then, surround this code in a `for` loop that runs fifty times. For each randomly calculated sum in the loop, add this sum to a variable called `total`. After the for loop, print the value of `total`."
   ]
  },
  {
   "cell_type": "code",
   "execution_count": null,
   "metadata": {},
   "outputs": [],
   "source": []
  },
  {
   "cell_type": "markdown",
   "metadata": {},
   "source": [
    "6. Write a `while` loop that generates a random integer in the interval $[0,100)$. The while loop should finish when the generated number is equal to $27$. Your code should include a variable called `found_27` that is false until the generated number is $27$."
   ]
  },
  {
   "cell_type": "code",
   "execution_count": null,
   "metadata": {},
   "outputs": [],
   "source": []
  },
  {
   "cell_type": "markdown",
   "metadata": {},
   "source": [
    "7. Modify your code to include a counter variable that counts how many tries the random generator took to get to 27. Print the value of the count at the end of the snippet."
   ]
  },
  {
   "cell_type": "code",
   "execution_count": null,
   "metadata": {},
   "outputs": [],
   "source": []
  }
 ],
 "metadata": {
  "kernelspec": {
   "display_name": "Python 3 [Default]",
   "language": "python",
   "name": "python3"
  },
  "language_info": {
   "codemirror_mode": {
    "name": "ipython",
    "version": 3
   },
   "file_extension": ".py",
   "mimetype": "text/x-python",
   "name": "python",
   "nbconvert_exporter": "python",
   "pygments_lexer": "ipython3",
   "version": "3.9.10"
  }
 },
 "nbformat": 4,
 "nbformat_minor": 4
}
