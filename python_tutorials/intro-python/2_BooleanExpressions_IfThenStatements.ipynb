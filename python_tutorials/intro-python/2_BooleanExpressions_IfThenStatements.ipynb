{
 "cells": [
  {
   "cell_type": "markdown",
   "metadata": {},
   "source": [
    "<h1 style=\"color:#D30982;\">Boolean Expressions and If/Then Statements</h1>\n",
    "\n",
    "When writing a program you might want to specify that a certain piece of code should be executed *only if* a certain other condition is satisfied, and a different piece of code should be executed otherwise. To continue with the example of making coffee, the instructions should be to: turn the switch to start brewing coffee *if* the water reservoir has been filled, *else* the reservoir should be filled first. In Python, this is accomplished using `if` and `else` statements. There may be instances where you need to run a certain piece of code over and over again for a given number of times: this is possible using `for` loops. Or you may want to run a piece until a certain condition is true: this is achieved using a `while` loop.\n",
    "\n",
    "Together, loops and conidtional statements are called **control statements** and are crucial in any programming language. As you become more familiar with Python, you will appreciate their importance. In this section, we'll cover the `if` and `else`, saving `for` and `while` loops for another time.\n",
    "\n",
    "Before we do so, however, we first need to discuss another important concept. How do we tell python to check a certain condition? We'll do this using a **boolean expresion**. As we'll see, these statements always have a single value: `True` or `False`."
   ]
  },
  {
   "cell_type": "markdown",
   "metadata": {},
   "source": [
    "<h1 style=\"color:#D30982;\">Comparison Operators</h1>\n",
    "<a name=\"list_of_op\"></a>\n",
    "In the previous module, we learned about arithmetic operators for performing mathematical (or mathematical-like operations). However, there is another class of operators called comparison operators. When we use a comparison operator, we generate a boolean value.\n",
    "\n",
    "- `==`: This operator is used to check the equality of two variables. e.g. `a==b` checks whether `a` is equal to `b`. `a` and `b` could be any variables of any data types, but it is important to have both variable of the same data type."
   ]
  },
  {
   "cell_type": "code",
   "execution_count": 1,
   "metadata": {},
   "outputs": [
    {
     "name": "stdout",
     "output_type": "stream",
     "text": [
      "True\n"
     ]
    }
   ],
   "source": [
    "a=1\n",
    "b=1\n",
    "# The following statement should print true\n",
    "print(a==b)"
   ]
  },
  {
   "cell_type": "markdown",
   "metadata": {},
   "source": [
    "- `!=`: This operator checks if two variables are not equal. e.g. `a!=b` will print true if `a` is not equal to `b`. Again, both the variables must be of the same data type."
   ]
  },
  {
   "cell_type": "code",
   "execution_count": 2,
   "metadata": {},
   "outputs": [
    {
     "name": "stdout",
     "output_type": "stream",
     "text": [
      "True\n",
      "True\n"
     ]
    }
   ],
   "source": [
    "a=2\n",
    "b=1\n",
    "# The following statement should print true\n",
    "print(a!=b)\n",
    "a='one'\n",
    "b=' one'\n",
    "# The following statement would print false\n",
    "print(a!=b)"
   ]
  },
  {
   "cell_type": "markdown",
   "metadata": {},
   "source": [
    "- `>`, `<`: These operators are also used to compare two variables."
   ]
  },
  {
   "cell_type": "code",
   "execution_count": 3,
   "metadata": {},
   "outputs": [
    {
     "name": "stdout",
     "output_type": "stream",
     "text": [
      "True\n",
      "False\n"
     ]
    }
   ],
   "source": [
    "a=4\n",
    "b=1\n",
    "# The following statement should print true\n",
    "print(a>b)\n",
    "# The following statement should print false\n",
    "print(a<b)"
   ]
  },
  {
   "cell_type": "markdown",
   "metadata": {},
   "source": [
    "- `>=` , `<=`: These are the \"greater than/equal to\" or \"less than/equal to\" operators."
   ]
  },
  {
   "cell_type": "code",
   "execution_count": 4,
   "metadata": {},
   "outputs": [
    {
     "name": "stdout",
     "output_type": "stream",
     "text": [
      "True\n",
      "False\n"
     ]
    }
   ],
   "source": [
    "a=4\n",
    "b=1\n",
    "# The following statement should print true\n",
    "print(a>=b)\n",
    "# The following statement should print false\n",
    "print(a<=b)"
   ]
  },
  {
   "cell_type": "markdown",
   "metadata": {},
   "source": [
    "We can summarize the mathematical use of these operators in the following table:\n",
    "\n",
    "| Statement | Math | In Python|\n",
    "| :------: | :------: | : ------:|\n",
    "| Greater Than | $$ x>3$$|`x > 3`|\n",
    "| Greater Than/Equal To | $$ x \\geq 3$$ | `x >= 3` |\n",
    "|Less Than | $$y<1.5$$ | `y < 1.5` |\n",
    "| Open Interval| $$(a,b)$$ | `a < x < b` |\n",
    "| Closed Interval | $$[a,b]$$ | `a <= x <= b` |\n",
    "| Not equal | $$ x \\neq y$$ | ` x != y` |\n",
    "\n",
    "Let's take a look at a few examples."
   ]
  },
  {
   "cell_type": "code",
   "execution_count": 5,
   "metadata": {},
   "outputs": [
    {
     "name": "stdout",
     "output_type": "stream",
     "text": [
      "False\n",
      "True\n",
      "False\n",
      "True\n"
     ]
    }
   ],
   "source": [
    "a = 3\n",
    "b = 10\n",
    "print(a > b)\n",
    "print(b > a)\n",
    "print(b > 10)\n",
    "print(b >= 10)"
   ]
  },
  {
   "cell_type": "code",
   "execution_count": 6,
   "metadata": {},
   "outputs": [
    {
     "name": "stdout",
     "output_type": "stream",
     "text": [
      "False\n",
      "True\n",
      "False\n"
     ]
    }
   ],
   "source": [
    "a = 5\n",
    "b = 6\n",
    "c = 7\n",
    "print(5 < a < 7)\n",
    "print(5 < b < 7)\n",
    "print(5 < c < 7)"
   ]
  },
  {
   "cell_type": "code",
   "execution_count": 7,
   "metadata": {},
   "outputs": [
    {
     "name": "stdout",
     "output_type": "stream",
     "text": [
      "True\n"
     ]
    }
   ],
   "source": [
    "a = 4\n",
    "b = 6\n",
    "print( 4 <= a <=6)"
   ]
  },
  {
   "cell_type": "code",
   "execution_count": 8,
   "metadata": {},
   "outputs": [
    {
     "name": "stdout",
     "output_type": "stream",
     "text": [
      "True\n"
     ]
    }
   ],
   "source": [
    "a = 1\n",
    "b = 0\n",
    "print( a != b)"
   ]
  },
  {
   "cell_type": "markdown",
   "metadata": {},
   "source": [
    "As previously mentioned, using a comparison operator produces a **boolean value**, either `True` or `False`. In fact, we actually store the truth value of any conditional statement in a boolean variable."
   ]
  },
  {
   "cell_type": "code",
   "execution_count": 9,
   "metadata": {},
   "outputs": [
    {
     "name": "stdout",
     "output_type": "stream",
     "text": [
      "False\n",
      "True\n"
     ]
    }
   ],
   "source": [
    "a = 3\n",
    "b = 4\n",
    "boolean_1 = (a == b)\n",
    "boolean_2 = (a != b)\n",
    "print(boolean_1)\n",
    "print(boolean_2)"
   ]
  },
  {
   "cell_type": "markdown",
   "metadata": {},
   "source": [
    "**Exercise.** Write a conditional statement that is true if the number falls in the interval $(5,9]$, where the lower bound is exclusive and the upper bound is inclusive. Test your statement with a variable to see that it works as expected."
   ]
  },
  {
   "cell_type": "code",
   "execution_count": null,
   "metadata": {},
   "outputs": [],
   "source": []
  },
  {
   "cell_type": "markdown",
   "metadata": {},
   "source": [
    "<h1 style=\"color:#D30982;\">'if', 'elif' and 'else' statements</h1>\n",
    "\n",
    "Now that we've learned how to write conditional statements, let's see how we can use them to control whether or not to run certain lines of code.\n",
    "\n",
    "In python, 'if' is a control flow statement. Python executes each line of code in sequence starting from the top. When python encounters an 'if' statement, it only executes the lines of code that follow if the 'conditional statement' is true. The code which is predicated on the 'if' statement (i.e. to be executed if the conditional statement is true) is indented. The syntax for an `if` statement is as follows:"
   ]
  },
  {
   "cell_type": "code",
   "execution_count": 10,
   "metadata": {},
   "outputs": [
    {
     "name": "stdout",
     "output_type": "stream",
     "text": [
      "condition is True and this will be printed\n"
     ]
    }
   ],
   "source": [
    "condition = True\n",
    "\n",
    "if (condition):\n",
    "    # Do something, like print the following statement\n",
    "    print('condition is True and this will be printed')"
   ]
  },
  {
   "cell_type": "markdown",
   "metadata": {},
   "source": [
    "See the following example. You can try changing the value of the variable x, to see how this affects the output of the code."
   ]
  },
  {
   "cell_type": "code",
   "execution_count": 11,
   "metadata": {},
   "outputs": [
    {
     "name": "stdout",
     "output_type": "stream",
     "text": [
      "the variable is greater than 2!\n"
     ]
    }
   ],
   "source": [
    "x = 3\n",
    "if x > 2:\n",
    "    print('the variable is greater than 2!')"
   ]
  },
  {
   "cell_type": "markdown",
   "metadata": {},
   "source": [
    "Suppose we want to execute one piece of code if the condition is satisfied but another piece of code if the condition is not satisfied. Here, we can use the `else` statement."
   ]
  },
  {
   "cell_type": "code",
   "execution_count": null,
   "metadata": {},
   "outputs": [],
   "source": [
    "if (condition):\n",
    "    print(\"condition is satisfied\")\n",
    "else:\n",
    "    print(\"condition is not satisfied\")"
   ]
  },
  {
   "cell_type": "markdown",
   "metadata": {},
   "source": [
    "> Note that these two options are exclusive. There will never be a case when the condition is both satisfied and not satisfied.\n",
    "\n",
    "We can also use multiple `if`/`else` statements together. For example, suppose we have two conditions: `Condition1` and `Condition2`. We can to check if `Condition1` is not satisfied, check if `Condition2` is satisfied. We can use a nested `if`/`else` statement."
   ]
  },
  {
   "cell_type": "code",
   "execution_count": null,
   "metadata": {},
   "outputs": [],
   "source": [
    "if (Condition1):\n",
    "    print(\"Condition1 is satisfied.\")\n",
    "else:\n",
    "    print(\"Condition1 is not satisfied.\")\n",
    "    if (Condition2):\n",
    "        print(\"Condition2 is satisfied\")\n",
    "    else:\n",
    "        print(\"Condition2 is not satisfied\")"
   ]
  },
  {
   "cell_type": "markdown",
   "metadata": {},
   "source": [
    "As an example, suppose we want to track someones progress as they travel. Suppose `has_left` refers to whether the person has left yet and `halfway_there` refers to whether the person is halfway to their destination. We can write this in several ways:"
   ]
  },
  {
   "cell_type": "code",
   "execution_count": null,
   "metadata": {},
   "outputs": [],
   "source": [
    "if has_left:\n",
    "    if halfway_there:\n",
    "        print(\"Person is on the second half of the trip.\")\n",
    "    else:\n",
    "        print(\"Person is on the first half of the trip.\")\n",
    "else:\n",
    "    print(\"Person has not left.\")"
   ]
  },
  {
   "cell_type": "markdown",
   "metadata": {},
   "source": [
    "We can also write this as:"
   ]
  },
  {
   "cell_type": "code",
   "execution_count": null,
   "metadata": {},
   "outputs": [],
   "source": [
    "if not has_left:\n",
    "    print(\"Person has not left.\")\n",
    "else:\n",
    "    if halfway_there:\n",
    "        print(\"Person is on the second half of the trip.\")\n",
    "    else:\n",
    "        print(\"Person is on the first half of the trip.\")"
   ]
  },
  {
   "cell_type": "markdown",
   "metadata": {},
   "source": [
    "Writing this statement is useful because it allows us to take advantage of another useful command in python: `elif`, meaning \"else if\". This statement allows us to avoid having to write nested if else statements when all of the options are mutually exclusive. In our travel example, we are trying to differentiated between three options: \"hasn't left\", \"first half of trip\", and \"second half of trip\". None of them can be true as the same time! So we can write:"
   ]
  },
  {
   "cell_type": "code",
   "execution_count": null,
   "metadata": {},
   "outputs": [],
   "source": [
    "if not has_left:\n",
    "    print(\"Person has not left.\")\n",
    "elif halfway_there:\n",
    "    print(\"Person is on the second half of the trip.\")\n",
    "else:\n",
    "    print(\"Person is on the first half of the trip.\")"
   ]
  },
  {
   "cell_type": "markdown",
   "metadata": {},
   "source": [
    "The following are some examples which demostrate the use of `if`, `elif` and `else` statements. We encourage you to play with the variables x and y and see how this affects the output of the code.\n",
    "<font color=\"red\">Note:</font> Python goes through all the conditional statements one by one starting from the top, and it executes the indented code right after the first `True` conditional statement. After doing so it exits the current stack of 'if','elif', and 'elses', and proceeds directly to the next lines of code (without checking the remaining conditional statements)."
   ]
  },
  {
   "cell_type": "code",
   "execution_count": null,
   "metadata": {},
   "outputs": [],
   "source": [
    "x = 3\n",
    "y = 10\n",
    "if y > x:\n",
    "    print('y is greater than x')\n",
    "\n",
    "# Another example:\n",
    "if y > 5*x:\n",
    "    print('y')\n",
    "elif y > 4*x:\n",
    "    print('y > 4*x')\n",
    "elif y > 3*x:\n",
    "    print('y > 3*x')\n",
    "else:\n",
    "    print('If this is printed, then this means that y < 3*x for sure.')\n",
    "    \n",
    "# The following code is unindented\n",
    "# It will be executed for sure after the computer is done with the if else statements\n",
    "print('this will be printed, no matter what if/else condition is true')"
   ]
  },
  {
   "cell_type": "markdown",
   "metadata": {},
   "source": [
    "Note that this time, the conditional statements are not mutually exclusive. A number that is greater than $5x$ will also be greater than $4x$, in the case that $x>0$. Therefore, we order the conditional statements in from most restrictive to least restrictive. Since numbers greater than $5x$ is a subset of numbers greater than $4x$, we want to check the $5x$ condition first. Otherwis we can't distinguish between the two without calling another if/then statement."
   ]
  },
  {
   "cell_type": "markdown",
   "metadata": {},
   "source": [
    "<h3> A note on syntax</h3>\n",
    "\n",
    "It is very important to use the correct syntax when writing code. Use of (even slightly) incorrect syntax may lead to a lot of errors in the code. Here are some highlights to watch out for:\n",
    "- Insert a colon at the end of an if statement.\n",
    "- The code that follows the `if` statement needs to be indented. While using jupyter notebooks, if statements will be automatically detected and, if you used the correct syntax for the if statement, then the following line will automatically be indented.\n",
    "- After you complete the code that is part of the `if` statement, the following code should be unindented to return to the normal flow."
   ]
  },
  {
   "cell_type": "markdown",
   "metadata": {},
   "source": [
    "<font size=3 color=9A11DA>**Exercise:**</font> Given three color options for iphone, 'red', 'black', 'spacegray', construct a program that prints the features of the phone. The features of the phones with different colors are as follows:\n",
    "\n",
    "Red &rarr; 2gb ram, 2.4 GHz processor.\n",
    "\n",
    "Black &rarr; 2.5gb ram, 2.5 GHz processor.\n",
    "\n",
    "Spacegray &rarr; 1.5gb ram, 2.6 GHz processor.\n"
   ]
  },
  {
   "cell_type": "code",
   "execution_count": null,
   "metadata": {},
   "outputs": [],
   "source": [
    "# let the user pick the color in the following line of code:\n",
    "color = \n",
    "if ():\n",
    "    print('the ram of the phone is:',)\n",
    "    print('the processor of the phone is:',)\n",
    "    \n",
    "# you will need to write two elif statements below\n",
    "\n",
    "\n",
    "    "
   ]
  },
  {
   "cell_type": "markdown",
   "metadata": {},
   "source": [
    "<h1 style=\"color:#D30982;\">Logical Operators</h1>\n",
    "<a name=\"list_of_op\"></a>\n",
    "Now that we've seen how to use conditional statements with `if` and `else` to control whether certain pieces of code are executed. But what if we want to check multiple conditions for the same execution? We could do something like this:"
   ]
  },
  {
   "cell_type": "code",
   "execution_count": 12,
   "metadata": {},
   "outputs": [
    {
     "name": "stdout",
     "output_type": "stream",
     "text": [
      "Execute something here.\n"
     ]
    }
   ],
   "source": [
    "condition1 = True\n",
    "condition2 = True\n",
    "\n",
    "if condition1:\n",
    "    if condition2:\n",
    "        print(\"Execute something here.\")"
   ]
  },
  {
   "cell_type": "markdown",
   "metadata": {},
   "source": [
    "However, this is annoying, and python has a better way.\n",
    "\n",
    "Python has a class of operators that handle boolean logic for exactly this purpose. For example, we can use these to address multiple conditional statements.\n",
    "\n",
    "- `and` operator, which is true if both conditions are `True` and and false otherwise"
   ]
  },
  {
   "cell_type": "code",
   "execution_count": null,
   "metadata": {},
   "outputs": [],
   "source": [
    "a = True\n",
    "b = False\n",
    "# The following statement should print False\n",
    "print(a and b)"
   ]
  },
  {
   "cell_type": "markdown",
   "metadata": {},
   "source": [
    "- `or` operator, which is true if either one of the conditions are `True`, but false if both conditions are `False`"
   ]
  },
  {
   "cell_type": "code",
   "execution_count": null,
   "metadata": {},
   "outputs": [],
   "source": [
    "a = True\n",
    "b = False\n",
    "# The following statement should print True\n",
    "print(a or b)"
   ]
  },
  {
   "cell_type": "markdown",
   "metadata": {},
   "source": [
    "- `not` this operator is the negation"
   ]
  },
  {
   "cell_type": "code",
   "execution_count": null,
   "metadata": {},
   "outputs": [],
   "source": [
    "x = True\n",
    "print(not x)"
   ]
  },
  {
   "cell_type": "markdown",
   "metadata": {},
   "source": [
    "Let's look at an example. Suppose we are programming a robot to work on an assembly line. We want the robot to install a certain feature only in read cars with sunroofs. We can write the following:"
   ]
  },
  {
   "cell_type": "code",
   "execution_count": null,
   "metadata": {},
   "outputs": [],
   "source": [
    "color = 'red'\n",
    "has_sunroof = True\n",
    "\n",
    "if (color == 'red') and has_sunroof:\n",
    "    print(\"Install the feature.\")"
   ]
  },
  {
   "cell_type": "markdown",
   "metadata": {},
   "source": [
    "The first conditional statement is `(color == 'red')`, which is true when the color is red and false otherwise. The second condition is a boolean variable. If the car has a sunroof, `has_sunroof` will be true.\n",
    "\n",
    "If we wanted to install the feature in all red cars and all cars with sunroofs, but not require that both be present, we can use the `or` command."
   ]
  },
  {
   "cell_type": "code",
   "execution_count": null,
   "metadata": {},
   "outputs": [],
   "source": [
    "color = 'red'\n",
    "has_sunroof = True\n",
    "\n",
    "if (color == 'red') or has_sunroof:\n",
    "    print(\"Install the feature.\")"
   ]
  },
  {
   "cell_type": "markdown",
   "metadata": {},
   "source": [
    "Finally, if we want to install the feature in all red cars without sunroofs, we can use the `not` command."
   ]
  },
  {
   "cell_type": "code",
   "execution_count": null,
   "metadata": {},
   "outputs": [],
   "source": [
    "color = 'red'\n",
    "has_sunroof = True\n",
    "\n",
    "if (color == 'red') or (not has_sunroof):\n",
    "    print(\"Install the feature.\")"
   ]
  },
  {
   "cell_type": "markdown",
   "metadata": {},
   "source": [
    "<h1 style=\"color:#D30982;\">Exercises</h1>"
   ]
  },
  {
   "cell_type": "markdown",
   "metadata": {},
   "source": [
    "1. Create two boolean variables `a` and `b`, where one is true and the other is false."
   ]
  },
  {
   "cell_type": "code",
   "execution_count": 5,
   "metadata": {},
   "outputs": [],
   "source": [
    "x = 4\n",
    "if 2 <x <4:\n",
    "    print(x)"
   ]
  },
  {
   "cell_type": "markdown",
   "metadata": {},
   "source": [
    "2. We can use the `==` operator to determine whether two variables are equal. The output of this comparison is a boolean value. Create a new boolean value to store the ouput of `(3==4)`."
   ]
  },
  {
   "cell_type": "code",
   "execution_count": null,
   "metadata": {},
   "outputs": [],
   "source": []
  },
  {
   "cell_type": "markdown",
   "metadata": {},
   "source": [
    "3. Print the value of `(a==b)`."
   ]
  },
  {
   "cell_type": "code",
   "execution_count": null,
   "metadata": {},
   "outputs": [],
   "source": []
  },
  {
   "cell_type": "markdown",
   "metadata": {},
   "source": [
    "4. We can combine boolean variables using fundamental logic gates `and` and `or`. For example, "
   ]
  },
  {
   "cell_type": "code",
   "execution_count": null,
   "metadata": {},
   "outputs": [],
   "source": [
    "print(True or False)\n",
    "print(True and False)"
   ]
  },
  {
   "cell_type": "markdown",
   "metadata": {},
   "source": [
    "5. Print the value. of `a and b`. Then print the value of `a or b`."
   ]
  },
  {
   "cell_type": "code",
   "execution_count": null,
   "metadata": {},
   "outputs": [],
   "source": []
  },
  {
   "cell_type": "markdown",
   "metadata": {},
   "source": [
    "6. Create a variable which stores any integer value. \n",
    "    - Add $340$ to that number using the `+=` operator\n",
    "    - Subtract $30$ from the number using the `-=` operator\n",
    "    - Multiuply the number by $2$ using the `*=` operator\n",
    "    - Divide the number by $3$ using the `/=` operator"
   ]
  },
  {
   "cell_type": "code",
   "execution_count": null,
   "metadata": {},
   "outputs": [],
   "source": []
  },
  {
   "cell_type": "markdown",
   "metadata": {},
   "source": [
    "7. We can use the `**` operator to create exponents as follows."
   ]
  },
  {
   "cell_type": "code",
   "execution_count": 4,
   "metadata": {},
   "outputs": [
    {
     "name": "stdout",
     "output_type": "stream",
     "text": [
      "16\n"
     ]
    }
   ],
   "source": [
    "x , y = 2, 4\n",
    "print(x**y)"
   ]
  },
  {
   "cell_type": "markdown",
   "metadata": {},
   "source": [
    "Calculate the number of possible bit strings that can be created using $10$ bits."
   ]
  },
  {
   "cell_type": "code",
   "execution_count": null,
   "metadata": {},
   "outputs": [],
   "source": []
  },
  {
   "cell_type": "markdown",
   "metadata": {},
   "source": [
    "8. The `if` statement allows us to run a piece of code only if a conditional statement is true. Write some code that prints \"a is equal to b\" only if `(a == b)`."
   ]
  },
  {
   "cell_type": "code",
   "execution_count": null,
   "metadata": {},
   "outputs": [],
   "source": []
  },
  {
   "cell_type": "markdown",
   "metadata": {},
   "source": [
    "9. We can use the `!` symbol to indicate the NOT gate. For example, `!a` is true if `a` is false, and false if `a` is true. Write some code that prints \"a is not equal to b\" only if `a` is not equal to `b`."
   ]
  },
  {
   "cell_type": "code",
   "execution_count": null,
   "metadata": {},
   "outputs": [],
   "source": []
  },
  {
   "cell_type": "markdown",
   "metadata": {},
   "source": [
    "10. Create variables $a$, $b$, $c$, and $d$ with boolean values. Calculate whether the following is true:\n",
    "\n",
    "$$(a \\text{ AND } b) \\text{ OR } (\\text{ NOT}(c \\text{ AND } !d))$$"
   ]
  },
  {
   "cell_type": "code",
   "execution_count": null,
   "metadata": {},
   "outputs": [],
   "source": []
  },
  {
   "cell_type": "markdown",
   "metadata": {},
   "source": [
    "11. Create two integers $x$ and $y$. Write some code that prints \"x equals y!\" if it is true, and otherwise prints \"x does not equal y\". This should involve an `if` and `else` statement."
   ]
  },
  {
   "cell_type": "code",
   "execution_count": null,
   "metadata": {},
   "outputs": [],
   "source": []
  },
  {
   "cell_type": "markdown",
   "metadata": {},
   "source": [
    "12. Modify your statement from the previous problem to include an additional check. Your statement should print \"one number is double the other\" if either $x=2y$ or $y=2x$. This will involve an `elif` statement and an `or` statement."
   ]
  },
  {
   "cell_type": "code",
   "execution_count": null,
   "metadata": {},
   "outputs": [],
   "source": []
  }
 ],
 "metadata": {
  "kernelspec": {
   "display_name": "Python 3 [Default]",
   "language": "python",
   "name": "python3"
  },
  "language_info": {
   "codemirror_mode": {
    "name": "ipython",
    "version": 3
   },
   "file_extension": ".py",
   "mimetype": "text/x-python",
   "name": "python",
   "nbconvert_exporter": "python",
   "pygments_lexer": "ipython3",
   "version": "3.9.10"
  }
 },
 "nbformat": 4,
 "nbformat_minor": 4
}
