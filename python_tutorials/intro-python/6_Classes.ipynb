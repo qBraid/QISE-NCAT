{
 "cells": [
  {
   "cell_type": "markdown",
   "metadata": {},
   "source": [
    "<h1 style=\"color:#D30982;\"> Classes </h1>\n",
    "\n",
    "Now that we've seen how functions can package code in a useful and reusable format, there's another concept in programming that extends this even further: **classes**. A class is a collection of properties and functions that together do something useful. The properties of a class are called **attributes**, and the functions associated with a class are called **methods**.\n",
    "\n",
    "To create an object that is an example of a class, we need to create an **instance** of that class. That instance can be stored in a variable (like any other python object). Then we can utilize all the "
   ]
  },
  {
   "cell_type": "markdown",
   "metadata": {},
   "source": [
    "<h2 style=\"color:#9A11DA;\">Creating a Simple Class</h2>\n",
    "\n",
    "Let's start with an extremely simple example. Suppose we wanted to create a class representing a shipping box. We can write the following class definition:"
   ]
  },
  {
   "cell_type": "code",
   "execution_count": 2,
   "metadata": {},
   "outputs": [],
   "source": [
    "class Box:\n",
    "    \n",
    "    def __init__(self, input_length, input_width, input_height):\n",
    "        \n",
    "        self.length = input_length\n",
    "        self.width = input_width\n",
    "        self.height = input_height\n",
    "        \n",
    "        print(\"your box has been instantiated\")"
   ]
  },
  {
   "cell_type": "markdown",
   "metadata": {},
   "source": [
    "Most classes have an `__init__` method. This method is run immediately when an **instance** of the class is created. Let's create and **instance** of the class:"
   ]
  },
  {
   "cell_type": "code",
   "execution_count": 3,
   "metadata": {},
   "outputs": [
    {
     "name": "stdout",
     "output_type": "stream",
     "text": [
      "your box has been instantiated\n"
     ]
    }
   ],
   "source": [
    "my_box = Box(3,6,5)"
   ]
  },
  {
   "cell_type": "markdown",
   "metadata": {},
   "source": [
    "You can see by the print statement, that we now have an instance of the box. Python has run the `__init__` method. In that method, we've also established three **attributes** of the box: length, width, and height. We can get the height, for example, of our box as follows:"
   ]
  },
  {
   "cell_type": "code",
   "execution_count": 4,
   "metadata": {},
   "outputs": [
    {
     "name": "stdout",
     "output_type": "stream",
     "text": [
      "5\n"
     ]
    }
   ],
   "source": [
    "h = my_box.height\n",
    "print(h)"
   ]
  },
  {
   "cell_type": "markdown",
   "metadata": {},
   "source": [
    "**Attributes** are used to store properties of a class instance that we might need to now in the future. Note that it might have been easy enough to store a list of numbers such as `box_dimensions = [3,6,5]` and kept track of which number represented what dimension of the box. We also could have stored as a dictionary, such as `box_dict = {'length':3,'width':6,'heighth':5}`. But as we'll see in the next section, classes can do so much more than just store a list of properties."
   ]
  },
  {
   "cell_type": "markdown",
   "metadata": {},
   "source": [
    "<h2 style=\"color:#9A11DA;\">Adding Functionality to Our CLass</h2>"
   ]
  },
  {
   "cell_type": "markdown",
   "metadata": {},
   "source": [
    "Let's make another version of our box class, but this time add some **methods** that will allow us to do more interesting things."
   ]
  },
  {
   "cell_type": "code",
   "execution_count": 8,
   "metadata": {},
   "outputs": [],
   "source": [
    "class SuperBox:\n",
    "    \n",
    "    def __init__(self, input_length, input_width, input_height):\n",
    "        \n",
    "        self.length = input_length\n",
    "        self.width = input_width\n",
    "        self.height = input_height\n",
    "        \n",
    "        print(\"your box has been instantiated\")\n",
    "        \n",
    "        \n",
    "    def get_volume(self):\n",
    "        \n",
    "        return self.length*self.width*self.height\n",
    "    \n",
    "    \n",
    "    def is_cube(self):\n",
    "        \n",
    "        if (self.length == self.width) and (self.width == self.height):\n",
    "            return True\n",
    "        else:\n",
    "            return False"
   ]
  },
  {
   "cell_type": "markdown",
   "metadata": {},
   "source": [
    "Now, our class `SuperBox` has a method called `get_volume()`, that we can use to calculate the volume of the box. Let's create an instance of the the `SuperBox` class."
   ]
  },
  {
   "cell_type": "code",
   "execution_count": 9,
   "metadata": {},
   "outputs": [
    {
     "name": "stdout",
     "output_type": "stream",
     "text": [
      "your box has been instantiated\n",
      "2\n"
     ]
    }
   ],
   "source": [
    "sb = SuperBox(2,3,9)\n",
    "print(sb.length)"
   ]
  },
  {
   "cell_type": "markdown",
   "metadata": {},
   "source": [
    "Now, let's get the volume of the box."
   ]
  },
  {
   "cell_type": "code",
   "execution_count": 10,
   "metadata": {},
   "outputs": [
    {
     "name": "stdout",
     "output_type": "stream",
     "text": [
      "54\n"
     ]
    }
   ],
   "source": [
    "volume = sb.get_volume()\n",
    "print(volume)"
   ]
  },
  {
   "cell_type": "markdown",
   "metadata": {},
   "source": [
    "Note that to call a **method** (even if it has no arguments), we'll need to use parenthese. Otherwise, python will think we're referring to an **attribute**. Finally, let's determine if the box is a cube."
   ]
  },
  {
   "cell_type": "code",
   "execution_count": 11,
   "metadata": {},
   "outputs": [
    {
     "name": "stdout",
     "output_type": "stream",
     "text": [
      "False\n"
     ]
    }
   ],
   "source": [
    "print(sb.is_cube())"
   ]
  },
  {
   "cell_type": "markdown",
   "metadata": {},
   "source": [
    "We can create another box that is a cube and verify that the method works as intended."
   ]
  },
  {
   "cell_type": "code",
   "execution_count": 13,
   "metadata": {},
   "outputs": [
    {
     "name": "stdout",
     "output_type": "stream",
     "text": [
      "your box has been instantiated\n",
      "True\n"
     ]
    }
   ],
   "source": [
    "sb2 = SuperBox(3,3,3)\n",
    "print(sb2.is_cube())"
   ]
  },
  {
   "cell_type": "markdown",
   "metadata": {},
   "source": [
    "<h2 style=\"color:#9A11DA;\">Public and Private Methods</h2>\n",
    "\n",
    "Sometimes, we have functionality of a class that we only want to be used internally, i.e. within the class. Sometimes, this might be to prevent the user of the code to do something that might break the code or circumvent useful controls we have written.\n",
    "\n",
    "Many programming languages allow the programer to specify **attributes** and **methods** of classes that can/cannot be used outside the class. Python does not allow us to explicitly keep attributes and methods from being used from outside the class. However, it does have a strong *convention* amongst python users.\n",
    "\n",
    "To specify **private attributes**, we use underscores such as `_my_private_attribute_`, and to specify **private methods**, we use underscores such as `_my_private_method_`. These underscores let users know that they should not use these functions directly (or to do so at their own peril!).\n",
    "\n",
    "Let's rewrite the `SuperBox` class to make some private attributes and methods. Note that this isn't entirely necessary, but it will help illustrate how these work."
   ]
  },
  {
   "cell_type": "code",
   "execution_count": 16,
   "metadata": {},
   "outputs": [],
   "source": [
    "class ModifiedSuperBox:\n",
    "    \n",
    "    def __init__(self, input_length, input_width, input_height):\n",
    "        \n",
    "        self.length = input_length\n",
    "        self.width = input_width\n",
    "        self.height = input_height\n",
    "        \n",
    "        self._volume_ = self.length*self.width*self.height\n",
    "    \n",
    "    \n",
    "    def get_volume(self):\n",
    "        return self._volume\n",
    "    \n",
    "    \n",
    "    def is_cube(self):\n",
    "        return self._all_dimension_equal()\n",
    "    \n",
    "    \n",
    "    def _all_dimensions_equal_(self):\n",
    "        \n",
    "        if (self.length == self.width) and (self.width == self.height):\n",
    "            return True\n",
    "        else:\n",
    "            return False"
   ]
  },
  {
   "cell_type": "markdown",
   "metadata": {},
   "source": [
    "Now, we have changed a few things. First, we now have a private attribute called `_volume_`, which stores the volume. However, we don't want the user to access this directly, so instead we ask them to call the `get_volume()` method, which is public. To the user, nothing has changed! `ModifiedSuperBox` works the exact same as `SuperBox`. Additionally, we've added a new private method called `_all_dimensions_equal_`. We use this private method as a subroutine of the `is_cube()` method, which is public.\n",
    "\n",
    "You'll see another example of private methods and attributes in the exercises."
   ]
  },
  {
   "cell_type": "markdown",
   "metadata": {},
   "source": [
    "<h1 style=\"color:#D30982;\">Exercises</h1>"
   ]
  },
  {
   "cell_type": "markdown",
   "metadata": {},
   "source": [
    "Imagine we have a robot, and we want to assign some tasks to the robot to complete. Afterwards, we want to keep track of what tasks the robot has completed, as well as any tasks the robot has not yet finished. To do this, we will write two classes. The first is the `Task` class, which can be thought of as an object that encapsulates some properties of a task that will be assigned to the robot. The second class is the `Robot` class, which will encapsulate all the attributes and behaviors of the robot.\n",
    "\n",
    "1. Let's start by writing the `Task` class. The only method of this class should be the `__init__()` method, which should take in two arguments (`task_id` and `task_description`). This method should establish three *public* attributes for the class: `id`, `description`, and `completion_status`. The first two should be assigned from inputs, and the completion status should be assigned the boolean value `false`."
   ]
  },
  {
   "cell_type": "code",
   "execution_count": 2,
   "metadata": {},
   "outputs": [],
   "source": [
    "class Task:\n",
    "    def __init__(self, task_id, task_description):\n",
    "        \n",
    "        self.id = #your code here\n",
    "        self.description = #your code here\n",
    "        self.completion_status = # your code here"
   ]
  },
  {
   "cell_type": "markdown",
   "metadata": {},
   "source": [
    "2. Create an object `my_task` as an instance of the `Task` class, specifying the necessary input parameters. You can specify any ID and description you like. Change the `completion_status` of the task to true. Then, print the completion status of `my_task`. Additionally, print the `id` of `my_task`."
   ]
  },
  {
   "cell_type": "code",
   "execution_count": null,
   "metadata": {},
   "outputs": [],
   "source": []
  },
  {
   "cell_type": "markdown",
   "metadata": {},
   "source": [
    "3. Now let's create the `Robot` class\n",
    " - Write the `__init__`function, which takes as an argument the `robot_name`, and establishes the public attribute `name`. The method should establish the private attributes `_queued_tasks_` and `_completed_tasks_` as empty lists.\n",
    " - Write a method called `assign_task()`, which reads a `Task` object as an argument and adds that task to the queue.\n",
    " - Write a method called `complete_next_task()`. This method should create a temporary variable called `task` (with a lowercase t) which stores the value of the first task in the queue, obtained as `self._queued_tasks_[0]`. The completion status of the task should be changed to true. Then, `task` should be added to the list of completed tasks using `self._completed_tasks_.append(task)`. Finally, remove the first item from the queued list using `self._queued_tasks_.pop(0)`."
   ]
  },
  {
   "cell_type": "code",
   "execution_count": 11,
   "metadata": {},
   "outputs": [],
   "source": [
    "class Robot:\n",
    "    \n",
    "    def __init__(self, robot_name):\n",
    "        \n",
    "        #your code here\n",
    "        \n",
    "    def assign_task(self, task):\n",
    "        \n",
    "        #your code here\n",
    "    \n",
    "    def complete_next_task(self):\n",
    "        \n",
    "        #your code here"
   ]
  },
  {
   "cell_type": "markdown",
   "metadata": {},
   "source": [
    "4. Create an object `my_robot` as an instance of the `Robot` class. You can name the robot anything you like! Then complete the following tasks:\n",
    "    - Print the name of `my_robot`.\n",
    "    - Create a new `Task` object called the `my_second_task` and assign it to the robot. Next, execute the method `complete_next_task` for the robot.\n",
    "    - Finally, print out the `completion_status` of `my_task`. It should be true!"
   ]
  },
  {
   "cell_type": "code",
   "execution_count": 13,
   "metadata": {},
   "outputs": [
    {
     "name": "stdout",
     "output_type": "stream",
     "text": [
      "True\n"
     ]
    }
   ],
   "source": []
  },
  {
   "cell_type": "markdown",
   "metadata": {},
   "source": [
    "5. Now let's create some more methods for the `Robot` class. We will do this by creating a new class with *extends* the `Robot` class.\n",
    "    - Write a method called `get_busy_status()`, which returns false if the number of queued tasks is zero, and true otherwise. You will need the built in `len()` function to determine the number of queued tasks.\n",
    "    - Write a method called `num_tasks_completed()` that returns the number of tasks the robot has completed.\n",
    "    - Write a method called `has_completed()`, which takes as an argument a variable `task_id`. This method should return true if a task in the completed list has the same id as `task_id`.\n",
    "    - Similarly, the task `has_assigned()`, which determines whether a task with id `task_id` has been assigned to the robot.\n",
    "    - Bonus: Write a method called `cancel_task()`, which takes as an argument a variable `task_id`. The method should check each task in the queue and determine whether the id of the task in the queue matches `task_id`. If so, this task should be removed from the list. (Note: when looping through each task, you should do note use `for task in self._queued_tasks_`, as you cannot modify a list while you are looping through it in this way."
   ]
  },
  {
   "cell_type": "code",
   "execution_count": null,
   "metadata": {},
   "outputs": [],
   "source": [
    "class SuperRobot(Robot):\n",
    "    \n",
    "    def get_busy_status(self):\n",
    "    \n",
    "        #(≈ 4 lines of code)\n",
    "        # if then... \n",
    "        # YOUR CODE STARTS HERE\n",
    "\n",
    "\n",
    "        # YOUR CODE ENDS HERE\n",
    "        \n",
    "        \n",
    "    def has_completed(self, task_id):\n",
    "        \n",
    "        #(≈ 4 lines of code)\n",
    "        # YOUR CODE STARTS HERE\n",
    "\n",
    "\n",
    "        # YOUR CODE ENDS HERE\n",
    "        \n",
    "\n",
    "    def has_assigned(self, task_id):\n",
    "        \n",
    "        #(≈ 4 lines of code)\n",
    "        # for in...\n",
    "        # YOUR CODE STARTS HERE\n",
    "\n",
    "\n",
    "        # YOUR CODE ENDS HERE\n",
    "        \n",
    "\n",
    "    def cancel_task(self, task_id):\n",
    "        \n",
    "        #(≈ 3 lines of code)\n",
    "        # for in...\n",
    "        # YOUR CODE STARTS HERE\n",
    "\n",
    "\n",
    "        # YOUR CODE ENDS HERE\n",
    "        \n",
    "\n",
    "    def num_tasks_completed(self):\n",
    "        \n",
    "        #(≈ 1 lines of code)\n",
    "        # YOUR CODE STARTS HERE\n",
    "\n",
    "\n",
    "        # YOUR CODE ENDS HERE\n",
    "        \n"
   ]
  },
  {
   "cell_type": "markdown",
   "metadata": {},
   "source": [
    "5. Create an instance of the `SuperRobot` class. \n",
    "    - Add some tasks to the robot's queue. Use the `get_busy_status` method to verify that the robot has tasks to complete.\n",
    "    - Now, run the `complete_next_task` method. Note that even though the `SuperRobot` class doesn't explicitly define this method, it is inherited from the normal `Robot` class on which it is built.\n",
    "    - Use the `num_tasks_completed` method to determine how many tasks have been completed.\n",
    "    - Use the `has_completed` method to determine which of the tasks you assigned the robot have been completed. Does the method work as you expected?"
   ]
  },
  {
   "cell_type": "code",
   "execution_count": null,
   "metadata": {},
   "outputs": [],
   "source": []
  }
 ],
 "metadata": {
  "kernelspec": {
   "display_name": "Python 3",
   "language": "python",
   "name": "python3"
  },
  "language_info": {
   "codemirror_mode": {
    "name": "ipython",
    "version": 3
   },
   "file_extension": ".py",
   "mimetype": "text/x-python",
   "name": "python",
   "nbconvert_exporter": "python",
   "pygments_lexer": "ipython3",
   "version": "3.7.6"
  }
 },
 "nbformat": 4,
 "nbformat_minor": 4
}
