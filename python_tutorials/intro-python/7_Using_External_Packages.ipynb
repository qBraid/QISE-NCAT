{
 "cells": [
  {
   "cell_type": "markdown",
   "metadata": {},
   "source": [
    "<h1 style=\"color:#D30982;\">Using External Packages </h1>\n",
    "\n",
    "Learning to use external packages is an essential skill for any python programmer. In these exercises, you'll build some experience reading documentation and learning how to re-use other people's code to fit your purposes. We've already seen how to use some features of `numpy`, a package for doing common scientific calculations in python.\n",
    "\n",
    "In the QuBes Course, we'll take a look at one of several python packages (`qiskit`, `cirq`, `openfermion`, and more) to write quantum computing programs. But there are all sorts of useful python packages, doing all sorts of amazing things. Often, using python comes with a package called `pip`, or \"**p**ackage **i**installer for **p**ython\". We can access pip in jupyter using a special jupyter command."
   ]
  },
  {
   "cell_type": "code",
   "execution_count": null,
   "metadata": {},
   "outputs": [],
   "source": [
    "!pip list"
   ]
  },
  {
   "cell_type": "markdown",
   "metadata": {},
   "source": [
    "We can also use pip to check if we have a package installed and other useful details. For instance, to find what version of `numpy` we have, we can say:"
   ]
  },
  {
   "cell_type": "code",
   "execution_count": 1,
   "metadata": {},
   "outputs": [
    {
     "name": "stdout",
     "output_type": "stream",
     "text": [
      "Name: numpy\n",
      "Version: 1.19.0\n",
      "Summary: NumPy is the fundamental package for array computing with Python.\n",
      "Home-page: https://www.numpy.org\n",
      "Author: Travis E. Oliphant et al.\n",
      "Author-email: None\n",
      "License: BSD\n",
      "Location: /opt/conda/lib/python3.7/site-packages\n",
      "Requires: \n",
      "Required-by: scipy, scikit-learn, qutip, Quandl, qiskit-terra, qiskit-ignis, qiskit-ibmq-provider, qiskit-aqua, qiskit-aer, pyscf, pyquil, pandas, openfermion, mayavi, matplotlib, h5py, fastdtw, cirq, bokeh\n"
     ]
    }
   ],
   "source": [
    "!pip show numpy"
   ]
  },
  {
   "cell_type": "markdown",
   "metadata": {},
   "source": [
    "Rather than show you how to use every possible python package, we'll look at **how python packages are structured** and some useful tips for learning how to use them on your own. This includes some **useful commands** and, importantly, **reading documentation**."
   ]
  },
  {
   "cell_type": "markdown",
   "metadata": {},
   "source": [
    "<h1 style=\"color:#D30982;\">The Structure of Python Packages</h1>\n",
    "\n",
    "The fundamental unit of any python package is the module. We can import it using the `import` command."
   ]
  },
  {
   "cell_type": "code",
   "execution_count": null,
   "metadata": {},
   "outputs": [],
   "source": [
    "import modulename"
   ]
  },
  {
   "cell_type": "markdown",
   "metadata": {},
   "source": [
    "A module can refer to either a **file** or a **folder** full of other python files and/or folders. If `modulename` refers to a file, that file is named `modulename.py`. If it refers to a folder, the folder name is `\"modulename\"`. \n",
    "\n",
    "We'll explore how both work with a single-file module called `colors.py` and a larger module called `shapes`, which have been written as toy examples for this course. For these files to work properly, they must be located in the same folder as this notebook where we are running code. But this is only because we haven't installed the python module through pip. However, all the import statements and commands we'll describe here work equally well for other packages."
   ]
  },
  {
   "cell_type": "markdown",
   "metadata": {},
   "source": [
    "<h2 style=\"color:#9A11DA;\">A Simple Python Module</h2>\n",
    "\n",
    "Let's look at a simple python module called `colors.py`. We can import the module using the python built-in `import` command."
   ]
  },
  {
   "cell_type": "code",
   "execution_count": 2,
   "metadata": {},
   "outputs": [],
   "source": [
    "import colors"
   ]
  },
  {
   "cell_type": "markdown",
   "metadata": {},
   "source": [
    "To understand how it works, we can look at what's called the \"doc\" (or document) string. This string describes what the module does. "
   ]
  },
  {
   "cell_type": "code",
   "execution_count": 3,
   "metadata": {},
   "outputs": [
    {
     "name": "stdout",
     "output_type": "stream",
     "text": [
      "\n",
      "The colors module is a simple module written to help\n",
      "students understand how python modules work. It contains\n",
      "the following:\n",
      "\n",
      "colors: a list of standard colors\n",
      "get_random_color: a function to select a random color from\n",
      "    the list of standard colors\n",
      "ColorScheme: a class that for holding functionality related to color schemes\n",
      "\n",
      "\n",
      "This particular part of the module is called the doc string.\n",
      "\n"
     ]
    }
   ],
   "source": [
    "print(colors.__doc__)"
   ]
  },
  {
   "cell_type": "markdown",
   "metadata": {},
   "source": [
    "Note that this doc string is accessed using the `__doc__` attribute. Recall that python programmers typically name *public* attributes/methods with no underscores (`public_attribute`), and *private* attributes/methods with a single underscore (`_private_attribute_`). Double-underscore names are reserved for specific in-built features of python, of which the doc string is one example. To see how the doc string is written in the module itself, open `colors.py` in a separate tab and see for yourself. It is written with triple quotes at the very beginning of the file.\n",
    "\n",
    "Now that we've imported colors, we can hopefully use it's functionality. To do so, we need to know what functionality colors has available. To do this, we'll use the `dir` command, which stands for \"directory\". This command will list all the possible functionality (classes, functions, variables) available through in this particular module."
   ]
  },
  {
   "cell_type": "code",
   "execution_count": 6,
   "metadata": {},
   "outputs": [
    {
     "data": {
      "text/plain": [
       "['ColorScheme',\n",
       " '__builtins__',\n",
       " '__cached__',\n",
       " '__doc__',\n",
       " '__file__',\n",
       " '__loader__',\n",
       " '__name__',\n",
       " '__package__',\n",
       " '__spec__',\n",
       " 'colors',\n",
       " 'get_random_color',\n",
       " 'random']"
      ]
     },
     "execution_count": 6,
     "metadata": {},
     "output_type": "execute_result"
    }
   ],
   "source": [
    "dir(colors)"
   ]
  },
  {
   "cell_type": "markdown",
   "metadata": {},
   "source": [
    "Notice the `__doc__` functionality we used already is listed here. The stuff we are interested in are the functionality of the package, such as `ColorScheme`, `colors`, and `get_random_color`.\n",
    "\n",
    "Let's start with `colors`, which we can see is just a list of colors. We can access this variable by calling `colors.colors`."
   ]
  },
  {
   "cell_type": "code",
   "execution_count": 8,
   "metadata": {},
   "outputs": [
    {
     "name": "stdout",
     "output_type": "stream",
     "text": [
      "['red', 'orange', 'yellow', 'green', 'blue', 'violet', 'black', 'grey', 'white']\n"
     ]
    }
   ],
   "source": [
    "color_list = colors.colors\n",
    "print(color_list)"
   ]
  },
  {
   "cell_type": "markdown",
   "metadata": {},
   "source": [
    "We can also access the other functionality in a similar way. Let's find out what `ColorScheme` and `get_random_color` actually mean. In practice, you will likely have documentation to guide you in your use of any python package. But sometimes, it's annoying or time-consuming to look things up in the documentation, and it's easier to just explore the functions for yourself. If the functionality has a doc string, we can see what it says."
   ]
  },
  {
   "cell_type": "code",
   "execution_count": 3,
   "metadata": {},
   "outputs": [
    {
     "name": "stdout",
     "output_type": "stream",
     "text": [
      "Return a random color from the list of standard colors.\n"
     ]
    }
   ],
   "source": [
    "print(colors.get_random_color.__doc__)"
   ]
  },
  {
   "cell_type": "code",
   "execution_count": 5,
   "metadata": {},
   "outputs": [
    {
     "name": "stdout",
     "output_type": "stream",
     "text": [
      "ColorScheme: class for functionality related to color schemes\n",
      "    \n",
      "    \n",
      "    Args:\n",
      "        name: name of color scheme\n",
      "        color_list: list of colors in the scheme\n",
      "    \n",
      "    Attrs:\n",
      "        name: name of color scheme\n",
      "        _colors: list of colors\n",
      "        \n",
      "    Methods:\n",
      "        colors: return the list of colors in the scheme\n",
      "        add_color: add color to color scheme\n",
      "        remove_color: remove color from color scheme\n",
      "        get_random_color: get random color from color scheme\n"
     ]
    }
   ],
   "source": [
    "print(colors.ColorScheme.__doc__)"
   ]
  },
  {
   "cell_type": "markdown",
   "metadata": {},
   "source": [
    "In hingsight, it was fairly easy to determine what each was from context. `get_random_color` is a useful and descriptive function name. Moreover, the convention for naming classes with capital letters probably gave away that `ColorScheme` is a class. Nevertheless, the 'doc' strings tell us exactly what's going on.\n",
    "\n",
    "Let's get a random color using the `colors.py` module."
   ]
  },
  {
   "cell_type": "code",
   "execution_count": 7,
   "metadata": {},
   "outputs": [
    {
     "name": "stdout",
     "output_type": "stream",
     "text": [
      "green\n"
     ]
    }
   ],
   "source": [
    "import colors\n",
    "my_random_color = colors.get_random_color()\n",
    "print(my_random_color)"
   ]
  },
  {
   "cell_type": "markdown",
   "metadata": {},
   "source": [
    "Now let's initialize a class. From the doc string above, we can see that the class must be initialized with two arguments: `name` and `color_list`. We'll use these to create an instance of the `ColorScheme` class."
   ]
  },
  {
   "cell_type": "code",
   "execution_count": 1,
   "metadata": {},
   "outputs": [
    {
     "name": "stdout",
     "output_type": "stream",
     "text": [
      "<colors.ColorScheme object at 0x7ff12004c810>\n"
     ]
    }
   ],
   "source": [
    "import colors\n",
    "my_color_scheme = colors.ColorScheme('primary_colors',['red','yellow','blue'])\n",
    "print(my_color_scheme)"
   ]
  },
  {
   "cell_type": "markdown",
   "metadata": {},
   "source": [
    "Now that we've initialized a `ColorScheme` object, we'll use some of it's methods. To see what methods are available to us, we can use the `dir` command again."
   ]
  },
  {
   "cell_type": "code",
   "execution_count": 3,
   "metadata": {},
   "outputs": [
    {
     "data": {
      "text/plain": [
       "['__class__',\n",
       " '__delattr__',\n",
       " '__dict__',\n",
       " '__dir__',\n",
       " '__doc__',\n",
       " '__eq__',\n",
       " '__format__',\n",
       " '__ge__',\n",
       " '__getattribute__',\n",
       " '__gt__',\n",
       " '__hash__',\n",
       " '__init__',\n",
       " '__init_subclass__',\n",
       " '__le__',\n",
       " '__lt__',\n",
       " '__module__',\n",
       " '__ne__',\n",
       " '__new__',\n",
       " '__reduce__',\n",
       " '__reduce_ex__',\n",
       " '__repr__',\n",
       " '__setattr__',\n",
       " '__sizeof__',\n",
       " '__str__',\n",
       " '__subclasshook__',\n",
       " '__weakref__',\n",
       " '_colors',\n",
       " '_private_method2_',\n",
       " '_private_method_',\n",
       " 'add_color',\n",
       " 'colors',\n",
       " 'get_random_color',\n",
       " 'name',\n",
       " 'remove_color']"
      ]
     },
     "execution_count": 3,
     "metadata": {},
     "output_type": "execute_result"
    }
   ],
   "source": [
    "dir(my_color_scheme)"
   ]
  },
  {
   "cell_type": "markdown",
   "metadata": {},
   "source": [
    "A class has a huge number of in-built python attributes and methods. For now, let's focus on the obvious ones listed in the doc string of the class: `add_color`, `colors`, `get_random_color`, `remove_color`. We can call them all as follows:"
   ]
  },
  {
   "cell_type": "code",
   "execution_count": 2,
   "metadata": {},
   "outputs": [
    {
     "name": "stdout",
     "output_type": "stream",
     "text": [
      "['red', 'yellow', 'blue', 'green']\n",
      "red\n",
      "['red', 'blue', 'green']\n"
     ]
    }
   ],
   "source": [
    "my_color_scheme.add_color('green')\n",
    "print(my_color_scheme.colors())\n",
    "print(my_color_scheme.get_random_color())\n",
    "my_color_scheme.remove_color('yellow')\n",
    "print(my_color_scheme.colors())"
   ]
  },
  {
   "cell_type": "markdown",
   "metadata": {},
   "source": [
    "That's it we've used all the functionality available in the `colors.py` module. Now let's move onto a more complicated example."
   ]
  },
  {
   "cell_type": "markdown",
   "metadata": {},
   "source": [
    "<h2 style=\"color:#9A11DA;\">A Larger Python Module</h2>"
   ]
  },
  {
   "cell_type": "markdown",
   "metadata": {},
   "source": [
    "The `shapes` module is a folder, meaning it contains some other folders, as well as python files. Since each folder of python code is consider module, so to are all the subfolders. We call these subfolders **submodules**. In your file system, click on the shapes module and explore the files and folders.\n",
    "\n",
    "Now, let's get to work understanding how `shapes` is structured."
   ]
  },
  {
   "cell_type": "code",
   "execution_count": 1,
   "metadata": {},
   "outputs": [],
   "source": [
    "import shapes"
   ]
  },
  {
   "cell_type": "markdown",
   "metadata": {},
   "source": [
    "We can see from the file tree that the folder has three files: `__init__.py`, `shape.py`, and `solid.py`. The first file is special and we'll return to it later on. \n",
    "\n",
    "Let's take a look at `shape.py` first. This file contains an instance of the `Shape` class. We can access this class by hierarchically. The first thing we'll do is analyze the doc string."
   ]
  },
  {
   "cell_type": "code",
   "execution_count": 2,
   "metadata": {},
   "outputs": [
    {
     "name": "stdout",
     "output_type": "stream",
     "text": [
      "Contains Shape class and other relevant functions.\n"
     ]
    }
   ],
   "source": [
    "print(shapes.shape.__doc__)"
   ]
  },
  {
   "cell_type": "markdown",
   "metadata": {},
   "source": [
    "Note that we've imported `shapes`, which is a folder. That folder contains the file `shapes.py`. The doc string tells us we can access the `Shape` class from here."
   ]
  },
  {
   "cell_type": "code",
   "execution_count": 3,
   "metadata": {},
   "outputs": [
    {
     "name": "stdout",
     "output_type": "stream",
     "text": [
      "Shape: base class for storing attributes/methods related to shapes\n",
      "    \n",
      "    Args:\n",
      "        num_sides: sides of the shape\n",
      "        name (optional): None\n",
      "        kwargs: any\n",
      "    \n"
     ]
    }
   ],
   "source": [
    "print(shapes.shape.Shape.__doc__)"
   ]
  },
  {
   "cell_type": "markdown",
   "metadata": {},
   "source": [
    "Now, let's create an instance of the `Shape` class."
   ]
  },
  {
   "cell_type": "code",
   "execution_count": 4,
   "metadata": {},
   "outputs": [
    {
     "name": "stdout",
     "output_type": "stream",
     "text": [
      "You've created an instance of the shape class.\n"
     ]
    }
   ],
   "source": [
    "my_shape = shapes.shape.Shape(3,'Triangle')"
   ]
  },
  {
   "cell_type": "markdown",
   "metadata": {},
   "source": [
    "We can access the `solid` class in a similar way. But what about the folder `regular_shapes`? We can access those functions by calling the following:"
   ]
  },
  {
   "cell_type": "code",
   "execution_count": 6,
   "metadata": {},
   "outputs": [
    {
     "name": "stdout",
     "output_type": "stream",
     "text": [
      "You've created an instance of the shape class.\n"
     ]
    }
   ],
   "source": [
    "import shapes\n",
    "\n",
    "my_11gon = shapes.regular_shapes.ngon.NGon(11)"
   ]
  },
  {
   "cell_type": "markdown",
   "metadata": {},
   "source": [
    "You can see that we can access"
   ]
  },
  {
   "cell_type": "markdown",
   "metadata": {},
   "source": [
    "<h1 style=\"color:#D30982;\">Various Import Methods in Python</h1>\n",
    "\n",
    "So far, we've imported the base modules `color` and `shapes` and used their functiality by following a hierarchical path to the object we were looking for. Often, however, the structure of the package is very large, and the way functions and classes are stored in the file structure is not the most intuitive way to do things.\n",
    "\n",
    "We can use the `from` statement to import certain **submodules** (or even functions and classes) directly."
   ]
  },
  {
   "cell_type": "code",
   "execution_count": null,
   "metadata": {},
   "outputs": [],
   "source": [
    "from shapes import shape\n",
    "\n",
    "my_shape = shape.Shape(12,'Pentagon')"
   ]
  },
  {
   "cell_type": "markdown",
   "metadata": {},
   "source": [
    "We can intercept something at any point in the hierarchical chain. For instance, we can also import the class `Shape` directly."
   ]
  },
  {
   "cell_type": "code",
   "execution_count": 2,
   "metadata": {},
   "outputs": [
    {
     "name": "stdout",
     "output_type": "stream",
     "text": [
      "You've created an instance of the shape class.\n",
      "You've created an instance of the shape class.\n"
     ]
    }
   ],
   "source": [
    "from shapes.shape import Shape\n",
    "from shapes.shape import get_random_polygon\n",
    "\n",
    "my_shape = Shape(6,'Hexagon')\n",
    "my_second_shape = get_random_polygon()"
   ]
  },
  {
   "cell_type": "markdown",
   "metadata": {},
   "source": [
    "Finally, we can import things with nicknames. Sometimes, as is the case with `import numpy as np`, we do this for convenience. Other times, we do this when we want to use multiple classes with the same name."
   ]
  },
  {
   "cell_type": "code",
   "execution_count": 3,
   "metadata": {},
   "outputs": [
    {
     "name": "stdout",
     "output_type": "stream",
     "text": [
      "You've created an instance of the shape class.\n"
     ]
    }
   ],
   "source": [
    "from shapes.shape import Shape as ShapeClass\n",
    "import colors as clrs\n",
    "\n",
    "my_shape = ShapeClass(4,'Trapezoid')\n",
    "my_color_scheme = clrs.ColorScheme('secondary',['purple','yellow','orange'])"
   ]
  },
  {
   "cell_type": "markdown",
   "metadata": {},
   "source": [
    "<h2 style=\"color:#9A11DA;\">Import Shortcuts</h2>\n",
    "\n",
    "Sometimes packages will make a whole bunch of functionality available just by importing the base module. We've done this in the `shapes` module with the `Shape` class. Look at the following code:"
   ]
  },
  {
   "cell_type": "code",
   "execution_count": 5,
   "metadata": {},
   "outputs": [
    {
     "name": "stdout",
     "output_type": "stream",
     "text": [
      "You've created an instance of the shape class.\n"
     ]
    }
   ],
   "source": [
    "import shapes\n",
    "my_shape = Shape(2,'impossible_shape')"
   ]
  },
  {
   "cell_type": "markdown",
   "metadata": {},
   "source": [
    "Why does this code work? Previously we had to use `shapes.shape.Shape()` to create an instance of the `Shape` class. The key is the `__init__.py` function, that is present in virtually every python module. Look inside it to see what it contains, and you should be able to figure out why the above code works. If you want, modify the `__init__.py` file to see if you can add the `Solid` class and try using it in the same way as above.\n",
    "\n",
    "It will seldom be necessary for you to understand these shortcuts. Typically, it doesn't matter how they work behind the scenes. But it's good to know, incase you are ever searching through some source code and can't find what you're looking for in a place you thought it should be."
   ]
  },
  {
   "cell_type": "markdown",
   "metadata": {},
   "source": [
    "<h1 style=\"color:#D30982;\">A Final Note About Writing Code</h1>\n",
    "\n",
    "Coding, like many skills in the age of the internet, isn't always about memory. Over time, writing a lot of code builds memory for commands that are used frequently. Don't worry if, for example, you can't remember how to add a list. That's okay! You can always just look it up. Many websites such as [stackoverflow.com]() and others are excellent resources for almost any problem in any language. A google search for \"add element to list python\" will quickly give you the one-liner you're looking for.\n",
    "\n",
    "Since many of the tools you've learned in this python course aren't about memory, you can also refer back to this course often. This course is all about building your familiarity, so that you are aware of certain things that python can do. Maybe one day, you'll need something you saw in this course, but can't quite remember how to do it. As long as you remember where you found it, you know you can find the answer.\n",
    "\n",
    "Happy python coding! -the qBraid Team"
   ]
  },
  {
   "cell_type": "markdown",
   "metadata": {},
   "source": [
    "<h1 style=\"color:#D30982;\">Exercises</h1>\n",
    "\n"
   ]
  },
  {
   "cell_type": "markdown",
   "metadata": {},
   "source": [
    "1. Using the `shapes` module, initialize an instance of all five of the platonic solids. (You may need to look at the source code for help)."
   ]
  },
  {
   "cell_type": "code",
   "execution_count": null,
   "metadata": {},
   "outputs": [],
   "source": []
  },
  {
   "cell_type": "markdown",
   "metadata": {},
   "source": [
    "2. Calculate the interior angle of a regular octagon using the `Shapes` package. "
   ]
  },
  {
   "cell_type": "code",
   "execution_count": null,
   "metadata": {},
   "outputs": [],
   "source": []
  },
  {
   "cell_type": "markdown",
   "metadata": {},
   "source": [
    "3. Create two color schemes using the `colors` module, one with *warm* colors and another with *cool* colors. Draw a random color from each scheme, and add both to a list called `fire_and_ice`. Print the list. Do the colors work well together?"
   ]
  },
  {
   "cell_type": "code",
   "execution_count": null,
   "metadata": {},
   "outputs": [],
   "source": []
  }
 ],
 "metadata": {
  "kernelspec": {
   "display_name": "Python 3",
   "language": "python",
   "name": "python3"
  },
  "language_info": {
   "codemirror_mode": {
    "name": "ipython",
    "version": 3
   },
   "file_extension": ".py",
   "mimetype": "text/x-python",
   "name": "python",
   "nbconvert_exporter": "python",
   "pygments_lexer": "ipython3",
   "version": "3.7.6"
  }
 },
 "nbformat": 4,
 "nbformat_minor": 4
}
