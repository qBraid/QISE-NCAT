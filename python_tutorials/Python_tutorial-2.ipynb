{
 "cells": [
  {
   "cell_type": "markdown",
   "metadata": {},
   "source": [
    "\n",
    "<font size=5 color=9b12df>Link &rarr;[Python HW](./Python_homework.ipynb)</font>\n"
   ]
  },
  {
   "cell_type": "markdown",
   "metadata": {},
   "source": [
    "<h1 style=\"color:#9b12df;\">Python tutorial</h1>\n",
    "\n",
    "Python is a high-level, general-purpose programming language. By general-purpose, we mean that it is designed for a wide variety of applications. By high-level, we mean that you do not need to know the internal workings of computers to use it. All the complicated details of computers are abstracted out, and the programming language is relatively easy to understand. Python is in fact one of the most intuitive programming languages, and often feels similar to a natural language.\n",
    "\n",
    "Just like in the real world, most complex tasks can be broken down into various smaller sub-tasks. Therefore, there are a small number of functions/operations in python that let you build very complex applications. Let's focus in on the following operations: \n",
    "\n",
    "1. Calculating math expressions\n",
    "2. Repetition and Conditional tools: For, if, while\n",
    "3. Custom functions and Methods"
   ]
  },
  {
   "cell_type": "markdown",
   "metadata": {},
   "source": [
    "<h1 style=\"color:#9b12df;\">Hello World!</h1>\n",
    "The 'Hello World' program is the simplest program that is used to introduce a programming language to new learners. In Python, this is the very simple one line program shown in the following cell. You can run it by selecting the cell and clicking on the play button in the 'Main Area toolbar', or by simply selecting the cell and pressing 'Shift+Enter'. "
   ]
  },
  {
   "cell_type": "code",
   "execution_count": 1,
   "metadata": {},
   "outputs": [
    {
     "name": "stdout",
     "output_type": "stream",
     "text": [
      "Hello World!\n",
      "how to type something else and print it\n"
     ]
    }
   ],
   "source": [
    "print('Hello World!')\n",
    "print(\"how to type something else and print it\")"
   ]
  },
  {
   "cell_type": "markdown",
   "metadata": {},
   "source": [
    "You may wonder, what is the use of this very simple program? \n",
    "This is a stepping stone towards what is coming. This demonstrates to you how to print a statement to the screen. \n",
    "\n",
    "Consider the task of making coffee. If someone didn't know how to make coffee, you would break down the task of making coffee into many smaller steps. You would use these smaller steps and build a procedure/algorithm that someone else can easily follow. This would go something like:\n",
    "\n",
    "- Turn on the coffee machine,\n",
    "- Add water to the water reservoir/tank in the coffee machine,\n",
    "- Open the top lid, add the coffee filter, and then add coffee,\n",
    "- Press the start switch to start brewing.\n",
    "\n",
    "*Writing a computer program*, or *programming*, is similar. It means writing down a set of instructions for a computer to accomplish a desired task. Behind any of the apps that you have ever used, there is a set of instructions (that a programmer has specified) for what the computer/phone should in response to you pressing any button or making any action in the app.\n",
    "\n",
    "As you proceed, you will realize that as the task at hand becomes more complex, it will be helpful to print partial results on the screen to make sure that the task is being executed as expected."
   ]
  },
  {
   "cell_type": "markdown",
   "metadata": {
    "tags": []
   },
   "source": [
    "<h1 style=\"color:#9b12df;\">Python as a calculator</h1>\n",
    "Python offers the basic functionality of a calculator. The following code cell shows how you can use the calculator functionality in Python to add, subtract, multiply and divide numbers."
   ]
  },
  {
   "cell_type": "code",
   "execution_count": 2,
   "metadata": {},
   "outputs": [
    {
     "name": "stdout",
     "output_type": "stream",
     "text": [
      "0.7071067811865476\n"
     ]
    }
   ],
   "source": [
    "a=4\n",
    "\n",
    "import math\n",
    "print(math.sqrt(2)/2)\n"
   ]
  },
  {
   "cell_type": "code",
   "execution_count": 3,
   "metadata": {},
   "outputs": [
    {
     "name": "stdout",
     "output_type": "stream",
     "text": [
      "4\n"
     ]
    }
   ],
   "source": [
    "print(a)"
   ]
  },
  {
   "cell_type": "markdown",
   "metadata": {},
   "source": [
    "<font size=3 color=9b12df>**Comments in Python:**</font>\n",
    "When coding in any language, it is always helpful to insert explanatory comments in the code, so that other people can understand your code, or so that you can look back at your code months after you have written it, and still make sense of it. In Python, anything that that follows `#` on a given line is a comment."
   ]
  },
  {
   "cell_type": "markdown",
   "metadata": {},
   "source": [
    "<h2 style=\"color:#9b12df;\">Variables</h2>\n",
    "\n",
    "Just like in mathematics, the use of variables is crucial in order to write statements that hold generally, as opposed to statements about specific numbers. The assignment operator in python is '='. When you write `a=2` in python, python stores in memory a variable `a` whose value is 2. Another valid operation in python is `a=a+1`. This could be confusing some times to the new learners but it is not too difficult to understand. `a=2` tells python to allocate memory for the variable `a` whose value is 2. When you write `a=a+1`, python looks if there is a variable called `a` present in the memory, if there is, it fetches it, adds 1 to it and stores the result as the value of `a` in the memory. Let's see this in action:"
   ]
  },
  {
   "cell_type": "code",
   "execution_count": 15,
   "metadata": {},
   "outputs": [
    {
     "name": "stdout",
     "output_type": "stream",
     "text": [
      "The value of c is 5\n",
      "The value of c is updated to 15\n",
      "** power operator. We raise c to the power of 2.\n",
      "The new value of c is 225\n"
     ]
    }
   ],
   "source": [
    "# Following code defines some variables\n",
    "a = 2\n",
    "b = 3\n",
    "c = a+b\n",
    "print('The value of c is', c)\n",
    "c = c*3\n",
    "print('The value of c is updated to', c)\n",
    "c = c**2\n",
    "print('** power operator. We raise c to the power of 2.\\nThe new value of c is', c)"
   ]
  },
  {
   "cell_type": "markdown",
   "metadata": {},
   "source": [
    "<h2 style=\"color:#9b12df;\">Data types</h2>\n",
    "\n",
    "As is explained in the Qubes Module on [classical computing](../../../Qube/2_Classical_computing.ipynb), all the information that is stored in computer memory is in the form of 0s and 1s. Of course, it is crucial for efficiency that there be a way to catalogue and make sense of all this information. This is why we have *data types* in python. Integers, which you have seen earlier, are one example of a data type. The various data types in python are the following:\n",
    "\n",
    "- <font color='#9b12df'>Floats:</font> are used to represent decimal numbers like 1.0, 1.1, 3.45, etc. The syntax for defining a float is follows:\n",
    "\n",
    "```python\n",
    "floatingpoint1 = float(2.3)\n",
    "```\n",
    "In python, the default data-type for numbers is float. What this means is that even if you just write `a=2`, then python will read this as `a=float(2)`.\n",
    "- <font color='#9b12df'>Integers:</font> are used to represent whole numbers, like 1,2,3, etc. The syntax for defining variables which are integers is the following: \n",
    "\n",
    "```python\n",
    "integer1 = int(2)\n",
    "```\n",
    "\n",
    "- <font color='#9b12df'>Complex numbers:</font> In python, the letter used for the imaginary unit is j. There are two ways for defining complex numbers.\n",
    "\n",
    "```python\n",
    "complex1 = complex(2+3j)\n",
    "complex2 = 4+4j\n",
    "```\n",
    "In the second line, Python automatically infers that the data type is a complex number, because of the appearance of the imaginary unit j.\n",
    "\n",
    "- <font color='#9b12df'>Boolean (True or False):</font> A variable can also be assigned to represent a condition being true or false. This is equivalent to a bit: the variable can be one of two possible states. In fact, you can cast the values we associate with bits, 0 and 1, to the boolean values False and True respectively.\n",
    "\n",
    "```python\n",
    "condition1 = True     # which is equivalent to bool(1)\n",
    "condition2 = bool(0)  # which is equivalent to False\n",
    "```\n",
    "\n",
    "- <font color='#9b12df'>Strings:</font> are used to represent words or sentences. You can use apostrophe marks or quotation marks to define a string. The various ways of defining strings are the following:\n",
    "\n",
    "```python\n",
    "string1 = str('This is a string')\n",
    "string2 = str('This is also a string')\n",
    "string3 = 'again, a string'\n",
    "string4 = \"another one\"\n",
    "```\n",
    "<a name=\"lists\"></a>\n",
    "\n",
    "\n",
    "-  <font color='#9b12df'>Lists:</font> One of the best parts of python is how close it is to natural language. The data type List is exactly what it sounds like, a list of variables/data objects. As you spend more time programming in python, you will develop an intuition for when lists are useful. List are defined by putting the 'items' of the list inside square brackets, separated by commas. You are allowed to define a list of integers, floats or strings. The syntax for lists is the following:\n",
    "\n",
    "\n",
    "```python\n",
    "list1 = [13,22,3,6,7]\n",
    "list2 = ['this', 'that', 'etc']\n",
    "```\n",
    "To access a particular element you refer to the list variable followed by the square brackets containing the index of the element. The indices start at 0. e.g. to access the first and third element of the list, l1, we would use the following code.\n",
    "\n",
    "\n",
    "```python\n",
    "print(list1[0])\n",
    "print(list1[3])\n",
    "```\n",
    "\n",
    "Another useful method for lists is len(), which returns the number of elements present in the list.\n",
    "\n",
    "<font size=4, color='#9b12df'>**type()**</font> is a function that takes an input of an object of any data-type, and tells you *which data-type* it is. For example, let's say you used `a=2` to create and assign a value to the variable $a$. Now, if you are not sure what data-type is variable $a$, you can use the function \"type()\" to find out.\n",
    "\n",
    "```python\n",
    "a=2\n",
    "print(type(a))\n",
    "```\n"
   ]
  },
  {
   "cell_type": "code",
   "execution_count": 22,
   "metadata": {},
   "outputs": [
    {
     "name": "stdout",
     "output_type": "stream",
     "text": [
      "<class 'float'>\n",
      "<class 'int'>\n",
      "the type of b is: <class 'float'>\n",
      "The variables b and c are: 2.0 2\n",
      "<class 'float'> <class 'int'>\n",
      "['my', 'name', 'something else', 4, 5]\n",
      "['a', 'b', 'c', 'd', 'e', 'f']\n",
      "<class 'list'>\n",
      "['z', 'b', 'c', 'd', 'e', 'f']\n",
      "4\n"
     ]
    }
   ],
   "source": [
    "# Create a varible a\n",
    "a = 1.2\n",
    "\n",
    "# check data-type of a\n",
    "print(type(a))\n",
    "b=2\n",
    "print(type(2))\n",
    "# create a float variable\n",
    "b = float(2)\n",
    "print('the type of b is:',type(b))\n",
    "# # convert the float to an int\n",
    "c = int(b)\n",
    "print('The variables b and c are:',b, c)\n",
    "\n",
    "# print data type of each variable\n",
    "print(type(b), type(c))\n",
    "\n",
    "###\n",
    "\n",
    "# Create a list of bunch of alphabets:\n",
    "li = ['a', 'b', 'c', 'd', 'e', 'f']\n",
    "\n",
    "my_list = ['my', 'name','something else',4,5]\n",
    "print(my_list)\n",
    "\n",
    "# print the list\n",
    "print(li)\n",
    "\n",
    "# print the type of the list\n",
    "print(type(li))\n",
    "\n",
    "# change the first element\n",
    "li[0] = 'z'\n",
    "print(li)\n",
    "\n",
    "print(my_list[3])"
   ]
  },
  {
   "cell_type": "markdown",
   "metadata": {},
   "source": [
    "<font size=4 color=9b12df>**Exercise:**</font> Create two integers, $a$ and $b$. Check their data-types to make sure you created integers. Now consider the ratio of $a$ and $b$ - you can create another variable, $c$, which is equal to $a$ divided by $b$. Now check the type of $c$. Did you find something interesting?"
   ]
  },
  {
   "cell_type": "code",
   "execution_count": null,
   "metadata": {},
   "outputs": [],
   "source": [
    "# Create ints a and b\n",
    "a = \n",
    "b = \n",
    "# Check their data-types\n",
    "\n",
    "# Divide a by b\n",
    "c = a/b\n",
    "# Check the data-type of c\n",
    "\n"
   ]
  },
  {
   "cell_type": "markdown",
   "metadata": {},
   "source": [
    "<font size=4 color=9b12df>**Exercise:**</font> Create a list of five numbers. Now, we want to change the value of the third value by subtracting 5 from it. While we're doing this, we're going to use variable assignment to store it back in the list at the third place. Try to fill out this task!"
   ]
  },
  {
   "cell_type": "code",
   "execution_count": null,
   "metadata": {},
   "outputs": [],
   "source": [
    "# create a list\n",
    "a = \n",
    "\n",
    "# replace the third entry with the third entry-5\n",
    "a[] = a[]-5\n",
    "\n",
    "# print the list\n"
   ]
  },
  {
   "cell_type": "markdown",
   "metadata": {},
   "source": [
    "\n",
    "<h2 style=\"color:#9b12df;\">List of operators:</h2>\n",
    "<a name=\"list_of_op\"></a>\n",
    "As we learned above, python can be used a calculator. For using python as a calculator, we make use of operators which are similar to the ones in math, e.g. `+`, `-`, `*`, and `/` refer to addition, subtraction, multiplication and division, respectively. Some of the other important operators are:\n",
    "\n",
    "- `==`: This operator is used to check the equality of two variables. e.g. `a==b` checks whether `a` is equal to `b`. `a` and `b` could be any variables of any data types, but it is important to have both variable of the same data type.\n",
    "```python\n",
    "a=1\n",
    "b=1\n",
    "# The following statement should print true\n",
    "print(a==b)\n",
    "```\n",
    "- `!=`: This operator checks if two variables are not equal. e.g. `a!=b` will print true if `a` is not equal to `b`. Again, both the variables must be of the same data type.\n",
    "```python\n",
    "a=2\n",
    "b=1\n",
    "# The following statement should print true\n",
    "print(a!=b)\n",
    "a='one'\n",
    "b='one'\n",
    "# The following statement would print false\n",
    "print(a!=b)\n",
    "```\n",
    "- `>`, `<`: These operators are also used to compare two variables.\n",
    "```python\n",
    "a=4\n",
    "b=1\n",
    "# The following statement should print true\n",
    "print(a>b)\n",
    "# The following statement should print false\n",
    "print(a<b)\n",
    "```\n",
    "- `+` If we are working with integers or floats, the `+` operator just adds the numbers. But, `+` could also be used to add strings. By adding strings we mean that you just concatenate the two words. e.g. if you have two strings `quantum` and `computing` \n",
    "```python\n",
    "a='Quantum'\n",
    "b= 'Computing'\n",
    "# The following statement should print Quantum Computing\n",
    "print(a+b)\n",
    "```\n",
    "- `**` This operator is used for exponentiation. This is different from mathematics, where `^` is used.\n",
    "```python\n",
    "# To get 2^5, in python we use\n",
    "print(2**5)\n",
    "```\n",
    "- `and` this is the same as the and operator defined in the [classical computing](../../../Qube/2_Classical_computing.ipynb) notebook. \n",
    "```python\n",
    "a = True\n",
    "b = False\n",
    "# The following statement should print False\n",
    "print(a and b)\n",
    "```\n",
    "- `or` this is the same as the and operator defined in the [classical computing](../../../Qube/2_Classical_computing.ipynb) notebook. \n",
    "```python\n",
    "a = True\n",
    "b = False\n",
    "# The following statement should print True\n",
    "print(a or b)\n",
    "```"
   ]
  },
  {
   "cell_type": "code",
   "execution_count": 23,
   "metadata": {},
   "outputs": [
    {
     "name": "stdout",
     "output_type": "stream",
     "text": [
      "The following statement should print true\n",
      "True\n",
      "The following statement should print true\n",
      "True\n",
      "The following statement would print false\n",
      "False\n",
      "The following statement should print true\n",
      "True\n",
      "The following statement should print false\n",
      "False\n",
      "The following statement should print Quantum Computing\n",
      "QuantumComputing\n",
      "To get 2^5, in python we use\n",
      "32\n",
      "The following statement should print False\n",
      "False\n",
      "The following statement should print True\n",
      "True\n"
     ]
    }
   ],
   "source": [
    "a=1\n",
    "b=1\n",
    "print('The following statement should print true')\n",
    "print(a==b)\n",
    "\n",
    "\n",
    "a=2\n",
    "b=1\n",
    "print('The following statement should print true')\n",
    "print(a!=b)\n",
    "a='one'\n",
    "b='one'\n",
    "print('The following statement would print false')\n",
    "print(a!=b)\n",
    "\n",
    "\n",
    "a=4\n",
    "b=1\n",
    "print('The following statement should print true')\n",
    "print(a>b)\n",
    "print('The following statement should print false')\n",
    "print(a<b)\n",
    "\n",
    "\n",
    "a='Quantum'\n",
    "b= 'Computing'\n",
    "print('The following statement should print Quantum Computing')\n",
    "print(a+b)\n",
    "\n",
    "\n",
    "print('To get 2^5, in python we use')\n",
    "print(2**5)\n",
    "\n",
    "\n",
    "a = True\n",
    "b = False\n",
    "print('The following statement should print False')\n",
    "print(a and b)\n",
    "\n",
    "\n",
    "a = True\n",
    "b = False\n",
    "print('The following statement should print True')\n",
    "print(a or b)\n",
    "\n"
   ]
  },
  {
   "cell_type": "markdown",
   "metadata": {},
   "source": [
    "<font size=3 color=9b12df>**Exercise:**</font> Create three strings, s1, s2 and s3. Set s1 to be equal to your first name, s2 to your last name and s3 to your full name without the middle initials. Add s1 and s2, to get a new string s4. Compare s4 and s3 to show that they are equal. Print your result."
   ]
  },
  {
   "cell_type": "code",
   "execution_count": null,
   "metadata": {},
   "outputs": [],
   "source": [
    "s1 = \n",
    "s2 = \n",
    "s3 = \n",
    "print('The strings have been set to:',s1,s2,s3)\n",
    "\n",
    "# add s1 and s2 to get s4\n",
    "s4 = \n",
    "\n",
    "# compare s4 and s3, as in check whether they are equal, and print the result\n",
    "\n"
   ]
  },
  {
   "cell_type": "markdown",
   "metadata": {},
   "source": [
    "<font size=3 color=9b12df>**Exercise:**</font> Write code for getting five of the following powers of two: $2^1$, $2^2$, $2^3$, $2^4$, $2^5$.\n",
    "\n"
   ]
  },
  {
   "cell_type": "code",
   "execution_count": null,
   "metadata": {},
   "outputs": [],
   "source": [
    "# print the above powers of two. It should be relatively simple.\n"
   ]
  },
  {
   "cell_type": "markdown",
   "metadata": {},
   "source": [
    "<h1 style=\"color:#9b12df;\">Control and loop statements in python</h1>\n",
    "\n",
    "When writing a program you might want to specify that a certain piece of code should be executed *only if* a certain other condition is satisfied, and a different piece of code should be executed otherwise. To continue with the example of making coffee, the instructions should be to: turn the switch to start brewing coffee *if* the water reservoir has been filled, *else* the reservoir should be filled first. In Python, this is accomplished using `if` and `else` statements. \n",
    "\n",
    "There may be instances where you need to run a certain piece of code over and over again for a given number of times: this is possible using `for` loops. Or you may want to run a piece until a certain condition is true: this is achieved using a `while` loop.\n",
    "\n",
    "Control and loop statements are crucial in any programming language. As you become more familiar with Python, you will appreciate their importance. Let's start with the 'if' statement."
   ]
  },
  {
   "cell_type": "markdown",
   "metadata": {},
   "source": [
    "<h2 style=\"color:#9b12df;\">'if', 'elif' and 'else' statements</h2>\n",
    "In python, 'if' is a control flow statement, which is always followed by a 'conditional statement', which can be true or false. As we observed from the few examples above, Python executes each line of code in sequence starting from the top. When python encounters an 'if' statement, it only executes the lines of code that follow if the 'conditional statement' is true. The code which is predicated on the 'if' statement (i.e. to be executed if the conditional statement is true) is indented. The syntax for an `if` statement is as follows:\n",
    "\n",
    "```python\n",
    "if (Condition1 is True):\n",
    "# Do something, like print the following statement\n",
    "    print('Condition1 is True and this will be printed')\n",
    "```\n",
    "\n",
    "See the following example. You can try changing the value of the variable x, to see how this affects the output of the code."
   ]
  },
  {
   "cell_type": "code",
   "execution_count": 28,
   "metadata": {},
   "outputs": [
    {
     "name": "stdout",
     "output_type": "stream",
     "text": [
      "what ever x is: 1\n"
     ]
    }
   ],
   "source": [
    "x = 1\n",
    "\n",
    "if x > 2:\n",
    "    print('the variable is greater than 2!')\n",
    "    print(x+5)\n",
    "    \n",
    "print('what ever x is:',x)"
   ]
  },
  {
   "cell_type": "markdown",
   "metadata": {},
   "source": [
    "It is very important to use the correct syntax when writing code. Use of (even slightly) incorrect syntax may lead to a lot of errors in the code. Here are some highlights to watch out for:\n",
    "- Insert a colon at the end of an if statement.\n",
    "- The code that follows the `if` statement needs to be indented. While using jupyter notebooks, if statements will be automatically detected and, if you used the correct syntax for the if statement, then the following line will automatically be indented.\n",
    "- After you complete the code that is part of the `if` statement, the following code should be unindented to return to the normal flow."
   ]
  },
  {
   "cell_type": "markdown",
   "metadata": {},
   "source": [
    "'if' statements are further enhanced by 'elif' and 'else' statements. 'elif' is a contraction for 'else if'. These behave very intuitively. \n",
    "```python\n",
    "if (Condition1 is True):\n",
    "# Do something, like print the following statement\n",
    "    print('Condition1 is True and this will be printed')\n",
    "elif (Condition2 is True): # Else, if the preceding Condition1 was false, and Condition2 is true, do the following:\n",
    "    print('Condition2 is True')\n",
    "else: # If all preceding statements were false, do the following:\n",
    "    print('None of the above conditions are True')\n",
    "```\n",
    "\n",
    "The following are some examples which demostrate the use of `if`, `elif` and `else` statements. We encourage you to play with the variables x and y and see how this affects the output of the code.\n",
    "<font color=\"red\">Note:</font> Python goes through all the conditional statements one by one starting from the top, and it executes the indented code right after the first `True` conditional statement. After doing so it exits the current stack of 'if','elif', and 'elses', and proceeds directly to the next lines of code (without checking the remaining conditional statements)."
   ]
  },
  {
   "cell_type": "code",
   "execution_count": null,
   "metadata": {},
   "outputs": [],
   "source": [
    "x = 3\n",
    "y = 10\n",
    "if y > x:\n",
    "    print('y is greater than x')\n",
    "\n",
    "# Another example:\n",
    "if y > 5*x:\n",
    "    print('y')\n",
    "elif y > 4*x:\n",
    "    print('y > 4*x')\n",
    "elif y > 3*x:\n",
    "    print('y > 3*x')\n",
    "else:\n",
    "    print('If this is printed, then this means that y < 3*x for sure.')\n",
    "    \n",
    "# The following code is unindented, which means that it will be executed for sure after the computer is done with the if else statements\n",
    "print('this will be printed, no matter what if else condition is true')"
   ]
  },
  {
   "cell_type": "markdown",
   "metadata": {},
   "source": [
    "<font size=3 color=9b12df>**Exercise:**</font> Develop a 'password protected code' that prints \"You are a genius.\" Make the password to be your name, or any other string you would like. We give you hints in the following block.\n"
   ]
  },
  {
   "cell_type": "code",
   "execution_count": 29,
   "metadata": {},
   "outputs": [
    {
     "name": "stdout",
     "output_type": "stream",
     "text": [
      "you are a genius\n"
     ]
    }
   ],
   "source": [
    "# As a user you get to pick the password, this is something that will be checked against the actual password.\n",
    "password = 'I have no idea what it should be'\n",
    "\n",
    "# implement code using 'if' statemnet to check it against the actual password\n",
    "if (password=='I have no idea what it should be'):\n",
    "    print('you are a genius')\n"
   ]
  },
  {
   "cell_type": "markdown",
   "metadata": {},
   "source": [
    "<font size=3 color=9b12df>**Exercise:**</font> Given three color options for iphone, 'red', 'black', 'spacegray', construct a program that prints the features of the phone. The features of the phones with different colors are as follows:\n",
    "\n",
    "Red &rarr; 2gb ram, 2.4 GHz processor.\n",
    "\n",
    "Black &rarr; 2.5gb ram, 2.5 GHz processor.\n",
    "\n",
    "Spacegray &rarr; 1.5gb ram, 2.6 GHz processor.\n"
   ]
  },
  {
   "cell_type": "code",
   "execution_count": null,
   "metadata": {},
   "outputs": [],
   "source": [
    "# let the user pick the color in the following line of code:\n",
    "color = \n",
    "if ():\n",
    "    print('the ram of the phone is:',)\n",
    "    print('the processor of the phone is:',)\n",
    "    \n",
    "# you will need to write two elif statements below\n",
    "\n",
    "\n",
    "    "
   ]
  },
  {
   "cell_type": "markdown",
   "metadata": {},
   "source": [
    "<h2 style=\"color:#9b12df;\">'for' loops</h2>\n",
    "In python, `for` loops are very helpful when a task needs to be performed a fixed number of times. For example, if you need to add up the squares of first 10 numbers, then a `for` loop is the way to go. The syntax for using a `for` loop is:\n",
    "\n",
    "```python\n",
    "for i in range(10):\n",
    "    #Code to be executed, e.g. the following line\n",
    "    print(i)\n",
    "```\n",
    "In the above, `range(10)` returns an array with entries from 0 to 9. Hence, you can interpret the above for loop as 'For i ranging from 0 to 9, execute the following code (which can depend on i)'. Here is an examples of a `for` loop:"
   ]
  },
  {
   "cell_type": "code",
   "execution_count": 1,
   "metadata": {},
   "outputs": [],
   "source": [
    "# As a user you get to pick the password, this is something that will be checked against the actual password.\n",
    "password = 'I have no idea what it should be'\n",
    "\n",
    "# implement code using 'if' statemnet to check it agains the actual password\n",
    "if ():\n",
    "    print('you are a genius')\n",
    "\n",
    "    \n",
    "    "
   ]
  },
  {
   "cell_type": "code",
   "execution_count": null,
   "metadata": {},
   "outputs": [],
   "source": []
  },
  {
   "cell_type": "code",
   "execution_count": 35,
   "metadata": {},
   "outputs": [
    {
     "name": "stdout",
     "output_type": "stream",
     "text": [
      "3\n"
     ]
    }
   ],
   "source": [
    "# Code for getting the sum of squares of first 10 numbers\n",
    "sum = 0 # Initialize the variable sum to 0.\n",
    "for i in range(3):\n",
    "    # print('You are an amaing person')\n",
    "    sum = sum + i # we update the variable sum by adding the square of the current value of i. \n",
    "    # note that we have range(11) because this goes from 0 to 10 (yes, python might seem odd..)\n",
    "\n",
    "print(sum)"
   ]
  },
  {
   "cell_type": "markdown",
   "metadata": {},
   "source": [
    "`for` loops can also be used to iterate through elements of any list, not just the `range()` array."
   ]
  },
  {
   "cell_type": "code",
   "execution_count": null,
   "metadata": {},
   "outputs": [],
   "source": [
    "# lets create two lists to see what different things we can do with them.\n",
    "l1 = [1,2,21,34,2]\n",
    "l2 = ['my','name','is','dog','cat','because','whynot?']\n",
    "# Following is the syntax for iterating through lists:\n",
    "# Method1\n",
    "for i in l1:\n",
    "    print(i)\n",
    "# method 2\n",
    "for j in range(len(l2)):\n",
    "    print(l2[j])"
   ]
  },
  {
   "cell_type": "markdown",
   "metadata": {},
   "source": [
    "Things to note about the above syntax for lists and for loop. \n",
    "\n",
    "In case of lists the variable, i, that iterates through the list, takes the value of the element of the list and is not an integer, as was the case in `for i in range(4):`\n"
   ]
  },
  {
   "cell_type": "markdown",
   "metadata": {},
   "source": [
    "<font size=3 color=9b12df>**Exercise:**</font> Let's say you are given two lists of integers, and you know that the size of the lists are the same. Try to iterate through both the lists together, and raise whichever larger number to the power of smaller number."
   ]
  },
  {
   "cell_type": "code",
   "execution_count": null,
   "metadata": {},
   "outputs": [],
   "source": [
    "# Following are the two lists:\n",
    "l1 = [1,2,6,7,3]\n",
    "l2 = [4,5,2,3,3]\n",
    "\n",
    "# In order to iterate through the lists, use method 2 given above\n",
    "for ......:\n",
    "    # To determine which list element should be the base or exponent, you'll have to compare which one is bigger!\n",
    "    # Do this within if, elif, and else statements.\n",
    "    # Hint: Do not forget the case where the elements are equal!\n",
    "    if ...:\n",
    "        \n"
   ]
  },
  {
   "cell_type": "markdown",
   "metadata": {},
   "source": [
    "<h2 style=\"color:#9b12df;\">'while' loops</h2>\n",
    "You will use `while` loops when you need to repeat a task until a given condition becomes `True`. Say, for example, that you want to keep adding squares of numbers (1+4+9+..) until the sum exceeds 200. Let's see how to do this using a `while` loop. The `syntax` for a 'while' loop is the following:\n",
    "\n",
    "```python\n",
    "while (condition is True):\n",
    "    # keep Doing the task, e.g. print the following statement.\n",
    "    print('this will keep printing till the condition is true')\n",
    "```"
   ]
  },
  {
   "cell_type": "code",
   "execution_count": null,
   "metadata": {},
   "outputs": [],
   "source": [
    "i = 1 # initialize a variable i to 0. This will be updated throughout the loop\n",
    "sum = 0 # initialize a variable sum which keeps track of the squares that have been added so far.\n",
    "while (sum < 200):\n",
    "    sum = sum + i**2 # update sum by adding the square of the current value of i.\n",
    "    i = i+1 # increase i by 1.\n",
    "\n",
    "print('The program ran until i =', i)\n",
    "print('The sum is', sum)\n"
   ]
  },
  {
   "cell_type": "markdown",
   "metadata": {},
   "source": [
    "<h2 style=\"color:#9b12df;\">Classes and objects</h2>\n",
    "\n",
    "Classes are a way to bundle data and functions/methods together that you can then use to create `objects` in the code. In a way, classes let you create a template for something that contains data and methods. Let's consider an example to understand the concept of classes and objects. Say, we have a solid block with length, l, breadth, b, and height, h. We can calculate its surface area using formula 2*(lb+bh+lh), and volume using formula, lbh. So, the variables in this case are, l, b, and h and the methods will be `surf_area()`, and `volume()`. Now, imagine you have multiple boxes, one approach will be to define variables like $l_1$, $b_1$, $h_1$ for box 1, and $l_2$, $b_2$, $h_2$ for box 2. And you can guess that it could get little cumbersome. As mentioned before classes let you bundle data and methods together. Classes are the blueprints that you can 'instantiate' to create objects.\n",
    "\n",
    "```python\n",
    "class Box:\n",
    "    def __init__(self, length, breadth, height):\n",
    "        self.l = length\n",
    "        self.b = breadth\n",
    "        self.h = height\n",
    "   \n",
    "    def volume(self):\n",
    "        vol = self.l*self.b*self.h\n",
    "        return vol\n",
    "   \n",
    "    def surf_area(self):\n",
    "        sa = 2*(self.l*self.b+self.l*self.h+self.h*self.b)\n",
    "        return sa \n",
    "```\n",
    "The above code creates a blueprint/template for creating an object that you can actually use in the code.\n",
    "```python\n",
    "Box_1 = Box(3,4,5)\n",
    "Box_2 = Box(6,7,8)\n",
    "```\n",
    "\n",
    "The above code creates two 'objects' for which you can calculate surface area and volume as follows:\n",
    "\n",
    "```python\n",
    "vol_1 = Box_1.volume()\n",
    "vol_2 = Box_2.volume()\n",
    "```\n",
    "You can also calculate surface area in similar manner. The objects, $Box_1$, and $Box_2$ also give you access to the l, b and h of the boxes."
   ]
  },
  {
   "cell_type": "code",
   "execution_count": null,
   "metadata": {},
   "outputs": [],
   "source": [
    "class Box:\n",
    "    def __init__(self, length, breadth, height):\n",
    "        self.l = length\n",
    "        self.b = breadth\n",
    "        self.h = height\n",
    "   \n",
    "    def volume(self):\n",
    "        vol = self.l*self.b*self.h\n",
    "        return vol\n",
    "   \n",
    "    def surf_area(self):\n",
    "        sa = 2*(self.l*self.b+self.l*self.h+self.h*self.b)\n",
    "        return sa \n",
    "\n",
    "Box_1 = Box(3,4,5)\n",
    "Box_2 = Box(6,7,8)\n",
    "vol_1 = Box_1.volume()\n",
    "vol_2 = Box_2.volume()\n",
    "print('The volume of box 1 is:', vol_1)\n",
    "# We didn't have to create a separate variable, we can just use the object to get, say, surface area:\n",
    "print('The surface area of box 2:', Box_2.surf_area())\n",
    "# To access dimensions of a box we can use:\n",
    "print('The dimensions of Box 1 are:',Box_1.l,Box_1.b,Box_1.h)"
   ]
  },
  {
   "cell_type": "markdown",
   "metadata": {},
   "source": [
    "<h1 style=\"color:#9b12df;\">Functions/Methods in python</h1>\n",
    "\n",
    "Imagine a scenario in which five friends run a small business. Suppose the yearly revenue is $x$, while the total costs for the year are $\\frac{x}{2}$. The yearly profit of the company is then $x-\\frac{x}{2}$. The profit of each person is $\\frac{1}{5}(x-\\frac{x}{2})$. Suppose that for the current year $x=100$, then in order to calculate the yearly profit per person you would compute $\\frac{1}{5}(100-\\frac{100}{2})$. For this small case, it may not be too much work, but for much bigger applications, it is always easier to code up a 'function/method' and then just call it when required. These 'functions/methods' are similar to functions you're familiar with in mathematics, where they take some input and they return some output. The syntax for a function/method is the following:\n",
    "\n",
    "```python\n",
    "def name_of_function(arguments):\n",
    "    # Body of the function, e.g square the argument\n",
    "    y = argument**2\n",
    "    # The value of y can be returned to the caller function using return statement\n",
    "    return y\n",
    "```\n",
    "Let's see the profit example in action:"
   ]
  },
  {
   "cell_type": "code",
   "execution_count": null,
   "metadata": {},
   "outputs": [],
   "source": [
    "def profit_per_person(x):\n",
    "    p = (x-x/2)/5\n",
    "    return p\n",
    "\n",
    "x = 3456\n",
    "myprofit = profit_per_person(x)\n",
    "print('myprofit for this year is:', myprofit)"
   ]
  },
  {
   "cell_type": "markdown",
   "metadata": {},
   "source": [
    "<h2 style=\"color:#9b12df;\">Modules in python</h2>\n",
    "\n",
    "As mentioned earlier, you only need a few basic building blocks are required in a programming language to build very complex applications. Python, just like any other programming language, has a set of 'native' operations, like the operations we talked about in this notebook. Many other more complex functionalities are provided using modules. These modules typically consist of many functions (just like the 'profit per person' function that you wrote above) bundled together into a package for the benefit of the end user. Before I spend a lot of time and effort working on my own code, I might check to see if there is a module available for python that already has this functionality ready to go! You can call the functions in a given module by 'importing' it first. Let's see the following example:"
   ]
  },
  {
   "cell_type": "code",
   "execution_count": null,
   "metadata": {},
   "outputs": [],
   "source": [
    "import math # the module 'math' supports functions like sin, cos, tan, etc.. \n",
    "            # The syntax for calling a function, say sin, is math.sin\n",
    "    \n",
    "# I want to look at the angle of 180 degrees\n",
    "x = 180\n",
    "\n",
    "# The sin and cos functions in this module, however,  expect the input to be in radians. \n",
    "# So, we can use another function in the math module to perform this conversion\n",
    "z = math.cos(math.radians(x))\n",
    "print(z)"
   ]
  },
  {
   "cell_type": "markdown",
   "metadata": {},
   "source": [
    "Now, we could have gone and tried to implement our own code to convert angles from degrees to radians, as well as our own function to calculate the cosine of an angle, but that sounds hard. Or at least, it's much easier to just import a module to do it for us!\n",
    "\n",
    "Python is often referred to as the swiss army knife of programming languages, because it lets you create so many different kinds of applications. Covering all the different aspects of Python in this short tutorial is certainly not possible. However, if you understood the above tutorial, you will be able to follow the tutorials in the Qubes course. We will teach you a little more Python, and we will introduce a few more modules whenever we need it, as we go along in the Qubes course. A little sneak peek: a lot of the quantum computing coding that you will learn uses a lot of modules which are written specifically for quantum computing!"
   ]
  },
  {
   "cell_type": "code",
   "execution_count": null,
   "metadata": {},
   "outputs": [],
   "source": []
  }
 ],
 "metadata": {
  "kernelspec": {
   "display_name": "Python 3 [Default]",
   "language": "python",
   "name": "python3"
  },
  "language_info": {
   "codemirror_mode": {
    "name": "ipython",
    "version": 3
   },
   "file_extension": ".py",
   "mimetype": "text/x-python",
   "name": "python",
   "nbconvert_exporter": "python",
   "pygments_lexer": "ipython3",
   "version": "3.9.10"
  },
  "toc-autonumbering": true,
  "widgets": {
   "application/vnd.jupyter.widget-state+json": {
    "state": {},
    "version_major": 2,
    "version_minor": 0
   }
  }
 },
 "nbformat": 4,
 "nbformat_minor": 4
}
